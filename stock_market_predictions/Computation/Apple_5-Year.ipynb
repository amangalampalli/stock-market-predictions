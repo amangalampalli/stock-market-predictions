{
 "cells": [
  {
   "cell_type": "code",
   "execution_count": 1,
   "metadata": {},
   "outputs": [],
   "source": [
    "%matplotlib widget\n",
    "%load_ext autoreload\n",
    "%autoreload 2"
   ]
  },
  {
   "cell_type": "code",
   "execution_count": 2,
   "metadata": {},
   "outputs": [],
   "source": [
    "from os.path import abspath\n",
    "import numpy as np\n",
    "import matplotlib.pyplot as plt\n",
    "import pandas as pd\n",
    "import sys\n",
    "\n",
    "file_path = abspath('../../outputs/Apple_5-Year.txt')\n",
    "sys.stdout = open(file_path, \"w\")"
   ]
  },
  {
   "cell_type": "code",
   "execution_count": 3,
   "metadata": {},
   "outputs": [
    {
     "data": {
      "text/html": [
       "<div>\n",
       "<style scoped>\n",
       "    .dataframe tbody tr th:only-of-type {\n",
       "        vertical-align: middle;\n",
       "    }\n",
       "\n",
       "    .dataframe tbody tr th {\n",
       "        vertical-align: top;\n",
       "    }\n",
       "\n",
       "    .dataframe thead th {\n",
       "        text-align: right;\n",
       "    }\n",
       "</style>\n",
       "<table border=\"1\" class=\"dataframe\">\n",
       "  <thead>\n",
       "    <tr style=\"text-align: right;\">\n",
       "      <th></th>\n",
       "      <th>Close/Last</th>\n",
       "      <th>Volume</th>\n",
       "      <th>Open</th>\n",
       "      <th>High</th>\n",
       "      <th>Low</th>\n",
       "    </tr>\n",
       "    <tr>\n",
       "      <th>Date</th>\n",
       "      <th></th>\n",
       "      <th></th>\n",
       "      <th></th>\n",
       "      <th></th>\n",
       "      <th></th>\n",
       "    </tr>\n",
       "  </thead>\n",
       "  <tbody>\n",
       "    <tr>\n",
       "      <th>2022-02-14</th>\n",
       "      <td>168.88</td>\n",
       "      <td>86185530.0</td>\n",
       "      <td>167.37</td>\n",
       "      <td>169.58</td>\n",
       "      <td>166.56</td>\n",
       "    </tr>\n",
       "    <tr>\n",
       "      <th>2022-02-11</th>\n",
       "      <td>168.64</td>\n",
       "      <td>98670690.0</td>\n",
       "      <td>172.33</td>\n",
       "      <td>173.08</td>\n",
       "      <td>168.04</td>\n",
       "    </tr>\n",
       "    <tr>\n",
       "      <th>2022-02-10</th>\n",
       "      <td>172.12</td>\n",
       "      <td>90865900.0</td>\n",
       "      <td>174.14</td>\n",
       "      <td>175.48</td>\n",
       "      <td>171.55</td>\n",
       "    </tr>\n",
       "    <tr>\n",
       "      <th>2022-02-09</th>\n",
       "      <td>176.28</td>\n",
       "      <td>71285040.0</td>\n",
       "      <td>176.05</td>\n",
       "      <td>176.65</td>\n",
       "      <td>174.90</td>\n",
       "    </tr>\n",
       "    <tr>\n",
       "      <th>2022-02-08</th>\n",
       "      <td>174.83</td>\n",
       "      <td>74829220.0</td>\n",
       "      <td>171.73</td>\n",
       "      <td>175.35</td>\n",
       "      <td>171.43</td>\n",
       "    </tr>\n",
       "  </tbody>\n",
       "</table>\n",
       "</div>"
      ],
      "text/plain": [
       "            Close/Last      Volume    Open    High     Low\n",
       "Date                                                      \n",
       "2022-02-14      168.88  86185530.0  167.37  169.58  166.56\n",
       "2022-02-11      168.64  98670690.0  172.33  173.08  168.04\n",
       "2022-02-10      172.12  90865900.0  174.14  175.48  171.55\n",
       "2022-02-09      176.28  71285040.0  176.05  176.65  174.90\n",
       "2022-02-08      174.83  74829220.0  171.73  175.35  171.43"
      ]
     },
     "execution_count": 3,
     "metadata": {},
     "output_type": "execute_result"
    }
   ],
   "source": [
    "# Read /data/S&P500.xlsx\n",
    "aapl = pd.read_csv(abspath('../../data/Apple/Apple_5-Year.csv'), index_col=0)\n",
    "\n",
    "# Remove $ from the entire dataframe\n",
    "aapl = aapl.replace('[\\$,)]', '', regex=True)\n",
    "\n",
    "# Read the entire dataframe as floats\n",
    "aapl = aapl.astype(float)\n",
    "\n",
    "# Read the first column as datatime\n",
    "aapl.index = pd.to_datetime(aapl.index)\n",
    "\n",
    "aapl.head()"
   ]
  },
  {
   "cell_type": "code",
   "execution_count": null,
   "metadata": {},
   "outputs": [],
   "source": [
    "# Define the formula for daily return which is (today's closing price - yesterday's closing price) / yesterday's closing price\n",
    "aapl['daily_return'] = aapl['Close/Last'].pct_change()\n",
    "\n",
    "# Define the formula for monthly return which is (this month's closing price - last month's closing price) / last month's closing price\n",
    "aapl['monthly_return'] = aapl['Close/Last'].pct_change(12)\n",
    "\n",
    "# Define the formula for annual return which is (this year's closing price - last year's closing price) / last year's closing price\n",
    "aapl['annual_return'] = aapl['Close/Last'].pct_change(252)\n",
    "\n",
    "# Define 50 day moving average of the closing price\n",
    "aapl['50_day_moving_average'] = aapl['Close/Last'].rolling(50).mean()\n",
    "\n",
    "# Define 200 day moving average of the closing price\n",
    "aapl['200_day_moving_average'] = aapl['Close/Last'].rolling(200).mean()"
   ]
  },
  {
   "cell_type": "code",
   "execution_count": null,
   "metadata": {},
   "outputs": [],
   "source": [
    "# Find which month has the highest return\n",
    "print(\"Highest returning month: \" + str(aapl['monthly_return'].idxmax()))\n",
    "\n",
    "# Determine number of days where closing price is higher than the opening price\n",
    "aapl['Close>Open'] = (aapl['Close/Last'] > aapl['Open'])\n",
    "print(\"Number of days where closing price is higher than the opening price: \" + str(aapl['Close>Open'].sum()))\n",
    "\n",
    "\n",
    "# Find how many times the index at the close is lower than the open\n",
    "aapl['Close<Open'] = (aapl['Close/Last'] < aapl['Open'])\n",
    "print(\"Number of times the index at the close is lower than the open: \" + str(aapl['Close<Open'].sum()))\n",
    "\n",
    "aapl['Up&Down'] = aapl['Close/Last'].diff()\n",
    "\n",
    "# The number of up days is the days in the Up&Down column which are positive\n",
    "print(\"Number of up days: \" + str(aapl['Up&Down'][aapl['Up&Down'] > 0].count()))\n",
    "\n",
    "# The number of down days is the days in the Up&Down column which are negative\n",
    "print(\"Number of down days: \" + str(aapl['Up&Down'][aapl['Up&Down'] < 0].count()))"
   ]
  },
  {
   "cell_type": "code",
   "execution_count": null,
   "metadata": {},
   "outputs": [],
   "source": [
    "import datetime as dt\n",
    "\n",
    "fridays = {}\n",
    "mondays = {}\n",
    "\n",
    "for i in range(len(aapl)):\n",
    "    if aapl.index[i].isoweekday() == 5:\n",
    "        fridays[aapl.index[i]] = aapl['Volume'][i]\n",
    "    elif aapl.index[i].isoweekday() == 1:\n",
    "        mondays[aapl.index[i]] = aapl['Volume'][i]\n",
    "\n",
    "# Find the sum of fridays and mondays\n",
    "print(\"Sum of fridays: \" + str(sum(fridays.values())))\n",
    "print(\"Sum of mondays: \" + str(sum(mondays.values())))\n",
    "\n",
    "# Print whether the friday or monday sum is greater\n",
    "if sum(fridays.values()) > sum(mondays.values()):\n",
    "    print(\"Friday sum is greater\")\n",
    "else:\n",
    "    print(\"Monday sum is greater\")\n",
    "\n",
    "# # Find any correlation between the volume and return\n",
    "correlation = aapl['Volume'].corr(aapl['daily_return'])\n",
    "print(\"Correlation between the volume and return: \" + str(correlation))"
   ]
  },
  {
   "cell_type": "code",
   "execution_count": null,
   "metadata": {},
   "outputs": [],
   "source": [
    "# Save the dataframe to the initial file that was opened\n",
    "aapl.to_csv(abspath('../../data/Apple/Apple.csv'))"
   ]
  }
 ],
 "metadata": {
  "interpreter": {
   "hash": "5e225dc237bd1c1a092e9ac5651f746e060bc6b9addf77a0a329a0bc83a46295"
  },
  "kernelspec": {
   "display_name": "Python 3.9.7 ('StockMarket')",
   "language": "python",
   "name": "python3"
  },
  "language_info": {
   "codemirror_mode": {
    "name": "ipython",
    "version": 3
   },
   "file_extension": ".py",
   "mimetype": "text/x-python",
   "name": "python",
   "nbconvert_exporter": "python",
   "pygments_lexer": "ipython3",
   "version": "3.9.7"
  },
  "orig_nbformat": 4
 },
 "nbformat": 4,
 "nbformat_minor": 2
}
