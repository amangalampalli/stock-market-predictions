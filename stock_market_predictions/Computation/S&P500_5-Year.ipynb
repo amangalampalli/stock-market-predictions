{
 "cells": [
  {
   "cell_type": "code",
   "execution_count": 1,
   "metadata": {},
   "outputs": [],
   "source": [
    "%matplotlib widget\n",
    "%load_ext autoreload\n",
    "%autoreload 2"
   ]
  },
  {
   "cell_type": "code",
   "execution_count": 2,
   "metadata": {},
   "outputs": [],
   "source": [
    "from os.path import abspath\n",
    "import numpy as np\n",
    "import matplotlib.pyplot as plt\n",
    "import pandas as pd\n",
    "import sys\n",
    "\n",
    "file_path = abspath('../../outputs/S&P500_5-Year.txt')\n",
    "sys.stdout = open(file_path, \"w\")"
   ]
  },
  {
   "cell_type": "code",
   "execution_count": 3,
   "metadata": {},
   "outputs": [
    {
     "data": {
      "text/html": [
       "<div>\n",
       "<style scoped>\n",
       "    .dataframe tbody tr th:only-of-type {\n",
       "        vertical-align: middle;\n",
       "    }\n",
       "\n",
       "    .dataframe tbody tr th {\n",
       "        vertical-align: top;\n",
       "    }\n",
       "\n",
       "    .dataframe thead th {\n",
       "        text-align: right;\n",
       "    }\n",
       "</style>\n",
       "<table border=\"1\" class=\"dataframe\">\n",
       "  <thead>\n",
       "    <tr style=\"text-align: right;\">\n",
       "      <th></th>\n",
       "      <th>Close/Last</th>\n",
       "      <th>Volume</th>\n",
       "      <th>Open</th>\n",
       "      <th>High</th>\n",
       "      <th>Low</th>\n",
       "    </tr>\n",
       "    <tr>\n",
       "      <th>Date</th>\n",
       "      <th></th>\n",
       "      <th></th>\n",
       "      <th></th>\n",
       "      <th></th>\n",
       "      <th></th>\n",
       "    </tr>\n",
       "  </thead>\n",
       "  <tbody>\n",
       "    <tr>\n",
       "      <th>02/11/2022</th>\n",
       "      <td>4418.64</td>\n",
       "      <td>--</td>\n",
       "      <td>4506.27</td>\n",
       "      <td>4526.33</td>\n",
       "      <td>4401.41</td>\n",
       "    </tr>\n",
       "    <tr>\n",
       "      <th>02/10/2022</th>\n",
       "      <td>4504.08</td>\n",
       "      <td>--</td>\n",
       "      <td>4553.24</td>\n",
       "      <td>4588.92</td>\n",
       "      <td>4484.31</td>\n",
       "    </tr>\n",
       "    <tr>\n",
       "      <th>02/09/2022</th>\n",
       "      <td>4587.18</td>\n",
       "      <td>--</td>\n",
       "      <td>4547.00</td>\n",
       "      <td>4590.03</td>\n",
       "      <td>4547.00</td>\n",
       "    </tr>\n",
       "    <tr>\n",
       "      <th>02/08/2022</th>\n",
       "      <td>4521.54</td>\n",
       "      <td>--</td>\n",
       "      <td>4480.02</td>\n",
       "      <td>4531.32</td>\n",
       "      <td>4465.40</td>\n",
       "    </tr>\n",
       "    <tr>\n",
       "      <th>02/07/2022</th>\n",
       "      <td>4483.87</td>\n",
       "      <td>--</td>\n",
       "      <td>4505.75</td>\n",
       "      <td>4521.86</td>\n",
       "      <td>4471.47</td>\n",
       "    </tr>\n",
       "  </tbody>\n",
       "</table>\n",
       "</div>"
      ],
      "text/plain": [
       "            Close/Last Volume     Open     High      Low\n",
       "Date                                                    \n",
       "02/11/2022     4418.64     --  4506.27  4526.33  4401.41\n",
       "02/10/2022     4504.08     --  4553.24  4588.92  4484.31\n",
       "02/09/2022     4587.18     --  4547.00  4590.03  4547.00\n",
       "02/08/2022     4521.54     --  4480.02  4531.32  4465.40\n",
       "02/07/2022     4483.87     --  4505.75  4521.86  4471.47"
      ]
     },
     "execution_count": 3,
     "metadata": {},
     "output_type": "execute_result"
    }
   ],
   "source": [
    "# Read /data/5-Year/S&P500_B-Year.csv\n",
    "sp500 = pd.read_csv(abspath('../../data/S&P/5-Year/S&P500_5-Year.csv'), index_col=0)\n",
    "\n",
    "sp500.head()"
   ]
  },
  {
   "cell_type": "code",
   "execution_count": 5,
   "metadata": {},
   "outputs": [],
   "source": [
    "# Define the formula for daily return which is (today's closing price - yesterday's closing price) / yesterday's closing price\n",
    "sp500['daily_return'] = sp500['Close/Last'].pct_change()\n",
    "\n",
    "# Define the formula for monthly return which is (this month's closing price - last month's closing price) / last month's closing price\n",
    "sp500['monthly_return'] = sp500['Close/Last'].pct_change(12)\n",
    "\n",
    "# Define the formula for annual return which is (this year's closing price - last year's closing price) / last year's closing price\n",
    "sp500['annual_return'] = sp500['Close/Last'].pct_change(252)\n",
    "\n",
    "# Define 50 day moving average of the closing price\n",
    "sp500['50_day_moving_average'] = sp500['Close/Last'].rolling(50).mean()\n",
    "\n",
    "# Define 200 day moving average of the closing price\n",
    "sp500['200_day_moving_average'] = sp500['Close/Last'].rolling(200).mean()"
   ]
  },
  {
   "cell_type": "code",
   "execution_count": 7,
   "metadata": {},
   "outputs": [],
   "source": [
    "# Find which month has the highest return\n",
    "print(\"Highest returning month: \" + str(sp500['monthly_return'].idxmax()))\n",
    "\n",
    "# Determine number of days where closing price is higher than the opening price\n",
    "sp500['Close>Open'] = (sp500['Close/Last'] > sp500['Open'])\n",
    "print(\"Number of days where closing price is higher than the opening price: \" + str(sp500['Close>Open'].sum()))\n",
    "\n",
    "\n",
    "# Find how many times the index at the close is lower than the open\n",
    "sp500['Close<Open'] = (sp500['Close/Last'] < sp500['Open'])\n",
    "print(\"Number of times the index at the close is lower than the open: \" + str(sp500['Close<Open'].sum()))\n",
    "\n",
    "sp500['Up&Down'] = sp500['Close/Last'].diff()\n",
    "\n",
    "# The number of up days is the days in the Up&Down column which are positive\n",
    "print(\"Number of up days: \" + str(sp500['Up&Down'][sp500['Up&Down'] > 0].count()))\n",
    "\n",
    "# The number of down days is the days in the Up&Down column which are negative\n",
    "print(\"Number of down days: \" + str(sp500['Up&Down'][sp500['Up&Down'] < 0].count()))"
   ]
  },
  {
   "cell_type": "code",
   "execution_count": 9,
   "metadata": {},
   "outputs": [],
   "source": [
    "# Save the dataframe to the initial file that was opened\n",
    "sp500.to_csv(abspath('../../data/S&P/5-Year/S&P500.csv'))"
   ]
  }
 ],
 "metadata": {
  "interpreter": {
   "hash": "5e225dc237bd1c1a092e9ac5651f746e060bc6b9addf77a0a329a0bc83a46295"
  },
  "kernelspec": {
   "display_name": "Python 3.9.7 ('StockMarket')",
   "language": "python",
   "name": "python3"
  },
  "language_info": {
   "codemirror_mode": {
    "name": "ipython",
    "version": 3
   },
   "file_extension": ".py",
   "mimetype": "text/x-python",
   "name": "python",
   "nbconvert_exporter": "python",
   "pygments_lexer": "ipython3",
   "version": "3.9.7"
  },
  "orig_nbformat": 4
 },
 "nbformat": 4,
 "nbformat_minor": 2
}
