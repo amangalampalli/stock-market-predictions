{
 "cells": [
  {
   "cell_type": "code",
   "execution_count": 1,
   "metadata": {},
   "outputs": [],
   "source": [
    "%matplotlib widget\n",
    "%load_ext autoreload\n",
    "%autoreload 2"
   ]
  },
  {
   "cell_type": "code",
   "execution_count": 2,
   "metadata": {},
   "outputs": [],
   "source": [
    "from os.path import abspath\n",
    "import numpy as np\n",
    "import matplotlib.pyplot as plt\n",
    "import pandas as pd\n",
    "import sys\n",
    "\n",
    "file_path = abspath('../../outputs/S&P500_1-Year.txt')\n",
    "sys.stdout = open(file_path, \"w\")"
   ]
  },
  {
   "cell_type": "code",
   "execution_count": 3,
   "metadata": {},
   "outputs": [
    {
     "data": {
      "text/html": [
       "<div>\n",
       "<style scoped>\n",
       "    .dataframe tbody tr th:only-of-type {\n",
       "        vertical-align: middle;\n",
       "    }\n",
       "\n",
       "    .dataframe tbody tr th {\n",
       "        vertical-align: top;\n",
       "    }\n",
       "\n",
       "    .dataframe thead th {\n",
       "        text-align: right;\n",
       "    }\n",
       "</style>\n",
       "<table border=\"1\" class=\"dataframe\">\n",
       "  <thead>\n",
       "    <tr style=\"text-align: right;\">\n",
       "      <th></th>\n",
       "      <th>Open</th>\n",
       "      <th>High</th>\n",
       "      <th>Low</th>\n",
       "      <th>Close*</th>\n",
       "      <th>Adj Close**</th>\n",
       "      <th>Volume</th>\n",
       "    </tr>\n",
       "    <tr>\n",
       "      <th>Date</th>\n",
       "      <th></th>\n",
       "      <th></th>\n",
       "      <th></th>\n",
       "      <th></th>\n",
       "      <th></th>\n",
       "      <th></th>\n",
       "    </tr>\n",
       "  </thead>\n",
       "  <tbody>\n",
       "    <tr>\n",
       "      <th>2022-02-09</th>\n",
       "      <td>4547.00</td>\n",
       "      <td>4582.19</td>\n",
       "      <td>4547.00</td>\n",
       "      <td>4576.31</td>\n",
       "      <td>4576.31</td>\n",
       "      <td>1237076000</td>\n",
       "    </tr>\n",
       "    <tr>\n",
       "      <th>2022-02-08</th>\n",
       "      <td>4480.02</td>\n",
       "      <td>4531.32</td>\n",
       "      <td>4465.40</td>\n",
       "      <td>4521.54</td>\n",
       "      <td>4521.54</td>\n",
       "      <td>3509330000</td>\n",
       "    </tr>\n",
       "    <tr>\n",
       "      <th>2022-02-07</th>\n",
       "      <td>4505.75</td>\n",
       "      <td>4521.86</td>\n",
       "      <td>4471.47</td>\n",
       "      <td>4483.87</td>\n",
       "      <td>4483.87</td>\n",
       "      <td>3291600000</td>\n",
       "    </tr>\n",
       "    <tr>\n",
       "      <th>2022-02-04</th>\n",
       "      <td>4482.79</td>\n",
       "      <td>4539.66</td>\n",
       "      <td>4451.50</td>\n",
       "      <td>4500.53</td>\n",
       "      <td>4500.53</td>\n",
       "      <td>3673700000</td>\n",
       "    </tr>\n",
       "    <tr>\n",
       "      <th>2022-02-03</th>\n",
       "      <td>4535.41</td>\n",
       "      <td>4542.88</td>\n",
       "      <td>4470.39</td>\n",
       "      <td>4477.44</td>\n",
       "      <td>4477.44</td>\n",
       "      <td>3596830000</td>\n",
       "    </tr>\n",
       "  </tbody>\n",
       "</table>\n",
       "</div>"
      ],
      "text/plain": [
       "               Open     High      Low   Close*  Adj Close**      Volume\n",
       "Date                                                                   \n",
       "2022-02-09  4547.00  4582.19  4547.00  4576.31      4576.31  1237076000\n",
       "2022-02-08  4480.02  4531.32  4465.40  4521.54      4521.54  3509330000\n",
       "2022-02-07  4505.75  4521.86  4471.47  4483.87      4483.87  3291600000\n",
       "2022-02-04  4482.79  4539.66  4451.50  4500.53      4500.53  3673700000\n",
       "2022-02-03  4535.41  4542.88  4470.39  4477.44      4477.44  3596830000"
      ]
     },
     "execution_count": 3,
     "metadata": {},
     "output_type": "execute_result"
    }
   ],
   "source": [
    "# Read /data/S&P500.xlsx\n",
    "sp500 = pd.read_excel(abspath('../../data/S&P/1-Year/S&P500.xlsx'), index_col=0)\n",
    "\n",
    "sp500.head()"
   ]
  },
  {
   "cell_type": "code",
   "execution_count": 4,
   "metadata": {},
   "outputs": [],
   "source": [
    "# Define the formula for daily return which is (today's closing price - yesterday's closing price) / yesterday's closing price\n",
    "sp500['daily_return'] = sp500['Close*'].pct_change()\n",
    "\n",
    "# Define the formula for monthly return which is (this month's closing price - last month's closing price) / last month's closing price\n",
    "sp500['monthly_return'] = sp500['Close*'].pct_change(12)\n",
    "\n",
    "# Define the formula for annual return which is (this year's closing price - last year's closing price) / last year's closing price\n",
    "sp500['annual_return'] = sp500['Close*'].pct_change(252)\n",
    "\n",
    "# Define 50 day moving average of the closing price\n",
    "sp500['50_day_moving_average'] = sp500['Close*'].rolling(50).mean()\n",
    "\n",
    "# Define 200 day moving average of the closing price\n",
    "sp500['200_day_moving_average'] = sp500['Close*'].rolling(200).mean()"
   ]
  },
  {
   "cell_type": "code",
   "execution_count": 5,
   "metadata": {},
   "outputs": [],
   "source": [
    "# Find which month has the highest return\n",
    "print(\"Highest returning month: \" + str(sp500['monthly_return'].idxmax()))\n",
    "\n",
    "# Determine number of days where closing price is higher than the opening price\n",
    "sp500['Close>Open'] = (sp500['Close*'] > sp500['Open'])\n",
    "print(\"Number of days where closing price is higher than the opening price: \" + str(sp500['Close>Open'].sum()))\n",
    "\n",
    "\n",
    "# Find how many times the index at the close is lower than the open\n",
    "sp500['Close<Open'] = (sp500['Close*'] < sp500['Open'])\n",
    "print(\"Number of times the index at the close is lower than the open: \" + str(sp500['Close<Open'].sum()))\n",
    "\n",
    "sp500['Up&Down'] = sp500['Close*'].diff()\n",
    "\n",
    "# The number of up days is the days in the Up&Down column which are positive\n",
    "print(\"Number of up days: \" + str(sp500['Up&Down'][sp500['Up&Down'] > 0].count()))\n",
    "\n",
    "# The number of down days is the days in the Up&Down column which are negative\n",
    "print(\"Number of down days: \" + str(sp500['Up&Down'][sp500['Up&Down'] < 0].count()))"
   ]
  },
  {
   "cell_type": "code",
   "execution_count": 6,
   "metadata": {},
   "outputs": [],
   "source": [
    "import datetime as dt\n",
    "\n",
    "fridays = {}\n",
    "mondays = {}\n",
    "\n",
    "for i in range(len(sp500)):\n",
    "    if sp500.index[i].isoweekday() == 5:\n",
    "        fridays[sp500.index[i]] = sp500['Volume'][i]\n",
    "    elif sp500.index[i].isoweekday() == 1:\n",
    "        mondays[sp500.index[i]] = sp500['Volume'][i]\n",
    "\n",
    "# Find the sum of fridays and mondays\n",
    "print(\"Sum of fridays: \" + str(sum(fridays.values())))\n",
    "print(\"Sum of mondays: \" + str(sum(mondays.values())))\n",
    "\n",
    "# Print whether the friday or monday sum is greater\n",
    "if sum(fridays.values()) > sum(mondays.values()):\n",
    "    print(\"Friday sum is greater\")\n",
    "else:\n",
    "    print(\"Monday sum is greater\")\n",
    "\n",
    "# # Find any correlation between the volume and return\n",
    "correlation = sp500['Volume'].corr(sp500['daily_return'])\n",
    "print(\"Correlation between the volume and return: \" + str(correlation))"
   ]
  },
  {
   "cell_type": "code",
   "execution_count": 14,
   "metadata": {},
   "outputs": [],
   "source": [
    "# Save the dataframe to the initial file that was opened\n",
    "sp500.to_csv(abspath('../../data/S&P/1-Year/S&P500.csv'))"
   ]
  }
 ],
 "metadata": {
  "interpreter": {
   "hash": "5e225dc237bd1c1a092e9ac5651f746e060bc6b9addf77a0a329a0bc83a46295"
  },
  "kernelspec": {
   "display_name": "Python 3.9.7 ('StockMarket')",
   "language": "python",
   "name": "python3"
  },
  "language_info": {
   "codemirror_mode": {
    "name": "ipython",
    "version": 3
   },
   "file_extension": ".py",
   "mimetype": "text/x-python",
   "name": "python",
   "nbconvert_exporter": "python",
   "pygments_lexer": "ipython3",
   "version": "3.9.7"
  },
  "orig_nbformat": 4
 },
 "nbformat": 4,
 "nbformat_minor": 2
}
