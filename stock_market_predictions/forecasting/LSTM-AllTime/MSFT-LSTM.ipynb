{
 "cells": [
  {
   "cell_type": "code",
   "execution_count": 6,
   "metadata": {},
   "outputs": [],
   "source": [
    "import os\n",
    "\n",
    "os.environ['WANDB_NOTEBOOK_NAME'] = '/Users/aditya/Programming/stock-market-predictions/stock_market_predictions/forecasting/LSTM-AllTime/MSFT-LSTM.ipynb'"
   ]
  },
  {
   "cell_type": "code",
   "execution_count": 7,
   "metadata": {},
   "outputs": [],
   "source": [
    "def train():\n",
    "    import pandas as pd\n",
    "    from os.path import abspath\n",
    "\n",
    "    import warnings\n",
    "    warnings.filterwarnings(\"ignore\")\n",
    "    df = pd.read_csv(abspath('../../../data/MSFT/MSFT.csv'), index_col=0, parse_dates=['Date'])\n",
    "\n",
    "    df.columns.name = df.index.name\n",
    "    df.index.name = None\n",
    "\n",
    "    df = df.filter(['Date', 'Open'])\n",
    "    # Split the df into a training set and a test set\n",
    "    from sklearn.model_selection import train_test_split\n",
    "\n",
    "    # Split the data into training and testing sets\n",
    "    train_set, test_set = train_test_split(df, test_size=0.05, shuffle=False)\n",
    "\n",
    "    n_features = 1\n",
    "    from sklearn.preprocessing import MinMaxScaler\n",
    "\n",
    "    transformer = MinMaxScaler()\n",
    "    train_scaled = transformer.fit_transform(train_set)\n",
    "    test_scaled = transformer.fit_transform(test_set)\n",
    "    \n",
    "    import tensorflow as tf\n",
    "    from tensorflow.keras.preprocessing.sequence import TimeseriesGenerator # type: ignore\n",
    "\n",
    "    n_input = 60\n",
    "\n",
    "    train_generator=TimeseriesGenerator(train_scaled,\n",
    "                                        train_scaled,\n",
    "                                        length=n_input,\n",
    "                                        batch_size=32)\n",
    "    \n",
    "    from keras.models import Sequential\n",
    "    from keras.layers import Dense, LSTM\n",
    "\n",
    "    LSTM_UNITS = 20\n",
    "\n",
    "    model = Sequential()\n",
    "    model.add(LSTM(units=LSTM_UNITS, input_shape=(n_input, n_features)))\n",
    "    model.add(Dense(units=1))\n",
    "    \n",
    "    # Create an EarlyStopping callback\n",
    "    from keras.callbacks import EarlyStopping\n",
    "    early_stopping = EarlyStopping(monitor='loss', patience=5)\n",
    "    \n",
    "    import wandb\n",
    "    from wandb.keras import WandbCallback\n",
    "\n",
    "    wandb.init(project=\"stock-predictions-alltime\", entity=\"alpheron\", magic=True)\n",
    "\n",
    "    wandb.config = {\n",
    "    \"learning_rate\": 0.001,\n",
    "    \"epochs\": 100,\n",
    "    \"batch_size\": 32,\n",
    "    \"lstm_units\": LSTM_UNITS\n",
    "    }\n",
    "\n",
    "    from keras.metrics import RootMeanSquaredError\n",
    "    from stock_market_predictions.forecasting.adam import Adam\n",
    "\n",
    "    model.compile(optimizer=Adam(), loss='mean_squared_error', metrics=[RootMeanSquaredError()])\n",
    "    model.fit(train_generator, epochs=100, callbacks=[early_stopping, WandbCallback()])\n",
    "    model.save(abspath('../../../logs/MSFT/'))\n",
    "\n",
    "    inputs = df[len(df)-len(test_set)-60 : ].values\n",
    "    inputs = inputs.reshape(-1,1)\n",
    "    inputs = transformer.transform(inputs)\n",
    "    import numpy as np\n",
    "\n",
    "    x_test = []\n",
    "    for i in range(60,len(inputs)):\n",
    "        x_test.append(inputs[i-60:i, 0])\n",
    "        \n",
    "    x_test = np.array(x_test)\n",
    "    x_test = np.reshape(x_test, (x_test.shape[0], x_test.shape[1], 1))\n",
    "    print(x_test.shape)\n",
    "    predicted = model.predict(x_test)\n",
    "    predicted = transformer.inverse_transform(predicted)\n",
    "\n",
    "    # Convert the predicted values to a dataframe\n",
    "    predicted_df = pd.DataFrame(predicted)\n",
    "\n",
    "    # Rename the column to \"Open\"\n",
    "    predicted_df.columns = ['Open']\n",
    "\n",
    "    # Add a new column called \"Date\" that has the same index as the other dataframe\n",
    "    predicted_df['Date'] = df[len(df)-len(test_set)-0 : ].index\n",
    "\n",
    "    # Set the 'Date' column as the index\n",
    "    predicted_df = predicted_df.set_index('Date')\n",
    "\n",
    "    import math\n",
    "    from sklearn.metrics import mean_squared_error\n",
    "\n",
    "    def return_rmse(test, predicted):\n",
    "        rmse = math.sqrt(mean_squared_error(test, predicted))\n",
    "        print(\"the root mean squared error is: {}\".format(rmse))\n",
    "        return rmse\n",
    "\n",
    "    RMSE = return_rmse(test_set, predicted)\n",
    "    wandb.log({\"root_mean_square_error\" : RMSE})\n",
    "    artifact = wandb.Artifact('Time-Series', type='model')\n",
    "    artifact.add_dir(abspath('../../../logs/MSFT-5-Year/'))\n",
    "    wandb.run.log_artifact(artifact)"
   ]
  },
  {
   "cell_type": "code",
   "execution_count": 8,
   "metadata": {},
   "outputs": [],
   "source": [
    "sweep_config = {\n",
    "    'method': 'bayes',\n",
    "    'metric': \n",
    "        {\n",
    "            'name': 'root_mean_square_error',\n",
    "            'goal': 'minimize',\n",
    "        },\n",
    "    'parameters': {\n",
    "        'LSTM_UNITS': {\n",
    "            'values': [5, 10, 15, 20, 25, 30, 35, 40, 45, 50, 55, 60, 65, 70, 75, 80, 85, 90, 95, 100]\n",
    "        },\n",
    "        'epochs': {\n",
    "            'value': 100\n",
    "        }\n",
    "    },\n",
    "    'early_terminate': {\n",
    "        'type': 'hyperband',\n",
    "        's': 2,\n",
    "        'eta': 3,\n",
    "        'max_iter': 100\n",
    "    }\n",
    "}"
   ]
  },
  {
   "cell_type": "code",
   "execution_count": 9,
   "metadata": {},
   "outputs": [],
   "source": [
    "import wandb\n",
    "# sweep_id = wandb.sweep(sweep_config, project=\"stock-predictions-alltime\", entity=\"alpheron\")"
   ]
  },
  {
   "cell_type": "code",
   "execution_count": 10,
   "metadata": {},
   "outputs": [
    {
     "name": "stderr",
     "output_type": "stream",
     "text": [
      "\u001b[34m\u001b[1mwandb\u001b[0m: Agent Starting Run: hcov2hco with config:\n",
      "\u001b[34m\u001b[1mwandb\u001b[0m: \tLSTM_UNITS: 15\n",
      "\u001b[34m\u001b[1mwandb\u001b[0m: \tepochs: 100\n",
      "\u001b[34m\u001b[1mwandb\u001b[0m: \u001b[33mWARNING\u001b[0m Ignored wandb.init() arg project when running a sweep.\n",
      "\u001b[34m\u001b[1mwandb\u001b[0m: \u001b[33mWARNING\u001b[0m Ignored wandb.init() arg entity when running a sweep.\n"
     ]
    },
    {
     "data": {
      "text/html": [
       "\n",
       "                    Syncing run <strong><a href=\"https://wandb.ai/alpheron/stock-predictions-alltime/runs/hcov2hco\" target=\"_blank\">rosy-sweep-5</a></strong> to <a href=\"https://wandb.ai/alpheron/stock-predictions-alltime\" target=\"_blank\">Weights & Biases</a> (<a href=\"https://docs.wandb.com/integrations/jupyter.html\" target=\"_blank\">docs</a>).<br/>\n",
       "Sweep page: <a href=\"https://wandb.ai/alpheron/stock-predictions-alltime/sweeps/8gz0pdfk\" target=\"_blank\">https://wandb.ai/alpheron/stock-predictions-alltime/sweeps/8gz0pdfk</a><br/>\n",
       "\n",
       "                "
      ],
      "text/plain": [
       "<IPython.core.display.HTML object>"
      ]
     },
     "metadata": {},
     "output_type": "display_data"
    },
    {
     "name": "stdout",
     "output_type": "stream",
     "text": [
      "Epoch 1/100\n",
      "73/73 [==============================] - 18s 238ms/step - loss: 0.0076 - root_mean_squared_error: 0.0874\n",
      "Epoch 2/100\n",
      "73/73 [==============================] - 21s 292ms/step - loss: 2.3313e-04 - root_mean_squared_error: 0.0153\n",
      "Epoch 3/100\n",
      "73/73 [==============================] - 17s 228ms/step - loss: 2.9401e-04 - root_mean_squared_error: 0.0171\n",
      "Epoch 4/100\n",
      "73/73 [==============================] - 13s 177ms/step - loss: 2.5309e-04 - root_mean_squared_error: 0.0159\n",
      "Epoch 5/100\n",
      "73/73 [==============================] - 13s 178ms/step - loss: 2.3125e-04 - root_mean_squared_error: 0.0152\n",
      "Epoch 6/100\n",
      "73/73 [==============================] - 15s 208ms/step - loss: 2.2609e-04 - root_mean_squared_error: 0.0150\n",
      "Epoch 7/100\n",
      "73/73 [==============================] - 14s 197ms/step - loss: 2.2866e-04 - root_mean_squared_error: 0.0151\n",
      "Epoch 8/100\n",
      "73/73 [==============================] - 14s 188ms/step - loss: 2.6189e-04 - root_mean_squared_error: 0.0162\n",
      "Epoch 9/100\n",
      "73/73 [==============================] - 15s 199ms/step - loss: 1.9732e-04 - root_mean_squared_error: 0.0140\n",
      "Epoch 10/100\n",
      "73/73 [==============================] - 22s 295ms/step - loss: 1.6332e-04 - root_mean_squared_error: 0.0128\n",
      "Epoch 11/100\n",
      "73/73 [==============================] - 14s 194ms/step - loss: 1.8861e-04 - root_mean_squared_error: 0.0137\n",
      "Epoch 12/100\n",
      "73/73 [==============================] - 15s 212ms/step - loss: 1.6757e-04 - root_mean_squared_error: 0.0129\n",
      "Epoch 13/100\n",
      "73/73 [==============================] - 14s 196ms/step - loss: 3.4415e-04 - root_mean_squared_error: 0.0186\n",
      "Epoch 14/100\n",
      "73/73 [==============================] - 15s 199ms/step - loss: 2.7856e-04 - root_mean_squared_error: 0.0167\n",
      "Epoch 15/100\n",
      "73/73 [==============================] - 15s 196ms/step - loss: 2.9698e-04 - root_mean_squared_error: 0.0172\n"
     ]
    },
    {
     "name": "stderr",
     "output_type": "stream",
     "text": [
      "WARNING:absl:Found untraced functions such as lstm_cell_layer_call_fn, lstm_cell_layer_call_and_return_conditional_losses while saving (showing 2 of 2). These functions will not be directly callable after loading.\n"
     ]
    },
    {
     "name": "stdout",
     "output_type": "stream",
     "text": [
      "INFO:tensorflow:Assets written to: /Users/aditya/Programming/stock-market-predictions/logs/MSFT/assets\n"
     ]
    },
    {
     "name": "stderr",
     "output_type": "stream",
     "text": [
      "INFO:tensorflow:Assets written to: /Users/aditya/Programming/stock-market-predictions/logs/MSFT/assets\n",
      "WARNING:absl:<keras.layers.recurrent.LSTMCell object at 0x7fdd1d8574c0> has the same name 'LSTMCell' as a built-in Keras object. Consider renaming <class 'keras.layers.recurrent.LSTMCell'> to avoid naming conflicts when loading with `tf.keras.models.load_model`. If renaming is not possible, pass the object in the `custom_objects` parameter of the load function.\n"
     ]
    },
    {
     "name": "stdout",
     "output_type": "stream",
     "text": [
      "(126, 60, 1)\n"
     ]
    },
    {
     "name": "stderr",
     "output_type": "stream",
     "text": [
      "\u001b[34m\u001b[1mwandb\u001b[0m: Adding directory to artifact (/Users/aditya/Programming/stock-market-predictions/logs/MSFT-5-Year)... Done. 0.0s\n"
     ]
    },
    {
     "name": "stdout",
     "output_type": "stream",
     "text": [
      "the root mean squared error is: 8.351607158748092\n"
     ]
    },
    {
     "data": {
      "text/html": [
       "<br/>Waiting for W&B process to finish, PID 12705... <strong style=\"color:green\">(success).</strong>"
      ],
      "text/plain": [
       "<IPython.core.display.HTML object>"
      ]
     },
     "metadata": {},
     "output_type": "display_data"
    },
    {
     "data": {
      "application/vnd.jupyter.widget-view+json": {
       "model_id": "ad85696c08b249c18ed907b86d4b1842",
       "version_major": 2,
       "version_minor": 0
      },
      "text/plain": [
       "VBox(children=(Label(value=' 1.11MB of 1.11MB uploaded (0.01MB deduped)\\r'), FloatProgress(value=1.0, max=1.0)…"
      ]
     },
     "metadata": {},
     "output_type": "display_data"
    },
    {
     "data": {
      "text/html": [
       "<style>\n",
       "    table.wandb td:nth-child(1) { padding: 0 10px; text-align: right }\n",
       "    .wandb-row { display: flex; flex-direction: row; flex-wrap: wrap; width: 100% }\n",
       "    .wandb-col { display: flex; flex-direction: column; flex-basis: 100%; flex: 1; padding: 10px; }\n",
       "    </style>\n",
       "<div class=\"wandb-row\"><div class=\"wandb-col\">\n",
       "<h3>Run history:</h3><br/><table class=\"wandb\"><tr><td>epoch</td><td>▁▁▂▃▃▃▄▅▅▅▆▇▇▇█</td></tr><tr><td>loss</td><td>█▁▁▁▁▁▁▁▁▁▁▁▁▁▁</td></tr><tr><td>root_mean_square_error</td><td>▁</td></tr><tr><td>root_mean_squared_error</td><td>█▁▁▁▁▁▁▁▁▁▁▁▂▁▁</td></tr></table><br/></div><div class=\"wandb-col\">\n",
       "<h3>Run summary:</h3><br/><table class=\"wandb\"><tr><td>epoch</td><td>14</td></tr><tr><td>loss</td><td>0.0003</td></tr><tr><td>root_mean_square_error</td><td>8.35161</td></tr><tr><td>root_mean_squared_error</td><td>0.01723</td></tr></table>\n",
       "</div></div>\n",
       "Synced 6 W&B file(s), 1 media file(s), 4 artifact file(s) and 1 other file(s)\n",
       "<br/>Synced <strong style=\"color:#cdcd00\">rosy-sweep-5</strong>: <a href=\"https://wandb.ai/alpheron/stock-predictions-alltime/runs/hcov2hco\" target=\"_blank\">https://wandb.ai/alpheron/stock-predictions-alltime/runs/hcov2hco</a><br/>\n",
       "Find logs at: <code>./wandb/run-20220227_165312-hcov2hco/logs</code><br/>\n"
      ],
      "text/plain": [
       "<IPython.core.display.HTML object>"
      ]
     },
     "metadata": {},
     "output_type": "display_data"
    },
    {
     "name": "stderr",
     "output_type": "stream",
     "text": [
      "\u001b[34m\u001b[1mwandb\u001b[0m: Agent Starting Run: cn3s1bq3 with config:\n",
      "\u001b[34m\u001b[1mwandb\u001b[0m: \tLSTM_UNITS: 30\n",
      "\u001b[34m\u001b[1mwandb\u001b[0m: \tepochs: 100\n",
      "\u001b[34m\u001b[1mwandb\u001b[0m: \u001b[33mWARNING\u001b[0m Ignored wandb.init() arg project when running a sweep.\n",
      "\u001b[34m\u001b[1mwandb\u001b[0m: \u001b[33mWARNING\u001b[0m Ignored wandb.init() arg entity when running a sweep.\n"
     ]
    },
    {
     "data": {
      "text/html": [
       "\n",
       "                    Syncing run <strong><a href=\"https://wandb.ai/alpheron/stock-predictions-alltime/runs/cn3s1bq3\" target=\"_blank\">gentle-sweep-6</a></strong> to <a href=\"https://wandb.ai/alpheron/stock-predictions-alltime\" target=\"_blank\">Weights & Biases</a> (<a href=\"https://docs.wandb.com/integrations/jupyter.html\" target=\"_blank\">docs</a>).<br/>\n",
       "Sweep page: <a href=\"https://wandb.ai/alpheron/stock-predictions-alltime/sweeps/8gz0pdfk\" target=\"_blank\">https://wandb.ai/alpheron/stock-predictions-alltime/sweeps/8gz0pdfk</a><br/>\n",
       "\n",
       "                "
      ],
      "text/plain": [
       "<IPython.core.display.HTML object>"
      ]
     },
     "metadata": {},
     "output_type": "display_data"
    },
    {
     "name": "stdout",
     "output_type": "stream",
     "text": [
      "Epoch 1/100\n",
      "73/73 [==============================] - 18s 250ms/step - loss: 0.0448 - root_mean_squared_error: 0.2118\n",
      "Epoch 2/100\n",
      "73/73 [==============================] - 14s 186ms/step - loss: 0.0021 - root_mean_squared_error: 0.0456\n",
      "Epoch 3/100\n",
      "73/73 [==============================] - 17s 236ms/step - loss: 6.2652e-04 - root_mean_squared_error: 0.0250\n",
      "Epoch 4/100\n",
      "73/73 [==============================] - 15s 201ms/step - loss: 6.2239e-04 - root_mean_squared_error: 0.0249\n",
      "Epoch 5/100\n",
      "73/73 [==============================] - 19s 256ms/step - loss: 3.8199e-04 - root_mean_squared_error: 0.0195\n",
      "Epoch 6/100\n",
      "73/73 [==============================] - 13s 181ms/step - loss: 5.1165e-04 - root_mean_squared_error: 0.0226\n",
      "Epoch 7/100\n",
      "73/73 [==============================] - 15s 212ms/step - loss: 3.9140e-04 - root_mean_squared_error: 0.0198\n",
      "Epoch 8/100\n",
      "73/73 [==============================] - 14s 193ms/step - loss: 4.2847e-04 - root_mean_squared_error: 0.0207\n",
      "Epoch 9/100\n",
      "73/73 [==============================] - 22s 305ms/step - loss: 3.5513e-04 - root_mean_squared_error: 0.0188\n",
      "Epoch 10/100\n",
      "73/73 [==============================] - 13s 180ms/step - loss: 4.3983e-04 - root_mean_squared_error: 0.0210\n",
      "Epoch 11/100\n",
      "73/73 [==============================] - 14s 195ms/step - loss: 3.9592e-04 - root_mean_squared_error: 0.0199\n",
      "Epoch 12/100\n",
      "73/73 [==============================] - 13s 179ms/step - loss: 4.2960e-04 - root_mean_squared_error: 0.0207\n",
      "Epoch 13/100\n",
      "73/73 [==============================] - 14s 193ms/step - loss: 2.6983e-04 - root_mean_squared_error: 0.0164\n",
      "Epoch 14/100\n",
      "73/73 [==============================] - 16s 216ms/step - loss: 4.0717e-04 - root_mean_squared_error: 0.0202\n",
      "Epoch 15/100\n",
      "73/73 [==============================] - 13s 175ms/step - loss: 3.3577e-04 - root_mean_squared_error: 0.0183\n",
      "Epoch 16/100\n",
      "73/73 [==============================] - 16s 218ms/step - loss: 2.3769e-04 - root_mean_squared_error: 0.0154\n",
      "Epoch 17/100\n",
      "73/73 [==============================] - 13s 181ms/step - loss: 2.0222e-04 - root_mean_squared_error: 0.0142\n",
      "Epoch 18/100\n",
      "73/73 [==============================] - 14s 192ms/step - loss: 2.7824e-04 - root_mean_squared_error: 0.0167\n",
      "Epoch 19/100\n",
      "73/73 [==============================] - 11s 145ms/step - loss: 2.6881e-04 - root_mean_squared_error: 0.0164\n",
      "Epoch 20/100\n",
      "73/73 [==============================] - 10s 143ms/step - loss: 2.5212e-04 - root_mean_squared_error: 0.0159\n",
      "Epoch 21/100\n",
      "73/73 [==============================] - 11s 149ms/step - loss: 2.0058e-04 - root_mean_squared_error: 0.0142\n",
      "Epoch 22/100\n",
      "73/73 [==============================] - 12s 167ms/step - loss: 2.2132e-04 - root_mean_squared_error: 0.0149\n",
      "Epoch 23/100\n",
      "73/73 [==============================] - 14s 187ms/step - loss: 3.4908e-04 - root_mean_squared_error: 0.0187\n",
      "Epoch 24/100\n",
      "73/73 [==============================] - 13s 182ms/step - loss: 2.6896e-04 - root_mean_squared_error: 0.0164\n",
      "Epoch 25/100\n",
      "73/73 [==============================] - 13s 174ms/step - loss: 2.4422e-04 - root_mean_squared_error: 0.0156\n",
      "Epoch 26/100\n",
      "73/73 [==============================] - 14s 189ms/step - loss: 2.4786e-04 - root_mean_squared_error: 0.0157\n"
     ]
    },
    {
     "name": "stderr",
     "output_type": "stream",
     "text": [
      "WARNING:absl:Found untraced functions such as lstm_cell_layer_call_fn, lstm_cell_layer_call_and_return_conditional_losses while saving (showing 2 of 2). These functions will not be directly callable after loading.\n"
     ]
    },
    {
     "name": "stdout",
     "output_type": "stream",
     "text": [
      "INFO:tensorflow:Assets written to: /Users/aditya/Programming/stock-market-predictions/logs/MSFT/assets\n"
     ]
    },
    {
     "name": "stderr",
     "output_type": "stream",
     "text": [
      "INFO:tensorflow:Assets written to: /Users/aditya/Programming/stock-market-predictions/logs/MSFT/assets\n",
      "WARNING:absl:<keras.layers.recurrent.LSTMCell object at 0x7fdd1c362af0> has the same name 'LSTMCell' as a built-in Keras object. Consider renaming <class 'keras.layers.recurrent.LSTMCell'> to avoid naming conflicts when loading with `tf.keras.models.load_model`. If renaming is not possible, pass the object in the `custom_objects` parameter of the load function.\n"
     ]
    },
    {
     "name": "stdout",
     "output_type": "stream",
     "text": [
      "(126, 60, 1)\n"
     ]
    },
    {
     "name": "stderr",
     "output_type": "stream",
     "text": [
      "\u001b[34m\u001b[1mwandb\u001b[0m: Adding directory to artifact (/Users/aditya/Programming/stock-market-predictions/logs/MSFT-5-Year)... Done. 0.0s\n"
     ]
    },
    {
     "name": "stdout",
     "output_type": "stream",
     "text": [
      "the root mean squared error is: 9.065013548720119\n"
     ]
    },
    {
     "data": {
      "text/html": [
       "<br/>Waiting for W&B process to finish, PID 13102... <strong style=\"color:green\">(success).</strong>"
      ],
      "text/plain": [
       "<IPython.core.display.HTML object>"
      ]
     },
     "metadata": {},
     "output_type": "display_data"
    },
    {
     "data": {
      "application/vnd.jupyter.widget-view+json": {
       "model_id": "da25b0eed56e49d380caf2a29cab364c",
       "version_major": 2,
       "version_minor": 0
      },
      "text/plain": [
       "VBox(children=(Label(value=' 1.11MB of 1.11MB uploaded (0.01MB deduped)\\r'), FloatProgress(value=1.0, max=1.0)…"
      ]
     },
     "metadata": {},
     "output_type": "display_data"
    },
    {
     "data": {
      "text/html": [
       "<style>\n",
       "    table.wandb td:nth-child(1) { padding: 0 10px; text-align: right }\n",
       "    .wandb-row { display: flex; flex-direction: row; flex-wrap: wrap; width: 100% }\n",
       "    .wandb-col { display: flex; flex-direction: column; flex-basis: 100%; flex: 1; padding: 10px; }\n",
       "    </style>\n",
       "<div class=\"wandb-row\"><div class=\"wandb-col\">\n",
       "<h3>Run history:</h3><br/><table class=\"wandb\"><tr><td>epoch</td><td>▁▁▂▂▂▂▃▃▃▄▄▄▄▅▅▅▅▆▆▆▇▇▇▇██</td></tr><tr><td>loss</td><td>█▁▁▁▁▁▁▁▁▁▁▁▁▁▁▁▁▁▁▁▁▁▁▁▁▁</td></tr><tr><td>root_mean_square_error</td><td>▁</td></tr><tr><td>root_mean_squared_error</td><td>█▂▁▁▁▁▁▁▁▁▁▁▁▁▁▁▁▁▁▁▁▁▁▁▁▁</td></tr></table><br/></div><div class=\"wandb-col\">\n",
       "<h3>Run summary:</h3><br/><table class=\"wandb\"><tr><td>epoch</td><td>25</td></tr><tr><td>loss</td><td>0.00025</td></tr><tr><td>root_mean_square_error</td><td>9.06501</td></tr><tr><td>root_mean_squared_error</td><td>0.01574</td></tr></table>\n",
       "</div></div>\n",
       "Synced 6 W&B file(s), 1 media file(s), 4 artifact file(s) and 1 other file(s)\n",
       "<br/>Synced <strong style=\"color:#cdcd00\">gentle-sweep-6</strong>: <a href=\"https://wandb.ai/alpheron/stock-predictions-alltime/runs/cn3s1bq3\" target=\"_blank\">https://wandb.ai/alpheron/stock-predictions-alltime/runs/cn3s1bq3</a><br/>\n",
       "Find logs at: <code>./wandb/run-20220227_165746-cn3s1bq3/logs</code><br/>\n"
      ],
      "text/plain": [
       "<IPython.core.display.HTML object>"
      ]
     },
     "metadata": {},
     "output_type": "display_data"
    },
    {
     "name": "stderr",
     "output_type": "stream",
     "text": [
      "\u001b[34m\u001b[1mwandb\u001b[0m: Agent Starting Run: n8b85ugp with config:\n",
      "\u001b[34m\u001b[1mwandb\u001b[0m: \tLSTM_UNITS: 10\n",
      "\u001b[34m\u001b[1mwandb\u001b[0m: \tepochs: 100\n",
      "\u001b[34m\u001b[1mwandb\u001b[0m: \u001b[33mWARNING\u001b[0m Ignored wandb.init() arg project when running a sweep.\n",
      "\u001b[34m\u001b[1mwandb\u001b[0m: \u001b[33mWARNING\u001b[0m Ignored wandb.init() arg entity when running a sweep.\n"
     ]
    },
    {
     "data": {
      "text/html": [
       "\n",
       "                    Syncing run <strong><a href=\"https://wandb.ai/alpheron/stock-predictions-alltime/runs/n8b85ugp\" target=\"_blank\">radiant-sweep-7</a></strong> to <a href=\"https://wandb.ai/alpheron/stock-predictions-alltime\" target=\"_blank\">Weights & Biases</a> (<a href=\"https://docs.wandb.com/integrations/jupyter.html\" target=\"_blank\">docs</a>).<br/>\n",
       "Sweep page: <a href=\"https://wandb.ai/alpheron/stock-predictions-alltime/sweeps/8gz0pdfk\" target=\"_blank\">https://wandb.ai/alpheron/stock-predictions-alltime/sweeps/8gz0pdfk</a><br/>\n",
       "\n",
       "                "
      ],
      "text/plain": [
       "<IPython.core.display.HTML object>"
      ]
     },
     "metadata": {},
     "output_type": "display_data"
    },
    {
     "name": "stdout",
     "output_type": "stream",
     "text": [
      "Epoch 1/100\n",
      "73/73 [==============================] - 14s 192ms/step - loss: 0.0614 - root_mean_squared_error: 0.2478\n",
      "Epoch 2/100\n",
      "73/73 [==============================] - 13s 179ms/step - loss: 0.0028 - root_mean_squared_error: 0.0533\n",
      "Epoch 3/100\n",
      "73/73 [==============================] - 11s 151ms/step - loss: 8.6147e-04 - root_mean_squared_error: 0.0294\n",
      "Epoch 4/100\n",
      "73/73 [==============================] - 13s 172ms/step - loss: 0.0013 - root_mean_squared_error: 0.0355\n",
      "Epoch 5/100\n",
      "73/73 [==============================] - 11s 149ms/step - loss: 8.0020e-04 - root_mean_squared_error: 0.0283\n",
      "Epoch 6/100\n",
      "73/73 [==============================] - 11s 148ms/step - loss: 4.9023e-04 - root_mean_squared_error: 0.0221\n",
      "Epoch 7/100\n",
      "73/73 [==============================] - 12s 165ms/step - loss: 5.2707e-04 - root_mean_squared_error: 0.0230\n",
      "Epoch 8/100\n",
      "73/73 [==============================] - 12s 167ms/step - loss: 7.2902e-04 - root_mean_squared_error: 0.0270\n",
      "Epoch 9/100\n",
      "73/73 [==============================] - 23s 313ms/step - loss: 8.4348e-04 - root_mean_squared_error: 0.0290\n",
      "Epoch 10/100\n",
      "73/73 [==============================] - 18s 250ms/step - loss: 5.9600e-04 - root_mean_squared_error: 0.0244\n",
      "Epoch 11/100\n",
      "73/73 [==============================] - 18s 249ms/step - loss: 4.1326e-04 - root_mean_squared_error: 0.0203\n",
      "Epoch 12/100\n",
      "73/73 [==============================] - 14s 197ms/step - loss: 5.5868e-04 - root_mean_squared_error: 0.0236\n",
      "Epoch 13/100\n",
      "73/73 [==============================] - 12s 158ms/step - loss: 3.6300e-04 - root_mean_squared_error: 0.0191\n",
      "Epoch 14/100\n",
      "73/73 [==============================] - 13s 174ms/step - loss: 3.0669e-04 - root_mean_squared_error: 0.0175\n",
      "Epoch 15/100\n",
      "73/73 [==============================] - 12s 158ms/step - loss: 3.0457e-04 - root_mean_squared_error: 0.0175\n",
      "Epoch 16/100\n",
      "73/73 [==============================] - 12s 158ms/step - loss: 4.6001e-04 - root_mean_squared_error: 0.0214\n",
      "Epoch 17/100\n",
      "73/73 [==============================] - 11s 146ms/step - loss: 2.9062e-04 - root_mean_squared_error: 0.0170\n",
      "Epoch 18/100\n",
      "73/73 [==============================] - 11s 152ms/step - loss: 3.0430e-04 - root_mean_squared_error: 0.0174\n",
      "Epoch 19/100\n",
      "73/73 [==============================] - 10s 143ms/step - loss: 3.1216e-04 - root_mean_squared_error: 0.0177\n",
      "Epoch 20/100\n",
      "73/73 [==============================] - 11s 147ms/step - loss: 3.7242e-04 - root_mean_squared_error: 0.0193\n",
      "Epoch 21/100\n",
      "73/73 [==============================] - 11s 146ms/step - loss: 2.8925e-04 - root_mean_squared_error: 0.0170\n",
      "Epoch 22/100\n",
      "73/73 [==============================] - 10s 143ms/step - loss: 2.9829e-04 - root_mean_squared_error: 0.0173\n",
      "Epoch 23/100\n",
      "73/73 [==============================] - 12s 161ms/step - loss: 2.8337e-04 - root_mean_squared_error: 0.0168\n",
      "Epoch 24/100\n",
      "73/73 [==============================] - 14s 188ms/step - loss: 2.5471e-04 - root_mean_squared_error: 0.0160\n",
      "Epoch 25/100\n",
      "73/73 [==============================] - 15s 200ms/step - loss: 3.0695e-04 - root_mean_squared_error: 0.0175\n",
      "Epoch 26/100\n",
      "73/73 [==============================] - 16s 212ms/step - loss: 3.1899e-04 - root_mean_squared_error: 0.0179\n",
      "Epoch 27/100\n",
      "73/73 [==============================] - 13s 170ms/step - loss: 2.5216e-04 - root_mean_squared_error: 0.0159\n",
      "Epoch 28/100\n",
      "73/73 [==============================] - 13s 173ms/step - loss: 2.3111e-04 - root_mean_squared_error: 0.0152\n",
      "Epoch 29/100\n",
      "73/73 [==============================] - 13s 182ms/step - loss: 1.8164e-04 - root_mean_squared_error: 0.0135\n",
      "Epoch 30/100\n",
      "73/73 [==============================] - 12s 159ms/step - loss: 2.7806e-04 - root_mean_squared_error: 0.0167\n",
      "Epoch 31/100\n",
      "73/73 [==============================] - 16s 223ms/step - loss: 4.3621e-04 - root_mean_squared_error: 0.0209\n",
      "Epoch 32/100\n",
      "73/73 [==============================] - 14s 197ms/step - loss: 2.2741e-04 - root_mean_squared_error: 0.0151\n",
      "Epoch 33/100\n",
      "73/73 [==============================] - 13s 175ms/step - loss: 2.3992e-04 - root_mean_squared_error: 0.0155\n",
      "Epoch 34/100\n",
      "73/73 [==============================] - 12s 169ms/step - loss: 2.7279e-04 - root_mean_squared_error: 0.0165\n"
     ]
    },
    {
     "name": "stderr",
     "output_type": "stream",
     "text": [
      "WARNING:absl:Found untraced functions such as lstm_cell_layer_call_fn, lstm_cell_layer_call_and_return_conditional_losses while saving (showing 2 of 2). These functions will not be directly callable after loading.\n"
     ]
    },
    {
     "name": "stdout",
     "output_type": "stream",
     "text": [
      "INFO:tensorflow:Assets written to: /Users/aditya/Programming/stock-market-predictions/logs/MSFT/assets\n"
     ]
    },
    {
     "name": "stderr",
     "output_type": "stream",
     "text": [
      "INFO:tensorflow:Assets written to: /Users/aditya/Programming/stock-market-predictions/logs/MSFT/assets\n",
      "WARNING:absl:<keras.layers.recurrent.LSTMCell object at 0x7fdd1d935a00> has the same name 'LSTMCell' as a built-in Keras object. Consider renaming <class 'keras.layers.recurrent.LSTMCell'> to avoid naming conflicts when loading with `tf.keras.models.load_model`. If renaming is not possible, pass the object in the `custom_objects` parameter of the load function.\n"
     ]
    },
    {
     "name": "stdout",
     "output_type": "stream",
     "text": [
      "(126, 60, 1)\n"
     ]
    },
    {
     "name": "stderr",
     "output_type": "stream",
     "text": [
      "\u001b[34m\u001b[1mwandb\u001b[0m: Adding directory to artifact (/Users/aditya/Programming/stock-market-predictions/logs/MSFT-5-Year)... Done. 0.0s\n"
     ]
    },
    {
     "name": "stdout",
     "output_type": "stream",
     "text": [
      "the root mean squared error is: 9.179189207176107\n"
     ]
    },
    {
     "data": {
      "text/html": [
       "<br/>Waiting for W&B process to finish, PID 13389... <strong style=\"color:green\">(success).</strong>"
      ],
      "text/plain": [
       "<IPython.core.display.HTML object>"
      ]
     },
     "metadata": {},
     "output_type": "display_data"
    },
    {
     "data": {
      "application/vnd.jupyter.widget-view+json": {
       "model_id": "2490d46efec1472e985c3191057f86de",
       "version_major": 2,
       "version_minor": 0
      },
      "text/plain": [
       "VBox(children=(Label(value=' 0.01MB of 0.01MB uploaded (0.00MB deduped)\\r'), FloatProgress(value=1.0, max=1.0)…"
      ]
     },
     "metadata": {},
     "output_type": "display_data"
    },
    {
     "data": {
      "text/html": [
       "<style>\n",
       "    table.wandb td:nth-child(1) { padding: 0 10px; text-align: right }\n",
       "    .wandb-row { display: flex; flex-direction: row; flex-wrap: wrap; width: 100% }\n",
       "    .wandb-col { display: flex; flex-direction: column; flex-basis: 100%; flex: 1; padding: 10px; }\n",
       "    </style>\n",
       "<div class=\"wandb-row\"><div class=\"wandb-col\">\n",
       "<h3>Run history:</h3><br/><table class=\"wandb\"><tr><td>epoch</td><td>▁▁▁▂▂▂▂▂▃▃▃▃▄▄▄▄▄▅▅▅▅▅▆▆▆▆▇▇▇▇▇███</td></tr><tr><td>loss</td><td>█▁▁▁▁▁▁▁▁▁▁▁▁▁▁▁▁▁▁▁▁▁▁▁▁▁▁▁▁▁▁▁▁▁</td></tr><tr><td>root_mean_square_error</td><td>▁</td></tr><tr><td>root_mean_squared_error</td><td>█▂▁▂▁▁▁▁▁▁▁▁▁▁▁▁▁▁▁▁▁▁▁▁▁▁▁▁▁▁▁▁▁▁</td></tr></table><br/></div><div class=\"wandb-col\">\n",
       "<h3>Run summary:</h3><br/><table class=\"wandb\"><tr><td>epoch</td><td>33</td></tr><tr><td>loss</td><td>0.00027</td></tr><tr><td>root_mean_square_error</td><td>9.17919</td></tr><tr><td>root_mean_squared_error</td><td>0.01652</td></tr></table>\n",
       "</div></div>\n",
       "Synced 6 W&B file(s), 1 media file(s), 0 artifact file(s) and 1 other file(s)\n",
       "<br/>Synced <strong style=\"color:#cdcd00\">radiant-sweep-7</strong>: <a href=\"https://wandb.ai/alpheron/stock-predictions-alltime/runs/n8b85ugp\" target=\"_blank\">https://wandb.ai/alpheron/stock-predictions-alltime/runs/n8b85ugp</a><br/>\n",
       "Find logs at: <code>./wandb/run-20220227_170443-n8b85ugp/logs</code><br/>\n"
      ],
      "text/plain": [
       "<IPython.core.display.HTML object>"
      ]
     },
     "metadata": {},
     "output_type": "display_data"
    },
    {
     "name": "stderr",
     "output_type": "stream",
     "text": [
      "\u001b[34m\u001b[1mwandb\u001b[0m: Agent Starting Run: sst9la9x with config:\n",
      "\u001b[34m\u001b[1mwandb\u001b[0m: \tLSTM_UNITS: 25\n",
      "\u001b[34m\u001b[1mwandb\u001b[0m: \tepochs: 100\n",
      "\u001b[34m\u001b[1mwandb\u001b[0m: \u001b[33mWARNING\u001b[0m Ignored wandb.init() arg project when running a sweep.\n",
      "\u001b[34m\u001b[1mwandb\u001b[0m: \u001b[33mWARNING\u001b[0m Ignored wandb.init() arg entity when running a sweep.\n"
     ]
    },
    {
     "data": {
      "text/html": [
       "\n",
       "                    Syncing run <strong><a href=\"https://wandb.ai/alpheron/stock-predictions-alltime/runs/sst9la9x\" target=\"_blank\">comfy-sweep-8</a></strong> to <a href=\"https://wandb.ai/alpheron/stock-predictions-alltime\" target=\"_blank\">Weights & Biases</a> (<a href=\"https://docs.wandb.com/integrations/jupyter.html\" target=\"_blank\">docs</a>).<br/>\n",
       "Sweep page: <a href=\"https://wandb.ai/alpheron/stock-predictions-alltime/sweeps/8gz0pdfk\" target=\"_blank\">https://wandb.ai/alpheron/stock-predictions-alltime/sweeps/8gz0pdfk</a><br/>\n",
       "\n",
       "                "
      ],
      "text/plain": [
       "<IPython.core.display.HTML object>"
      ]
     },
     "metadata": {},
     "output_type": "display_data"
    },
    {
     "name": "stdout",
     "output_type": "stream",
     "text": [
      "Epoch 1/100\n",
      "73/73 [==============================] - 11s 144ms/step - loss: 0.0262 - root_mean_squared_error: 0.1618\n",
      "Epoch 2/100\n",
      "73/73 [==============================] - 10s 143ms/step - loss: 4.7150e-04 - root_mean_squared_error: 0.0217\n",
      "Epoch 3/100\n",
      "73/73 [==============================] - 10s 138ms/step - loss: 3.9464e-04 - root_mean_squared_error: 0.0199\n",
      "Epoch 4/100\n",
      "73/73 [==============================] - 10s 131ms/step - loss: 3.4317e-04 - root_mean_squared_error: 0.0185\n",
      "Epoch 5/100\n",
      "73/73 [==============================] - 11s 157ms/step - loss: 4.9136e-04 - root_mean_squared_error: 0.0222\n",
      "Epoch 6/100\n",
      "73/73 [==============================] - 11s 144ms/step - loss: 3.2179e-04 - root_mean_squared_error: 0.0179\n",
      "Epoch 7/100\n",
      "73/73 [==============================] - 10s 138ms/step - loss: 3.3011e-04 - root_mean_squared_error: 0.0182\n",
      "Epoch 8/100\n",
      "73/73 [==============================] - 11s 145ms/step - loss: 3.5088e-04 - root_mean_squared_error: 0.0187\n",
      "Epoch 9/100\n",
      "73/73 [==============================] - 10s 137ms/step - loss: 2.6377e-04 - root_mean_squared_error: 0.0162\n",
      "Epoch 10/100\n",
      "73/73 [==============================] - 10s 142ms/step - loss: 2.9350e-04 - root_mean_squared_error: 0.0171\n",
      "Epoch 11/100\n",
      "73/73 [==============================] - 10s 140ms/step - loss: 2.8391e-04 - root_mean_squared_error: 0.0168\n",
      "Epoch 12/100\n",
      "73/73 [==============================] - 11s 146ms/step - loss: 3.1704e-04 - root_mean_squared_error: 0.0178\n",
      "Epoch 13/100\n",
      "73/73 [==============================] - 11s 149ms/step - loss: 2.9017e-04 - root_mean_squared_error: 0.0170\n",
      "Epoch 14/100\n",
      "73/73 [==============================] - 11s 152ms/step - loss: 2.0548e-04 - root_mean_squared_error: 0.0143\n",
      "Epoch 15/100\n",
      "73/73 [==============================] - 10s 143ms/step - loss: 1.9942e-04 - root_mean_squared_error: 0.0141\n",
      "Epoch 16/100\n",
      "73/73 [==============================] - 11s 150ms/step - loss: 2.3003e-04 - root_mean_squared_error: 0.0152\n",
      "Epoch 17/100\n",
      "73/73 [==============================] - 14s 193ms/step - loss: 2.4008e-04 - root_mean_squared_error: 0.0155\n",
      "Epoch 18/100\n",
      "73/73 [==============================] - 12s 162ms/step - loss: 2.4561e-04 - root_mean_squared_error: 0.0157\n",
      "Epoch 19/100\n",
      "73/73 [==============================] - 14s 196ms/step - loss: 3.0200e-04 - root_mean_squared_error: 0.0174\n",
      "Epoch 20/100\n",
      "73/73 [==============================] - 14s 198ms/step - loss: 2.2896e-04 - root_mean_squared_error: 0.0151\n"
     ]
    },
    {
     "name": "stderr",
     "output_type": "stream",
     "text": [
      "WARNING:absl:Found untraced functions such as lstm_cell_layer_call_fn, lstm_cell_layer_call_and_return_conditional_losses while saving (showing 2 of 2). These functions will not be directly callable after loading.\n"
     ]
    },
    {
     "name": "stdout",
     "output_type": "stream",
     "text": [
      "INFO:tensorflow:Assets written to: /Users/aditya/Programming/stock-market-predictions/logs/MSFT/assets\n"
     ]
    },
    {
     "name": "stderr",
     "output_type": "stream",
     "text": [
      "INFO:tensorflow:Assets written to: /Users/aditya/Programming/stock-market-predictions/logs/MSFT/assets\n",
      "WARNING:absl:<keras.layers.recurrent.LSTMCell object at 0x7fdd1b9b39d0> has the same name 'LSTMCell' as a built-in Keras object. Consider renaming <class 'keras.layers.recurrent.LSTMCell'> to avoid naming conflicts when loading with `tf.keras.models.load_model`. If renaming is not possible, pass the object in the `custom_objects` parameter of the load function.\n"
     ]
    },
    {
     "name": "stdout",
     "output_type": "stream",
     "text": [
      "(126, 60, 1)\n"
     ]
    },
    {
     "name": "stderr",
     "output_type": "stream",
     "text": [
      "\u001b[34m\u001b[1mwandb\u001b[0m: Adding directory to artifact (/Users/aditya/Programming/stock-market-predictions/logs/MSFT-5-Year)... Done. 0.0s\n"
     ]
    },
    {
     "name": "stdout",
     "output_type": "stream",
     "text": [
      "the root mean squared error is: 8.614749604712104\n"
     ]
    },
    {
     "data": {
      "text/html": [
       "<br/>Waiting for W&B process to finish, PID 13679... <strong style=\"color:green\">(success).</strong>"
      ],
      "text/plain": [
       "<IPython.core.display.HTML object>"
      ]
     },
     "metadata": {},
     "output_type": "display_data"
    },
    {
     "data": {
      "application/vnd.jupyter.widget-view+json": {
       "model_id": "52448f2c99724b76be86c41d35be3508",
       "version_major": 2,
       "version_minor": 0
      },
      "text/plain": [
       "VBox(children=(Label(value=' 1.11MB of 1.11MB uploaded (0.01MB deduped)\\r'), FloatProgress(value=1.0, max=1.0)…"
      ]
     },
     "metadata": {},
     "output_type": "display_data"
    },
    {
     "data": {
      "text/html": [
       "<style>\n",
       "    table.wandb td:nth-child(1) { padding: 0 10px; text-align: right }\n",
       "    .wandb-row { display: flex; flex-direction: row; flex-wrap: wrap; width: 100% }\n",
       "    .wandb-col { display: flex; flex-direction: column; flex-basis: 100%; flex: 1; padding: 10px; }\n",
       "    </style>\n",
       "<div class=\"wandb-row\"><div class=\"wandb-col\">\n",
       "<h3>Run history:</h3><br/><table class=\"wandb\"><tr><td>epoch</td><td>▁▁▂▂▂▃▃▄▄▄▅▅▅▆▆▇▇▇██</td></tr><tr><td>loss</td><td>█▁▁▁▁▁▁▁▁▁▁▁▁▁▁▁▁▁▁▁</td></tr><tr><td>root_mean_square_error</td><td>▁</td></tr><tr><td>root_mean_squared_error</td><td>█▁▁▁▁▁▁▁▁▁▁▁▁▁▁▁▁▁▁▁</td></tr></table><br/></div><div class=\"wandb-col\">\n",
       "<h3>Run summary:</h3><br/><table class=\"wandb\"><tr><td>epoch</td><td>19</td></tr><tr><td>loss</td><td>0.00023</td></tr><tr><td>root_mean_square_error</td><td>8.61475</td></tr><tr><td>root_mean_squared_error</td><td>0.01513</td></tr></table>\n",
       "</div></div>\n",
       "Synced 6 W&B file(s), 1 media file(s), 4 artifact file(s) and 1 other file(s)\n",
       "<br/>Synced <strong style=\"color:#cdcd00\">comfy-sweep-8</strong>: <a href=\"https://wandb.ai/alpheron/stock-predictions-alltime/runs/sst9la9x\" target=\"_blank\">https://wandb.ai/alpheron/stock-predictions-alltime/runs/sst9la9x</a><br/>\n",
       "Find logs at: <code>./wandb/run-20220227_171253-sst9la9x/logs</code><br/>\n"
      ],
      "text/plain": [
       "<IPython.core.display.HTML object>"
      ]
     },
     "metadata": {},
     "output_type": "display_data"
    },
    {
     "name": "stderr",
     "output_type": "stream",
     "text": [
      "\u001b[34m\u001b[1mwandb\u001b[0m: Agent Starting Run: z4qccg3k with config:\n",
      "\u001b[34m\u001b[1mwandb\u001b[0m: \tLSTM_UNITS: 20\n",
      "\u001b[34m\u001b[1mwandb\u001b[0m: \tepochs: 100\n",
      "\u001b[34m\u001b[1mwandb\u001b[0m: \u001b[33mWARNING\u001b[0m Ignored wandb.init() arg project when running a sweep.\n",
      "\u001b[34m\u001b[1mwandb\u001b[0m: \u001b[33mWARNING\u001b[0m Ignored wandb.init() arg entity when running a sweep.\n"
     ]
    },
    {
     "data": {
      "text/html": [
       "\n",
       "                    Syncing run <strong><a href=\"https://wandb.ai/alpheron/stock-predictions-alltime/runs/z4qccg3k\" target=\"_blank\">exalted-sweep-9</a></strong> to <a href=\"https://wandb.ai/alpheron/stock-predictions-alltime\" target=\"_blank\">Weights & Biases</a> (<a href=\"https://docs.wandb.com/integrations/jupyter.html\" target=\"_blank\">docs</a>).<br/>\n",
       "Sweep page: <a href=\"https://wandb.ai/alpheron/stock-predictions-alltime/sweeps/8gz0pdfk\" target=\"_blank\">https://wandb.ai/alpheron/stock-predictions-alltime/sweeps/8gz0pdfk</a><br/>\n",
       "\n",
       "                "
      ],
      "text/plain": [
       "<IPython.core.display.HTML object>"
      ]
     },
     "metadata": {},
     "output_type": "display_data"
    },
    {
     "name": "stdout",
     "output_type": "stream",
     "text": [
      "Epoch 1/100\n",
      "73/73 [==============================] - 17s 239ms/step - loss: 0.0721 - root_mean_squared_error: 0.2685\n",
      "Epoch 2/100\n",
      "73/73 [==============================] - 12s 160ms/step - loss: 0.0043 - root_mean_squared_error: 0.0657\n",
      "Epoch 3/100\n",
      "73/73 [==============================] - 11s 151ms/step - loss: 5.7252e-04 - root_mean_squared_error: 0.0239\n",
      "Epoch 4/100\n",
      "73/73 [==============================] - 10s 142ms/step - loss: 6.8230e-04 - root_mean_squared_error: 0.0261\n",
      "Epoch 5/100\n",
      "73/73 [==============================] - 11s 147ms/step - loss: 4.5630e-04 - root_mean_squared_error: 0.0214\n",
      "Epoch 6/100\n",
      "73/73 [==============================] - 12s 166ms/step - loss: 4.7361e-04 - root_mean_squared_error: 0.0218\n",
      "Epoch 7/100\n",
      "73/73 [==============================] - 10s 142ms/step - loss: 4.7947e-04 - root_mean_squared_error: 0.0219\n",
      "Epoch 8/100\n",
      "73/73 [==============================] - 12s 162ms/step - loss: 3.8581e-04 - root_mean_squared_error: 0.0196\n",
      "Epoch 9/100\n",
      "73/73 [==============================] - 13s 174ms/step - loss: 3.5693e-04 - root_mean_squared_error: 0.0189\n",
      "Epoch 10/100\n",
      "73/73 [==============================] - 12s 165ms/step - loss: 5.4870e-04 - root_mean_squared_error: 0.0234\n",
      "Epoch 11/100\n",
      "73/73 [==============================] - 12s 167ms/step - loss: 3.8417e-04 - root_mean_squared_error: 0.0196\n",
      "Epoch 12/100\n",
      "73/73 [==============================] - 12s 170ms/step - loss: 3.4917e-04 - root_mean_squared_error: 0.0187\n",
      "Epoch 13/100\n",
      "73/73 [==============================] - 12s 168ms/step - loss: 2.7469e-04 - root_mean_squared_error: 0.0166\n",
      "Epoch 14/100\n",
      "73/73 [==============================] - 12s 159ms/step - loss: 3.1898e-04 - root_mean_squared_error: 0.0179\n",
      "Epoch 15/100\n",
      "73/73 [==============================] - 11s 148ms/step - loss: 2.7024e-04 - root_mean_squared_error: 0.0164\n",
      "Epoch 16/100\n",
      "73/73 [==============================] - 11s 154ms/step - loss: 3.0995e-04 - root_mean_squared_error: 0.0176\n",
      "Epoch 17/100\n",
      "73/73 [==============================] - 11s 156ms/step - loss: 2.6787e-04 - root_mean_squared_error: 0.0164\n",
      "Epoch 18/100\n",
      "73/73 [==============================] - 13s 176ms/step - loss: 3.0858e-04 - root_mean_squared_error: 0.0176\n",
      "Epoch 19/100\n",
      "73/73 [==============================] - 11s 152ms/step - loss: 3.1213e-04 - root_mean_squared_error: 0.0177\n",
      "Epoch 20/100\n",
      "73/73 [==============================] - 11s 150ms/step - loss: 4.0979e-04 - root_mean_squared_error: 0.0202\n",
      "Epoch 21/100\n",
      "73/73 [==============================] - 11s 150ms/step - loss: 2.1460e-04 - root_mean_squared_error: 0.0146\n",
      "Epoch 22/100\n",
      "73/73 [==============================] - 13s 175ms/step - loss: 2.4374e-04 - root_mean_squared_error: 0.0156\n",
      "Epoch 23/100\n",
      "73/73 [==============================] - 13s 184ms/step - loss: 2.8059e-04 - root_mean_squared_error: 0.0168\n",
      "Epoch 24/100\n",
      "73/73 [==============================] - 13s 172ms/step - loss: 5.9022e-04 - root_mean_squared_error: 0.0243\n",
      "Epoch 25/100\n",
      "73/73 [==============================] - 12s 163ms/step - loss: 2.2331e-04 - root_mean_squared_error: 0.0149\n",
      "Epoch 26/100\n",
      "73/73 [==============================] - 12s 162ms/step - loss: 2.6045e-04 - root_mean_squared_error: 0.0161\n"
     ]
    },
    {
     "name": "stderr",
     "output_type": "stream",
     "text": [
      "WARNING:absl:Found untraced functions such as lstm_cell_layer_call_fn, lstm_cell_layer_call_and_return_conditional_losses while saving (showing 2 of 2). These functions will not be directly callable after loading.\n"
     ]
    },
    {
     "name": "stdout",
     "output_type": "stream",
     "text": [
      "INFO:tensorflow:Assets written to: /Users/aditya/Programming/stock-market-predictions/logs/MSFT/assets\n"
     ]
    },
    {
     "name": "stderr",
     "output_type": "stream",
     "text": [
      "INFO:tensorflow:Assets written to: /Users/aditya/Programming/stock-market-predictions/logs/MSFT/assets\n",
      "WARNING:absl:<keras.layers.recurrent.LSTMCell object at 0x7fdd1f26fd30> has the same name 'LSTMCell' as a built-in Keras object. Consider renaming <class 'keras.layers.recurrent.LSTMCell'> to avoid naming conflicts when loading with `tf.keras.models.load_model`. If renaming is not possible, pass the object in the `custom_objects` parameter of the load function.\n"
     ]
    },
    {
     "name": "stdout",
     "output_type": "stream",
     "text": [
      "(126, 60, 1)\n"
     ]
    },
    {
     "name": "stderr",
     "output_type": "stream",
     "text": [
      "\u001b[34m\u001b[1mwandb\u001b[0m: Adding directory to artifact (/Users/aditya/Programming/stock-market-predictions/logs/MSFT-5-Year)... Done. 0.0s\n"
     ]
    },
    {
     "name": "stdout",
     "output_type": "stream",
     "text": [
      "the root mean squared error is: 9.646436013384024\n"
     ]
    },
    {
     "data": {
      "text/html": [
       "<br/>Waiting for W&B process to finish, PID 13796... <strong style=\"color:green\">(success).</strong>"
      ],
      "text/plain": [
       "<IPython.core.display.HTML object>"
      ]
     },
     "metadata": {},
     "output_type": "display_data"
    },
    {
     "data": {
      "application/vnd.jupyter.widget-view+json": {
       "model_id": "e7cbaef4119c4122815cdf64e62794d8",
       "version_major": 2,
       "version_minor": 0
      },
      "text/plain": [
       "VBox(children=(Label(value=' 1.11MB of 1.11MB uploaded (0.01MB deduped)\\r'), FloatProgress(value=1.0, max=1.0)…"
      ]
     },
     "metadata": {},
     "output_type": "display_data"
    },
    {
     "data": {
      "text/html": [
       "<style>\n",
       "    table.wandb td:nth-child(1) { padding: 0 10px; text-align: right }\n",
       "    .wandb-row { display: flex; flex-direction: row; flex-wrap: wrap; width: 100% }\n",
       "    .wandb-col { display: flex; flex-direction: column; flex-basis: 100%; flex: 1; padding: 10px; }\n",
       "    </style>\n",
       "<div class=\"wandb-row\"><div class=\"wandb-col\">\n",
       "<h3>Run history:</h3><br/><table class=\"wandb\"><tr><td>epoch</td><td>▁▁▂▂▂▂▃▃▃▄▄▄▄▅▅▅▅▆▆▆▇▇▇▇██</td></tr><tr><td>loss</td><td>█▁▁▁▁▁▁▁▁▁▁▁▁▁▁▁▁▁▁▁▁▁▁▁▁▁</td></tr><tr><td>root_mean_square_error</td><td>▁</td></tr><tr><td>root_mean_squared_error</td><td>█▂▁▁▁▁▁▁▁▁▁▁▁▁▁▁▁▁▁▁▁▁▁▁▁▁</td></tr></table><br/></div><div class=\"wandb-col\">\n",
       "<h3>Run summary:</h3><br/><table class=\"wandb\"><tr><td>epoch</td><td>25</td></tr><tr><td>loss</td><td>0.00026</td></tr><tr><td>root_mean_square_error</td><td>9.64644</td></tr><tr><td>root_mean_squared_error</td><td>0.01614</td></tr></table>\n",
       "</div></div>\n",
       "Synced 6 W&B file(s), 1 media file(s), 4 artifact file(s) and 1 other file(s)\n",
       "<br/>Synced <strong style=\"color:#cdcd00\">exalted-sweep-9</strong>: <a href=\"https://wandb.ai/alpheron/stock-predictions-alltime/runs/z4qccg3k\" target=\"_blank\">https://wandb.ai/alpheron/stock-predictions-alltime/runs/z4qccg3k</a><br/>\n",
       "Find logs at: <code>./wandb/run-20220227_171716-z4qccg3k/logs</code><br/>\n"
      ],
      "text/plain": [
       "<IPython.core.display.HTML object>"
      ]
     },
     "metadata": {},
     "output_type": "display_data"
    },
    {
     "name": "stderr",
     "output_type": "stream",
     "text": [
      "\u001b[34m\u001b[1mwandb\u001b[0m: Agent Starting Run: 68kqdx2u with config:\n",
      "\u001b[34m\u001b[1mwandb\u001b[0m: \tLSTM_UNITS: 30\n",
      "\u001b[34m\u001b[1mwandb\u001b[0m: \tepochs: 100\n",
      "\u001b[34m\u001b[1mwandb\u001b[0m: \u001b[33mWARNING\u001b[0m Ignored wandb.init() arg project when running a sweep.\n",
      "\u001b[34m\u001b[1mwandb\u001b[0m: \u001b[33mWARNING\u001b[0m Ignored wandb.init() arg entity when running a sweep.\n"
     ]
    },
    {
     "data": {
      "text/html": [
       "\n",
       "                    Syncing run <strong><a href=\"https://wandb.ai/alpheron/stock-predictions-alltime/runs/68kqdx2u\" target=\"_blank\">sweepy-sweep-10</a></strong> to <a href=\"https://wandb.ai/alpheron/stock-predictions-alltime\" target=\"_blank\">Weights & Biases</a> (<a href=\"https://docs.wandb.com/integrations/jupyter.html\" target=\"_blank\">docs</a>).<br/>\n",
       "Sweep page: <a href=\"https://wandb.ai/alpheron/stock-predictions-alltime/sweeps/8gz0pdfk\" target=\"_blank\">https://wandb.ai/alpheron/stock-predictions-alltime/sweeps/8gz0pdfk</a><br/>\n",
       "\n",
       "                "
      ],
      "text/plain": [
       "<IPython.core.display.HTML object>"
      ]
     },
     "metadata": {},
     "output_type": "display_data"
    },
    {
     "name": "stdout",
     "output_type": "stream",
     "text": [
      "Epoch 1/100\n",
      "73/73 [==============================] - 13s 174ms/step - loss: 0.0319 - root_mean_squared_error: 0.1787\n",
      "Epoch 2/100\n",
      "73/73 [==============================] - 11s 152ms/step - loss: 7.4016e-04 - root_mean_squared_error: 0.0272\n",
      "Epoch 3/100\n",
      "73/73 [==============================] - 10s 144ms/step - loss: 5.4928e-04 - root_mean_squared_error: 0.0234\n",
      "Epoch 4/100\n",
      "73/73 [==============================] - 10s 139ms/step - loss: 4.7517e-04 - root_mean_squared_error: 0.0218\n",
      "Epoch 5/100\n",
      "73/73 [==============================] - 13s 174ms/step - loss: 6.0160e-04 - root_mean_squared_error: 0.0245\n",
      "Epoch 6/100\n",
      "73/73 [==============================] - 11s 146ms/step - loss: 3.7464e-04 - root_mean_squared_error: 0.0194\n",
      "Epoch 7/100\n",
      "73/73 [==============================] - 10s 142ms/step - loss: 3.5333e-04 - root_mean_squared_error: 0.0188\n",
      "Epoch 8/100\n",
      "73/73 [==============================] - 10s 142ms/step - loss: 3.1885e-04 - root_mean_squared_error: 0.0179\n",
      "Epoch 9/100\n",
      "73/73 [==============================] - 12s 163ms/step - loss: 2.4673e-04 - root_mean_squared_error: 0.0157\n",
      "Epoch 10/100\n",
      "73/73 [==============================] - 10s 142ms/step - loss: 3.0656e-04 - root_mean_squared_error: 0.0175\n",
      "Epoch 11/100\n",
      "73/73 [==============================] - 11s 151ms/step - loss: 2.4276e-04 - root_mean_squared_error: 0.0156\n",
      "Epoch 12/100\n",
      "73/73 [==============================] - 11s 155ms/step - loss: 2.7236e-04 - root_mean_squared_error: 0.0165\n",
      "Epoch 13/100\n",
      "73/73 [==============================] - 11s 147ms/step - loss: 3.4066e-04 - root_mean_squared_error: 0.0185\n",
      "Epoch 14/100\n",
      "73/73 [==============================] - 11s 147ms/step - loss: 1.9610e-04 - root_mean_squared_error: 0.0140\n",
      "Epoch 15/100\n",
      "73/73 [==============================] - 11s 147ms/step - loss: 2.6767e-04 - root_mean_squared_error: 0.0164\n",
      "Epoch 16/100\n",
      "73/73 [==============================] - 11s 151ms/step - loss: 2.6953e-04 - root_mean_squared_error: 0.0164\n",
      "Epoch 17/100\n",
      "73/73 [==============================] - 11s 151ms/step - loss: 2.0663e-04 - root_mean_squared_error: 0.0144\n",
      "Epoch 18/100\n",
      "73/73 [==============================] - 11s 156ms/step - loss: 2.1900e-04 - root_mean_squared_error: 0.0148\n",
      "Epoch 19/100\n",
      "73/73 [==============================] - 11s 152ms/step - loss: 3.8273e-04 - root_mean_squared_error: 0.0196\n"
     ]
    },
    {
     "name": "stderr",
     "output_type": "stream",
     "text": [
      "WARNING:absl:Found untraced functions such as lstm_cell_layer_call_fn, lstm_cell_layer_call_and_return_conditional_losses while saving (showing 2 of 2). These functions will not be directly callable after loading.\n"
     ]
    },
    {
     "name": "stdout",
     "output_type": "stream",
     "text": [
      "INFO:tensorflow:Assets written to: /Users/aditya/Programming/stock-market-predictions/logs/MSFT/assets\n"
     ]
    },
    {
     "name": "stderr",
     "output_type": "stream",
     "text": [
      "INFO:tensorflow:Assets written to: /Users/aditya/Programming/stock-market-predictions/logs/MSFT/assets\n",
      "WARNING:absl:<keras.layers.recurrent.LSTMCell object at 0x7fdd1b524cd0> has the same name 'LSTMCell' as a built-in Keras object. Consider renaming <class 'keras.layers.recurrent.LSTMCell'> to avoid naming conflicts when loading with `tf.keras.models.load_model`. If renaming is not possible, pass the object in the `custom_objects` parameter of the load function.\n"
     ]
    },
    {
     "name": "stdout",
     "output_type": "stream",
     "text": [
      "(126, 60, 1)\n"
     ]
    },
    {
     "name": "stderr",
     "output_type": "stream",
     "text": [
      "\u001b[34m\u001b[1mwandb\u001b[0m: Adding directory to artifact (/Users/aditya/Programming/stock-market-predictions/logs/MSFT-5-Year)... Done. 0.0s\n"
     ]
    },
    {
     "name": "stdout",
     "output_type": "stream",
     "text": [
      "the root mean squared error is: 9.666917695661779\n"
     ]
    },
    {
     "data": {
      "text/html": [
       "<br/>Waiting for W&B process to finish, PID 13962... <strong style=\"color:green\">(success).</strong>"
      ],
      "text/plain": [
       "<IPython.core.display.HTML object>"
      ]
     },
     "metadata": {},
     "output_type": "display_data"
    },
    {
     "data": {
      "application/vnd.jupyter.widget-view+json": {
       "model_id": "882005a452a44e54bde432c71feeb8e0",
       "version_major": 2,
       "version_minor": 0
      },
      "text/plain": [
       "VBox(children=(Label(value=' 1.11MB of 1.11MB uploaded (0.01MB deduped)\\r'), FloatProgress(value=1.0, max=1.0)…"
      ]
     },
     "metadata": {},
     "output_type": "display_data"
    },
    {
     "data": {
      "text/html": [
       "<style>\n",
       "    table.wandb td:nth-child(1) { padding: 0 10px; text-align: right }\n",
       "    .wandb-row { display: flex; flex-direction: row; flex-wrap: wrap; width: 100% }\n",
       "    .wandb-col { display: flex; flex-direction: column; flex-basis: 100%; flex: 1; padding: 10px; }\n",
       "    </style>\n",
       "<div class=\"wandb-row\"><div class=\"wandb-col\">\n",
       "<h3>Run history:</h3><br/><table class=\"wandb\"><tr><td>epoch</td><td>▁▁▂▂▃▃▃▄▄▅▅▅▆▆▆▇▇██</td></tr><tr><td>loss</td><td>█▁▁▁▁▁▁▁▁▁▁▁▁▁▁▁▁▁▁</td></tr><tr><td>root_mean_square_error</td><td>▁</td></tr><tr><td>root_mean_squared_error</td><td>█▂▁▁▁▁▁▁▁▁▁▁▁▁▁▁▁▁▁</td></tr></table><br/></div><div class=\"wandb-col\">\n",
       "<h3>Run summary:</h3><br/><table class=\"wandb\"><tr><td>epoch</td><td>18</td></tr><tr><td>loss</td><td>0.00038</td></tr><tr><td>root_mean_square_error</td><td>9.66692</td></tr><tr><td>root_mean_squared_error</td><td>0.01956</td></tr></table>\n",
       "</div></div>\n",
       "Synced 6 W&B file(s), 1 media file(s), 4 artifact file(s) and 1 other file(s)\n",
       "<br/>Synced <strong style=\"color:#cdcd00\">sweepy-sweep-10</strong>: <a href=\"https://wandb.ai/alpheron/stock-predictions-alltime/runs/68kqdx2u\" target=\"_blank\">https://wandb.ai/alpheron/stock-predictions-alltime/runs/68kqdx2u</a><br/>\n",
       "Find logs at: <code>./wandb/run-20220227_172307-68kqdx2u/logs</code><br/>\n"
      ],
      "text/plain": [
       "<IPython.core.display.HTML object>"
      ]
     },
     "metadata": {},
     "output_type": "display_data"
    },
    {
     "name": "stderr",
     "output_type": "stream",
     "text": [
      "\u001b[34m\u001b[1mwandb\u001b[0m: Agent Starting Run: l9604xyd with config:\n",
      "\u001b[34m\u001b[1mwandb\u001b[0m: \tLSTM_UNITS: 80\n",
      "\u001b[34m\u001b[1mwandb\u001b[0m: \tepochs: 100\n",
      "\u001b[34m\u001b[1mwandb\u001b[0m: \u001b[33mWARNING\u001b[0m Ignored wandb.init() arg project when running a sweep.\n",
      "\u001b[34m\u001b[1mwandb\u001b[0m: \u001b[33mWARNING\u001b[0m Ignored wandb.init() arg entity when running a sweep.\n"
     ]
    },
    {
     "data": {
      "text/html": [
       "\n",
       "                    Syncing run <strong><a href=\"https://wandb.ai/alpheron/stock-predictions-alltime/runs/l9604xyd\" target=\"_blank\">revived-sweep-11</a></strong> to <a href=\"https://wandb.ai/alpheron/stock-predictions-alltime\" target=\"_blank\">Weights & Biases</a> (<a href=\"https://docs.wandb.com/integrations/jupyter.html\" target=\"_blank\">docs</a>).<br/>\n",
       "Sweep page: <a href=\"https://wandb.ai/alpheron/stock-predictions-alltime/sweeps/8gz0pdfk\" target=\"_blank\">https://wandb.ai/alpheron/stock-predictions-alltime/sweeps/8gz0pdfk</a><br/>\n",
       "\n",
       "                "
      ],
      "text/plain": [
       "<IPython.core.display.HTML object>"
      ]
     },
     "metadata": {},
     "output_type": "display_data"
    },
    {
     "name": "stdout",
     "output_type": "stream",
     "text": [
      "Epoch 1/100\n",
      "73/73 [==============================] - 13s 171ms/step - loss: 0.0454 - root_mean_squared_error: 0.2130\n",
      "Epoch 2/100\n",
      "73/73 [==============================] - 10s 140ms/step - loss: 0.0044 - root_mean_squared_error: 0.0661\n",
      "Epoch 3/100\n",
      "73/73 [==============================] - 10s 132ms/step - loss: 8.2110e-04 - root_mean_squared_error: 0.0287\n",
      "Epoch 4/100\n",
      "73/73 [==============================] - 12s 166ms/step - loss: 4.8291e-04 - root_mean_squared_error: 0.0220\n",
      "Epoch 5/100\n",
      "73/73 [==============================] - 12s 168ms/step - loss: 6.4546e-04 - root_mean_squared_error: 0.0254\n",
      "Epoch 6/100\n",
      "73/73 [==============================] - 12s 160ms/step - loss: 4.0858e-04 - root_mean_squared_error: 0.0202\n",
      "Epoch 7/100\n",
      "73/73 [==============================] - 11s 153ms/step - loss: 9.7530e-04 - root_mean_squared_error: 0.0312\n",
      "Epoch 8/100\n",
      "73/73 [==============================] - 15s 209ms/step - loss: 4.2962e-04 - root_mean_squared_error: 0.0207\n",
      "Epoch 9/100\n",
      "73/73 [==============================] - 14s 192ms/step - loss: 3.2219e-04 - root_mean_squared_error: 0.0179\n",
      "Epoch 10/100\n",
      "73/73 [==============================] - 12s 163ms/step - loss: 3.2375e-04 - root_mean_squared_error: 0.0180\n",
      "Epoch 11/100\n",
      "73/73 [==============================] - 15s 211ms/step - loss: 4.7096e-04 - root_mean_squared_error: 0.0217\n",
      "Epoch 12/100\n",
      "73/73 [==============================] - 15s 208ms/step - loss: 3.5701e-04 - root_mean_squared_error: 0.0189\n",
      "Epoch 13/100\n",
      "73/73 [==============================] - 13s 172ms/step - loss: 3.4560e-04 - root_mean_squared_error: 0.0186\n",
      "Epoch 14/100\n",
      "73/73 [==============================] - 13s 171ms/step - loss: 3.1352e-04 - root_mean_squared_error: 0.0177\n",
      "Epoch 15/100\n",
      "73/73 [==============================] - 11s 153ms/step - loss: 2.7378e-04 - root_mean_squared_error: 0.0165\n",
      "Epoch 16/100\n",
      "73/73 [==============================] - 11s 154ms/step - loss: 2.6712e-04 - root_mean_squared_error: 0.0163\n",
      "Epoch 17/100\n",
      "73/73 [==============================] - 13s 171ms/step - loss: 3.6052e-04 - root_mean_squared_error: 0.0190\n",
      "Epoch 18/100\n",
      "73/73 [==============================] - 16s 217ms/step - loss: 3.0893e-04 - root_mean_squared_error: 0.0176\n",
      "Epoch 19/100\n",
      "73/73 [==============================] - 13s 181ms/step - loss: 2.7738e-04 - root_mean_squared_error: 0.0167\n",
      "Epoch 20/100\n",
      "73/73 [==============================] - 13s 184ms/step - loss: 2.4255e-04 - root_mean_squared_error: 0.0156\n",
      "Epoch 21/100\n",
      "73/73 [==============================] - 11s 150ms/step - loss: 3.6713e-04 - root_mean_squared_error: 0.0192\n",
      "Epoch 22/100\n",
      "73/73 [==============================] - 12s 166ms/step - loss: 3.4566e-04 - root_mean_squared_error: 0.0186\n",
      "Epoch 23/100\n",
      "73/73 [==============================] - 12s 160ms/step - loss: 3.4760e-04 - root_mean_squared_error: 0.0186\n",
      "Epoch 24/100\n",
      "73/73 [==============================] - 13s 174ms/step - loss: 2.8723e-04 - root_mean_squared_error: 0.0169\n",
      "Epoch 25/100\n",
      "73/73 [==============================] - 12s 169ms/step - loss: 2.1709e-04 - root_mean_squared_error: 0.0147\n",
      "Epoch 26/100\n",
      "73/73 [==============================] - 15s 199ms/step - loss: 2.5175e-04 - root_mean_squared_error: 0.0159\n",
      "Epoch 27/100\n",
      "73/73 [==============================] - 12s 167ms/step - loss: 2.2373e-04 - root_mean_squared_error: 0.0150\n",
      "Epoch 28/100\n",
      "73/73 [==============================] - 12s 167ms/step - loss: 2.0475e-04 - root_mean_squared_error: 0.0143\n",
      "Epoch 29/100\n",
      "73/73 [==============================] - 13s 182ms/step - loss: 1.9838e-04 - root_mean_squared_error: 0.0141\n",
      "Epoch 30/100\n",
      "73/73 [==============================] - 13s 181ms/step - loss: 2.1528e-04 - root_mean_squared_error: 0.0147\n",
      "Epoch 31/100\n",
      "73/73 [==============================] - 13s 183ms/step - loss: 2.4813e-04 - root_mean_squared_error: 0.0158\n",
      "Epoch 32/100\n",
      "73/73 [==============================] - 16s 217ms/step - loss: 2.6350e-04 - root_mean_squared_error: 0.0162\n",
      "Epoch 33/100\n",
      "73/73 [==============================] - 14s 189ms/step - loss: 2.4385e-04 - root_mean_squared_error: 0.0156\n",
      "Epoch 34/100\n",
      "73/73 [==============================] - 15s 199ms/step - loss: 1.7411e-04 - root_mean_squared_error: 0.0132\n",
      "Epoch 35/100\n",
      "73/73 [==============================] - 11s 152ms/step - loss: 3.3913e-04 - root_mean_squared_error: 0.0184\n",
      "Epoch 36/100\n",
      "73/73 [==============================] - 11s 149ms/step - loss: 1.8324e-04 - root_mean_squared_error: 0.0135\n",
      "Epoch 37/100\n",
      "73/73 [==============================] - 11s 145ms/step - loss: 2.1771e-04 - root_mean_squared_error: 0.0148\n",
      "Epoch 38/100\n",
      "73/73 [==============================] - 11s 146ms/step - loss: 2.3257e-04 - root_mean_squared_error: 0.0153\n",
      "Epoch 39/100\n",
      "73/73 [==============================] - 11s 150ms/step - loss: 2.4221e-04 - root_mean_squared_error: 0.0156\n"
     ]
    },
    {
     "name": "stderr",
     "output_type": "stream",
     "text": [
      "WARNING:absl:Found untraced functions such as lstm_cell_layer_call_fn, lstm_cell_layer_call_and_return_conditional_losses while saving (showing 2 of 2). These functions will not be directly callable after loading.\n"
     ]
    },
    {
     "name": "stdout",
     "output_type": "stream",
     "text": [
      "INFO:tensorflow:Assets written to: /Users/aditya/Programming/stock-market-predictions/logs/MSFT/assets\n"
     ]
    },
    {
     "name": "stderr",
     "output_type": "stream",
     "text": [
      "INFO:tensorflow:Assets written to: /Users/aditya/Programming/stock-market-predictions/logs/MSFT/assets\n",
      "WARNING:absl:<keras.layers.recurrent.LSTMCell object at 0x7fdd1e4c4850> has the same name 'LSTMCell' as a built-in Keras object. Consider renaming <class 'keras.layers.recurrent.LSTMCell'> to avoid naming conflicts when loading with `tf.keras.models.load_model`. If renaming is not possible, pass the object in the `custom_objects` parameter of the load function.\n"
     ]
    },
    {
     "name": "stdout",
     "output_type": "stream",
     "text": [
      "(126, 60, 1)\n"
     ]
    },
    {
     "name": "stderr",
     "output_type": "stream",
     "text": [
      "\u001b[34m\u001b[1mwandb\u001b[0m: Adding directory to artifact (/Users/aditya/Programming/stock-market-predictions/logs/MSFT-5-Year)... Done. 0.0s\n"
     ]
    },
    {
     "name": "stdout",
     "output_type": "stream",
     "text": [
      "the root mean squared error is: 8.393435965020984\n"
     ]
    },
    {
     "data": {
      "text/html": [
       "<br/>Waiting for W&B process to finish, PID 14075... <strong style=\"color:green\">(success).</strong>"
      ],
      "text/plain": [
       "<IPython.core.display.HTML object>"
      ]
     },
     "metadata": {},
     "output_type": "display_data"
    },
    {
     "data": {
      "application/vnd.jupyter.widget-view+json": {
       "model_id": "41ac9db308304d7ca5082c93dc88a15c",
       "version_major": 2,
       "version_minor": 0
      },
      "text/plain": [
       "VBox(children=(Label(value=' 1.11MB of 1.11MB uploaded (0.01MB deduped)\\r'), FloatProgress(value=1.0, max=1.0)…"
      ]
     },
     "metadata": {},
     "output_type": "display_data"
    },
    {
     "data": {
      "text/html": [
       "<style>\n",
       "    table.wandb td:nth-child(1) { padding: 0 10px; text-align: right }\n",
       "    .wandb-row { display: flex; flex-direction: row; flex-wrap: wrap; width: 100% }\n",
       "    .wandb-col { display: flex; flex-direction: column; flex-basis: 100%; flex: 1; padding: 10px; }\n",
       "    </style>\n",
       "<div class=\"wandb-row\"><div class=\"wandb-col\">\n",
       "<h3>Run history:</h3><br/><table class=\"wandb\"><tr><td>epoch</td><td>▁▁▁▂▂▂▂▂▂▃▃▃▃▃▄▄▄▄▄▅▅▅▅▅▅▆▆▆▆▆▇▇▇▇▇▇███</td></tr><tr><td>loss</td><td>█▂▁▁▁▁▁▁▁▁▁▁▁▁▁▁▁▁▁▁▁▁▁▁▁▁▁▁▁▁▁▁▁▁▁▁▁▁▁</td></tr><tr><td>root_mean_square_error</td><td>▁</td></tr><tr><td>root_mean_squared_error</td><td>█▃▂▁▁▁▂▁▁▁▁▁▁▁▁▁▁▁▁▁▁▁▁▁▁▁▁▁▁▁▁▁▁▁▁▁▁▁▁</td></tr></table><br/></div><div class=\"wandb-col\">\n",
       "<h3>Run summary:</h3><br/><table class=\"wandb\"><tr><td>epoch</td><td>38</td></tr><tr><td>loss</td><td>0.00024</td></tr><tr><td>root_mean_square_error</td><td>8.39344</td></tr><tr><td>root_mean_squared_error</td><td>0.01556</td></tr></table>\n",
       "</div></div>\n",
       "Synced 6 W&B file(s), 1 media file(s), 4 artifact file(s) and 1 other file(s)\n",
       "<br/>Synced <strong style=\"color:#cdcd00\">revived-sweep-11</strong>: <a href=\"https://wandb.ai/alpheron/stock-predictions-alltime/runs/l9604xyd\" target=\"_blank\">https://wandb.ai/alpheron/stock-predictions-alltime/runs/l9604xyd</a><br/>\n",
       "Find logs at: <code>./wandb/run-20220227_172736-l9604xyd/logs</code><br/>\n"
      ],
      "text/plain": [
       "<IPython.core.display.HTML object>"
      ]
     },
     "metadata": {},
     "output_type": "display_data"
    },
    {
     "name": "stderr",
     "output_type": "stream",
     "text": [
      "\u001b[34m\u001b[1mwandb\u001b[0m: Agent Starting Run: b45wo22h with config:\n",
      "\u001b[34m\u001b[1mwandb\u001b[0m: \tLSTM_UNITS: 20\n",
      "\u001b[34m\u001b[1mwandb\u001b[0m: \tepochs: 100\n",
      "\u001b[34m\u001b[1mwandb\u001b[0m: \u001b[33mWARNING\u001b[0m Ignored wandb.init() arg project when running a sweep.\n",
      "\u001b[34m\u001b[1mwandb\u001b[0m: \u001b[33mWARNING\u001b[0m Ignored wandb.init() arg entity when running a sweep.\n"
     ]
    },
    {
     "data": {
      "text/html": [
       "\n",
       "                    Syncing run <strong><a href=\"https://wandb.ai/alpheron/stock-predictions-alltime/runs/b45wo22h\" target=\"_blank\">breezy-sweep-12</a></strong> to <a href=\"https://wandb.ai/alpheron/stock-predictions-alltime\" target=\"_blank\">Weights & Biases</a> (<a href=\"https://docs.wandb.com/integrations/jupyter.html\" target=\"_blank\">docs</a>).<br/>\n",
       "Sweep page: <a href=\"https://wandb.ai/alpheron/stock-predictions-alltime/sweeps/8gz0pdfk\" target=\"_blank\">https://wandb.ai/alpheron/stock-predictions-alltime/sweeps/8gz0pdfk</a><br/>\n",
       "\n",
       "                "
      ],
      "text/plain": [
       "<IPython.core.display.HTML object>"
      ]
     },
     "metadata": {},
     "output_type": "display_data"
    },
    {
     "name": "stdout",
     "output_type": "stream",
     "text": [
      "Epoch 1/100\n",
      "73/73 [==============================] - 11s 152ms/step - loss: 0.0336 - root_mean_squared_error: 0.1832\n",
      "Epoch 2/100\n",
      "73/73 [==============================] - 10s 139ms/step - loss: 9.9460e-04 - root_mean_squared_error: 0.0315\n",
      "Epoch 3/100\n",
      "73/73 [==============================] - 10s 142ms/step - loss: 6.1493e-04 - root_mean_squared_error: 0.0248\n",
      "Epoch 4/100\n",
      "73/73 [==============================] - 10s 140ms/step - loss: 0.0010 - root_mean_squared_error: 0.0317\n",
      "Epoch 5/100\n",
      "73/73 [==============================] - 10s 140ms/step - loss: 7.3331e-04 - root_mean_squared_error: 0.0271\n",
      "Epoch 6/100\n",
      "73/73 [==============================] - 10s 141ms/step - loss: 4.2645e-04 - root_mean_squared_error: 0.0207\n",
      "Epoch 7/100\n",
      "73/73 [==============================] - 10s 135ms/step - loss: 4.4558e-04 - root_mean_squared_error: 0.0211\n",
      "Epoch 8/100\n",
      "73/73 [==============================] - 12s 164ms/step - loss: 0.0010 - root_mean_squared_error: 0.0317\n",
      "Epoch 9/100\n",
      "73/73 [==============================] - 10s 142ms/step - loss: 8.3346e-04 - root_mean_squared_error: 0.0289\n",
      "Epoch 10/100\n",
      "73/73 [==============================] - 12s 159ms/step - loss: 0.0011 - root_mean_squared_error: 0.0326\n",
      "Epoch 11/100\n",
      "73/73 [==============================] - 11s 152ms/step - loss: 6.0089e-04 - root_mean_squared_error: 0.0245\n"
     ]
    },
    {
     "name": "stderr",
     "output_type": "stream",
     "text": [
      "WARNING:absl:Found untraced functions such as lstm_cell_layer_call_fn, lstm_cell_layer_call_and_return_conditional_losses while saving (showing 2 of 2). These functions will not be directly callable after loading.\n"
     ]
    },
    {
     "name": "stdout",
     "output_type": "stream",
     "text": [
      "INFO:tensorflow:Assets written to: /Users/aditya/Programming/stock-market-predictions/logs/MSFT/assets\n"
     ]
    },
    {
     "name": "stderr",
     "output_type": "stream",
     "text": [
      "INFO:tensorflow:Assets written to: /Users/aditya/Programming/stock-market-predictions/logs/MSFT/assets\n",
      "WARNING:absl:<keras.layers.recurrent.LSTMCell object at 0x7fdd1dd3e9d0> has the same name 'LSTMCell' as a built-in Keras object. Consider renaming <class 'keras.layers.recurrent.LSTMCell'> to avoid naming conflicts when loading with `tf.keras.models.load_model`. If renaming is not possible, pass the object in the `custom_objects` parameter of the load function.\n"
     ]
    },
    {
     "name": "stdout",
     "output_type": "stream",
     "text": [
      "(126, 60, 1)\n"
     ]
    },
    {
     "name": "stderr",
     "output_type": "stream",
     "text": [
      "\u001b[34m\u001b[1mwandb\u001b[0m: Adding directory to artifact (/Users/aditya/Programming/stock-market-predictions/logs/MSFT-5-Year)... Done. 0.0s\n"
     ]
    },
    {
     "name": "stdout",
     "output_type": "stream",
     "text": [
      "the root mean squared error is: 11.898687604356498\n"
     ]
    },
    {
     "data": {
      "text/html": [
       "<br/>Waiting for W&B process to finish, PID 14442... <strong style=\"color:green\">(success).</strong>"
      ],
      "text/plain": [
       "<IPython.core.display.HTML object>"
      ]
     },
     "metadata": {},
     "output_type": "display_data"
    },
    {
     "data": {
      "application/vnd.jupyter.widget-view+json": {
       "model_id": "2ac52a240ae44c7a881bc40050ca4b12",
       "version_major": 2,
       "version_minor": 0
      },
      "text/plain": [
       "VBox(children=(Label(value=' 1.11MB of 1.11MB uploaded (0.01MB deduped)\\r'), FloatProgress(value=1.0, max=1.0)…"
      ]
     },
     "metadata": {},
     "output_type": "display_data"
    },
    {
     "data": {
      "text/html": [
       "<style>\n",
       "    table.wandb td:nth-child(1) { padding: 0 10px; text-align: right }\n",
       "    .wandb-row { display: flex; flex-direction: row; flex-wrap: wrap; width: 100% }\n",
       "    .wandb-col { display: flex; flex-direction: column; flex-basis: 100%; flex: 1; padding: 10px; }\n",
       "    </style>\n",
       "<div class=\"wandb-row\"><div class=\"wandb-col\">\n",
       "<h3>Run history:</h3><br/><table class=\"wandb\"><tr><td>epoch</td><td>▁▂▂▃▄▅▅▆▇▇█</td></tr><tr><td>loss</td><td>█▁▁▁▁▁▁▁▁▁▁</td></tr><tr><td>root_mean_square_error</td><td>▁</td></tr><tr><td>root_mean_squared_error</td><td>█▁▁▁▁▁▁▁▁▂▁</td></tr></table><br/></div><div class=\"wandb-col\">\n",
       "<h3>Run summary:</h3><br/><table class=\"wandb\"><tr><td>epoch</td><td>10</td></tr><tr><td>loss</td><td>0.0006</td></tr><tr><td>root_mean_square_error</td><td>11.89869</td></tr><tr><td>root_mean_squared_error</td><td>0.02451</td></tr></table>\n",
       "</div></div>\n",
       "Synced 6 W&B file(s), 1 media file(s), 4 artifact file(s) and 1 other file(s)\n",
       "<br/>Synced <strong style=\"color:#cdcd00\">breezy-sweep-12</strong>: <a href=\"https://wandb.ai/alpheron/stock-predictions-alltime/runs/b45wo22h\" target=\"_blank\">https://wandb.ai/alpheron/stock-predictions-alltime/runs/b45wo22h</a><br/>\n",
       "Find logs at: <code>./wandb/run-20220227_173642-b45wo22h/logs</code><br/>\n"
      ],
      "text/plain": [
       "<IPython.core.display.HTML object>"
      ]
     },
     "metadata": {},
     "output_type": "display_data"
    },
    {
     "name": "stderr",
     "output_type": "stream",
     "text": [
      "\u001b[34m\u001b[1mwandb\u001b[0m: Agent Starting Run: u8zswr22 with config:\n",
      "\u001b[34m\u001b[1mwandb\u001b[0m: \tLSTM_UNITS: 25\n",
      "\u001b[34m\u001b[1mwandb\u001b[0m: \tepochs: 100\n",
      "\u001b[34m\u001b[1mwandb\u001b[0m: \u001b[33mWARNING\u001b[0m Ignored wandb.init() arg project when running a sweep.\n",
      "\u001b[34m\u001b[1mwandb\u001b[0m: \u001b[33mWARNING\u001b[0m Ignored wandb.init() arg entity when running a sweep.\n"
     ]
    },
    {
     "data": {
      "text/html": [
       "\n",
       "                    Syncing run <strong><a href=\"https://wandb.ai/alpheron/stock-predictions-alltime/runs/u8zswr22\" target=\"_blank\">smooth-sweep-13</a></strong> to <a href=\"https://wandb.ai/alpheron/stock-predictions-alltime\" target=\"_blank\">Weights & Biases</a> (<a href=\"https://docs.wandb.com/integrations/jupyter.html\" target=\"_blank\">docs</a>).<br/>\n",
       "Sweep page: <a href=\"https://wandb.ai/alpheron/stock-predictions-alltime/sweeps/8gz0pdfk\" target=\"_blank\">https://wandb.ai/alpheron/stock-predictions-alltime/sweeps/8gz0pdfk</a><br/>\n",
       "\n",
       "                "
      ],
      "text/plain": [
       "<IPython.core.display.HTML object>"
      ]
     },
     "metadata": {},
     "output_type": "display_data"
    },
    {
     "name": "stdout",
     "output_type": "stream",
     "text": [
      "Epoch 1/100\n",
      "73/73 [==============================] - 12s 169ms/step - loss: 0.0728 - root_mean_squared_error: 0.2699\n",
      "Epoch 2/100\n",
      "73/73 [==============================] - 10s 142ms/step - loss: 0.0046 - root_mean_squared_error: 0.0678\n",
      "Epoch 3/100\n",
      "73/73 [==============================] - 11s 145ms/step - loss: 7.0440e-04 - root_mean_squared_error: 0.0265\n",
      "Epoch 4/100\n",
      "73/73 [==============================] - 11s 147ms/step - loss: 5.0822e-04 - root_mean_squared_error: 0.0225\n",
      "Epoch 5/100\n",
      "73/73 [==============================] - 11s 151ms/step - loss: 6.7095e-04 - root_mean_squared_error: 0.0259\n",
      "Epoch 6/100\n",
      "73/73 [==============================] - 10s 138ms/step - loss: 4.9821e-04 - root_mean_squared_error: 0.0223\n",
      "Epoch 7/100\n",
      "73/73 [==============================] - 12s 164ms/step - loss: 6.6979e-04 - root_mean_squared_error: 0.0259\n",
      "Epoch 8/100\n",
      "73/73 [==============================] - 10s 136ms/step - loss: 6.1062e-04 - root_mean_squared_error: 0.0247\n",
      "Epoch 9/100\n",
      "73/73 [==============================] - 10s 135ms/step - loss: 5.0612e-04 - root_mean_squared_error: 0.0225\n",
      "Epoch 10/100\n",
      "73/73 [==============================] - 10s 136ms/step - loss: 5.2599e-04 - root_mean_squared_error: 0.0229\n",
      "Epoch 11/100\n",
      "73/73 [==============================] - 10s 143ms/step - loss: 3.6697e-04 - root_mean_squared_error: 0.0192\n",
      "Epoch 12/100\n",
      "73/73 [==============================] - 10s 139ms/step - loss: 4.5606e-04 - root_mean_squared_error: 0.0214\n",
      "Epoch 13/100\n",
      "73/73 [==============================] - 10s 144ms/step - loss: 4.5664e-04 - root_mean_squared_error: 0.0214\n",
      "Epoch 14/100\n",
      "73/73 [==============================] - 11s 148ms/step - loss: 3.7661e-04 - root_mean_squared_error: 0.0194\n",
      "Epoch 15/100\n",
      "73/73 [==============================] - 12s 159ms/step - loss: 2.9228e-04 - root_mean_squared_error: 0.0171\n",
      "Epoch 16/100\n",
      "73/73 [==============================] - 11s 147ms/step - loss: 3.6265e-04 - root_mean_squared_error: 0.0190\n",
      "Epoch 17/100\n",
      "73/73 [==============================] - 12s 157ms/step - loss: 3.0046e-04 - root_mean_squared_error: 0.0173\n",
      "Epoch 18/100\n",
      "73/73 [==============================] - 10s 142ms/step - loss: 4.9465e-04 - root_mean_squared_error: 0.0222\n",
      "Epoch 19/100\n",
      "73/73 [==============================] - 10s 140ms/step - loss: 5.1309e-04 - root_mean_squared_error: 0.0227\n",
      "Epoch 20/100\n",
      "73/73 [==============================] - 10s 139ms/step - loss: 2.9999e-04 - root_mean_squared_error: 0.0173\n"
     ]
    },
    {
     "name": "stderr",
     "output_type": "stream",
     "text": [
      "WARNING:absl:Found untraced functions such as lstm_cell_layer_call_fn, lstm_cell_layer_call_and_return_conditional_losses while saving (showing 2 of 2). These functions will not be directly callable after loading.\n"
     ]
    },
    {
     "name": "stdout",
     "output_type": "stream",
     "text": [
      "INFO:tensorflow:Assets written to: /Users/aditya/Programming/stock-market-predictions/logs/MSFT/assets\n"
     ]
    },
    {
     "name": "stderr",
     "output_type": "stream",
     "text": [
      "INFO:tensorflow:Assets written to: /Users/aditya/Programming/stock-market-predictions/logs/MSFT/assets\n",
      "WARNING:absl:<keras.layers.recurrent.LSTMCell object at 0x7fdd1eabc250> has the same name 'LSTMCell' as a built-in Keras object. Consider renaming <class 'keras.layers.recurrent.LSTMCell'> to avoid naming conflicts when loading with `tf.keras.models.load_model`. If renaming is not possible, pass the object in the `custom_objects` parameter of the load function.\n"
     ]
    },
    {
     "name": "stdout",
     "output_type": "stream",
     "text": [
      "(126, 60, 1)\n"
     ]
    },
    {
     "name": "stderr",
     "output_type": "stream",
     "text": [
      "\u001b[34m\u001b[1mwandb\u001b[0m: Adding directory to artifact (/Users/aditya/Programming/stock-market-predictions/logs/MSFT-5-Year)... Done. 0.0s\n"
     ]
    },
    {
     "name": "stdout",
     "output_type": "stream",
     "text": [
      "the root mean squared error is: 10.370865783256539\n"
     ]
    },
    {
     "data": {
      "text/html": [
       "<br/>Waiting for W&B process to finish, PID 14509... <strong style=\"color:green\">(success).</strong>"
      ],
      "text/plain": [
       "<IPython.core.display.HTML object>"
      ]
     },
     "metadata": {},
     "output_type": "display_data"
    },
    {
     "data": {
      "application/vnd.jupyter.widget-view+json": {
       "model_id": "78f4c262be594176a3507f5d9a9b5301",
       "version_major": 2,
       "version_minor": 0
      },
      "text/plain": [
       "VBox(children=(Label(value=' 1.11MB of 1.11MB uploaded (0.01MB deduped)\\r'), FloatProgress(value=1.0, max=1.0)…"
      ]
     },
     "metadata": {},
     "output_type": "display_data"
    },
    {
     "data": {
      "text/html": [
       "<style>\n",
       "    table.wandb td:nth-child(1) { padding: 0 10px; text-align: right }\n",
       "    .wandb-row { display: flex; flex-direction: row; flex-wrap: wrap; width: 100% }\n",
       "    .wandb-col { display: flex; flex-direction: column; flex-basis: 100%; flex: 1; padding: 10px; }\n",
       "    </style>\n",
       "<div class=\"wandb-row\"><div class=\"wandb-col\">\n",
       "<h3>Run history:</h3><br/><table class=\"wandb\"><tr><td>epoch</td><td>▁▁▂▂▂▃▃▄▄▄▅▅▅▆▆▇▇▇██</td></tr><tr><td>loss</td><td>█▁▁▁▁▁▁▁▁▁▁▁▁▁▁▁▁▁▁▁</td></tr><tr><td>root_mean_square_error</td><td>▁</td></tr><tr><td>root_mean_squared_error</td><td>█▂▁▁▁▁▁▁▁▁▁▁▁▁▁▁▁▁▁▁</td></tr></table><br/></div><div class=\"wandb-col\">\n",
       "<h3>Run summary:</h3><br/><table class=\"wandb\"><tr><td>epoch</td><td>19</td></tr><tr><td>loss</td><td>0.0003</td></tr><tr><td>root_mean_square_error</td><td>10.37087</td></tr><tr><td>root_mean_squared_error</td><td>0.01732</td></tr></table>\n",
       "</div></div>\n",
       "Synced 6 W&B file(s), 1 media file(s), 4 artifact file(s) and 1 other file(s)\n",
       "<br/>Synced <strong style=\"color:#cdcd00\">smooth-sweep-13</strong>: <a href=\"https://wandb.ai/alpheron/stock-predictions-alltime/runs/u8zswr22\" target=\"_blank\">https://wandb.ai/alpheron/stock-predictions-alltime/runs/u8zswr22</a><br/>\n",
       "Find logs at: <code>./wandb/run-20220227_173918-u8zswr22/logs</code><br/>\n"
      ],
      "text/plain": [
       "<IPython.core.display.HTML object>"
      ]
     },
     "metadata": {},
     "output_type": "display_data"
    },
    {
     "name": "stderr",
     "output_type": "stream",
     "text": [
      "\u001b[34m\u001b[1mwandb\u001b[0m: Agent Starting Run: w3zujxqu with config:\n",
      "\u001b[34m\u001b[1mwandb\u001b[0m: \tLSTM_UNITS: 15\n",
      "\u001b[34m\u001b[1mwandb\u001b[0m: \tepochs: 100\n",
      "\u001b[34m\u001b[1mwandb\u001b[0m: \u001b[33mWARNING\u001b[0m Ignored wandb.init() arg project when running a sweep.\n",
      "\u001b[34m\u001b[1mwandb\u001b[0m: \u001b[33mWARNING\u001b[0m Ignored wandb.init() arg entity when running a sweep.\n"
     ]
    },
    {
     "data": {
      "text/html": [
       "\n",
       "                    Syncing run <strong><a href=\"https://wandb.ai/alpheron/stock-predictions-alltime/runs/w3zujxqu\" target=\"_blank\">rich-sweep-14</a></strong> to <a href=\"https://wandb.ai/alpheron/stock-predictions-alltime\" target=\"_blank\">Weights & Biases</a> (<a href=\"https://docs.wandb.com/integrations/jupyter.html\" target=\"_blank\">docs</a>).<br/>\n",
       "Sweep page: <a href=\"https://wandb.ai/alpheron/stock-predictions-alltime/sweeps/8gz0pdfk\" target=\"_blank\">https://wandb.ai/alpheron/stock-predictions-alltime/sweeps/8gz0pdfk</a><br/>\n",
       "\n",
       "                "
      ],
      "text/plain": [
       "<IPython.core.display.HTML object>"
      ]
     },
     "metadata": {},
     "output_type": "display_data"
    },
    {
     "name": "stdout",
     "output_type": "stream",
     "text": [
      "Epoch 1/100\n",
      "73/73 [==============================] - 11s 152ms/step - loss: 0.0623 - root_mean_squared_error: 0.2496\n",
      "Epoch 2/100\n",
      "73/73 [==============================] - 11s 145ms/step - loss: 0.0026 - root_mean_squared_error: 0.0514\n",
      "Epoch 3/100\n",
      "73/73 [==============================] - 10s 141ms/step - loss: 6.6858e-04 - root_mean_squared_error: 0.0259\n",
      "Epoch 4/100\n",
      "73/73 [==============================] - 10s 140ms/step - loss: 8.8467e-04 - root_mean_squared_error: 0.0297\n",
      "Epoch 5/100\n",
      "73/73 [==============================] - 10s 136ms/step - loss: 9.0418e-04 - root_mean_squared_error: 0.0301\n",
      "Epoch 6/100\n",
      "73/73 [==============================] - 12s 162ms/step - loss: 0.0018 - root_mean_squared_error: 0.0419\n",
      "Epoch 7/100\n",
      "73/73 [==============================] - 10s 138ms/step - loss: 4.4001e-04 - root_mean_squared_error: 0.0210\n",
      "Epoch 8/100\n",
      "73/73 [==============================] - 12s 162ms/step - loss: 7.7936e-04 - root_mean_squared_error: 0.0279\n",
      "Epoch 9/100\n",
      "73/73 [==============================] - 10s 137ms/step - loss: 4.9165e-04 - root_mean_squared_error: 0.0222\n",
      "Epoch 10/100\n",
      "73/73 [==============================] - 10s 138ms/step - loss: 4.3022e-04 - root_mean_squared_error: 0.0207\n",
      "Epoch 11/100\n",
      "73/73 [==============================] - 10s 136ms/step - loss: 4.2912e-04 - root_mean_squared_error: 0.0207\n",
      "Epoch 12/100\n",
      "73/73 [==============================] - 10s 142ms/step - loss: 4.6735e-04 - root_mean_squared_error: 0.0216\n",
      "Epoch 13/100\n",
      "73/73 [==============================] - 10s 142ms/step - loss: 3.5687e-04 - root_mean_squared_error: 0.0189\n",
      "Epoch 14/100\n",
      "73/73 [==============================] - 11s 145ms/step - loss: 4.4943e-04 - root_mean_squared_error: 0.0212\n",
      "Epoch 15/100\n",
      "73/73 [==============================] - 11s 144ms/step - loss: 4.6707e-04 - root_mean_squared_error: 0.0216\n",
      "Epoch 16/100\n",
      "73/73 [==============================] - 11s 154ms/step - loss: 4.4167e-04 - root_mean_squared_error: 0.0210\n",
      "Epoch 17/100\n",
      "73/73 [==============================] - 10s 143ms/step - loss: 3.2453e-04 - root_mean_squared_error: 0.0180\n",
      "Epoch 18/100\n",
      "73/73 [==============================] - 12s 158ms/step - loss: 4.5679e-04 - root_mean_squared_error: 0.0214\n",
      "Epoch 19/100\n",
      "73/73 [==============================] - 11s 147ms/step - loss: 3.9497e-04 - root_mean_squared_error: 0.0199\n",
      "Epoch 20/100\n",
      "73/73 [==============================] - 11s 148ms/step - loss: 7.4159e-04 - root_mean_squared_error: 0.0272\n",
      "Epoch 21/100\n",
      "73/73 [==============================] - 11s 157ms/step - loss: 5.4552e-04 - root_mean_squared_error: 0.0234\n",
      "Epoch 22/100\n",
      "73/73 [==============================] - 11s 153ms/step - loss: 4.5217e-04 - root_mean_squared_error: 0.0213\n"
     ]
    },
    {
     "name": "stderr",
     "output_type": "stream",
     "text": [
      "WARNING:absl:Found untraced functions such as lstm_cell_layer_call_fn, lstm_cell_layer_call_and_return_conditional_losses while saving (showing 2 of 2). These functions will not be directly callable after loading.\n"
     ]
    },
    {
     "name": "stdout",
     "output_type": "stream",
     "text": [
      "INFO:tensorflow:Assets written to: /Users/aditya/Programming/stock-market-predictions/logs/MSFT/assets\n"
     ]
    },
    {
     "name": "stderr",
     "output_type": "stream",
     "text": [
      "INFO:tensorflow:Assets written to: /Users/aditya/Programming/stock-market-predictions/logs/MSFT/assets\n",
      "WARNING:absl:<keras.layers.recurrent.LSTMCell object at 0x7fdd1bb5c190> has the same name 'LSTMCell' as a built-in Keras object. Consider renaming <class 'keras.layers.recurrent.LSTMCell'> to avoid naming conflicts when loading with `tf.keras.models.load_model`. If renaming is not possible, pass the object in the `custom_objects` parameter of the load function.\n"
     ]
    },
    {
     "name": "stdout",
     "output_type": "stream",
     "text": [
      "(126, 60, 1)\n"
     ]
    },
    {
     "name": "stderr",
     "output_type": "stream",
     "text": [
      "\u001b[34m\u001b[1mwandb\u001b[0m: Adding directory to artifact (/Users/aditya/Programming/stock-market-predictions/logs/MSFT-5-Year)... Done. 0.0s\n"
     ]
    },
    {
     "name": "stdout",
     "output_type": "stream",
     "text": [
      "the root mean squared error is: 10.588742050586445\n"
     ]
    },
    {
     "data": {
      "text/html": [
       "<br/>Waiting for W&B process to finish, PID 14618... <strong style=\"color:green\">(success).</strong>"
      ],
      "text/plain": [
       "<IPython.core.display.HTML object>"
      ]
     },
     "metadata": {},
     "output_type": "display_data"
    },
    {
     "data": {
      "application/vnd.jupyter.widget-view+json": {
       "model_id": "76bd0c64a5cb42e9af6229657d3f337d",
       "version_major": 2,
       "version_minor": 0
      },
      "text/plain": [
       "VBox(children=(Label(value=' 1.11MB of 1.11MB uploaded (0.01MB deduped)\\r'), FloatProgress(value=1.0, max=1.0)…"
      ]
     },
     "metadata": {},
     "output_type": "display_data"
    },
    {
     "data": {
      "text/html": [
       "<style>\n",
       "    table.wandb td:nth-child(1) { padding: 0 10px; text-align: right }\n",
       "    .wandb-row { display: flex; flex-direction: row; flex-wrap: wrap; width: 100% }\n",
       "    .wandb-col { display: flex; flex-direction: column; flex-basis: 100%; flex: 1; padding: 10px; }\n",
       "    </style>\n",
       "<div class=\"wandb-row\"><div class=\"wandb-col\">\n",
       "<h3>Run history:</h3><br/><table class=\"wandb\"><tr><td>epoch</td><td>▁▁▂▂▂▃▃▃▄▄▄▅▅▅▆▆▆▇▇▇██</td></tr><tr><td>loss</td><td>█▁▁▁▁▁▁▁▁▁▁▁▁▁▁▁▁▁▁▁▁▁</td></tr><tr><td>root_mean_square_error</td><td>▁</td></tr><tr><td>root_mean_squared_error</td><td>█▂▁▁▁▂▁▁▁▁▁▁▁▁▁▁▁▁▁▁▁▁</td></tr></table><br/></div><div class=\"wandb-col\">\n",
       "<h3>Run summary:</h3><br/><table class=\"wandb\"><tr><td>epoch</td><td>21</td></tr><tr><td>loss</td><td>0.00045</td></tr><tr><td>root_mean_square_error</td><td>10.58874</td></tr><tr><td>root_mean_squared_error</td><td>0.02126</td></tr></table>\n",
       "</div></div>\n",
       "Synced 6 W&B file(s), 1 media file(s), 4 artifact file(s) and 1 other file(s)\n",
       "<br/>Synced <strong style=\"color:#cdcd00\">rich-sweep-14</strong>: <a href=\"https://wandb.ai/alpheron/stock-predictions-alltime/runs/w3zujxqu\" target=\"_blank\">https://wandb.ai/alpheron/stock-predictions-alltime/runs/w3zujxqu</a><br/>\n",
       "Find logs at: <code>./wandb/run-20220227_174326-w3zujxqu/logs</code><br/>\n"
      ],
      "text/plain": [
       "<IPython.core.display.HTML object>"
      ]
     },
     "metadata": {},
     "output_type": "display_data"
    },
    {
     "name": "stderr",
     "output_type": "stream",
     "text": [
      "\u001b[34m\u001b[1mwandb\u001b[0m: Agent Starting Run: vdslx4v4 with config:\n",
      "\u001b[34m\u001b[1mwandb\u001b[0m: \tLSTM_UNITS: 100\n",
      "\u001b[34m\u001b[1mwandb\u001b[0m: \tepochs: 100\n",
      "\u001b[34m\u001b[1mwandb\u001b[0m: \u001b[33mWARNING\u001b[0m Ignored wandb.init() arg project when running a sweep.\n",
      "\u001b[34m\u001b[1mwandb\u001b[0m: \u001b[33mWARNING\u001b[0m Ignored wandb.init() arg entity when running a sweep.\n"
     ]
    },
    {
     "data": {
      "text/html": [
       "\n",
       "                    Syncing run <strong><a href=\"https://wandb.ai/alpheron/stock-predictions-alltime/runs/vdslx4v4\" target=\"_blank\">laced-sweep-15</a></strong> to <a href=\"https://wandb.ai/alpheron/stock-predictions-alltime\" target=\"_blank\">Weights & Biases</a> (<a href=\"https://docs.wandb.com/integrations/jupyter.html\" target=\"_blank\">docs</a>).<br/>\n",
       "Sweep page: <a href=\"https://wandb.ai/alpheron/stock-predictions-alltime/sweeps/8gz0pdfk\" target=\"_blank\">https://wandb.ai/alpheron/stock-predictions-alltime/sweeps/8gz0pdfk</a><br/>\n",
       "\n",
       "                "
      ],
      "text/plain": [
       "<IPython.core.display.HTML object>"
      ]
     },
     "metadata": {},
     "output_type": "display_data"
    },
    {
     "name": "stdout",
     "output_type": "stream",
     "text": [
      "Epoch 1/100\n",
      "73/73 [==============================] - 11s 155ms/step - loss: 0.0559 - root_mean_squared_error: 0.2365\n",
      "Epoch 2/100\n",
      "73/73 [==============================] - 10s 136ms/step - loss: 0.0030 - root_mean_squared_error: 0.0547\n",
      "Epoch 3/100\n",
      "73/73 [==============================] - 12s 159ms/step - loss: 4.9126e-04 - root_mean_squared_error: 0.0222\n",
      "Epoch 4/100\n",
      "73/73 [==============================] - 10s 142ms/step - loss: 6.6980e-04 - root_mean_squared_error: 0.0259\n",
      "Epoch 5/100\n",
      "73/73 [==============================] - 10s 139ms/step - loss: 7.0004e-04 - root_mean_squared_error: 0.0265\n",
      "Epoch 6/100\n",
      "73/73 [==============================] - 11s 151ms/step - loss: 4.6184e-04 - root_mean_squared_error: 0.0215\n",
      "Epoch 7/100\n",
      "73/73 [==============================] - 11s 144ms/step - loss: 4.5392e-04 - root_mean_squared_error: 0.0213\n",
      "Epoch 8/100\n",
      "73/73 [==============================] - 11s 152ms/step - loss: 4.0459e-04 - root_mean_squared_error: 0.0201\n",
      "Epoch 9/100\n",
      "73/73 [==============================] - 10s 143ms/step - loss: 4.5324e-04 - root_mean_squared_error: 0.0213\n",
      "Epoch 10/100\n",
      "73/73 [==============================] - 12s 158ms/step - loss: 4.8515e-04 - root_mean_squared_error: 0.0220\n",
      "Epoch 11/100\n",
      "73/73 [==============================] - 10s 136ms/step - loss: 5.1117e-04 - root_mean_squared_error: 0.0226\n",
      "Epoch 12/100\n",
      "73/73 [==============================] - 10s 139ms/step - loss: 3.8409e-04 - root_mean_squared_error: 0.0196\n",
      "Epoch 13/100\n",
      "73/73 [==============================] - 10s 139ms/step - loss: 4.3507e-04 - root_mean_squared_error: 0.0209\n",
      "Epoch 14/100\n",
      "73/73 [==============================] - 11s 146ms/step - loss: 3.8406e-04 - root_mean_squared_error: 0.0196\n",
      "Epoch 15/100\n",
      "73/73 [==============================] - 10s 143ms/step - loss: 3.9247e-04 - root_mean_squared_error: 0.0198\n",
      "Epoch 16/100\n",
      "73/73 [==============================] - 11s 151ms/step - loss: 4.8733e-04 - root_mean_squared_error: 0.0221\n",
      "Epoch 17/100\n",
      "73/73 [==============================] - 11s 144ms/step - loss: 3.8215e-04 - root_mean_squared_error: 0.0195\n",
      "Epoch 18/100\n",
      "73/73 [==============================] - 11s 148ms/step - loss: 2.6655e-04 - root_mean_squared_error: 0.0163\n",
      "Epoch 19/100\n",
      "73/73 [==============================] - 12s 161ms/step - loss: 2.6251e-04 - root_mean_squared_error: 0.0162\n",
      "Epoch 20/100\n",
      "73/73 [==============================] - 11s 154ms/step - loss: 2.8338e-04 - root_mean_squared_error: 0.0168\n",
      "Epoch 21/100\n",
      "73/73 [==============================] - 13s 174ms/step - loss: 2.7165e-04 - root_mean_squared_error: 0.0165\n",
      "Epoch 22/100\n",
      "73/73 [==============================] - 13s 184ms/step - loss: 4.8123e-04 - root_mean_squared_error: 0.0219\n",
      "Epoch 23/100\n",
      "73/73 [==============================] - 14s 197ms/step - loss: 3.4219e-04 - root_mean_squared_error: 0.0185\n",
      "Epoch 24/100\n",
      "73/73 [==============================] - 13s 177ms/step - loss: 2.6041e-04 - root_mean_squared_error: 0.0161\n",
      "Epoch 25/100\n",
      "73/73 [==============================] - 13s 176ms/step - loss: 2.3076e-04 - root_mean_squared_error: 0.0152\n",
      "Epoch 26/100\n",
      "73/73 [==============================] - 15s 205ms/step - loss: 3.2463e-04 - root_mean_squared_error: 0.0180\n",
      "Epoch 27/100\n",
      "73/73 [==============================] - 16s 214ms/step - loss: 2.3848e-04 - root_mean_squared_error: 0.0154\n",
      "Epoch 28/100\n",
      "73/73 [==============================] - 15s 198ms/step - loss: 2.4716e-04 - root_mean_squared_error: 0.0157\n",
      "Epoch 29/100\n",
      "73/73 [==============================] - 11s 156ms/step - loss: 2.1992e-04 - root_mean_squared_error: 0.0148\n",
      "Epoch 30/100\n",
      "73/73 [==============================] - 16s 214ms/step - loss: 2.3869e-04 - root_mean_squared_error: 0.0154\n",
      "Epoch 31/100\n",
      "73/73 [==============================] - 14s 194ms/step - loss: 1.9362e-04 - root_mean_squared_error: 0.0139\n",
      "Epoch 32/100\n",
      "73/73 [==============================] - 12s 170ms/step - loss: 2.6123e-04 - root_mean_squared_error: 0.0162\n",
      "Epoch 33/100\n",
      "73/73 [==============================] - 11s 147ms/step - loss: 2.5900e-04 - root_mean_squared_error: 0.0161\n",
      "Epoch 34/100\n",
      "73/73 [==============================] - 11s 146ms/step - loss: 2.3438e-04 - root_mean_squared_error: 0.0153\n",
      "Epoch 35/100\n",
      "73/73 [==============================] - 10s 138ms/step - loss: 2.4362e-04 - root_mean_squared_error: 0.0156\n",
      "Epoch 36/100\n",
      "73/73 [==============================] - 11s 146ms/step - loss: 2.0044e-04 - root_mean_squared_error: 0.0142\n"
     ]
    },
    {
     "name": "stderr",
     "output_type": "stream",
     "text": [
      "WARNING:absl:Found untraced functions such as lstm_cell_layer_call_fn, lstm_cell_layer_call_and_return_conditional_losses while saving (showing 2 of 2). These functions will not be directly callable after loading.\n"
     ]
    },
    {
     "name": "stdout",
     "output_type": "stream",
     "text": [
      "INFO:tensorflow:Assets written to: /Users/aditya/Programming/stock-market-predictions/logs/MSFT/assets\n"
     ]
    },
    {
     "name": "stderr",
     "output_type": "stream",
     "text": [
      "INFO:tensorflow:Assets written to: /Users/aditya/Programming/stock-market-predictions/logs/MSFT/assets\n",
      "WARNING:absl:<keras.layers.recurrent.LSTMCell object at 0x7fdd1b848160> has the same name 'LSTMCell' as a built-in Keras object. Consider renaming <class 'keras.layers.recurrent.LSTMCell'> to avoid naming conflicts when loading with `tf.keras.models.load_model`. If renaming is not possible, pass the object in the `custom_objects` parameter of the load function.\n"
     ]
    },
    {
     "name": "stdout",
     "output_type": "stream",
     "text": [
      "(126, 60, 1)\n"
     ]
    },
    {
     "name": "stderr",
     "output_type": "stream",
     "text": [
      "\u001b[34m\u001b[1mwandb\u001b[0m: Adding directory to artifact (/Users/aditya/Programming/stock-market-predictions/logs/MSFT-5-Year)... Done. 0.0s\n"
     ]
    },
    {
     "name": "stdout",
     "output_type": "stream",
     "text": [
      "the root mean squared error is: 9.171454512996249\n"
     ]
    },
    {
     "data": {
      "text/html": [
       "<br/>Waiting for W&B process to finish, PID 14798... <strong style=\"color:green\">(success).</strong>"
      ],
      "text/plain": [
       "<IPython.core.display.HTML object>"
      ]
     },
     "metadata": {},
     "output_type": "display_data"
    },
    {
     "data": {
      "application/vnd.jupyter.widget-view+json": {
       "model_id": "ced6cb5c2d1040da8e27732b16704bd2",
       "version_major": 2,
       "version_minor": 0
      },
      "text/plain": [
       "VBox(children=(Label(value=' 1.11MB of 1.11MB uploaded (0.01MB deduped)\\r'), FloatProgress(value=1.0, max=1.0)…"
      ]
     },
     "metadata": {},
     "output_type": "display_data"
    },
    {
     "data": {
      "text/html": [
       "<style>\n",
       "    table.wandb td:nth-child(1) { padding: 0 10px; text-align: right }\n",
       "    .wandb-row { display: flex; flex-direction: row; flex-wrap: wrap; width: 100% }\n",
       "    .wandb-col { display: flex; flex-direction: column; flex-basis: 100%; flex: 1; padding: 10px; }\n",
       "    </style>\n",
       "<div class=\"wandb-row\"><div class=\"wandb-col\">\n",
       "<h3>Run history:</h3><br/><table class=\"wandb\"><tr><td>epoch</td><td>▁▁▁▂▂▂▂▂▃▃▃▃▃▄▄▄▄▄▅▅▅▅▅▆▆▆▆▆▇▇▇▇▇███</td></tr><tr><td>loss</td><td>█▁▁▁▁▁▁▁▁▁▁▁▁▁▁▁▁▁▁▁▁▁▁▁▁▁▁▁▁▁▁▁▁▁▁▁</td></tr><tr><td>root_mean_square_error</td><td>▁</td></tr><tr><td>root_mean_squared_error</td><td>█▂▁▁▁▁▁▁▁▁▁▁▁▁▁▁▁▁▁▁▁▁▁▁▁▁▁▁▁▁▁▁▁▁▁▁</td></tr></table><br/></div><div class=\"wandb-col\">\n",
       "<h3>Run summary:</h3><br/><table class=\"wandb\"><tr><td>epoch</td><td>35</td></tr><tr><td>loss</td><td>0.0002</td></tr><tr><td>root_mean_square_error</td><td>9.17145</td></tr><tr><td>root_mean_squared_error</td><td>0.01416</td></tr></table>\n",
       "</div></div>\n",
       "Synced 6 W&B file(s), 1 media file(s), 4 artifact file(s) and 1 other file(s)\n",
       "<br/>Synced <strong style=\"color:#cdcd00\">laced-sweep-15</strong>: <a href=\"https://wandb.ai/alpheron/stock-predictions-alltime/runs/vdslx4v4\" target=\"_blank\">https://wandb.ai/alpheron/stock-predictions-alltime/runs/vdslx4v4</a><br/>\n",
       "Find logs at: <code>./wandb/run-20220227_174759-vdslx4v4/logs</code><br/>\n"
      ],
      "text/plain": [
       "<IPython.core.display.HTML object>"
      ]
     },
     "metadata": {},
     "output_type": "display_data"
    },
    {
     "name": "stderr",
     "output_type": "stream",
     "text": [
      "\u001b[34m\u001b[1mwandb\u001b[0m: Agent Starting Run: 6hb8qpv8 with config:\n",
      "\u001b[34m\u001b[1mwandb\u001b[0m: \tLSTM_UNITS: 90\n",
      "\u001b[34m\u001b[1mwandb\u001b[0m: \tepochs: 100\n",
      "\u001b[34m\u001b[1mwandb\u001b[0m: \u001b[33mWARNING\u001b[0m Ignored wandb.init() arg project when running a sweep.\n",
      "\u001b[34m\u001b[1mwandb\u001b[0m: \u001b[33mWARNING\u001b[0m Ignored wandb.init() arg entity when running a sweep.\n"
     ]
    },
    {
     "data": {
      "text/html": [
       "\n",
       "                    Syncing run <strong><a href=\"https://wandb.ai/alpheron/stock-predictions-alltime/runs/6hb8qpv8\" target=\"_blank\">visionary-sweep-16</a></strong> to <a href=\"https://wandb.ai/alpheron/stock-predictions-alltime\" target=\"_blank\">Weights & Biases</a> (<a href=\"https://docs.wandb.com/integrations/jupyter.html\" target=\"_blank\">docs</a>).<br/>\n",
       "Sweep page: <a href=\"https://wandb.ai/alpheron/stock-predictions-alltime/sweeps/8gz0pdfk\" target=\"_blank\">https://wandb.ai/alpheron/stock-predictions-alltime/sweeps/8gz0pdfk</a><br/>\n",
       "\n",
       "                "
      ],
      "text/plain": [
       "<IPython.core.display.HTML object>"
      ]
     },
     "metadata": {},
     "output_type": "display_data"
    },
    {
     "name": "stdout",
     "output_type": "stream",
     "text": [
      "Epoch 1/100\n",
      "73/73 [==============================] - 12s 166ms/step - loss: 0.0329 - root_mean_squared_error: 0.1814\n",
      "Epoch 2/100\n",
      "73/73 [==============================] - 11s 145ms/step - loss: 8.2319e-04 - root_mean_squared_error: 0.0287\n",
      "Epoch 3/100\n",
      "73/73 [==============================] - 11s 150ms/step - loss: 5.0098e-04 - root_mean_squared_error: 0.0224\n",
      "Epoch 4/100\n",
      "73/73 [==============================] - 10s 141ms/step - loss: 7.9922e-04 - root_mean_squared_error: 0.0283\n",
      "Epoch 5/100\n",
      "73/73 [==============================] - 10s 144ms/step - loss: 7.4827e-04 - root_mean_squared_error: 0.0274\n",
      "Epoch 6/100\n",
      "73/73 [==============================] - 11s 145ms/step - loss: 4.3223e-04 - root_mean_squared_error: 0.0208\n",
      "Epoch 7/100\n",
      "73/73 [==============================] - 10s 134ms/step - loss: 4.9591e-04 - root_mean_squared_error: 0.0223\n",
      "Epoch 8/100\n",
      "73/73 [==============================] - 11s 151ms/step - loss: 3.0505e-04 - root_mean_squared_error: 0.0175\n",
      "Epoch 9/100\n",
      "73/73 [==============================] - 12s 168ms/step - loss: 2.8960e-04 - root_mean_squared_error: 0.0170\n",
      "Epoch 10/100\n",
      "73/73 [==============================] - 11s 144ms/step - loss: 3.6313e-04 - root_mean_squared_error: 0.0191\n",
      "Epoch 11/100\n",
      "73/73 [==============================] - 10s 139ms/step - loss: 3.0844e-04 - root_mean_squared_error: 0.0176\n",
      "Epoch 12/100\n",
      "73/73 [==============================] - 10s 143ms/step - loss: 3.0398e-04 - root_mean_squared_error: 0.0174\n",
      "Epoch 13/100\n",
      "73/73 [==============================] - 10s 143ms/step - loss: 4.8824e-04 - root_mean_squared_error: 0.0221\n",
      "Epoch 14/100\n",
      "73/73 [==============================] - 10s 141ms/step - loss: 2.9081e-04 - root_mean_squared_error: 0.0171\n"
     ]
    },
    {
     "name": "stderr",
     "output_type": "stream",
     "text": [
      "WARNING:absl:Found untraced functions such as lstm_cell_layer_call_fn, lstm_cell_layer_call_and_return_conditional_losses while saving (showing 2 of 2). These functions will not be directly callable after loading.\n"
     ]
    },
    {
     "name": "stdout",
     "output_type": "stream",
     "text": [
      "INFO:tensorflow:Assets written to: /Users/aditya/Programming/stock-market-predictions/logs/MSFT/assets\n"
     ]
    },
    {
     "name": "stderr",
     "output_type": "stream",
     "text": [
      "INFO:tensorflow:Assets written to: /Users/aditya/Programming/stock-market-predictions/logs/MSFT/assets\n",
      "WARNING:absl:<keras.layers.recurrent.LSTMCell object at 0x7fdd1ddd8ac0> has the same name 'LSTMCell' as a built-in Keras object. Consider renaming <class 'keras.layers.recurrent.LSTMCell'> to avoid naming conflicts when loading with `tf.keras.models.load_model`. If renaming is not possible, pass the object in the `custom_objects` parameter of the load function.\n"
     ]
    },
    {
     "name": "stdout",
     "output_type": "stream",
     "text": [
      "(126, 60, 1)\n"
     ]
    },
    {
     "name": "stderr",
     "output_type": "stream",
     "text": [
      "\u001b[34m\u001b[1mwandb\u001b[0m: Adding directory to artifact (/Users/aditya/Programming/stock-market-predictions/logs/MSFT-5-Year)... Done. 0.0s\n"
     ]
    },
    {
     "name": "stdout",
     "output_type": "stream",
     "text": [
      "the root mean squared error is: 9.946882835504802\n"
     ]
    },
    {
     "data": {
      "text/html": [
       "<br/>Waiting for W&B process to finish, PID 14993... <strong style=\"color:green\">(success).</strong>"
      ],
      "text/plain": [
       "<IPython.core.display.HTML object>"
      ]
     },
     "metadata": {},
     "output_type": "display_data"
    },
    {
     "data": {
      "application/vnd.jupyter.widget-view+json": {
       "model_id": "db8e8b77bb2b475eb9b09ab1eacd7749",
       "version_major": 2,
       "version_minor": 0
      },
      "text/plain": [
       "VBox(children=(Label(value=' 1.11MB of 1.11MB uploaded (0.01MB deduped)\\r'), FloatProgress(value=1.0, max=1.0)…"
      ]
     },
     "metadata": {},
     "output_type": "display_data"
    },
    {
     "data": {
      "text/html": [
       "<style>\n",
       "    table.wandb td:nth-child(1) { padding: 0 10px; text-align: right }\n",
       "    .wandb-row { display: flex; flex-direction: row; flex-wrap: wrap; width: 100% }\n",
       "    .wandb-col { display: flex; flex-direction: column; flex-basis: 100%; flex: 1; padding: 10px; }\n",
       "    </style>\n",
       "<div class=\"wandb-row\"><div class=\"wandb-col\">\n",
       "<h3>Run history:</h3><br/><table class=\"wandb\"><tr><td>epoch</td><td>▁▂▂▃▃▄▄▅▅▆▆▇▇█</td></tr><tr><td>loss</td><td>█▁▁▁▁▁▁▁▁▁▁▁▁▁</td></tr><tr><td>root_mean_square_error</td><td>▁</td></tr><tr><td>root_mean_squared_error</td><td>█▁▁▁▁▁▁▁▁▁▁▁▁▁</td></tr></table><br/></div><div class=\"wandb-col\">\n",
       "<h3>Run summary:</h3><br/><table class=\"wandb\"><tr><td>epoch</td><td>13</td></tr><tr><td>loss</td><td>0.00029</td></tr><tr><td>root_mean_square_error</td><td>9.94688</td></tr><tr><td>root_mean_squared_error</td><td>0.01705</td></tr></table>\n",
       "</div></div>\n",
       "Synced 6 W&B file(s), 1 media file(s), 4 artifact file(s) and 1 other file(s)\n",
       "<br/>Synced <strong style=\"color:#cdcd00\">visionary-sweep-16</strong>: <a href=\"https://wandb.ai/alpheron/stock-predictions-alltime/runs/6hb8qpv8\" target=\"_blank\">https://wandb.ai/alpheron/stock-predictions-alltime/runs/6hb8qpv8</a><br/>\n",
       "Find logs at: <code>./wandb/run-20220227_175548-6hb8qpv8/logs</code><br/>\n"
      ],
      "text/plain": [
       "<IPython.core.display.HTML object>"
      ]
     },
     "metadata": {},
     "output_type": "display_data"
    },
    {
     "name": "stderr",
     "output_type": "stream",
     "text": [
      "\u001b[34m\u001b[1mwandb\u001b[0m: Agent Starting Run: mzrwppgu with config:\n",
      "\u001b[34m\u001b[1mwandb\u001b[0m: \tLSTM_UNITS: 15\n",
      "\u001b[34m\u001b[1mwandb\u001b[0m: \tepochs: 100\n",
      "\u001b[34m\u001b[1mwandb\u001b[0m: \u001b[33mWARNING\u001b[0m Ignored wandb.init() arg project when running a sweep.\n",
      "\u001b[34m\u001b[1mwandb\u001b[0m: \u001b[33mWARNING\u001b[0m Ignored wandb.init() arg entity when running a sweep.\n"
     ]
    },
    {
     "data": {
      "text/html": [
       "\n",
       "                    Syncing run <strong><a href=\"https://wandb.ai/alpheron/stock-predictions-alltime/runs/mzrwppgu\" target=\"_blank\">magic-sweep-17</a></strong> to <a href=\"https://wandb.ai/alpheron/stock-predictions-alltime\" target=\"_blank\">Weights & Biases</a> (<a href=\"https://docs.wandb.com/integrations/jupyter.html\" target=\"_blank\">docs</a>).<br/>\n",
       "Sweep page: <a href=\"https://wandb.ai/alpheron/stock-predictions-alltime/sweeps/8gz0pdfk\" target=\"_blank\">https://wandb.ai/alpheron/stock-predictions-alltime/sweeps/8gz0pdfk</a><br/>\n",
       "\n",
       "                "
      ],
      "text/plain": [
       "<IPython.core.display.HTML object>"
      ]
     },
     "metadata": {},
     "output_type": "display_data"
    },
    {
     "name": "stdout",
     "output_type": "stream",
     "text": [
      "Epoch 1/100\n",
      "73/73 [==============================] - 11s 150ms/step - loss: 0.0179 - root_mean_squared_error: 0.1336\n",
      "Epoch 2/100\n",
      "73/73 [==============================] - 10s 141ms/step - loss: 5.9908e-04 - root_mean_squared_error: 0.0245\n",
      "Epoch 3/100\n",
      "73/73 [==============================] - 10s 141ms/step - loss: 4.1450e-04 - root_mean_squared_error: 0.0204\n",
      "Epoch 4/100\n",
      "73/73 [==============================] - 11s 147ms/step - loss: 5.0110e-04 - root_mean_squared_error: 0.0224\n",
      "Epoch 5/100\n",
      "73/73 [==============================] - 10s 141ms/step - loss: 4.2441e-04 - root_mean_squared_error: 0.0206\n",
      "Epoch 6/100\n",
      "73/73 [==============================] - 11s 147ms/step - loss: 3.2030e-04 - root_mean_squared_error: 0.0179\n",
      "Epoch 7/100\n",
      "73/73 [==============================] - 11s 146ms/step - loss: 3.0455e-04 - root_mean_squared_error: 0.0175\n",
      "Epoch 8/100\n",
      "73/73 [==============================] - 11s 150ms/step - loss: 3.9231e-04 - root_mean_squared_error: 0.0198\n",
      "Epoch 9/100\n",
      "73/73 [==============================] - 11s 153ms/step - loss: 4.4646e-04 - root_mean_squared_error: 0.0211\n",
      "Epoch 10/100\n",
      "73/73 [==============================] - 10s 142ms/step - loss: 3.4067e-04 - root_mean_squared_error: 0.0185\n",
      "Epoch 11/100\n",
      "73/73 [==============================] - 11s 153ms/step - loss: 3.1955e-04 - root_mean_squared_error: 0.0179\n",
      "Epoch 12/100\n",
      "73/73 [==============================] - 10s 138ms/step - loss: 2.3941e-04 - root_mean_squared_error: 0.0155\n",
      "Epoch 13/100\n",
      "73/73 [==============================] - 10s 142ms/step - loss: 2.3737e-04 - root_mean_squared_error: 0.0154\n",
      "Epoch 14/100\n",
      "73/73 [==============================] - 10s 139ms/step - loss: 2.2207e-04 - root_mean_squared_error: 0.0149\n",
      "Epoch 15/100\n",
      "73/73 [==============================] - 10s 142ms/step - loss: 2.3386e-04 - root_mean_squared_error: 0.0153\n",
      "Epoch 16/100\n",
      "73/73 [==============================] - 11s 145ms/step - loss: 2.5367e-04 - root_mean_squared_error: 0.0159\n",
      "Epoch 17/100\n",
      "73/73 [==============================] - 10s 142ms/step - loss: 2.3675e-04 - root_mean_squared_error: 0.0154\n",
      "Epoch 18/100\n",
      "73/73 [==============================] - 11s 145ms/step - loss: 3.1635e-04 - root_mean_squared_error: 0.0178\n",
      "Epoch 19/100\n",
      "73/73 [==============================] - 11s 149ms/step - loss: 2.1189e-04 - root_mean_squared_error: 0.0146\n",
      "Epoch 20/100\n",
      "73/73 [==============================] - 10s 143ms/step - loss: 2.2800e-04 - root_mean_squared_error: 0.0151\n",
      "Epoch 21/100\n",
      "73/73 [==============================] - 11s 147ms/step - loss: 2.1076e-04 - root_mean_squared_error: 0.0145\n",
      "Epoch 22/100\n",
      "73/73 [==============================] - 11s 148ms/step - loss: 2.2644e-04 - root_mean_squared_error: 0.0150\n",
      "Epoch 23/100\n",
      "73/73 [==============================] - 11s 148ms/step - loss: 2.0896e-04 - root_mean_squared_error: 0.0145\n",
      "Epoch 24/100\n",
      "73/73 [==============================] - 11s 146ms/step - loss: 2.4610e-04 - root_mean_squared_error: 0.0157\n",
      "Epoch 25/100\n",
      "73/73 [==============================] - 11s 152ms/step - loss: 1.8474e-04 - root_mean_squared_error: 0.0136\n",
      "Epoch 26/100\n",
      "73/73 [==============================] - 11s 153ms/step - loss: 1.8994e-04 - root_mean_squared_error: 0.0138\n",
      "Epoch 27/100\n",
      "73/73 [==============================] - 11s 154ms/step - loss: 1.8307e-04 - root_mean_squared_error: 0.0135\n",
      "Epoch 28/100\n",
      "73/73 [==============================] - 12s 160ms/step - loss: 2.3417e-04 - root_mean_squared_error: 0.0153\n",
      "Epoch 29/100\n",
      "73/73 [==============================] - 11s 151ms/step - loss: 1.9669e-04 - root_mean_squared_error: 0.0140\n",
      "Epoch 30/100\n",
      "73/73 [==============================] - 12s 171ms/step - loss: 2.0706e-04 - root_mean_squared_error: 0.0144\n",
      "Epoch 31/100\n",
      "73/73 [==============================] - 11s 147ms/step - loss: 3.2368e-04 - root_mean_squared_error: 0.0180\n",
      "Epoch 32/100\n",
      "73/73 [==============================] - 10s 138ms/step - loss: 1.6044e-04 - root_mean_squared_error: 0.0127\n",
      "Epoch 33/100\n",
      "73/73 [==============================] - 10s 142ms/step - loss: 1.6341e-04 - root_mean_squared_error: 0.0128\n",
      "Epoch 34/100\n",
      "73/73 [==============================] - 10s 143ms/step - loss: 1.9062e-04 - root_mean_squared_error: 0.0138\n",
      "Epoch 35/100\n",
      "73/73 [==============================] - 10s 143ms/step - loss: 1.5394e-04 - root_mean_squared_error: 0.0124\n",
      "Epoch 36/100\n",
      "73/73 [==============================] - 10s 142ms/step - loss: 1.6657e-04 - root_mean_squared_error: 0.0129\n",
      "Epoch 37/100\n",
      "73/73 [==============================] - 11s 146ms/step - loss: 1.7167e-04 - root_mean_squared_error: 0.0131\n",
      "Epoch 38/100\n",
      "73/73 [==============================] - 11s 145ms/step - loss: 1.9905e-04 - root_mean_squared_error: 0.0141\n",
      "Epoch 39/100\n",
      "73/73 [==============================] - 11s 145ms/step - loss: 1.7647e-04 - root_mean_squared_error: 0.0133\n",
      "Epoch 40/100\n",
      "73/73 [==============================] - 11s 149ms/step - loss: 1.5454e-04 - root_mean_squared_error: 0.0124\n"
     ]
    },
    {
     "name": "stderr",
     "output_type": "stream",
     "text": [
      "WARNING:absl:Found untraced functions such as lstm_cell_layer_call_fn, lstm_cell_layer_call_and_return_conditional_losses while saving (showing 2 of 2). These functions will not be directly callable after loading.\n"
     ]
    },
    {
     "name": "stdout",
     "output_type": "stream",
     "text": [
      "INFO:tensorflow:Assets written to: /Users/aditya/Programming/stock-market-predictions/logs/MSFT/assets\n"
     ]
    },
    {
     "name": "stderr",
     "output_type": "stream",
     "text": [
      "INFO:tensorflow:Assets written to: /Users/aditya/Programming/stock-market-predictions/logs/MSFT/assets\n",
      "WARNING:absl:<keras.layers.recurrent.LSTMCell object at 0x7fdd1e2a5670> has the same name 'LSTMCell' as a built-in Keras object. Consider renaming <class 'keras.layers.recurrent.LSTMCell'> to avoid naming conflicts when loading with `tf.keras.models.load_model`. If renaming is not possible, pass the object in the `custom_objects` parameter of the load function.\n"
     ]
    },
    {
     "name": "stdout",
     "output_type": "stream",
     "text": [
      "(126, 60, 1)\n"
     ]
    },
    {
     "name": "stderr",
     "output_type": "stream",
     "text": [
      "\u001b[34m\u001b[1mwandb\u001b[0m: Adding directory to artifact (/Users/aditya/Programming/stock-market-predictions/logs/MSFT-5-Year)... Done. 0.0s\n"
     ]
    },
    {
     "name": "stdout",
     "output_type": "stream",
     "text": [
      "the root mean squared error is: 7.904841521766805\n"
     ]
    },
    {
     "data": {
      "text/html": [
       "<br/>Waiting for W&B process to finish, PID 15069... <strong style=\"color:green\">(success).</strong>"
      ],
      "text/plain": [
       "<IPython.core.display.HTML object>"
      ]
     },
     "metadata": {},
     "output_type": "display_data"
    },
    {
     "data": {
      "application/vnd.jupyter.widget-view+json": {
       "model_id": "b32609efc1c34015bfbb7b2e003697f5",
       "version_major": 2,
       "version_minor": 0
      },
      "text/plain": [
       "VBox(children=(Label(value=' 1.11MB of 1.11MB uploaded (0.01MB deduped)\\r'), FloatProgress(value=1.0, max=1.0)…"
      ]
     },
     "metadata": {},
     "output_type": "display_data"
    },
    {
     "data": {
      "text/html": [
       "<style>\n",
       "    table.wandb td:nth-child(1) { padding: 0 10px; text-align: right }\n",
       "    .wandb-row { display: flex; flex-direction: row; flex-wrap: wrap; width: 100% }\n",
       "    .wandb-col { display: flex; flex-direction: column; flex-basis: 100%; flex: 1; padding: 10px; }\n",
       "    </style>\n",
       "<div class=\"wandb-row\"><div class=\"wandb-col\">\n",
       "<h3>Run history:</h3><br/><table class=\"wandb\"><tr><td>epoch</td><td>▁▁▁▂▂▂▂▂▂▃▃▃▃▃▄▄▄▄▄▄▅▅▅▅▅▅▆▆▆▆▆▇▇▇▇▇▇███</td></tr><tr><td>loss</td><td>█▁▁▁▁▁▁▁▁▁▁▁▁▁▁▁▁▁▁▁▁▁▁▁▁▁▁▁▁▁▁▁▁▁▁▁▁▁▁▁</td></tr><tr><td>root_mean_square_error</td><td>▁</td></tr><tr><td>root_mean_squared_error</td><td>█▂▁▂▁▁▁▁▂▁▁▁▁▁▁▁▁▁▁▁▁▁▁▁▁▁▁▁▁▁▁▁▁▁▁▁▁▁▁▁</td></tr></table><br/></div><div class=\"wandb-col\">\n",
       "<h3>Run summary:</h3><br/><table class=\"wandb\"><tr><td>epoch</td><td>39</td></tr><tr><td>loss</td><td>0.00015</td></tr><tr><td>root_mean_square_error</td><td>7.90484</td></tr><tr><td>root_mean_squared_error</td><td>0.01243</td></tr></table>\n",
       "</div></div>\n",
       "Synced 6 W&B file(s), 1 media file(s), 4 artifact file(s) and 1 other file(s)\n",
       "<br/>Synced <strong style=\"color:#cdcd00\">magic-sweep-17</strong>: <a href=\"https://wandb.ai/alpheron/stock-predictions-alltime/runs/mzrwppgu\" target=\"_blank\">https://wandb.ai/alpheron/stock-predictions-alltime/runs/mzrwppgu</a><br/>\n",
       "Find logs at: <code>./wandb/run-20220227_175853-mzrwppgu/logs</code><br/>\n"
      ],
      "text/plain": [
       "<IPython.core.display.HTML object>"
      ]
     },
     "metadata": {},
     "output_type": "display_data"
    },
    {
     "name": "stderr",
     "output_type": "stream",
     "text": [
      "\u001b[34m\u001b[1mwandb\u001b[0m: Agent Starting Run: 27u0ds0m with config:\n",
      "\u001b[34m\u001b[1mwandb\u001b[0m: \tLSTM_UNITS: 30\n",
      "\u001b[34m\u001b[1mwandb\u001b[0m: \tepochs: 100\n",
      "\u001b[34m\u001b[1mwandb\u001b[0m: \u001b[33mWARNING\u001b[0m Ignored wandb.init() arg project when running a sweep.\n",
      "\u001b[34m\u001b[1mwandb\u001b[0m: \u001b[33mWARNING\u001b[0m Ignored wandb.init() arg entity when running a sweep.\n"
     ]
    },
    {
     "data": {
      "text/html": [
       "\n",
       "                    Syncing run <strong><a href=\"https://wandb.ai/alpheron/stock-predictions-alltime/runs/27u0ds0m\" target=\"_blank\">spring-sweep-18</a></strong> to <a href=\"https://wandb.ai/alpheron/stock-predictions-alltime\" target=\"_blank\">Weights & Biases</a> (<a href=\"https://docs.wandb.com/integrations/jupyter.html\" target=\"_blank\">docs</a>).<br/>\n",
       "Sweep page: <a href=\"https://wandb.ai/alpheron/stock-predictions-alltime/sweeps/8gz0pdfk\" target=\"_blank\">https://wandb.ai/alpheron/stock-predictions-alltime/sweeps/8gz0pdfk</a><br/>\n",
       "\n",
       "                "
      ],
      "text/plain": [
       "<IPython.core.display.HTML object>"
      ]
     },
     "metadata": {},
     "output_type": "display_data"
    },
    {
     "name": "stdout",
     "output_type": "stream",
     "text": [
      "Epoch 1/100\n",
      "73/73 [==============================] - 12s 158ms/step - loss: 0.0229 - root_mean_squared_error: 0.1514\n",
      "Epoch 2/100\n",
      "73/73 [==============================] - 10s 142ms/step - loss: 8.6613e-04 - root_mean_squared_error: 0.0294\n",
      "Epoch 3/100\n",
      "73/73 [==============================] - 10s 134ms/step - loss: 7.6555e-04 - root_mean_squared_error: 0.0277\n",
      "Epoch 4/100\n",
      "73/73 [==============================] - 11s 146ms/step - loss: 4.2875e-04 - root_mean_squared_error: 0.0207\n",
      "Epoch 5/100\n",
      "73/73 [==============================] - 11s 156ms/step - loss: 3.4523e-04 - root_mean_squared_error: 0.0186\n",
      "Epoch 6/100\n",
      "73/73 [==============================] - 10s 140ms/step - loss: 3.6681e-04 - root_mean_squared_error: 0.0192\n",
      "Epoch 7/100\n",
      "73/73 [==============================] - 11s 150ms/step - loss: 4.1884e-04 - root_mean_squared_error: 0.0205\n",
      "Epoch 8/100\n",
      "73/73 [==============================] - 10s 142ms/step - loss: 3.3038e-04 - root_mean_squared_error: 0.0182\n",
      "Epoch 9/100\n",
      "73/73 [==============================] - 11s 144ms/step - loss: 3.6761e-04 - root_mean_squared_error: 0.0192\n",
      "Epoch 10/100\n",
      "73/73 [==============================] - 10s 137ms/step - loss: 3.1205e-04 - root_mean_squared_error: 0.0177\n",
      "Epoch 11/100\n",
      "73/73 [==============================] - 11s 144ms/step - loss: 3.2091e-04 - root_mean_squared_error: 0.0179\n",
      "Epoch 12/100\n",
      "73/73 [==============================] - 11s 148ms/step - loss: 2.8354e-04 - root_mean_squared_error: 0.0168\n",
      "Epoch 13/100\n",
      "73/73 [==============================] - 11s 153ms/step - loss: 3.4875e-04 - root_mean_squared_error: 0.0187\n",
      "Epoch 14/100\n",
      "73/73 [==============================] - 10s 137ms/step - loss: 3.1708e-04 - root_mean_squared_error: 0.0178\n",
      "Epoch 15/100\n",
      "73/73 [==============================] - 12s 171ms/step - loss: 2.6678e-04 - root_mean_squared_error: 0.0163\n",
      "Epoch 16/100\n",
      "73/73 [==============================] - 11s 147ms/step - loss: 2.1455e-04 - root_mean_squared_error: 0.0146\n",
      "Epoch 17/100\n",
      "73/73 [==============================] - 10s 137ms/step - loss: 2.6927e-04 - root_mean_squared_error: 0.0164\n",
      "Epoch 18/100\n",
      "73/73 [==============================] - 11s 144ms/step - loss: 2.6883e-04 - root_mean_squared_error: 0.0164\n",
      "Epoch 19/100\n",
      "73/73 [==============================] - 10s 142ms/step - loss: 2.7029e-04 - root_mean_squared_error: 0.0164\n",
      "Epoch 20/100\n",
      "73/73 [==============================] - 10s 143ms/step - loss: 4.0845e-04 - root_mean_squared_error: 0.0202\n",
      "Epoch 21/100\n",
      "73/73 [==============================] - 11s 146ms/step - loss: 2.4424e-04 - root_mean_squared_error: 0.0156\n"
     ]
    },
    {
     "name": "stderr",
     "output_type": "stream",
     "text": [
      "WARNING:absl:Found untraced functions such as lstm_cell_layer_call_fn, lstm_cell_layer_call_and_return_conditional_losses while saving (showing 2 of 2). These functions will not be directly callable after loading.\n"
     ]
    },
    {
     "name": "stdout",
     "output_type": "stream",
     "text": [
      "INFO:tensorflow:Assets written to: /Users/aditya/Programming/stock-market-predictions/logs/MSFT/assets\n"
     ]
    },
    {
     "name": "stderr",
     "output_type": "stream",
     "text": [
      "INFO:tensorflow:Assets written to: /Users/aditya/Programming/stock-market-predictions/logs/MSFT/assets\n",
      "WARNING:absl:<keras.layers.recurrent.LSTMCell object at 0x7fdd1b98ee80> has the same name 'LSTMCell' as a built-in Keras object. Consider renaming <class 'keras.layers.recurrent.LSTMCell'> to avoid naming conflicts when loading with `tf.keras.models.load_model`. If renaming is not possible, pass the object in the `custom_objects` parameter of the load function.\n"
     ]
    },
    {
     "name": "stdout",
     "output_type": "stream",
     "text": [
      "(126, 60, 1)\n"
     ]
    },
    {
     "name": "stderr",
     "output_type": "stream",
     "text": [
      "\u001b[34m\u001b[1mwandb\u001b[0m: Adding directory to artifact (/Users/aditya/Programming/stock-market-predictions/logs/MSFT-5-Year)... Done. 0.0s\n"
     ]
    },
    {
     "name": "stdout",
     "output_type": "stream",
     "text": [
      "the root mean squared error is: 9.585579343998766\n"
     ]
    },
    {
     "data": {
      "text/html": [
       "<br/>Waiting for W&B process to finish, PID 15279... <strong style=\"color:green\">(success).</strong>"
      ],
      "text/plain": [
       "<IPython.core.display.HTML object>"
      ]
     },
     "metadata": {},
     "output_type": "display_data"
    },
    {
     "data": {
      "application/vnd.jupyter.widget-view+json": {
       "model_id": "cd5853740d554e829f6aece0bc10d08f",
       "version_major": 2,
       "version_minor": 0
      },
      "text/plain": [
       "VBox(children=(Label(value=' 1.11MB of 1.11MB uploaded (0.01MB deduped)\\r'), FloatProgress(value=1.0, max=1.0)…"
      ]
     },
     "metadata": {},
     "output_type": "display_data"
    },
    {
     "data": {
      "text/html": [
       "<style>\n",
       "    table.wandb td:nth-child(1) { padding: 0 10px; text-align: right }\n",
       "    .wandb-row { display: flex; flex-direction: row; flex-wrap: wrap; width: 100% }\n",
       "    .wandb-col { display: flex; flex-direction: column; flex-basis: 100%; flex: 1; padding: 10px; }\n",
       "    </style>\n",
       "<div class=\"wandb-row\"><div class=\"wandb-col\">\n",
       "<h3>Run history:</h3><br/><table class=\"wandb\"><tr><td>epoch</td><td>▁▁▂▂▂▃▃▃▄▄▅▅▅▆▆▆▇▇▇██</td></tr><tr><td>loss</td><td>█▁▁▁▁▁▁▁▁▁▁▁▁▁▁▁▁▁▁▁▁</td></tr><tr><td>root_mean_square_error</td><td>▁</td></tr><tr><td>root_mean_squared_error</td><td>█▂▂▁▁▁▁▁▁▁▁▁▁▁▁▁▁▁▁▁▁</td></tr></table><br/></div><div class=\"wandb-col\">\n",
       "<h3>Run summary:</h3><br/><table class=\"wandb\"><tr><td>epoch</td><td>20</td></tr><tr><td>loss</td><td>0.00024</td></tr><tr><td>root_mean_square_error</td><td>9.58558</td></tr><tr><td>root_mean_squared_error</td><td>0.01563</td></tr></table>\n",
       "</div></div>\n",
       "Synced 6 W&B file(s), 1 media file(s), 4 artifact file(s) and 1 other file(s)\n",
       "<br/>Synced <strong style=\"color:#cdcd00\">spring-sweep-18</strong>: <a href=\"https://wandb.ai/alpheron/stock-predictions-alltime/runs/27u0ds0m\" target=\"_blank\">https://wandb.ai/alpheron/stock-predictions-alltime/runs/27u0ds0m</a><br/>\n",
       "Find logs at: <code>./wandb/run-20220227_180639-27u0ds0m/logs</code><br/>\n"
      ],
      "text/plain": [
       "<IPython.core.display.HTML object>"
      ]
     },
     "metadata": {},
     "output_type": "display_data"
    },
    {
     "name": "stderr",
     "output_type": "stream",
     "text": [
      "\u001b[34m\u001b[1mwandb\u001b[0m: Agent Starting Run: b73oey8w with config:\n",
      "\u001b[34m\u001b[1mwandb\u001b[0m: \tLSTM_UNITS: 85\n",
      "\u001b[34m\u001b[1mwandb\u001b[0m: \tepochs: 100\n",
      "\u001b[34m\u001b[1mwandb\u001b[0m: \u001b[33mWARNING\u001b[0m Ignored wandb.init() arg project when running a sweep.\n",
      "\u001b[34m\u001b[1mwandb\u001b[0m: \u001b[33mWARNING\u001b[0m Ignored wandb.init() arg entity when running a sweep.\n"
     ]
    },
    {
     "data": {
      "text/html": [
       "\n",
       "                    Syncing run <strong><a href=\"https://wandb.ai/alpheron/stock-predictions-alltime/runs/b73oey8w\" target=\"_blank\">sweepy-sweep-19</a></strong> to <a href=\"https://wandb.ai/alpheron/stock-predictions-alltime\" target=\"_blank\">Weights & Biases</a> (<a href=\"https://docs.wandb.com/integrations/jupyter.html\" target=\"_blank\">docs</a>).<br/>\n",
       "Sweep page: <a href=\"https://wandb.ai/alpheron/stock-predictions-alltime/sweeps/8gz0pdfk\" target=\"_blank\">https://wandb.ai/alpheron/stock-predictions-alltime/sweeps/8gz0pdfk</a><br/>\n",
       "\n",
       "                "
      ],
      "text/plain": [
       "<IPython.core.display.HTML object>"
      ]
     },
     "metadata": {},
     "output_type": "display_data"
    },
    {
     "name": "stdout",
     "output_type": "stream",
     "text": [
      "Epoch 1/100\n",
      "73/73 [==============================] - 13s 176ms/step - loss: 0.0687 - root_mean_squared_error: 0.2621\n",
      "Epoch 2/100\n",
      "73/73 [==============================] - 10s 141ms/step - loss: 0.0080 - root_mean_squared_error: 0.0892\n",
      "Epoch 3/100\n",
      "73/73 [==============================] - 11s 147ms/step - loss: 0.0012 - root_mean_squared_error: 0.0347\n",
      "Epoch 4/100\n",
      "73/73 [==============================] - 11s 152ms/step - loss: 7.4660e-04 - root_mean_squared_error: 0.0273\n",
      "Epoch 5/100\n",
      "73/73 [==============================] - 10s 144ms/step - loss: 6.3743e-04 - root_mean_squared_error: 0.0252\n",
      "Epoch 6/100\n",
      "73/73 [==============================] - 11s 148ms/step - loss: 5.8948e-04 - root_mean_squared_error: 0.0243\n",
      "Epoch 7/100\n",
      "73/73 [==============================] - 10s 137ms/step - loss: 3.7822e-04 - root_mean_squared_error: 0.0194\n",
      "Epoch 8/100\n",
      "73/73 [==============================] - 11s 153ms/step - loss: 3.8600e-04 - root_mean_squared_error: 0.0196\n",
      "Epoch 9/100\n",
      "73/73 [==============================] - 11s 146ms/step - loss: 3.2002e-04 - root_mean_squared_error: 0.0179\n",
      "Epoch 10/100\n",
      "73/73 [==============================] - 10s 140ms/step - loss: 3.5409e-04 - root_mean_squared_error: 0.0188\n",
      "Epoch 11/100\n",
      "73/73 [==============================] - 11s 145ms/step - loss: 4.1578e-04 - root_mean_squared_error: 0.0204\n",
      "Epoch 12/100\n",
      "73/73 [==============================] - 11s 145ms/step - loss: 3.5616e-04 - root_mean_squared_error: 0.0189\n",
      "Epoch 13/100\n",
      "73/73 [==============================] - 11s 145ms/step - loss: 3.6025e-04 - root_mean_squared_error: 0.0190\n",
      "Epoch 14/100\n",
      "73/73 [==============================] - 10s 142ms/step - loss: 4.1496e-04 - root_mean_squared_error: 0.0204\n"
     ]
    },
    {
     "name": "stderr",
     "output_type": "stream",
     "text": [
      "WARNING:absl:Found untraced functions such as lstm_cell_layer_call_fn, lstm_cell_layer_call_and_return_conditional_losses while saving (showing 2 of 2). These functions will not be directly callable after loading.\n"
     ]
    },
    {
     "name": "stdout",
     "output_type": "stream",
     "text": [
      "INFO:tensorflow:Assets written to: /Users/aditya/Programming/stock-market-predictions/logs/MSFT/assets\n"
     ]
    },
    {
     "name": "stderr",
     "output_type": "stream",
     "text": [
      "INFO:tensorflow:Assets written to: /Users/aditya/Programming/stock-market-predictions/logs/MSFT/assets\n",
      "WARNING:absl:<keras.layers.recurrent.LSTMCell object at 0x7fdd1f706250> has the same name 'LSTMCell' as a built-in Keras object. Consider renaming <class 'keras.layers.recurrent.LSTMCell'> to avoid naming conflicts when loading with `tf.keras.models.load_model`. If renaming is not possible, pass the object in the `custom_objects` parameter of the load function.\n"
     ]
    },
    {
     "name": "stdout",
     "output_type": "stream",
     "text": [
      "(126, 60, 1)\n"
     ]
    },
    {
     "name": "stderr",
     "output_type": "stream",
     "text": [
      "\u001b[34m\u001b[1mwandb\u001b[0m: Adding directory to artifact (/Users/aditya/Programming/stock-market-predictions/logs/MSFT-5-Year)... Done. 0.0s\n"
     ]
    },
    {
     "name": "stdout",
     "output_type": "stream",
     "text": [
      "the root mean squared error is: 9.999017634831183\n"
     ]
    },
    {
     "data": {
      "text/html": [
       "<br/>Waiting for W&B process to finish, PID 15404... <strong style=\"color:green\">(success).</strong>"
      ],
      "text/plain": [
       "<IPython.core.display.HTML object>"
      ]
     },
     "metadata": {},
     "output_type": "display_data"
    },
    {
     "data": {
      "application/vnd.jupyter.widget-view+json": {
       "model_id": "55f3b938d7574aeca26e7e48dfb4170c",
       "version_major": 2,
       "version_minor": 0
      },
      "text/plain": [
       "VBox(children=(Label(value=' 0.00MB of 0.00MB uploaded (0.00MB deduped)\\r'), FloatProgress(value=1.0, max=1.0)…"
      ]
     },
     "metadata": {},
     "output_type": "display_data"
    },
    {
     "data": {
      "text/html": [
       "<style>\n",
       "    table.wandb td:nth-child(1) { padding: 0 10px; text-align: right }\n",
       "    .wandb-row { display: flex; flex-direction: row; flex-wrap: wrap; width: 100% }\n",
       "    .wandb-col { display: flex; flex-direction: column; flex-basis: 100%; flex: 1; padding: 10px; }\n",
       "    </style>\n",
       "<div class=\"wandb-row\"><div class=\"wandb-col\">\n",
       "<h3>Run history:</h3><br/><table class=\"wandb\"><tr><td>epoch</td><td>▁▂▂▃▃▄▄▅▅▆▆▇▇█</td></tr><tr><td>loss</td><td>█▂▁▁▁▁▁▁▁▁▁▁▁▁</td></tr><tr><td>root_mean_square_error</td><td>▁</td></tr><tr><td>root_mean_squared_error</td><td>█▃▁▁▁▁▁▁▁▁▁▁▁▁</td></tr></table><br/></div><div class=\"wandb-col\">\n",
       "<h3>Run summary:</h3><br/><table class=\"wandb\"><tr><td>epoch</td><td>13</td></tr><tr><td>loss</td><td>0.00041</td></tr><tr><td>root_mean_square_error</td><td>9.99902</td></tr><tr><td>root_mean_squared_error</td><td>0.02037</td></tr></table>\n",
       "</div></div>\n",
       "Synced 6 W&B file(s), 1 media file(s), 0 artifact file(s) and 1 other file(s)\n",
       "<br/>Synced <strong style=\"color:#cdcd00\">sweepy-sweep-19</strong>: <a href=\"https://wandb.ai/alpheron/stock-predictions-alltime/runs/b73oey8w\" target=\"_blank\">https://wandb.ai/alpheron/stock-predictions-alltime/runs/b73oey8w</a><br/>\n",
       "Find logs at: <code>./wandb/run-20220227_181058-b73oey8w/logs</code><br/>\n"
      ],
      "text/plain": [
       "<IPython.core.display.HTML object>"
      ]
     },
     "metadata": {},
     "output_type": "display_data"
    },
    {
     "name": "stderr",
     "output_type": "stream",
     "text": [
      "\u001b[34m\u001b[1mwandb\u001b[0m: Agent Starting Run: 2de7j40v with config:\n",
      "\u001b[34m\u001b[1mwandb\u001b[0m: \tLSTM_UNITS: 80\n",
      "\u001b[34m\u001b[1mwandb\u001b[0m: \tepochs: 100\n",
      "\u001b[34m\u001b[1mwandb\u001b[0m: \u001b[33mWARNING\u001b[0m Ignored wandb.init() arg project when running a sweep.\n",
      "\u001b[34m\u001b[1mwandb\u001b[0m: \u001b[33mWARNING\u001b[0m Ignored wandb.init() arg entity when running a sweep.\n"
     ]
    },
    {
     "data": {
      "text/html": [
       "\n",
       "                    Syncing run <strong><a href=\"https://wandb.ai/alpheron/stock-predictions-alltime/runs/2de7j40v\" target=\"_blank\">fanciful-sweep-20</a></strong> to <a href=\"https://wandb.ai/alpheron/stock-predictions-alltime\" target=\"_blank\">Weights & Biases</a> (<a href=\"https://docs.wandb.com/integrations/jupyter.html\" target=\"_blank\">docs</a>).<br/>\n",
       "Sweep page: <a href=\"https://wandb.ai/alpheron/stock-predictions-alltime/sweeps/8gz0pdfk\" target=\"_blank\">https://wandb.ai/alpheron/stock-predictions-alltime/sweeps/8gz0pdfk</a><br/>\n",
       "\n",
       "                "
      ],
      "text/plain": [
       "<IPython.core.display.HTML object>"
      ]
     },
     "metadata": {},
     "output_type": "display_data"
    },
    {
     "name": "stdout",
     "output_type": "stream",
     "text": [
      "Epoch 1/100\n",
      "73/73 [==============================] - 13s 176ms/step - loss: 0.0479 - root_mean_squared_error: 0.2189\n",
      "Epoch 2/100\n",
      "73/73 [==============================] - 11s 155ms/step - loss: 0.0026 - root_mean_squared_error: 0.0509\n",
      "Epoch 3/100\n",
      "73/73 [==============================] - 11s 152ms/step - loss: 4.7637e-04 - root_mean_squared_error: 0.0218\n",
      "Epoch 4/100\n",
      "73/73 [==============================] - 11s 146ms/step - loss: 9.3409e-04 - root_mean_squared_error: 0.0306\n",
      "Epoch 5/100\n",
      "73/73 [==============================] - 10s 138ms/step - loss: 5.5570e-04 - root_mean_squared_error: 0.0236\n",
      "Epoch 6/100\n",
      "73/73 [==============================] - 10s 141ms/step - loss: 8.3685e-04 - root_mean_squared_error: 0.0289\n",
      "Epoch 7/100\n",
      "73/73 [==============================] - 10s 139ms/step - loss: 4.8065e-04 - root_mean_squared_error: 0.0219\n",
      "Epoch 8/100\n",
      "73/73 [==============================] - 10s 141ms/step - loss: 4.9480e-04 - root_mean_squared_error: 0.0222\n"
     ]
    },
    {
     "name": "stderr",
     "output_type": "stream",
     "text": [
      "WARNING:absl:Found untraced functions such as lstm_cell_layer_call_fn, lstm_cell_layer_call_and_return_conditional_losses while saving (showing 2 of 2). These functions will not be directly callable after loading.\n"
     ]
    },
    {
     "name": "stdout",
     "output_type": "stream",
     "text": [
      "INFO:tensorflow:Assets written to: /Users/aditya/Programming/stock-market-predictions/logs/MSFT/assets\n"
     ]
    },
    {
     "name": "stderr",
     "output_type": "stream",
     "text": [
      "INFO:tensorflow:Assets written to: /Users/aditya/Programming/stock-market-predictions/logs/MSFT/assets\n",
      "WARNING:absl:<keras.layers.recurrent.LSTMCell object at 0x7fdd1bf4caf0> has the same name 'LSTMCell' as a built-in Keras object. Consider renaming <class 'keras.layers.recurrent.LSTMCell'> to avoid naming conflicts when loading with `tf.keras.models.load_model`. If renaming is not possible, pass the object in the `custom_objects` parameter of the load function.\n"
     ]
    },
    {
     "name": "stdout",
     "output_type": "stream",
     "text": [
      "(126, 60, 1)\n"
     ]
    },
    {
     "name": "stderr",
     "output_type": "stream",
     "text": [
      "\u001b[34m\u001b[1mwandb\u001b[0m: Adding directory to artifact (/Users/aditya/Programming/stock-market-predictions/logs/MSFT-5-Year)... Done. 0.0s\n"
     ]
    },
    {
     "name": "stdout",
     "output_type": "stream",
     "text": [
      "the root mean squared error is: 11.843343730042957\n"
     ]
    },
    {
     "data": {
      "text/html": [
       "<br/>Waiting for W&B process to finish, PID 15475... <strong style=\"color:green\">(success).</strong>"
      ],
      "text/plain": [
       "<IPython.core.display.HTML object>"
      ]
     },
     "metadata": {},
     "output_type": "display_data"
    },
    {
     "data": {
      "application/vnd.jupyter.widget-view+json": {
       "model_id": "7fd05c88a86a42cbbb0a6e8d7c4dcb36",
       "version_major": 2,
       "version_minor": 0
      },
      "text/plain": [
       "VBox(children=(Label(value=' 1.11MB of 1.11MB uploaded (0.01MB deduped)\\r'), FloatProgress(value=1.0, max=1.0)…"
      ]
     },
     "metadata": {},
     "output_type": "display_data"
    },
    {
     "data": {
      "text/html": [
       "<style>\n",
       "    table.wandb td:nth-child(1) { padding: 0 10px; text-align: right }\n",
       "    .wandb-row { display: flex; flex-direction: row; flex-wrap: wrap; width: 100% }\n",
       "    .wandb-col { display: flex; flex-direction: column; flex-basis: 100%; flex: 1; padding: 10px; }\n",
       "    </style>\n",
       "<div class=\"wandb-row\"><div class=\"wandb-col\">\n",
       "<h3>Run history:</h3><br/><table class=\"wandb\"><tr><td>epoch</td><td>▁▂▃▄▅▆▇█</td></tr><tr><td>loss</td><td>█▁▁▁▁▁▁▁</td></tr><tr><td>root_mean_square_error</td><td>▁</td></tr><tr><td>root_mean_squared_error</td><td>█▂▁▁▁▁▁▁</td></tr></table><br/></div><div class=\"wandb-col\">\n",
       "<h3>Run summary:</h3><br/><table class=\"wandb\"><tr><td>epoch</td><td>7</td></tr><tr><td>loss</td><td>0.00049</td></tr><tr><td>root_mean_square_error</td><td>11.84334</td></tr><tr><td>root_mean_squared_error</td><td>0.02224</td></tr></table>\n",
       "</div></div>\n",
       "Synced 6 W&B file(s), 1 media file(s), 4 artifact file(s) and 1 other file(s)\n",
       "<br/>Synced <strong style=\"color:#cdcd00\">fanciful-sweep-20</strong>: <a href=\"https://wandb.ai/alpheron/stock-predictions-alltime/runs/2de7j40v\" target=\"_blank\">https://wandb.ai/alpheron/stock-predictions-alltime/runs/2de7j40v</a><br/>\n",
       "Find logs at: <code>./wandb/run-20220227_181403-2de7j40v/logs</code><br/>\n"
      ],
      "text/plain": [
       "<IPython.core.display.HTML object>"
      ]
     },
     "metadata": {},
     "output_type": "display_data"
    },
    {
     "name": "stderr",
     "output_type": "stream",
     "text": [
      "\u001b[34m\u001b[1mwandb\u001b[0m: Agent Starting Run: c0rrmndc with config:\n",
      "\u001b[34m\u001b[1mwandb\u001b[0m: \tLSTM_UNITS: 5\n",
      "\u001b[34m\u001b[1mwandb\u001b[0m: \tepochs: 100\n",
      "\u001b[34m\u001b[1mwandb\u001b[0m: \u001b[33mWARNING\u001b[0m Ignored wandb.init() arg project when running a sweep.\n",
      "\u001b[34m\u001b[1mwandb\u001b[0m: \u001b[33mWARNING\u001b[0m Ignored wandb.init() arg entity when running a sweep.\n"
     ]
    },
    {
     "data": {
      "text/html": [
       "\n",
       "                    Syncing run <strong><a href=\"https://wandb.ai/alpheron/stock-predictions-alltime/runs/c0rrmndc\" target=\"_blank\">dainty-sweep-21</a></strong> to <a href=\"https://wandb.ai/alpheron/stock-predictions-alltime\" target=\"_blank\">Weights & Biases</a> (<a href=\"https://docs.wandb.com/integrations/jupyter.html\" target=\"_blank\">docs</a>).<br/>\n",
       "Sweep page: <a href=\"https://wandb.ai/alpheron/stock-predictions-alltime/sweeps/8gz0pdfk\" target=\"_blank\">https://wandb.ai/alpheron/stock-predictions-alltime/sweeps/8gz0pdfk</a><br/>\n",
       "\n",
       "                "
      ],
      "text/plain": [
       "<IPython.core.display.HTML object>"
      ]
     },
     "metadata": {},
     "output_type": "display_data"
    },
    {
     "name": "stdout",
     "output_type": "stream",
     "text": [
      "Epoch 1/100\n",
      "73/73 [==============================] - 12s 170ms/step - loss: 0.0600 - root_mean_squared_error: 0.2450\n",
      "Epoch 2/100\n",
      "73/73 [==============================] - 10s 133ms/step - loss: 0.0057 - root_mean_squared_error: 0.0757\n",
      "Epoch 3/100\n",
      "73/73 [==============================] - 11s 153ms/step - loss: 3.6142e-04 - root_mean_squared_error: 0.0190\n",
      "Epoch 4/100\n",
      "73/73 [==============================] - 10s 144ms/step - loss: 3.0786e-04 - root_mean_squared_error: 0.0175\n",
      "Epoch 5/100\n",
      "73/73 [==============================] - 11s 156ms/step - loss: 2.8552e-04 - root_mean_squared_error: 0.0169\n",
      "Epoch 6/100\n",
      "73/73 [==============================] - 11s 146ms/step - loss: 3.1842e-04 - root_mean_squared_error: 0.0178\n",
      "Epoch 7/100\n",
      "73/73 [==============================] - 10s 136ms/step - loss: 3.4824e-04 - root_mean_squared_error: 0.0187\n",
      "Epoch 8/100\n",
      "73/73 [==============================] - 11s 145ms/step - loss: 3.8715e-04 - root_mean_squared_error: 0.0197\n",
      "Epoch 9/100\n",
      "73/73 [==============================] - 10s 144ms/step - loss: 2.6304e-04 - root_mean_squared_error: 0.0162\n",
      "Epoch 10/100\n",
      "73/73 [==============================] - 11s 144ms/step - loss: 3.9881e-04 - root_mean_squared_error: 0.0200\n",
      "Epoch 11/100\n",
      "73/73 [==============================] - 10s 139ms/step - loss: 3.3673e-04 - root_mean_squared_error: 0.0184\n",
      "Epoch 12/100\n",
      "73/73 [==============================] - 11s 147ms/step - loss: 2.4975e-04 - root_mean_squared_error: 0.0158\n",
      "Epoch 13/100\n",
      "73/73 [==============================] - 11s 145ms/step - loss: 3.2392e-04 - root_mean_squared_error: 0.0180\n",
      "Epoch 14/100\n",
      "73/73 [==============================] - 11s 149ms/step - loss: 4.7033e-04 - root_mean_squared_error: 0.0217\n",
      "Epoch 15/100\n",
      "73/73 [==============================] - 12s 162ms/step - loss: 2.5745e-04 - root_mean_squared_error: 0.0160\n",
      "Epoch 16/100\n",
      "73/73 [==============================] - 11s 145ms/step - loss: 2.1416e-04 - root_mean_squared_error: 0.0146\n",
      "Epoch 17/100\n",
      "73/73 [==============================] - 13s 176ms/step - loss: 2.7366e-04 - root_mean_squared_error: 0.0165\n",
      "Epoch 18/100\n",
      "73/73 [==============================] - 11s 147ms/step - loss: 2.3213e-04 - root_mean_squared_error: 0.0152\n",
      "Epoch 19/100\n",
      "73/73 [==============================] - 10s 143ms/step - loss: 2.6747e-04 - root_mean_squared_error: 0.0164\n",
      "Epoch 20/100\n",
      "73/73 [==============================] - 10s 140ms/step - loss: 2.6572e-04 - root_mean_squared_error: 0.0163\n",
      "Epoch 21/100\n",
      "73/73 [==============================] - 10s 143ms/step - loss: 2.6625e-04 - root_mean_squared_error: 0.0163\n"
     ]
    },
    {
     "name": "stderr",
     "output_type": "stream",
     "text": [
      "WARNING:absl:Found untraced functions such as lstm_cell_layer_call_fn, lstm_cell_layer_call_and_return_conditional_losses while saving (showing 2 of 2). These functions will not be directly callable after loading.\n"
     ]
    },
    {
     "name": "stdout",
     "output_type": "stream",
     "text": [
      "INFO:tensorflow:Assets written to: /Users/aditya/Programming/stock-market-predictions/logs/MSFT/assets\n"
     ]
    },
    {
     "name": "stderr",
     "output_type": "stream",
     "text": [
      "INFO:tensorflow:Assets written to: /Users/aditya/Programming/stock-market-predictions/logs/MSFT/assets\n",
      "WARNING:absl:<keras.layers.recurrent.LSTMCell object at 0x7fdd2044cf70> has the same name 'LSTMCell' as a built-in Keras object. Consider renaming <class 'keras.layers.recurrent.LSTMCell'> to avoid naming conflicts when loading with `tf.keras.models.load_model`. If renaming is not possible, pass the object in the `custom_objects` parameter of the load function.\n"
     ]
    },
    {
     "name": "stdout",
     "output_type": "stream",
     "text": [
      "(126, 60, 1)\n"
     ]
    },
    {
     "name": "stderr",
     "output_type": "stream",
     "text": [
      "\u001b[34m\u001b[1mwandb\u001b[0m: Adding directory to artifact (/Users/aditya/Programming/stock-market-predictions/logs/MSFT-5-Year)... Done. 0.0s\n"
     ]
    },
    {
     "name": "stdout",
     "output_type": "stream",
     "text": [
      "the root mean squared error is: 9.516257608295364\n"
     ]
    },
    {
     "data": {
      "text/html": [
       "<br/>Waiting for W&B process to finish, PID 15534... <strong style=\"color:green\">(success).</strong>"
      ],
      "text/plain": [
       "<IPython.core.display.HTML object>"
      ]
     },
     "metadata": {},
     "output_type": "display_data"
    },
    {
     "data": {
      "application/vnd.jupyter.widget-view+json": {
       "model_id": "73b02e35dfca43738e24570cf3817ace",
       "version_major": 2,
       "version_minor": 0
      },
      "text/plain": [
       "VBox(children=(Label(value=' 1.11MB of 1.11MB uploaded (0.01MB deduped)\\r'), FloatProgress(value=1.0, max=1.0)…"
      ]
     },
     "metadata": {},
     "output_type": "display_data"
    },
    {
     "data": {
      "text/html": [
       "<style>\n",
       "    table.wandb td:nth-child(1) { padding: 0 10px; text-align: right }\n",
       "    .wandb-row { display: flex; flex-direction: row; flex-wrap: wrap; width: 100% }\n",
       "    .wandb-col { display: flex; flex-direction: column; flex-basis: 100%; flex: 1; padding: 10px; }\n",
       "    </style>\n",
       "<div class=\"wandb-row\"><div class=\"wandb-col\">\n",
       "<h3>Run history:</h3><br/><table class=\"wandb\"><tr><td>epoch</td><td>▁▁▂▂▂▃▃▃▄▄▅▅▅▆▆▆▇▇▇██</td></tr><tr><td>loss</td><td>█▂▁▁▁▁▁▁▁▁▁▁▁▁▁▁▁▁▁▁▁</td></tr><tr><td>root_mean_square_error</td><td>▁</td></tr><tr><td>root_mean_squared_error</td><td>█▃▁▁▁▁▁▁▁▁▁▁▁▁▁▁▁▁▁▁▁</td></tr></table><br/></div><div class=\"wandb-col\">\n",
       "<h3>Run summary:</h3><br/><table class=\"wandb\"><tr><td>epoch</td><td>20</td></tr><tr><td>loss</td><td>0.00027</td></tr><tr><td>root_mean_square_error</td><td>9.51626</td></tr><tr><td>root_mean_squared_error</td><td>0.01632</td></tr></table>\n",
       "</div></div>\n",
       "Synced 6 W&B file(s), 1 media file(s), 4 artifact file(s) and 1 other file(s)\n",
       "<br/>Synced <strong style=\"color:#cdcd00\">dainty-sweep-21</strong>: <a href=\"https://wandb.ai/alpheron/stock-predictions-alltime/runs/c0rrmndc\" target=\"_blank\">https://wandb.ai/alpheron/stock-predictions-alltime/runs/c0rrmndc</a><br/>\n",
       "Find logs at: <code>./wandb/run-20220227_181606-c0rrmndc/logs</code><br/>\n"
      ],
      "text/plain": [
       "<IPython.core.display.HTML object>"
      ]
     },
     "metadata": {},
     "output_type": "display_data"
    },
    {
     "name": "stderr",
     "output_type": "stream",
     "text": [
      "\u001b[34m\u001b[1mwandb\u001b[0m: Agent Starting Run: 5k6tlo1d with config:\n",
      "\u001b[34m\u001b[1mwandb\u001b[0m: \tLSTM_UNITS: 40\n",
      "\u001b[34m\u001b[1mwandb\u001b[0m: \tepochs: 100\n",
      "\u001b[34m\u001b[1mwandb\u001b[0m: \u001b[33mWARNING\u001b[0m Ignored wandb.init() arg project when running a sweep.\n",
      "\u001b[34m\u001b[1mwandb\u001b[0m: \u001b[33mWARNING\u001b[0m Ignored wandb.init() arg entity when running a sweep.\n"
     ]
    },
    {
     "data": {
      "text/html": [
       "\n",
       "                    Syncing run <strong><a href=\"https://wandb.ai/alpheron/stock-predictions-alltime/runs/5k6tlo1d\" target=\"_blank\">volcanic-sweep-22</a></strong> to <a href=\"https://wandb.ai/alpheron/stock-predictions-alltime\" target=\"_blank\">Weights & Biases</a> (<a href=\"https://docs.wandb.com/integrations/jupyter.html\" target=\"_blank\">docs</a>).<br/>\n",
       "Sweep page: <a href=\"https://wandb.ai/alpheron/stock-predictions-alltime/sweeps/8gz0pdfk\" target=\"_blank\">https://wandb.ai/alpheron/stock-predictions-alltime/sweeps/8gz0pdfk</a><br/>\n",
       "\n",
       "                "
      ],
      "text/plain": [
       "<IPython.core.display.HTML object>"
      ]
     },
     "metadata": {},
     "output_type": "display_data"
    }
   ],
   "source": [
    "wandb.agent('8gz0pdfk', function=train, project=\"stock-predictions-alltime\", entity=\"alpheron\")"
   ]
  }
 ],
 "metadata": {
  "interpreter": {
   "hash": "5e225dc237bd1c1a092e9ac5651f746e060bc6b9addf77a0a329a0bc83a46295"
  },
  "kernelspec": {
   "display_name": "Python 3.8.12 ('StockMarket')",
   "language": "python",
   "name": "python3"
  },
  "language_info": {
   "codemirror_mode": {
    "name": "ipython",
    "version": 3
   },
   "file_extension": ".py",
   "mimetype": "text/x-python",
   "name": "python",
   "nbconvert_exporter": "python",
   "pygments_lexer": "ipython3",
   "version": "3.8.12"
  },
  "orig_nbformat": 4
 },
 "nbformat": 4,
 "nbformat_minor": 2
}
