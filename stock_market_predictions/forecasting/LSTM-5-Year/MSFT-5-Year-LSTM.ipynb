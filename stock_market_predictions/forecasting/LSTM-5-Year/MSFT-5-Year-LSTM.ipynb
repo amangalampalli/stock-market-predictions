{
 "cells": [
  {
   "cell_type": "code",
   "execution_count": 6,
   "metadata": {},
   "outputs": [],
   "source": [
    "import os\n",
    "\n",
    "os.environ['WANDB_NOTEBOOK_NAME'] = '/Users/aditya/Programming/stock-market-predictions/stock_market_predictions/forecasting/LSTM-5-Year/MSFT-5-Year-LSTM.ipynb'"
   ]
  },
  {
   "cell_type": "code",
   "execution_count": 7,
   "metadata": {},
   "outputs": [
    {
     "name": "stdout",
     "output_type": "stream",
     "text": [
      "ERROR:tensorflow:==================================\n",
      "Object was never used (type <class 'tensorflow.python.ops.tensor_array_ops.TensorArray'>):\n",
      "<tensorflow.python.ops.tensor_array_ops.TensorArray object at 0x7fbb2900af10>\n",
      "If you want to mark it as used call its \"mark_used()\" method.\n",
      "It was originally created here:\n",
      "  File \"/usr/local/Caskroom/miniconda/base/envs/StockMarket/lib/python3.8/site-packages/keras/backend.py\", line 4739, in <genexpr>\n",
      "    ta.write(time, out) for ta, out in zip(output_ta_t, flat_output))  File \"/usr/local/Caskroom/miniconda/base/envs/StockMarket/lib/python3.8/site-packages/tensorflow/python/util/tf_should_use.py\", line 243, in wrapped\n",
      "    return _add_should_use_warning(fn(*args, **kwargs),\n",
      "==================================\n"
     ]
    },
    {
     "name": "stderr",
     "output_type": "stream",
     "text": [
      "ERROR:tensorflow:==================================\n",
      "Object was never used (type <class 'tensorflow.python.ops.tensor_array_ops.TensorArray'>):\n",
      "<tensorflow.python.ops.tensor_array_ops.TensorArray object at 0x7fbb2900af10>\n",
      "If you want to mark it as used call its \"mark_used()\" method.\n",
      "It was originally created here:\n",
      "  File \"/usr/local/Caskroom/miniconda/base/envs/StockMarket/lib/python3.8/site-packages/keras/backend.py\", line 4739, in <genexpr>\n",
      "    ta.write(time, out) for ta, out in zip(output_ta_t, flat_output))  File \"/usr/local/Caskroom/miniconda/base/envs/StockMarket/lib/python3.8/site-packages/tensorflow/python/util/tf_should_use.py\", line 243, in wrapped\n",
      "    return _add_should_use_warning(fn(*args, **kwargs),\n",
      "==================================\n"
     ]
    }
   ],
   "source": [
    "def train():\n",
    "    import pandas as pd\n",
    "    from os.path import abspath\n",
    "\n",
    "    import warnings\n",
    "    warnings.filterwarnings(\"ignore\")\n",
    "    df = pd.read_csv(abspath('../../../data/MSFT/MSFT-5-Year.csv'), index_col=0, parse_dates=['Date'])\n",
    "\n",
    "    df.columns.name = df.index.name\n",
    "    df.index.name = None\n",
    "\n",
    "    df = df.filter(['Date', 'Open'])\n",
    "    # Split the df into a training set and a test set\n",
    "    from sklearn.model_selection import train_test_split\n",
    "\n",
    "    # Split the data into training and testing sets\n",
    "    train_set, test_set = train_test_split(df, test_size=0.05, shuffle=False)\n",
    "\n",
    "    n_features = 1\n",
    "    from sklearn.preprocessing import MinMaxScaler\n",
    "\n",
    "    transformer = MinMaxScaler()\n",
    "    train_scaled = transformer.fit_transform(train_set)\n",
    "    test_scaled = transformer.fit_transform(test_set)\n",
    "    \n",
    "    import tensorflow as tf\n",
    "    from tensorflow.keras.preprocessing.sequence import TimeseriesGenerator # type: ignore\n",
    "\n",
    "    n_input = 60\n",
    "\n",
    "    train_generator=TimeseriesGenerator(train_scaled,\n",
    "                                        train_scaled,\n",
    "                                        length=n_input,\n",
    "                                        batch_size=32)\n",
    "    \n",
    "    from keras.models import Sequential\n",
    "    from keras.layers import Dense, LSTM\n",
    "\n",
    "    LSTM_UNITS = 20\n",
    "\n",
    "    model = Sequential()\n",
    "    model.add(LSTM(units=LSTM_UNITS, input_shape=(n_input, n_features)))\n",
    "    model.add(Dense(units=1))\n",
    "    \n",
    "    # Create an EarlyStopping callback\n",
    "    from keras.callbacks import EarlyStopping\n",
    "    early_stopping = EarlyStopping(monitor='loss', patience=5)\n",
    "    \n",
    "    import wandb\n",
    "    from wandb.keras import WandbCallback\n",
    "\n",
    "    wandb.init(project=\"stock-predictions\", entity=\"alpheron\", magic=True)\n",
    "\n",
    "    wandb.config = {\n",
    "    \"learning_rate\": 0.001,\n",
    "    \"epochs\": 100,\n",
    "    \"batch_size\": 32,\n",
    "    \"lstm_units\": LSTM_UNITS,\n",
    "    \"optimizer\": \"adam\",\n",
    "    }\n",
    "\n",
    "    from tensorflow.keras.metrics import RootMeanSquaredError\n",
    "    from stock_market_predictions.forecasting.adam import Adam\n",
    "\n",
    "    model.compile(optimizer=Adam(), loss='mean_squared_error', metrics=[RootMeanSquaredError()])\n",
    "    model.fit(train_generator, epochs=100, callbacks=[early_stopping, WandbCallback()])\n",
    "    model.save(abspath('../../../logs/MSFT-5-Year/'))\n",
    "\n",
    "    inputs = df[len(df)-len(test_set)-60 : ].values\n",
    "    inputs = inputs.reshape(-1,1)\n",
    "    inputs = transformer.transform(inputs)\n",
    "    import numpy as np\n",
    "\n",
    "    x_test = []\n",
    "    for i in range(60,len(inputs)):\n",
    "        x_test.append(inputs[i-60:i, 0])\n",
    "        \n",
    "    x_test = np.array(x_test)\n",
    "    x_test = np.reshape(x_test, (x_test.shape[0], x_test.shape[1], 1))\n",
    "    print(x_test.shape)\n",
    "    predicted = model.predict(x_test)\n",
    "    predicted = transformer.inverse_transform(predicted)\n",
    "\n",
    "    # Convert the predicted values to a dataframe\n",
    "    predicted_df = pd.DataFrame(predicted)\n",
    "\n",
    "    # Rename the column to \"Open\"\n",
    "    predicted_df.columns = ['Open']\n",
    "\n",
    "    # Add a new column called \"Date\" that has the same index as the other dataframe\n",
    "    predicted_df['Date'] = df[len(df)-len(test_set)-0 : ].index\n",
    "\n",
    "    # Set the 'Date' column as the index\n",
    "    predicted_df = predicted_df.set_index('Date')\n",
    "\n",
    "    import math\n",
    "    from sklearn.metrics import mean_squared_error\n",
    "\n",
    "    def return_rmse(test, predicted):\n",
    "        rmse = math.sqrt(mean_squared_error(test, predicted))\n",
    "        print(\"the root mean squared error is: {}\".format(rmse))\n",
    "        return rmse\n",
    "\n",
    "    RMSE = return_rmse(test_set, predicted)\n",
    "    wandb.log({\"root_mean_square_error\" : RMSE})\n",
    "    artifact = wandb.Artifact('Time-Series', type='model')\n",
    "    artifact.add_dir(abspath('../../../logs/MSFT-5-Year/'))\n",
    "    wandb.run.log_artifact(artifact)"
   ]
  },
  {
   "cell_type": "code",
   "execution_count": 8,
   "metadata": {},
   "outputs": [],
   "source": [
    "sweep_config = {\n",
    "    'method': 'bayes',\n",
    "    'metric': \n",
    "        {\n",
    "            'name': 'root_mean_square_error',\n",
    "            'goal': 'minimize',\n",
    "        },\n",
    "    'parameters': {\n",
    "        'LSTM_UNITS': {\n",
    "            'values': [5, 10, 15, 20, 25, 30, 35, 40, 45, 50, 55, 60, 65, 70, 75, 80, 85, 90, 95, 100, 105, 110, 120, 125, 130, 135, 140, 145, 150]\n",
    "        },\n",
    "        'epochs': {\n",
    "            'value': 100\n",
    "        }\n",
    "    },\n",
    "    'early_terminate': {\n",
    "        'type': 'hyperband',\n",
    "        's': 2,\n",
    "        'eta': 3,\n",
    "        'max_iter': 50\n",
    "    }\n",
    "}"
   ]
  },
  {
   "cell_type": "code",
   "execution_count": 9,
   "metadata": {},
   "outputs": [],
   "source": [
    "import wandb\n",
    "# sweep_id = wandb.sweep(sweep_config, project=\"stock-predictions\", entity=\"alpheron\")"
   ]
  },
  {
   "cell_type": "code",
   "execution_count": 10,
   "metadata": {},
   "outputs": [
    {
     "name": "stderr",
     "output_type": "stream",
     "text": [
      "\u001b[34m\u001b[1mwandb\u001b[0m: Agent Starting Run: jw2yg2d6 with config:\n",
      "\u001b[34m\u001b[1mwandb\u001b[0m: \tLSTM_UNITS: 85\n",
      "\u001b[34m\u001b[1mwandb\u001b[0m: \tepochs: 100\n",
      "\u001b[34m\u001b[1mwandb\u001b[0m: \u001b[33mWARNING\u001b[0m Ignored wandb.init() arg project when running a sweep.\n",
      "\u001b[34m\u001b[1mwandb\u001b[0m: \u001b[33mWARNING\u001b[0m Ignored wandb.init() arg entity when running a sweep.\n"
     ]
    },
    {
     "data": {
      "text/html": [
       "\n",
       "                    Syncing run <strong><a href=\"https://wandb.ai/alpheron/stock-predictions/runs/jw2yg2d6\" target=\"_blank\">major-sweep-149</a></strong> to <a href=\"https://wandb.ai/alpheron/stock-predictions\" target=\"_blank\">Weights & Biases</a> (<a href=\"https://docs.wandb.com/integrations/jupyter.html\" target=\"_blank\">docs</a>).<br/>\n",
       "Sweep page: <a href=\"https://wandb.ai/alpheron/stock-predictions/sweeps/21t67yna\" target=\"_blank\">https://wandb.ai/alpheron/stock-predictions/sweeps/21t67yna</a><br/>\n",
       "\n",
       "                "
      ],
      "text/plain": [
       "<IPython.core.display.HTML object>"
      ]
     },
     "metadata": {},
     "output_type": "display_data"
    },
    {
     "name": "stdout",
     "output_type": "stream",
     "text": [
      "Epoch 1/100\n",
      "36/36 [==============================] - 8s 231ms/step - loss: 0.0837 - root_mean_squared_error: 0.2894\n",
      "Epoch 2/100\n",
      "36/36 [==============================] - 9s 246ms/step - loss: 0.0104 - root_mean_squared_error: 0.1020\n",
      "Epoch 3/100\n",
      "36/36 [==============================] - 11s 303ms/step - loss: 0.0029 - root_mean_squared_error: 0.0536\n",
      "Epoch 4/100\n",
      "36/36 [==============================] - 11s 300ms/step - loss: 8.4761e-04 - root_mean_squared_error: 0.0291\n",
      "Epoch 5/100\n",
      "36/36 [==============================] - 8s 231ms/step - loss: 8.0264e-04 - root_mean_squared_error: 0.0283\n",
      "Epoch 6/100\n",
      "36/36 [==============================] - 8s 224ms/step - loss: 7.6498e-04 - root_mean_squared_error: 0.0277\n",
      "Epoch 7/100\n",
      "36/36 [==============================] - 6s 172ms/step - loss: 8.8985e-04 - root_mean_squared_error: 0.0298\n",
      "Epoch 8/100\n",
      "36/36 [==============================] - 6s 181ms/step - loss: 6.6991e-04 - root_mean_squared_error: 0.0259\n",
      "Epoch 9/100\n",
      "36/36 [==============================] - 7s 197ms/step - loss: 8.4375e-04 - root_mean_squared_error: 0.0290\n",
      "Epoch 10/100\n",
      "36/36 [==============================] - 5s 148ms/step - loss: 6.1305e-04 - root_mean_squared_error: 0.0248\n",
      "Epoch 11/100\n",
      "36/36 [==============================] - 8s 209ms/step - loss: 6.8333e-04 - root_mean_squared_error: 0.0261\n",
      "Epoch 12/100\n",
      "36/36 [==============================] - 7s 201ms/step - loss: 9.0875e-04 - root_mean_squared_error: 0.0301\n",
      "Epoch 13/100\n",
      "36/36 [==============================] - 7s 197ms/step - loss: 6.8859e-04 - root_mean_squared_error: 0.0262\n",
      "Epoch 14/100\n",
      "36/36 [==============================] - 7s 184ms/step - loss: 6.8210e-04 - root_mean_squared_error: 0.0261\n",
      "Epoch 15/100\n",
      "36/36 [==============================] - 8s 215ms/step - loss: 7.2640e-04 - root_mean_squared_error: 0.0270\n"
     ]
    },
    {
     "name": "stderr",
     "output_type": "stream",
     "text": [
      "WARNING:absl:Found untraced functions such as lstm_cell_layer_call_fn, lstm_cell_layer_call_and_return_conditional_losses while saving (showing 2 of 2). These functions will not be directly callable after loading.\n"
     ]
    },
    {
     "name": "stdout",
     "output_type": "stream",
     "text": [
      "INFO:tensorflow:Assets written to: /Users/aditya/Programming/stock-market-predictions/logs/MSFT-5-Year/assets\n"
     ]
    },
    {
     "name": "stderr",
     "output_type": "stream",
     "text": [
      "INFO:tensorflow:Assets written to: /Users/aditya/Programming/stock-market-predictions/logs/MSFT-5-Year/assets\n",
      "WARNING:absl:<keras.layers.recurrent.LSTMCell object at 0x7fbb29007430> has the same name 'LSTMCell' as a built-in Keras object. Consider renaming <class 'keras.layers.recurrent.LSTMCell'> to avoid naming conflicts when loading with `tf.keras.models.load_model`. If renaming is not possible, pass the object in the `custom_objects` parameter of the load function.\n"
     ]
    },
    {
     "name": "stdout",
     "output_type": "stream",
     "text": [
      "(63, 60, 1)\n"
     ]
    },
    {
     "name": "stderr",
     "output_type": "stream",
     "text": [
      "\u001b[34m\u001b[1mwandb\u001b[0m: Adding directory to artifact (/Users/aditya/Programming/stock-market-predictions/logs/MSFT-5-Year)... Done. 0.0s\n"
     ]
    },
    {
     "name": "stdout",
     "output_type": "stream",
     "text": [
      "the root mean squared error is: 10.625109866212421\n"
     ]
    },
    {
     "data": {
      "text/html": [
       "<br/>Waiting for W&B process to finish, PID 12693... <strong style=\"color:green\">(success).</strong>"
      ],
      "text/plain": [
       "<IPython.core.display.HTML object>"
      ]
     },
     "metadata": {},
     "output_type": "display_data"
    },
    {
     "data": {
      "application/vnd.jupyter.widget-view+json": {
       "model_id": "471c612898c44f4bb44c352511bb8e44",
       "version_major": 2,
       "version_minor": 0
      },
      "text/plain": [
       "VBox(children=(Label(value=' 1.11MB of 1.11MB uploaded (0.01MB deduped)\\r'), FloatProgress(value=1.0, max=1.0)…"
      ]
     },
     "metadata": {},
     "output_type": "display_data"
    },
    {
     "data": {
      "text/html": [
       "<style>\n",
       "    table.wandb td:nth-child(1) { padding: 0 10px; text-align: right }\n",
       "    .wandb-row { display: flex; flex-direction: row; flex-wrap: wrap; width: 100% }\n",
       "    .wandb-col { display: flex; flex-direction: column; flex-basis: 100%; flex: 1; padding: 10px; }\n",
       "    </style>\n",
       "<div class=\"wandb-row\"><div class=\"wandb-col\">\n",
       "<h3>Run history:</h3><br/><table class=\"wandb\"><tr><td>epoch</td><td>▁▁▂▃▃▃▄▅▅▅▆▇▇▇█</td></tr><tr><td>loss</td><td>█▂▁▁▁▁▁▁▁▁▁▁▁▁▁</td></tr><tr><td>root_mean_square_error</td><td>▁</td></tr><tr><td>root_mean_squared_error</td><td>█▃▂▁▁▁▁▁▁▁▁▁▁▁▁</td></tr></table><br/></div><div class=\"wandb-col\">\n",
       "<h3>Run summary:</h3><br/><table class=\"wandb\"><tr><td>epoch</td><td>14</td></tr><tr><td>loss</td><td>0.00073</td></tr><tr><td>root_mean_square_error</td><td>10.62511</td></tr><tr><td>root_mean_squared_error</td><td>0.02695</td></tr></table>\n",
       "</div></div>\n",
       "Synced 6 W&B file(s), 1 media file(s), 4 artifact file(s) and 1 other file(s)\n",
       "<br/>Synced <strong style=\"color:#cdcd00\">major-sweep-149</strong>: <a href=\"https://wandb.ai/alpheron/stock-predictions/runs/jw2yg2d6\" target=\"_blank\">https://wandb.ai/alpheron/stock-predictions/runs/jw2yg2d6</a><br/>\n",
       "Find logs at: <code>./wandb/run-20220227_165308-jw2yg2d6/logs</code><br/>\n"
      ],
      "text/plain": [
       "<IPython.core.display.HTML object>"
      ]
     },
     "metadata": {},
     "output_type": "display_data"
    },
    {
     "name": "stderr",
     "output_type": "stream",
     "text": [
      "\u001b[34m\u001b[1mwandb\u001b[0m: Agent Starting Run: dy6w23zo with config:\n",
      "\u001b[34m\u001b[1mwandb\u001b[0m: \tLSTM_UNITS: 75\n",
      "\u001b[34m\u001b[1mwandb\u001b[0m: \tepochs: 100\n",
      "\u001b[34m\u001b[1mwandb\u001b[0m: \u001b[33mWARNING\u001b[0m Ignored wandb.init() arg project when running a sweep.\n",
      "\u001b[34m\u001b[1mwandb\u001b[0m: \u001b[33mWARNING\u001b[0m Ignored wandb.init() arg entity when running a sweep.\n"
     ]
    },
    {
     "data": {
      "text/html": [
       "\n",
       "                    Syncing run <strong><a href=\"https://wandb.ai/alpheron/stock-predictions/runs/dy6w23zo\" target=\"_blank\">glamorous-sweep-150</a></strong> to <a href=\"https://wandb.ai/alpheron/stock-predictions\" target=\"_blank\">Weights & Biases</a> (<a href=\"https://docs.wandb.com/integrations/jupyter.html\" target=\"_blank\">docs</a>).<br/>\n",
       "Sweep page: <a href=\"https://wandb.ai/alpheron/stock-predictions/sweeps/21t67yna\" target=\"_blank\">https://wandb.ai/alpheron/stock-predictions/sweeps/21t67yna</a><br/>\n",
       "\n",
       "                "
      ],
      "text/plain": [
       "<IPython.core.display.HTML object>"
      ]
     },
     "metadata": {},
     "output_type": "display_data"
    },
    {
     "name": "stdout",
     "output_type": "stream",
     "text": [
      "Epoch 1/100\n",
      "36/36 [==============================] - 9s 226ms/step - loss: 0.0567 - root_mean_squared_error: 0.2380\n",
      "Epoch 2/100\n",
      "36/36 [==============================] - 8s 217ms/step - loss: 0.0079 - root_mean_squared_error: 0.0890\n",
      "Epoch 3/100\n",
      "36/36 [==============================] - 5s 151ms/step - loss: 0.0014 - root_mean_squared_error: 0.0370\n",
      "Epoch 4/100\n",
      "36/36 [==============================] - 8s 205ms/step - loss: 9.1972e-04 - root_mean_squared_error: 0.0303\n",
      "Epoch 5/100\n",
      "36/36 [==============================] - 8s 234ms/step - loss: 0.0011 - root_mean_squared_error: 0.0337\n",
      "Epoch 6/100\n",
      "36/36 [==============================] - 7s 182ms/step - loss: 8.3257e-04 - root_mean_squared_error: 0.0289\n",
      "Epoch 7/100\n",
      "36/36 [==============================] - 6s 164ms/step - loss: 6.7631e-04 - root_mean_squared_error: 0.0260\n",
      "Epoch 8/100\n",
      "36/36 [==============================] - 7s 208ms/step - loss: 8.0435e-04 - root_mean_squared_error: 0.0284\n",
      "Epoch 9/100\n",
      "36/36 [==============================] - 8s 218ms/step - loss: 0.0013 - root_mean_squared_error: 0.0366\n",
      "Epoch 10/100\n",
      "36/36 [==============================] - 8s 218ms/step - loss: 7.4762e-04 - root_mean_squared_error: 0.0273\n",
      "Epoch 11/100\n",
      "36/36 [==============================] - 7s 190ms/step - loss: 6.2729e-04 - root_mean_squared_error: 0.0250\n",
      "Epoch 12/100\n",
      "36/36 [==============================] - 5s 148ms/step - loss: 7.2096e-04 - root_mean_squared_error: 0.0269\n",
      "Epoch 13/100\n",
      "36/36 [==============================] - 6s 171ms/step - loss: 8.1649e-04 - root_mean_squared_error: 0.0286\n",
      "Epoch 14/100\n",
      "36/36 [==============================] - 5s 146ms/step - loss: 7.0538e-04 - root_mean_squared_error: 0.0266\n",
      "Epoch 15/100\n",
      "36/36 [==============================] - 6s 180ms/step - loss: 0.0015 - root_mean_squared_error: 0.0382\n",
      "Epoch 16/100\n",
      "36/36 [==============================] - 7s 189ms/step - loss: 6.3191e-04 - root_mean_squared_error: 0.0251\n"
     ]
    },
    {
     "name": "stderr",
     "output_type": "stream",
     "text": [
      "WARNING:absl:Found untraced functions such as lstm_cell_layer_call_fn, lstm_cell_layer_call_and_return_conditional_losses while saving (showing 2 of 2). These functions will not be directly callable after loading.\n"
     ]
    },
    {
     "name": "stdout",
     "output_type": "stream",
     "text": [
      "INFO:tensorflow:Assets written to: /Users/aditya/Programming/stock-market-predictions/logs/MSFT-5-Year/assets\n"
     ]
    },
    {
     "name": "stderr",
     "output_type": "stream",
     "text": [
      "INFO:tensorflow:Assets written to: /Users/aditya/Programming/stock-market-predictions/logs/MSFT-5-Year/assets\n",
      "WARNING:absl:<keras.layers.recurrent.LSTMCell object at 0x7fbb249595e0> has the same name 'LSTMCell' as a built-in Keras object. Consider renaming <class 'keras.layers.recurrent.LSTMCell'> to avoid naming conflicts when loading with `tf.keras.models.load_model`. If renaming is not possible, pass the object in the `custom_objects` parameter of the load function.\n"
     ]
    },
    {
     "name": "stdout",
     "output_type": "stream",
     "text": [
      "(63, 60, 1)\n"
     ]
    },
    {
     "name": "stderr",
     "output_type": "stream",
     "text": [
      "\u001b[34m\u001b[1mwandb\u001b[0m: Adding directory to artifact (/Users/aditya/Programming/stock-market-predictions/logs/MSFT-5-Year)... Done. 0.0s\n"
     ]
    },
    {
     "name": "stdout",
     "output_type": "stream",
     "text": [
      "the root mean squared error is: 11.407565634412004\n"
     ]
    },
    {
     "data": {
      "text/html": [
       "<br/>Waiting for W&B process to finish, PID 13037... <strong style=\"color:green\">(success).</strong>"
      ],
      "text/plain": [
       "<IPython.core.display.HTML object>"
      ]
     },
     "metadata": {},
     "output_type": "display_data"
    },
    {
     "data": {
      "application/vnd.jupyter.widget-view+json": {
       "model_id": "1d73e14c98d040e084e3784cddf73aaa",
       "version_major": 2,
       "version_minor": 0
      },
      "text/plain": [
       "VBox(children=(Label(value=' 1.11MB of 1.11MB uploaded (0.01MB deduped)\\r'), FloatProgress(value=1.0, max=1.0)…"
      ]
     },
     "metadata": {},
     "output_type": "display_data"
    },
    {
     "data": {
      "text/html": [
       "<style>\n",
       "    table.wandb td:nth-child(1) { padding: 0 10px; text-align: right }\n",
       "    .wandb-row { display: flex; flex-direction: row; flex-wrap: wrap; width: 100% }\n",
       "    .wandb-col { display: flex; flex-direction: column; flex-basis: 100%; flex: 1; padding: 10px; }\n",
       "    </style>\n",
       "<div class=\"wandb-row\"><div class=\"wandb-col\">\n",
       "<h3>Run history:</h3><br/><table class=\"wandb\"><tr><td>epoch</td><td>▁▁▂▂▃▃▄▄▅▅▆▆▇▇██</td></tr><tr><td>loss</td><td>█▂▁▁▁▁▁▁▁▁▁▁▁▁▁▁</td></tr><tr><td>root_mean_square_error</td><td>▁</td></tr><tr><td>root_mean_squared_error</td><td>█▃▁▁▁▁▁▁▁▁▁▁▁▁▁▁</td></tr></table><br/></div><div class=\"wandb-col\">\n",
       "<h3>Run summary:</h3><br/><table class=\"wandb\"><tr><td>epoch</td><td>15</td></tr><tr><td>loss</td><td>0.00063</td></tr><tr><td>root_mean_square_error</td><td>11.40757</td></tr><tr><td>root_mean_squared_error</td><td>0.02514</td></tr></table>\n",
       "</div></div>\n",
       "Synced 6 W&B file(s), 1 media file(s), 4 artifact file(s) and 1 other file(s)\n",
       "<br/>Synced <strong style=\"color:#cdcd00\">glamorous-sweep-150</strong>: <a href=\"https://wandb.ai/alpheron/stock-predictions/runs/dy6w23zo\" target=\"_blank\">https://wandb.ai/alpheron/stock-predictions/runs/dy6w23zo</a><br/>\n",
       "Find logs at: <code>./wandb/run-20220227_165548-dy6w23zo/logs</code><br/>\n"
      ],
      "text/plain": [
       "<IPython.core.display.HTML object>"
      ]
     },
     "metadata": {},
     "output_type": "display_data"
    },
    {
     "name": "stderr",
     "output_type": "stream",
     "text": [
      "\u001b[34m\u001b[1mwandb\u001b[0m: Agent Starting Run: h0rk1tnf with config:\n",
      "\u001b[34m\u001b[1mwandb\u001b[0m: \tLSTM_UNITS: 100\n",
      "\u001b[34m\u001b[1mwandb\u001b[0m: \tepochs: 100\n",
      "\u001b[34m\u001b[1mwandb\u001b[0m: \u001b[33mWARNING\u001b[0m Ignored wandb.init() arg project when running a sweep.\n",
      "\u001b[34m\u001b[1mwandb\u001b[0m: \u001b[33mWARNING\u001b[0m Ignored wandb.init() arg entity when running a sweep.\n"
     ]
    },
    {
     "data": {
      "text/html": [
       "\n",
       "                    Syncing run <strong><a href=\"https://wandb.ai/alpheron/stock-predictions/runs/h0rk1tnf\" target=\"_blank\">crisp-sweep-151</a></strong> to <a href=\"https://wandb.ai/alpheron/stock-predictions\" target=\"_blank\">Weights & Biases</a> (<a href=\"https://docs.wandb.com/integrations/jupyter.html\" target=\"_blank\">docs</a>).<br/>\n",
       "Sweep page: <a href=\"https://wandb.ai/alpheron/stock-predictions/sweeps/21t67yna\" target=\"_blank\">https://wandb.ai/alpheron/stock-predictions/sweeps/21t67yna</a><br/>\n",
       "\n",
       "                "
      ],
      "text/plain": [
       "<IPython.core.display.HTML object>"
      ]
     },
     "metadata": {},
     "output_type": "display_data"
    },
    {
     "name": "stdout",
     "output_type": "stream",
     "text": [
      "Epoch 1/100\n",
      "36/36 [==============================] - 11s 317ms/step - loss: 0.0279 - root_mean_squared_error: 0.1671\n",
      "Epoch 2/100\n",
      "36/36 [==============================] - 7s 183ms/step - loss: 0.0028 - root_mean_squared_error: 0.0526\n",
      "Epoch 3/100\n",
      "36/36 [==============================] - 9s 237ms/step - loss: 7.3775e-04 - root_mean_squared_error: 0.0272\n",
      "Epoch 4/100\n",
      "36/36 [==============================] - 7s 186ms/step - loss: 4.1113e-04 - root_mean_squared_error: 0.0203\n",
      "Epoch 5/100\n",
      "36/36 [==============================] - 10s 275ms/step - loss: 4.4340e-04 - root_mean_squared_error: 0.0211\n",
      "Epoch 6/100\n",
      "36/36 [==============================] - 8s 230ms/step - loss: 4.6318e-04 - root_mean_squared_error: 0.0215\n",
      "Epoch 7/100\n",
      "36/36 [==============================] - 7s 188ms/step - loss: 3.9291e-04 - root_mean_squared_error: 0.0198\n",
      "Epoch 8/100\n",
      "36/36 [==============================] - 6s 161ms/step - loss: 3.9690e-04 - root_mean_squared_error: 0.0199\n",
      "Epoch 9/100\n",
      "36/36 [==============================] - 9s 241ms/step - loss: 4.5448e-04 - root_mean_squared_error: 0.0213\n",
      "Epoch 10/100\n",
      "36/36 [==============================] - 6s 178ms/step - loss: 3.7431e-04 - root_mean_squared_error: 0.0193\n",
      "Epoch 11/100\n",
      "36/36 [==============================] - 6s 173ms/step - loss: 3.6058e-04 - root_mean_squared_error: 0.0190\n",
      "Epoch 12/100\n",
      "36/36 [==============================] - 9s 250ms/step - loss: 4.6549e-04 - root_mean_squared_error: 0.0216\n",
      "Epoch 13/100\n",
      "36/36 [==============================] - 10s 266ms/step - loss: 4.3393e-04 - root_mean_squared_error: 0.0208\n",
      "Epoch 14/100\n",
      "36/36 [==============================] - 11s 308ms/step - loss: 3.7038e-04 - root_mean_squared_error: 0.0192\n",
      "Epoch 15/100\n",
      "36/36 [==============================] - 6s 170ms/step - loss: 3.7462e-04 - root_mean_squared_error: 0.0194\n",
      "Epoch 16/100\n",
      "36/36 [==============================] - 7s 193ms/step - loss: 3.3569e-04 - root_mean_squared_error: 0.0183\n",
      "Epoch 17/100\n",
      "36/36 [==============================] - 7s 199ms/step - loss: 3.2235e-04 - root_mean_squared_error: 0.0180\n",
      "Epoch 18/100\n",
      "36/36 [==============================] - 5s 145ms/step - loss: 3.4061e-04 - root_mean_squared_error: 0.0185\n",
      "Epoch 19/100\n",
      "36/36 [==============================] - 6s 155ms/step - loss: 4.2235e-04 - root_mean_squared_error: 0.0206\n",
      "Epoch 20/100\n",
      "36/36 [==============================] - 9s 248ms/step - loss: 4.4428e-04 - root_mean_squared_error: 0.0211\n",
      "Epoch 21/100\n",
      "36/36 [==============================] - 5s 136ms/step - loss: 3.0942e-04 - root_mean_squared_error: 0.0176\n",
      "Epoch 22/100\n",
      "36/36 [==============================] - 7s 182ms/step - loss: 3.3941e-04 - root_mean_squared_error: 0.0184\n",
      "Epoch 23/100\n",
      "36/36 [==============================] - 7s 199ms/step - loss: 3.8526e-04 - root_mean_squared_error: 0.0196\n",
      "Epoch 24/100\n",
      "36/36 [==============================] - 9s 251ms/step - loss: 3.2435e-04 - root_mean_squared_error: 0.0180\n",
      "Epoch 25/100\n",
      "36/36 [==============================] - 7s 181ms/step - loss: 3.3016e-04 - root_mean_squared_error: 0.0182\n",
      "Epoch 26/100\n",
      "36/36 [==============================] - 6s 173ms/step - loss: 2.8927e-04 - root_mean_squared_error: 0.0170\n",
      "Epoch 27/100\n",
      "36/36 [==============================] - 6s 173ms/step - loss: 3.8874e-04 - root_mean_squared_error: 0.0197\n",
      "Epoch 28/100\n",
      "36/36 [==============================] - 6s 176ms/step - loss: 3.7426e-04 - root_mean_squared_error: 0.0193\n",
      "Epoch 29/100\n",
      "36/36 [==============================] - 9s 261ms/step - loss: 3.0897e-04 - root_mean_squared_error: 0.0176\n",
      "Epoch 30/100\n",
      "36/36 [==============================] - 7s 187ms/step - loss: 2.9985e-04 - root_mean_squared_error: 0.0173\n",
      "Epoch 31/100\n",
      "36/36 [==============================] - 6s 164ms/step - loss: 2.8264e-04 - root_mean_squared_error: 0.0168\n",
      "Epoch 32/100\n",
      "36/36 [==============================] - 8s 218ms/step - loss: 3.1551e-04 - root_mean_squared_error: 0.0178\n",
      "Epoch 33/100\n",
      "36/36 [==============================] - 6s 163ms/step - loss: 3.2014e-04 - root_mean_squared_error: 0.0179\n",
      "Epoch 34/100\n",
      "36/36 [==============================] - 5s 143ms/step - loss: 2.9636e-04 - root_mean_squared_error: 0.0172\n",
      "Epoch 35/100\n",
      "36/36 [==============================] - 5s 147ms/step - loss: 3.2395e-04 - root_mean_squared_error: 0.0180\n",
      "Epoch 36/100\n",
      "36/36 [==============================] - 5s 151ms/step - loss: 2.8737e-04 - root_mean_squared_error: 0.0170\n"
     ]
    },
    {
     "name": "stderr",
     "output_type": "stream",
     "text": [
      "WARNING:absl:Found untraced functions such as lstm_cell_layer_call_fn, lstm_cell_layer_call_and_return_conditional_losses while saving (showing 2 of 2). These functions will not be directly callable after loading.\n"
     ]
    },
    {
     "name": "stdout",
     "output_type": "stream",
     "text": [
      "INFO:tensorflow:Assets written to: /Users/aditya/Programming/stock-market-predictions/logs/MSFT-5-Year/assets\n"
     ]
    },
    {
     "name": "stderr",
     "output_type": "stream",
     "text": [
      "INFO:tensorflow:Assets written to: /Users/aditya/Programming/stock-market-predictions/logs/MSFT-5-Year/assets\n",
      "WARNING:absl:<keras.layers.recurrent.LSTMCell object at 0x7fbb247a4340> has the same name 'LSTMCell' as a built-in Keras object. Consider renaming <class 'keras.layers.recurrent.LSTMCell'> to avoid naming conflicts when loading with `tf.keras.models.load_model`. If renaming is not possible, pass the object in the `custom_objects` parameter of the load function.\n",
      "\u001b[34m\u001b[1mwandb\u001b[0m: Adding directory to artifact (/Users/aditya/Programming/stock-market-predictions/logs/MSFT-5-Year)... Done. 0.0s\n"
     ]
    },
    {
     "name": "stdout",
     "output_type": "stream",
     "text": [
      "(63, 60, 1)\n",
      "the root mean squared error is: 8.028535060417743\n"
     ]
    },
    {
     "data": {
      "text/html": [
       "<br/>Waiting for W&B process to finish, PID 13131... <strong style=\"color:green\">(success).</strong>"
      ],
      "text/plain": [
       "<IPython.core.display.HTML object>"
      ]
     },
     "metadata": {},
     "output_type": "display_data"
    },
    {
     "data": {
      "application/vnd.jupyter.widget-view+json": {
       "model_id": "c23a422ec56c485091e3243e806759b9",
       "version_major": 2,
       "version_minor": 0
      },
      "text/plain": [
       "VBox(children=(Label(value=' 1.11MB of 1.11MB uploaded (0.01MB deduped)\\r'), FloatProgress(value=1.0, max=1.0)…"
      ]
     },
     "metadata": {},
     "output_type": "display_data"
    },
    {
     "data": {
      "text/html": [
       "<style>\n",
       "    table.wandb td:nth-child(1) { padding: 0 10px; text-align: right }\n",
       "    .wandb-row { display: flex; flex-direction: row; flex-wrap: wrap; width: 100% }\n",
       "    .wandb-col { display: flex; flex-direction: column; flex-basis: 100%; flex: 1; padding: 10px; }\n",
       "    </style>\n",
       "<div class=\"wandb-row\"><div class=\"wandb-col\">\n",
       "<h3>Run history:</h3><br/><table class=\"wandb\"><tr><td>epoch</td><td>▁▁▁▂▂▂▂▂▃▃▃▃▃▄▄▄▄▄▅▅▅▅▅▆▆▆▆▆▇▇▇▇▇███</td></tr><tr><td>loss</td><td>█▂▁▁▁▁▁▁▁▁▁▁▁▁▁▁▁▁▁▁▁▁▁▁▁▁▁▁▁▁▁▁▁▁▁▁</td></tr><tr><td>root_mean_square_error</td><td>▁</td></tr><tr><td>root_mean_squared_error</td><td>█▃▁▁▁▁▁▁▁▁▁▁▁▁▁▁▁▁▁▁▁▁▁▁▁▁▁▁▁▁▁▁▁▁▁▁</td></tr></table><br/></div><div class=\"wandb-col\">\n",
       "<h3>Run summary:</h3><br/><table class=\"wandb\"><tr><td>epoch</td><td>35</td></tr><tr><td>loss</td><td>0.00029</td></tr><tr><td>root_mean_square_error</td><td>8.02854</td></tr><tr><td>root_mean_squared_error</td><td>0.01695</td></tr></table>\n",
       "</div></div>\n",
       "Synced 6 W&B file(s), 1 media file(s), 4 artifact file(s) and 1 other file(s)\n",
       "<br/>Synced <strong style=\"color:#cdcd00\">crisp-sweep-151</strong>: <a href=\"https://wandb.ai/alpheron/stock-predictions/runs/h0rk1tnf\" target=\"_blank\">https://wandb.ai/alpheron/stock-predictions/runs/h0rk1tnf</a><br/>\n",
       "Find logs at: <code>./wandb/run-20220227_165818-h0rk1tnf/logs</code><br/>\n"
      ],
      "text/plain": [
       "<IPython.core.display.HTML object>"
      ]
     },
     "metadata": {},
     "output_type": "display_data"
    },
    {
     "name": "stderr",
     "output_type": "stream",
     "text": [
      "\u001b[34m\u001b[1mwandb\u001b[0m: Agent Starting Run: nrr9na9x with config:\n",
      "\u001b[34m\u001b[1mwandb\u001b[0m: \tLSTM_UNITS: 100\n",
      "\u001b[34m\u001b[1mwandb\u001b[0m: \tepochs: 100\n",
      "\u001b[34m\u001b[1mwandb\u001b[0m: \u001b[33mWARNING\u001b[0m Ignored wandb.init() arg project when running a sweep.\n",
      "\u001b[34m\u001b[1mwandb\u001b[0m: \u001b[33mWARNING\u001b[0m Ignored wandb.init() arg entity when running a sweep.\n"
     ]
    },
    {
     "data": {
      "text/html": [
       "\n",
       "                    Syncing run <strong><a href=\"https://wandb.ai/alpheron/stock-predictions/runs/nrr9na9x\" target=\"_blank\">clean-sweep-152</a></strong> to <a href=\"https://wandb.ai/alpheron/stock-predictions\" target=\"_blank\">Weights & Biases</a> (<a href=\"https://docs.wandb.com/integrations/jupyter.html\" target=\"_blank\">docs</a>).<br/>\n",
       "Sweep page: <a href=\"https://wandb.ai/alpheron/stock-predictions/sweeps/21t67yna\" target=\"_blank\">https://wandb.ai/alpheron/stock-predictions/sweeps/21t67yna</a><br/>\n",
       "\n",
       "                "
      ],
      "text/plain": [
       "<IPython.core.display.HTML object>"
      ]
     },
     "metadata": {},
     "output_type": "display_data"
    },
    {
     "name": "stdout",
     "output_type": "stream",
     "text": [
      "Epoch 1/100\n",
      "36/36 [==============================] - 8s 227ms/step - loss: 0.1210 - root_mean_squared_error: 0.3479\n",
      "Epoch 2/100\n",
      "36/36 [==============================] - 6s 175ms/step - loss: 0.0145 - root_mean_squared_error: 0.1205\n",
      "Epoch 3/100\n",
      "36/36 [==============================] - 6s 174ms/step - loss: 0.0050 - root_mean_squared_error: 0.0708\n",
      "Epoch 4/100\n",
      "36/36 [==============================] - 7s 194ms/step - loss: 0.0017 - root_mean_squared_error: 0.0410\n",
      "Epoch 5/100\n",
      "36/36 [==============================] - 6s 156ms/step - loss: 0.0012 - root_mean_squared_error: 0.0340\n",
      "Epoch 6/100\n",
      "36/36 [==============================] - 7s 183ms/step - loss: 0.0010 - root_mean_squared_error: 0.0324\n",
      "Epoch 7/100\n",
      "36/36 [==============================] - 7s 182ms/step - loss: 0.0012 - root_mean_squared_error: 0.0351\n",
      "Epoch 8/100\n",
      "36/36 [==============================] - 6s 176ms/step - loss: 8.9545e-04 - root_mean_squared_error: 0.0299\n",
      "Epoch 9/100\n",
      "36/36 [==============================] - 6s 154ms/step - loss: 9.7303e-04 - root_mean_squared_error: 0.0312\n",
      "Epoch 10/100\n",
      "36/36 [==============================] - 6s 172ms/step - loss: 9.9039e-04 - root_mean_squared_error: 0.0315\n",
      "Epoch 11/100\n",
      "36/36 [==============================] - 7s 188ms/step - loss: 9.1604e-04 - root_mean_squared_error: 0.0303\n",
      "Epoch 12/100\n",
      "36/36 [==============================] - 6s 155ms/step - loss: 0.0015 - root_mean_squared_error: 0.0391\n",
      "Epoch 13/100\n",
      "36/36 [==============================] - 5s 142ms/step - loss: 7.6440e-04 - root_mean_squared_error: 0.0276\n",
      "Epoch 14/100\n",
      "36/36 [==============================] - 6s 179ms/step - loss: 7.7563e-04 - root_mean_squared_error: 0.0279\n",
      "Epoch 15/100\n",
      "36/36 [==============================] - 6s 163ms/step - loss: 9.3927e-04 - root_mean_squared_error: 0.0306\n",
      "Epoch 16/100\n",
      "36/36 [==============================] - 8s 212ms/step - loss: 7.5852e-04 - root_mean_squared_error: 0.0275\n",
      "Epoch 17/100\n",
      "36/36 [==============================] - 6s 180ms/step - loss: 6.7815e-04 - root_mean_squared_error: 0.0260\n",
      "Epoch 18/100\n",
      "36/36 [==============================] - 6s 153ms/step - loss: 0.0011 - root_mean_squared_error: 0.0336\n",
      "Epoch 19/100\n",
      "36/36 [==============================] - 5s 146ms/step - loss: 8.3640e-04 - root_mean_squared_error: 0.0289\n",
      "Epoch 20/100\n",
      "36/36 [==============================] - 7s 187ms/step - loss: 8.5125e-04 - root_mean_squared_error: 0.0292\n",
      "Epoch 21/100\n",
      "36/36 [==============================] - 6s 151ms/step - loss: 7.5160e-04 - root_mean_squared_error: 0.0274\n",
      "Epoch 22/100\n",
      "36/36 [==============================] - 5s 145ms/step - loss: 6.2603e-04 - root_mean_squared_error: 0.0250\n",
      "Epoch 23/100\n",
      "36/36 [==============================] - 6s 152ms/step - loss: 5.9027e-04 - root_mean_squared_error: 0.0243\n",
      "Epoch 24/100\n",
      "36/36 [==============================] - 5s 145ms/step - loss: 6.0520e-04 - root_mean_squared_error: 0.0246\n",
      "Epoch 25/100\n",
      "36/36 [==============================] - 5s 143ms/step - loss: 6.2978e-04 - root_mean_squared_error: 0.0251\n",
      "Epoch 26/100\n",
      "36/36 [==============================] - 7s 184ms/step - loss: 7.1124e-04 - root_mean_squared_error: 0.0267\n",
      "Epoch 27/100\n",
      "36/36 [==============================] - 5s 141ms/step - loss: 5.8916e-04 - root_mean_squared_error: 0.0243\n",
      "Epoch 28/100\n",
      "36/36 [==============================] - 6s 153ms/step - loss: 6.1379e-04 - root_mean_squared_error: 0.0248\n",
      "Epoch 29/100\n",
      "36/36 [==============================] - 6s 167ms/step - loss: 6.7257e-04 - root_mean_squared_error: 0.0259\n",
      "Epoch 30/100\n",
      "36/36 [==============================] - 6s 179ms/step - loss: 5.7581e-04 - root_mean_squared_error: 0.0240\n",
      "Epoch 31/100\n",
      "36/36 [==============================] - 12s 332ms/step - loss: 5.8309e-04 - root_mean_squared_error: 0.0241\n",
      "Epoch 32/100\n",
      "36/36 [==============================] - 12s 315ms/step - loss: 5.3182e-04 - root_mean_squared_error: 0.0231\n",
      "Epoch 33/100\n",
      "36/36 [==============================] - 6s 173ms/step - loss: 4.8449e-04 - root_mean_squared_error: 0.0220\n",
      "Epoch 34/100\n",
      "36/36 [==============================] - 10s 283ms/step - loss: 5.4201e-04 - root_mean_squared_error: 0.0233\n",
      "Epoch 35/100\n",
      "36/36 [==============================] - 9s 259ms/step - loss: 5.6572e-04 - root_mean_squared_error: 0.0238\n",
      "Epoch 36/100\n",
      "36/36 [==============================] - 9s 242ms/step - loss: 4.7019e-04 - root_mean_squared_error: 0.0217\n",
      "Epoch 37/100\n",
      "36/36 [==============================] - 6s 161ms/step - loss: 4.6729e-04 - root_mean_squared_error: 0.0216\n",
      "Epoch 38/100\n",
      "36/36 [==============================] - 8s 231ms/step - loss: 5.0558e-04 - root_mean_squared_error: 0.0225\n",
      "Epoch 39/100\n",
      "36/36 [==============================] - 6s 161ms/step - loss: 5.1616e-04 - root_mean_squared_error: 0.0227\n",
      "Epoch 40/100\n",
      "36/36 [==============================] - 5s 152ms/step - loss: 5.5753e-04 - root_mean_squared_error: 0.0236\n",
      "Epoch 41/100\n",
      "36/36 [==============================] - 6s 161ms/step - loss: 4.4875e-04 - root_mean_squared_error: 0.0212\n",
      "Epoch 42/100\n",
      "36/36 [==============================] - 6s 175ms/step - loss: 4.1667e-04 - root_mean_squared_error: 0.0204\n",
      "Epoch 43/100\n",
      "36/36 [==============================] - 5s 135ms/step - loss: 4.8052e-04 - root_mean_squared_error: 0.0219\n",
      "Epoch 44/100\n",
      "36/36 [==============================] - 5s 146ms/step - loss: 3.9504e-04 - root_mean_squared_error: 0.0199\n",
      "Epoch 45/100\n",
      "36/36 [==============================] - 6s 159ms/step - loss: 4.8179e-04 - root_mean_squared_error: 0.0219\n",
      "Epoch 46/100\n",
      "36/36 [==============================] - 5s 148ms/step - loss: 3.9082e-04 - root_mean_squared_error: 0.0198\n",
      "Epoch 47/100\n",
      "36/36 [==============================] - 6s 173ms/step - loss: 3.9194e-04 - root_mean_squared_error: 0.0198\n",
      "Epoch 48/100\n",
      "36/36 [==============================] - 5s 145ms/step - loss: 5.2811e-04 - root_mean_squared_error: 0.0230\n",
      "Epoch 49/100\n",
      "36/36 [==============================] - 5s 145ms/step - loss: 6.5739e-04 - root_mean_squared_error: 0.0256\n",
      "Epoch 50/100\n",
      "36/36 [==============================] - 5s 152ms/step - loss: 3.7990e-04 - root_mean_squared_error: 0.0195\n",
      "Epoch 51/100\n",
      "36/36 [==============================] - 5s 149ms/step - loss: 3.9052e-04 - root_mean_squared_error: 0.0198\n",
      "Epoch 52/100\n",
      "36/36 [==============================] - 5s 143ms/step - loss: 3.9433e-04 - root_mean_squared_error: 0.0199\n",
      "Epoch 53/100\n",
      "36/36 [==============================] - 5s 145ms/step - loss: 3.6376e-04 - root_mean_squared_error: 0.0191\n",
      "Epoch 54/100\n",
      "36/36 [==============================] - 5s 144ms/step - loss: 3.9601e-04 - root_mean_squared_error: 0.0199\n",
      "Epoch 55/100\n",
      "36/36 [==============================] - 5s 145ms/step - loss: 3.4711e-04 - root_mean_squared_error: 0.0186\n",
      "Epoch 56/100\n",
      "36/36 [==============================] - 5s 142ms/step - loss: 3.6355e-04 - root_mean_squared_error: 0.0191\n",
      "Epoch 57/100\n",
      "36/36 [==============================] - 5s 146ms/step - loss: 3.5383e-04 - root_mean_squared_error: 0.0188\n",
      "Epoch 58/100\n",
      "36/36 [==============================] - 5s 149ms/step - loss: 3.4753e-04 - root_mean_squared_error: 0.0186\n",
      "Epoch 59/100\n",
      "36/36 [==============================] - 5s 142ms/step - loss: 3.6553e-04 - root_mean_squared_error: 0.0191\n",
      "Epoch 60/100\n",
      "36/36 [==============================] - 5s 150ms/step - loss: 3.4061e-04 - root_mean_squared_error: 0.0185\n",
      "Epoch 61/100\n",
      "36/36 [==============================] - 6s 159ms/step - loss: 4.1881e-04 - root_mean_squared_error: 0.0205\n",
      "Epoch 62/100\n",
      "36/36 [==============================] - 6s 171ms/step - loss: 3.6044e-04 - root_mean_squared_error: 0.0190\n",
      "Epoch 63/100\n",
      "36/36 [==============================] - 8s 209ms/step - loss: 3.3255e-04 - root_mean_squared_error: 0.0182\n",
      "Epoch 64/100\n",
      "36/36 [==============================] - 6s 160ms/step - loss: 3.4378e-04 - root_mean_squared_error: 0.0185\n",
      "Epoch 65/100\n",
      "36/36 [==============================] - 7s 186ms/step - loss: 3.4026e-04 - root_mean_squared_error: 0.0184\n",
      "Epoch 66/100\n",
      "36/36 [==============================] - 8s 211ms/step - loss: 3.2102e-04 - root_mean_squared_error: 0.0179\n",
      "Epoch 67/100\n",
      "36/36 [==============================] - 7s 192ms/step - loss: 3.2053e-04 - root_mean_squared_error: 0.0179\n",
      "Epoch 68/100\n",
      "36/36 [==============================] - 9s 249ms/step - loss: 3.3505e-04 - root_mean_squared_error: 0.0183\n",
      "Epoch 69/100\n",
      "36/36 [==============================] - 6s 167ms/step - loss: 3.2316e-04 - root_mean_squared_error: 0.0180\n",
      "Epoch 70/100\n",
      "36/36 [==============================] - 6s 172ms/step - loss: 3.8803e-04 - root_mean_squared_error: 0.0197\n",
      "Epoch 71/100\n",
      "36/36 [==============================] - 6s 163ms/step - loss: 3.1907e-04 - root_mean_squared_error: 0.0179\n",
      "Epoch 72/100\n",
      "36/36 [==============================] - 8s 217ms/step - loss: 3.2081e-04 - root_mean_squared_error: 0.0179\n",
      "Epoch 73/100\n",
      "36/36 [==============================] - 6s 157ms/step - loss: 4.2682e-04 - root_mean_squared_error: 0.0207\n",
      "Epoch 74/100\n",
      "36/36 [==============================] - 6s 159ms/step - loss: 3.5897e-04 - root_mean_squared_error: 0.0189\n",
      "Epoch 75/100\n",
      "36/36 [==============================] - 6s 153ms/step - loss: 3.0182e-04 - root_mean_squared_error: 0.0174\n",
      "Epoch 76/100\n",
      "36/36 [==============================] - 6s 178ms/step - loss: 2.9300e-04 - root_mean_squared_error: 0.0171\n",
      "Epoch 77/100\n",
      "36/36 [==============================] - 8s 228ms/step - loss: 3.1620e-04 - root_mean_squared_error: 0.0178\n",
      "Epoch 78/100\n",
      "36/36 [==============================] - 8s 216ms/step - loss: 4.2369e-04 - root_mean_squared_error: 0.0206\n",
      "Epoch 79/100\n",
      "36/36 [==============================] - 7s 193ms/step - loss: 2.9821e-04 - root_mean_squared_error: 0.0173\n",
      "Epoch 80/100\n",
      "36/36 [==============================] - 8s 215ms/step - loss: 3.0758e-04 - root_mean_squared_error: 0.0175\n",
      "Epoch 81/100\n",
      "36/36 [==============================] - 6s 161ms/step - loss: 2.9028e-04 - root_mean_squared_error: 0.0170\n",
      "Epoch 82/100\n",
      "36/36 [==============================] - 6s 166ms/step - loss: 3.2013e-04 - root_mean_squared_error: 0.0179\n",
      "Epoch 83/100\n",
      "36/36 [==============================] - 6s 166ms/step - loss: 3.2132e-04 - root_mean_squared_error: 0.0179\n",
      "Epoch 84/100\n",
      "36/36 [==============================] - 7s 197ms/step - loss: 3.0109e-04 - root_mean_squared_error: 0.0174\n",
      "Epoch 85/100\n",
      "36/36 [==============================] - 6s 169ms/step - loss: 2.6850e-04 - root_mean_squared_error: 0.0164\n",
      "Epoch 86/100\n",
      "36/36 [==============================] - 6s 155ms/step - loss: 2.7190e-04 - root_mean_squared_error: 0.0165\n",
      "Epoch 87/100\n",
      "36/36 [==============================] - 6s 176ms/step - loss: 2.9364e-04 - root_mean_squared_error: 0.0171\n",
      "Epoch 88/100\n",
      "36/36 [==============================] - 5s 143ms/step - loss: 2.8509e-04 - root_mean_squared_error: 0.0169\n",
      "Epoch 89/100\n",
      "36/36 [==============================] - 5s 135ms/step - loss: 3.1305e-04 - root_mean_squared_error: 0.0177\n",
      "Epoch 90/100\n",
      "36/36 [==============================] - 5s 143ms/step - loss: 2.7789e-04 - root_mean_squared_error: 0.0167\n"
     ]
    },
    {
     "name": "stderr",
     "output_type": "stream",
     "text": [
      "WARNING:absl:Found untraced functions such as lstm_cell_layer_call_fn, lstm_cell_layer_call_and_return_conditional_losses while saving (showing 2 of 2). These functions will not be directly callable after loading.\n"
     ]
    },
    {
     "name": "stdout",
     "output_type": "stream",
     "text": [
      "INFO:tensorflow:Assets written to: /Users/aditya/Programming/stock-market-predictions/logs/MSFT-5-Year/assets\n"
     ]
    },
    {
     "name": "stderr",
     "output_type": "stream",
     "text": [
      "INFO:tensorflow:Assets written to: /Users/aditya/Programming/stock-market-predictions/logs/MSFT-5-Year/assets\n",
      "WARNING:absl:<keras.layers.recurrent.LSTMCell object at 0x7fbb263e91c0> has the same name 'LSTMCell' as a built-in Keras object. Consider renaming <class 'keras.layers.recurrent.LSTMCell'> to avoid naming conflicts when loading with `tf.keras.models.load_model`. If renaming is not possible, pass the object in the `custom_objects` parameter of the load function.\n"
     ]
    },
    {
     "name": "stdout",
     "output_type": "stream",
     "text": [
      "(63, 60, 1)\n"
     ]
    },
    {
     "name": "stderr",
     "output_type": "stream",
     "text": [
      "\u001b[34m\u001b[1mwandb\u001b[0m: Adding directory to artifact (/Users/aditya/Programming/stock-market-predictions/logs/MSFT-5-Year)... Done. 0.0s\n"
     ]
    },
    {
     "name": "stdout",
     "output_type": "stream",
     "text": [
      "the root mean squared error is: 8.587406139919178\n"
     ]
    },
    {
     "data": {
      "text/html": [
       "<br/>Waiting for W&B process to finish, PID 13343... <strong style=\"color:green\">(success).</strong>"
      ],
      "text/plain": [
       "<IPython.core.display.HTML object>"
      ]
     },
     "metadata": {},
     "output_type": "display_data"
    },
    {
     "data": {
      "application/vnd.jupyter.widget-view+json": {
       "model_id": "a67f6d5786cb4f8cbd4d825604fda4d7",
       "version_major": 2,
       "version_minor": 0
      },
      "text/plain": [
       "VBox(children=(Label(value=' 1.12MB of 1.12MB uploaded (0.01MB deduped)\\r'), FloatProgress(value=1.0, max=1.0)…"
      ]
     },
     "metadata": {},
     "output_type": "display_data"
    },
    {
     "data": {
      "text/html": [
       "<style>\n",
       "    table.wandb td:nth-child(1) { padding: 0 10px; text-align: right }\n",
       "    .wandb-row { display: flex; flex-direction: row; flex-wrap: wrap; width: 100% }\n",
       "    .wandb-col { display: flex; flex-direction: column; flex-basis: 100%; flex: 1; padding: 10px; }\n",
       "    </style>\n",
       "<div class=\"wandb-row\"><div class=\"wandb-col\">\n",
       "<h3>Run history:</h3><br/><table class=\"wandb\"><tr><td>epoch</td><td>▁▁▁▁▂▂▂▂▂▃▃▃▃▃▃▄▄▄▄▄▅▅▅▅▅▅▆▆▆▆▆▇▇▇▇▇▇███</td></tr><tr><td>loss</td><td>█▁▁▁▁▁▁▁▁▁▁▁▁▁▁▁▁▁▁▁▁▁▁▁▁▁▁▁▁▁▁▁▁▁▁▁▁▁▁▁</td></tr><tr><td>root_mean_square_error</td><td>▁</td></tr><tr><td>root_mean_squared_error</td><td>█▂▁▁▁▁▁▁▁▁▁▁▁▁▁▁▁▁▁▁▁▁▁▁▁▁▁▁▁▁▁▁▁▁▁▁▁▁▁▁</td></tr></table><br/></div><div class=\"wandb-col\">\n",
       "<h3>Run summary:</h3><br/><table class=\"wandb\"><tr><td>epoch</td><td>89</td></tr><tr><td>loss</td><td>0.00028</td></tr><tr><td>root_mean_square_error</td><td>8.58741</td></tr><tr><td>root_mean_squared_error</td><td>0.01667</td></tr></table>\n",
       "</div></div>\n",
       "Synced 6 W&B file(s), 1 media file(s), 4 artifact file(s) and 1 other file(s)\n",
       "<br/>Synced <strong style=\"color:#cdcd00\">clean-sweep-152</strong>: <a href=\"https://wandb.ai/alpheron/stock-predictions/runs/nrr9na9x\" target=\"_blank\">https://wandb.ai/alpheron/stock-predictions/runs/nrr9na9x</a><br/>\n",
       "Find logs at: <code>./wandb/run-20220227_170320-nrr9na9x/logs</code><br/>\n"
      ],
      "text/plain": [
       "<IPython.core.display.HTML object>"
      ]
     },
     "metadata": {},
     "output_type": "display_data"
    },
    {
     "name": "stderr",
     "output_type": "stream",
     "text": [
      "\u001b[34m\u001b[1mwandb\u001b[0m: Agent Starting Run: n648qipt with config:\n",
      "\u001b[34m\u001b[1mwandb\u001b[0m: \tLSTM_UNITS: 5\n",
      "\u001b[34m\u001b[1mwandb\u001b[0m: \tepochs: 100\n",
      "\u001b[34m\u001b[1mwandb\u001b[0m: \u001b[33mWARNING\u001b[0m Ignored wandb.init() arg project when running a sweep.\n",
      "\u001b[34m\u001b[1mwandb\u001b[0m: \u001b[33mWARNING\u001b[0m Ignored wandb.init() arg entity when running a sweep.\n"
     ]
    },
    {
     "data": {
      "text/html": [
       "\n",
       "                    Syncing run <strong><a href=\"https://wandb.ai/alpheron/stock-predictions/runs/n648qipt\" target=\"_blank\">earthy-sweep-153</a></strong> to <a href=\"https://wandb.ai/alpheron/stock-predictions\" target=\"_blank\">Weights & Biases</a> (<a href=\"https://docs.wandb.com/integrations/jupyter.html\" target=\"_blank\">docs</a>).<br/>\n",
       "Sweep page: <a href=\"https://wandb.ai/alpheron/stock-predictions/sweeps/21t67yna\" target=\"_blank\">https://wandb.ai/alpheron/stock-predictions/sweeps/21t67yna</a><br/>\n",
       "\n",
       "                "
      ],
      "text/plain": [
       "<IPython.core.display.HTML object>"
      ]
     },
     "metadata": {},
     "output_type": "display_data"
    },
    {
     "name": "stdout",
     "output_type": "stream",
     "text": [
      "Epoch 1/100\n",
      "36/36 [==============================] - 6s 171ms/step - loss: 0.1329 - root_mean_squared_error: 0.3645\n",
      "Epoch 2/100\n",
      "36/36 [==============================] - 5s 148ms/step - loss: 0.0169 - root_mean_squared_error: 0.1301\n",
      "Epoch 3/100\n",
      "36/36 [==============================] - 5s 149ms/step - loss: 0.0052 - root_mean_squared_error: 0.0719\n",
      "Epoch 4/100\n",
      "36/36 [==============================] - 5s 134ms/step - loss: 0.0012 - root_mean_squared_error: 0.0353\n",
      "Epoch 5/100\n",
      "36/36 [==============================] - 5s 134ms/step - loss: 0.0013 - root_mean_squared_error: 0.0357\n",
      "Epoch 6/100\n",
      "36/36 [==============================] - 5s 137ms/step - loss: 0.0011 - root_mean_squared_error: 0.0334\n",
      "Epoch 7/100\n",
      "36/36 [==============================] - 5s 146ms/step - loss: 8.9160e-04 - root_mean_squared_error: 0.0299\n",
      "Epoch 8/100\n",
      "36/36 [==============================] - 5s 140ms/step - loss: 0.0010 - root_mean_squared_error: 0.0317\n",
      "Epoch 9/100\n",
      "36/36 [==============================] - 5s 134ms/step - loss: 0.0010 - root_mean_squared_error: 0.0318\n",
      "Epoch 10/100\n",
      "36/36 [==============================] - 5s 139ms/step - loss: 0.0011 - root_mean_squared_error: 0.0333\n",
      "Epoch 11/100\n",
      "36/36 [==============================] - 5s 143ms/step - loss: 0.0010 - root_mean_squared_error: 0.0320\n",
      "Epoch 12/100\n",
      "36/36 [==============================] - 5s 141ms/step - loss: 8.2020e-04 - root_mean_squared_error: 0.0286\n",
      "Epoch 13/100\n",
      "36/36 [==============================] - 5s 140ms/step - loss: 0.0015 - root_mean_squared_error: 0.0394\n",
      "Epoch 14/100\n",
      "36/36 [==============================] - 5s 145ms/step - loss: 8.2440e-04 - root_mean_squared_error: 0.0287\n",
      "Epoch 15/100\n",
      "36/36 [==============================] - 5s 144ms/step - loss: 7.6131e-04 - root_mean_squared_error: 0.0276\n",
      "Epoch 16/100\n",
      "36/36 [==============================] - 5s 142ms/step - loss: 7.5735e-04 - root_mean_squared_error: 0.0275\n",
      "Epoch 17/100\n",
      "36/36 [==============================] - 5s 146ms/step - loss: 8.0416e-04 - root_mean_squared_error: 0.0284\n",
      "Epoch 18/100\n",
      "36/36 [==============================] - 5s 143ms/step - loss: 7.0049e-04 - root_mean_squared_error: 0.0265\n",
      "Epoch 19/100\n",
      "36/36 [==============================] - 5s 146ms/step - loss: 7.7635e-04 - root_mean_squared_error: 0.0279\n",
      "Epoch 20/100\n",
      "36/36 [==============================] - 5s 151ms/step - loss: 5.8720e-04 - root_mean_squared_error: 0.0242\n",
      "Epoch 21/100\n",
      "36/36 [==============================] - 5s 141ms/step - loss: 6.8384e-04 - root_mean_squared_error: 0.0262\n",
      "Epoch 22/100\n",
      "36/36 [==============================] - 5s 143ms/step - loss: 6.5038e-04 - root_mean_squared_error: 0.0255\n",
      "Epoch 23/100\n",
      "36/36 [==============================] - 5s 144ms/step - loss: 5.9829e-04 - root_mean_squared_error: 0.0245\n",
      "Epoch 24/100\n",
      "36/36 [==============================] - 6s 154ms/step - loss: 6.9186e-04 - root_mean_squared_error: 0.0263\n",
      "Epoch 25/100\n",
      "36/36 [==============================] - 6s 164ms/step - loss: 4.9614e-04 - root_mean_squared_error: 0.0223\n",
      "Epoch 26/100\n",
      "36/36 [==============================] - 8s 226ms/step - loss: 9.1144e-04 - root_mean_squared_error: 0.0302\n",
      "Epoch 27/100\n",
      "36/36 [==============================] - 5s 150ms/step - loss: 7.7410e-04 - root_mean_squared_error: 0.0278\n",
      "Epoch 28/100\n",
      "36/36 [==============================] - 6s 162ms/step - loss: 4.9283e-04 - root_mean_squared_error: 0.0222\n",
      "Epoch 29/100\n",
      "36/36 [==============================] - 7s 201ms/step - loss: 5.0977e-04 - root_mean_squared_error: 0.0226\n",
      "Epoch 30/100\n",
      "36/36 [==============================] - 7s 183ms/step - loss: 7.5480e-04 - root_mean_squared_error: 0.0275\n",
      "Epoch 31/100\n",
      "36/36 [==============================] - 6s 174ms/step - loss: 5.7548e-04 - root_mean_squared_error: 0.0240\n",
      "Epoch 32/100\n",
      "36/36 [==============================] - 7s 197ms/step - loss: 5.6461e-04 - root_mean_squared_error: 0.0238\n",
      "Epoch 33/100\n",
      "36/36 [==============================] - 7s 195ms/step - loss: 5.7796e-04 - root_mean_squared_error: 0.0240\n"
     ]
    },
    {
     "name": "stderr",
     "output_type": "stream",
     "text": [
      "WARNING:absl:Found untraced functions such as lstm_cell_layer_call_fn, lstm_cell_layer_call_and_return_conditional_losses while saving (showing 2 of 2). These functions will not be directly callable after loading.\n"
     ]
    },
    {
     "name": "stdout",
     "output_type": "stream",
     "text": [
      "INFO:tensorflow:Assets written to: /Users/aditya/Programming/stock-market-predictions/logs/MSFT-5-Year/assets\n"
     ]
    },
    {
     "name": "stderr",
     "output_type": "stream",
     "text": [
      "INFO:tensorflow:Assets written to: /Users/aditya/Programming/stock-market-predictions/logs/MSFT-5-Year/assets\n",
      "WARNING:absl:<keras.layers.recurrent.LSTMCell object at 0x7fbb281e3a90> has the same name 'LSTMCell' as a built-in Keras object. Consider renaming <class 'keras.layers.recurrent.LSTMCell'> to avoid naming conflicts when loading with `tf.keras.models.load_model`. If renaming is not possible, pass the object in the `custom_objects` parameter of the load function.\n",
      "\u001b[34m\u001b[1mwandb\u001b[0m: Adding directory to artifact (/Users/aditya/Programming/stock-market-predictions/logs/MSFT-5-Year)... Done. 0.0s\n"
     ]
    },
    {
     "name": "stdout",
     "output_type": "stream",
     "text": [
      "(63, 60, 1)\n",
      "the root mean squared error is: 10.1595783550676\n"
     ]
    },
    {
     "data": {
      "text/html": [
       "<br/>Waiting for W&B process to finish, PID 13712... <strong style=\"color:green\">(success).</strong>"
      ],
      "text/plain": [
       "<IPython.core.display.HTML object>"
      ]
     },
     "metadata": {},
     "output_type": "display_data"
    },
    {
     "data": {
      "application/vnd.jupyter.widget-view+json": {
       "model_id": "d7c608c2c7504095af359a3561a0f99d",
       "version_major": 2,
       "version_minor": 0
      },
      "text/plain": [
       "VBox(children=(Label(value=' 1.11MB of 1.11MB uploaded (0.01MB deduped)\\r'), FloatProgress(value=1.0, max=1.0)…"
      ]
     },
     "metadata": {},
     "output_type": "display_data"
    },
    {
     "data": {
      "text/html": [
       "<style>\n",
       "    table.wandb td:nth-child(1) { padding: 0 10px; text-align: right }\n",
       "    .wandb-row { display: flex; flex-direction: row; flex-wrap: wrap; width: 100% }\n",
       "    .wandb-col { display: flex; flex-direction: column; flex-basis: 100%; flex: 1; padding: 10px; }\n",
       "    </style>\n",
       "<div class=\"wandb-row\"><div class=\"wandb-col\">\n",
       "<h3>Run history:</h3><br/><table class=\"wandb\"><tr><td>epoch</td><td>▁▁▁▂▂▂▂▃▃▃▃▃▄▄▄▄▅▅▅▅▅▆▆▆▆▆▇▇▇▇███</td></tr><tr><td>loss</td><td>█▂▁▁▁▁▁▁▁▁▁▁▁▁▁▁▁▁▁▁▁▁▁▁▁▁▁▁▁▁▁▁▁</td></tr><tr><td>root_mean_square_error</td><td>▁</td></tr><tr><td>root_mean_squared_error</td><td>█▃▂▁▁▁▁▁▁▁▁▁▁▁▁▁▁▁▁▁▁▁▁▁▁▁▁▁▁▁▁▁▁</td></tr></table><br/></div><div class=\"wandb-col\">\n",
       "<h3>Run summary:</h3><br/><table class=\"wandb\"><tr><td>epoch</td><td>32</td></tr><tr><td>loss</td><td>0.00058</td></tr><tr><td>root_mean_square_error</td><td>10.15958</td></tr><tr><td>root_mean_squared_error</td><td>0.02404</td></tr></table>\n",
       "</div></div>\n",
       "Synced 6 W&B file(s), 1 media file(s), 4 artifact file(s) and 1 other file(s)\n",
       "<br/>Synced <strong style=\"color:#cdcd00\">earthy-sweep-153</strong>: <a href=\"https://wandb.ai/alpheron/stock-predictions/runs/n648qipt\" target=\"_blank\">https://wandb.ai/alpheron/stock-predictions/runs/n648qipt</a><br/>\n",
       "Find logs at: <code>./wandb/run-20220227_171335-n648qipt/logs</code><br/>\n"
      ],
      "text/plain": [
       "<IPython.core.display.HTML object>"
      ]
     },
     "metadata": {},
     "output_type": "display_data"
    },
    {
     "name": "stderr",
     "output_type": "stream",
     "text": [
      "\u001b[34m\u001b[1mwandb\u001b[0m: Agent Starting Run: jpybvd8h with config:\n",
      "\u001b[34m\u001b[1mwandb\u001b[0m: \tLSTM_UNITS: 80\n",
      "\u001b[34m\u001b[1mwandb\u001b[0m: \tepochs: 100\n",
      "\u001b[34m\u001b[1mwandb\u001b[0m: \u001b[33mWARNING\u001b[0m Ignored wandb.init() arg project when running a sweep.\n",
      "\u001b[34m\u001b[1mwandb\u001b[0m: \u001b[33mWARNING\u001b[0m Ignored wandb.init() arg entity when running a sweep.\n"
     ]
    },
    {
     "data": {
      "text/html": [
       "\n",
       "                    Syncing run <strong><a href=\"https://wandb.ai/alpheron/stock-predictions/runs/jpybvd8h\" target=\"_blank\">hardy-sweep-154</a></strong> to <a href=\"https://wandb.ai/alpheron/stock-predictions\" target=\"_blank\">Weights & Biases</a> (<a href=\"https://docs.wandb.com/integrations/jupyter.html\" target=\"_blank\">docs</a>).<br/>\n",
       "Sweep page: <a href=\"https://wandb.ai/alpheron/stock-predictions/sweeps/21t67yna\" target=\"_blank\">https://wandb.ai/alpheron/stock-predictions/sweeps/21t67yna</a><br/>\n",
       "\n",
       "                "
      ],
      "text/plain": [
       "<IPython.core.display.HTML object>"
      ]
     },
     "metadata": {},
     "output_type": "display_data"
    },
    {
     "name": "stdout",
     "output_type": "stream",
     "text": [
      "Epoch 1/100\n",
      "36/36 [==============================] - 9s 252ms/step - loss: 0.1051 - root_mean_squared_error: 0.3243\n",
      "Epoch 2/100\n",
      "36/36 [==============================] - 6s 163ms/step - loss: 0.0207 - root_mean_squared_error: 0.1439\n",
      "Epoch 3/100\n",
      "36/36 [==============================] - 5s 149ms/step - loss: 0.0096 - root_mean_squared_error: 0.0978\n",
      "Epoch 4/100\n",
      "36/36 [==============================] - 6s 158ms/step - loss: 0.0034 - root_mean_squared_error: 0.0580\n",
      "Epoch 5/100\n",
      "36/36 [==============================] - 5s 146ms/step - loss: 7.3068e-04 - root_mean_squared_error: 0.0270\n",
      "Epoch 6/100\n",
      "36/36 [==============================] - 5s 136ms/step - loss: 6.2261e-04 - root_mean_squared_error: 0.0250\n",
      "Epoch 7/100\n",
      "36/36 [==============================] - 5s 137ms/step - loss: 6.4156e-04 - root_mean_squared_error: 0.0253\n",
      "Epoch 8/100\n",
      "36/36 [==============================] - 5s 149ms/step - loss: 5.4509e-04 - root_mean_squared_error: 0.0233\n",
      "Epoch 9/100\n",
      "36/36 [==============================] - 5s 149ms/step - loss: 5.3727e-04 - root_mean_squared_error: 0.0232\n",
      "Epoch 10/100\n",
      "36/36 [==============================] - 6s 166ms/step - loss: 5.0869e-04 - root_mean_squared_error: 0.0226\n",
      "Epoch 11/100\n",
      "36/36 [==============================] - 6s 170ms/step - loss: 5.0340e-04 - root_mean_squared_error: 0.0224\n",
      "Epoch 12/100\n",
      "36/36 [==============================] - 6s 149ms/step - loss: 5.1416e-04 - root_mean_squared_error: 0.0227\n",
      "Epoch 13/100\n",
      "36/36 [==============================] - 5s 143ms/step - loss: 5.6773e-04 - root_mean_squared_error: 0.0238\n",
      "Epoch 14/100\n",
      "36/36 [==============================] - 5s 136ms/step - loss: 6.6704e-04 - root_mean_squared_error: 0.0258\n",
      "Epoch 15/100\n",
      "36/36 [==============================] - 5s 152ms/step - loss: 7.7414e-04 - root_mean_squared_error: 0.0278\n",
      "Epoch 16/100\n",
      "36/36 [==============================] - 7s 184ms/step - loss: 4.3419e-04 - root_mean_squared_error: 0.0208\n",
      "Epoch 17/100\n",
      "36/36 [==============================] - 6s 167ms/step - loss: 4.7845e-04 - root_mean_squared_error: 0.0219\n",
      "Epoch 18/100\n",
      "36/36 [==============================] - 6s 163ms/step - loss: 3.9833e-04 - root_mean_squared_error: 0.0200\n",
      "Epoch 19/100\n",
      "36/36 [==============================] - 6s 168ms/step - loss: 4.4797e-04 - root_mean_squared_error: 0.0212\n",
      "Epoch 20/100\n",
      "36/36 [==============================] - 6s 166ms/step - loss: 4.4393e-04 - root_mean_squared_error: 0.0211\n",
      "Epoch 21/100\n",
      "36/36 [==============================] - 6s 174ms/step - loss: 4.3645e-04 - root_mean_squared_error: 0.0209\n",
      "Epoch 22/100\n",
      "36/36 [==============================] - 6s 161ms/step - loss: 4.0691e-04 - root_mean_squared_error: 0.0202\n",
      "Epoch 23/100\n",
      "36/36 [==============================] - 6s 164ms/step - loss: 5.3948e-04 - root_mean_squared_error: 0.0232\n"
     ]
    },
    {
     "name": "stderr",
     "output_type": "stream",
     "text": [
      "WARNING:absl:Found untraced functions such as lstm_cell_layer_call_fn, lstm_cell_layer_call_and_return_conditional_losses while saving (showing 2 of 2). These functions will not be directly callable after loading.\n"
     ]
    },
    {
     "name": "stdout",
     "output_type": "stream",
     "text": [
      "INFO:tensorflow:Assets written to: /Users/aditya/Programming/stock-market-predictions/logs/MSFT-5-Year/assets\n"
     ]
    },
    {
     "name": "stderr",
     "output_type": "stream",
     "text": [
      "INFO:tensorflow:Assets written to: /Users/aditya/Programming/stock-market-predictions/logs/MSFT-5-Year/assets\n",
      "WARNING:absl:<keras.layers.recurrent.LSTMCell object at 0x7fbb2660d8b0> has the same name 'LSTMCell' as a built-in Keras object. Consider renaming <class 'keras.layers.recurrent.LSTMCell'> to avoid naming conflicts when loading with `tf.keras.models.load_model`. If renaming is not possible, pass the object in the `custom_objects` parameter of the load function.\n"
     ]
    },
    {
     "name": "stdout",
     "output_type": "stream",
     "text": [
      "(63, 60, 1)\n"
     ]
    },
    {
     "name": "stderr",
     "output_type": "stream",
     "text": [
      "\u001b[34m\u001b[1mwandb\u001b[0m: Adding directory to artifact (/Users/aditya/Programming/stock-market-predictions/logs/MSFT-5-Year)... Done. 0.0s\n"
     ]
    },
    {
     "name": "stdout",
     "output_type": "stream",
     "text": [
      "the root mean squared error is: 9.044354213163544\n"
     ]
    },
    {
     "data": {
      "text/html": [
       "<br/>Waiting for W&B process to finish, PID 13806... <strong style=\"color:green\">(success).</strong>"
      ],
      "text/plain": [
       "<IPython.core.display.HTML object>"
      ]
     },
     "metadata": {},
     "output_type": "display_data"
    },
    {
     "data": {
      "application/vnd.jupyter.widget-view+json": {
       "model_id": "3b22adb36b204464881ce00cdbaa04b0",
       "version_major": 2,
       "version_minor": 0
      },
      "text/plain": [
       "VBox(children=(Label(value=' 1.11MB of 1.11MB uploaded (0.01MB deduped)\\r'), FloatProgress(value=1.0, max=1.0)…"
      ]
     },
     "metadata": {},
     "output_type": "display_data"
    },
    {
     "data": {
      "text/html": [
       "<style>\n",
       "    table.wandb td:nth-child(1) { padding: 0 10px; text-align: right }\n",
       "    .wandb-row { display: flex; flex-direction: row; flex-wrap: wrap; width: 100% }\n",
       "    .wandb-col { display: flex; flex-direction: column; flex-basis: 100%; flex: 1; padding: 10px; }\n",
       "    </style>\n",
       "<div class=\"wandb-row\"><div class=\"wandb-col\">\n",
       "<h3>Run history:</h3><br/><table class=\"wandb\"><tr><td>epoch</td><td>▁▁▂▂▂▃▃▃▄▄▄▅▅▅▅▆▆▆▇▇▇██</td></tr><tr><td>loss</td><td>█▂▂▁▁▁▁▁▁▁▁▁▁▁▁▁▁▁▁▁▁▁▁</td></tr><tr><td>root_mean_square_error</td><td>▁</td></tr><tr><td>root_mean_squared_error</td><td>█▄▃▂▁▁▁▁▁▁▁▁▁▁▁▁▁▁▁▁▁▁▁</td></tr></table><br/></div><div class=\"wandb-col\">\n",
       "<h3>Run summary:</h3><br/><table class=\"wandb\"><tr><td>epoch</td><td>22</td></tr><tr><td>loss</td><td>0.00054</td></tr><tr><td>root_mean_square_error</td><td>9.04435</td></tr><tr><td>root_mean_squared_error</td><td>0.02323</td></tr></table>\n",
       "</div></div>\n",
       "Synced 6 W&B file(s), 1 media file(s), 4 artifact file(s) and 1 other file(s)\n",
       "<br/>Synced <strong style=\"color:#cdcd00\">hardy-sweep-154</strong>: <a href=\"https://wandb.ai/alpheron/stock-predictions/runs/jpybvd8h\" target=\"_blank\">https://wandb.ai/alpheron/stock-predictions/runs/jpybvd8h</a><br/>\n",
       "Find logs at: <code>./wandb/run-20220227_171724-jpybvd8h/logs</code><br/>\n"
      ],
      "text/plain": [
       "<IPython.core.display.HTML object>"
      ]
     },
     "metadata": {},
     "output_type": "display_data"
    },
    {
     "name": "stderr",
     "output_type": "stream",
     "text": [
      "\u001b[34m\u001b[1mwandb\u001b[0m: Agent Starting Run: 60gdk6yl with config:\n",
      "\u001b[34m\u001b[1mwandb\u001b[0m: \tLSTM_UNITS: 55\n",
      "\u001b[34m\u001b[1mwandb\u001b[0m: \tepochs: 100\n",
      "\u001b[34m\u001b[1mwandb\u001b[0m: \u001b[33mWARNING\u001b[0m Ignored wandb.init() arg project when running a sweep.\n",
      "\u001b[34m\u001b[1mwandb\u001b[0m: \u001b[33mWARNING\u001b[0m Ignored wandb.init() arg entity when running a sweep.\n"
     ]
    },
    {
     "data": {
      "text/html": [
       "\n",
       "                    Syncing run <strong><a href=\"https://wandb.ai/alpheron/stock-predictions/runs/60gdk6yl\" target=\"_blank\">solar-sweep-155</a></strong> to <a href=\"https://wandb.ai/alpheron/stock-predictions\" target=\"_blank\">Weights & Biases</a> (<a href=\"https://docs.wandb.com/integrations/jupyter.html\" target=\"_blank\">docs</a>).<br/>\n",
       "Sweep page: <a href=\"https://wandb.ai/alpheron/stock-predictions/sweeps/21t67yna\" target=\"_blank\">https://wandb.ai/alpheron/stock-predictions/sweeps/21t67yna</a><br/>\n",
       "\n",
       "                "
      ],
      "text/plain": [
       "<IPython.core.display.HTML object>"
      ]
     },
     "metadata": {},
     "output_type": "display_data"
    },
    {
     "name": "stdout",
     "output_type": "stream",
     "text": [
      "Epoch 1/100\n",
      "36/36 [==============================] - 6s 176ms/step - loss: 0.0599 - root_mean_squared_error: 0.2447\n",
      "Epoch 2/100\n",
      "36/36 [==============================] - 5s 145ms/step - loss: 0.0120 - root_mean_squared_error: 0.1097\n",
      "Epoch 3/100\n",
      "36/36 [==============================] - 6s 159ms/step - loss: 0.0038 - root_mean_squared_error: 0.0620\n",
      "Epoch 4/100\n",
      "36/36 [==============================] - 5s 151ms/step - loss: 5.9458e-04 - root_mean_squared_error: 0.0244\n",
      "Epoch 5/100\n",
      "36/36 [==============================] - 7s 185ms/step - loss: 5.0831e-04 - root_mean_squared_error: 0.0225\n",
      "Epoch 6/100\n",
      "36/36 [==============================] - 6s 154ms/step - loss: 7.0494e-04 - root_mean_squared_error: 0.0266\n",
      "Epoch 7/100\n",
      "36/36 [==============================] - 6s 181ms/step - loss: 4.3345e-04 - root_mean_squared_error: 0.0208\n",
      "Epoch 8/100\n",
      "36/36 [==============================] - 6s 154ms/step - loss: 5.7560e-04 - root_mean_squared_error: 0.0240\n",
      "Epoch 9/100\n",
      "36/36 [==============================] - 5s 145ms/step - loss: 4.6443e-04 - root_mean_squared_error: 0.0216\n",
      "Epoch 10/100\n",
      "36/36 [==============================] - 5s 146ms/step - loss: 5.1240e-04 - root_mean_squared_error: 0.0226\n",
      "Epoch 11/100\n",
      "36/36 [==============================] - 5s 143ms/step - loss: 7.4664e-04 - root_mean_squared_error: 0.0273\n",
      "Epoch 12/100\n",
      "36/36 [==============================] - 6s 165ms/step - loss: 4.1980e-04 - root_mean_squared_error: 0.0205\n",
      "Epoch 13/100\n",
      "36/36 [==============================] - 6s 173ms/step - loss: 4.9584e-04 - root_mean_squared_error: 0.0223\n",
      "Epoch 14/100\n",
      "36/36 [==============================] - 6s 177ms/step - loss: 4.9465e-04 - root_mean_squared_error: 0.0222\n",
      "Epoch 15/100\n",
      "36/36 [==============================] - 6s 172ms/step - loss: 4.0897e-04 - root_mean_squared_error: 0.0202\n",
      "Epoch 16/100\n",
      "36/36 [==============================] - 7s 206ms/step - loss: 4.7076e-04 - root_mean_squared_error: 0.0217\n",
      "Epoch 17/100\n",
      "36/36 [==============================] - 6s 166ms/step - loss: 8.4961e-04 - root_mean_squared_error: 0.0291\n",
      "Epoch 18/100\n",
      "36/36 [==============================] - 6s 173ms/step - loss: 4.5537e-04 - root_mean_squared_error: 0.0213\n",
      "Epoch 19/100\n",
      "36/36 [==============================] - 6s 152ms/step - loss: 3.9649e-04 - root_mean_squared_error: 0.0199\n",
      "Epoch 20/100\n",
      "36/36 [==============================] - 6s 170ms/step - loss: 3.7982e-04 - root_mean_squared_error: 0.0195\n",
      "Epoch 21/100\n",
      "36/36 [==============================] - 6s 153ms/step - loss: 5.4397e-04 - root_mean_squared_error: 0.0233\n",
      "Epoch 22/100\n",
      "36/36 [==============================] - 6s 164ms/step - loss: 3.9839e-04 - root_mean_squared_error: 0.0200\n",
      "Epoch 23/100\n",
      "36/36 [==============================] - 6s 155ms/step - loss: 3.7893e-04 - root_mean_squared_error: 0.0195\n",
      "Epoch 24/100\n",
      "36/36 [==============================] - 6s 150ms/step - loss: 3.4582e-04 - root_mean_squared_error: 0.0186\n",
      "Epoch 25/100\n",
      "36/36 [==============================] - 6s 181ms/step - loss: 4.0784e-04 - root_mean_squared_error: 0.0202\n",
      "Epoch 26/100\n",
      "36/36 [==============================] - 6s 171ms/step - loss: 4.4272e-04 - root_mean_squared_error: 0.0210\n",
      "Epoch 27/100\n",
      "36/36 [==============================] - 6s 170ms/step - loss: 4.0461e-04 - root_mean_squared_error: 0.0201\n",
      "Epoch 28/100\n",
      "36/36 [==============================] - 6s 154ms/step - loss: 3.8274e-04 - root_mean_squared_error: 0.0196\n",
      "Epoch 29/100\n",
      "36/36 [==============================] - 6s 162ms/step - loss: 5.2223e-04 - root_mean_squared_error: 0.0229\n"
     ]
    },
    {
     "name": "stderr",
     "output_type": "stream",
     "text": [
      "WARNING:absl:Found untraced functions such as lstm_cell_layer_call_fn, lstm_cell_layer_call_and_return_conditional_losses while saving (showing 2 of 2). These functions will not be directly callable after loading.\n"
     ]
    },
    {
     "name": "stdout",
     "output_type": "stream",
     "text": [
      "INFO:tensorflow:Assets written to: /Users/aditya/Programming/stock-market-predictions/logs/MSFT-5-Year/assets\n"
     ]
    },
    {
     "name": "stderr",
     "output_type": "stream",
     "text": [
      "INFO:tensorflow:Assets written to: /Users/aditya/Programming/stock-market-predictions/logs/MSFT-5-Year/assets\n",
      "WARNING:absl:<keras.layers.recurrent.LSTMCell object at 0x7fbb2593e340> has the same name 'LSTMCell' as a built-in Keras object. Consider renaming <class 'keras.layers.recurrent.LSTMCell'> to avoid naming conflicts when loading with `tf.keras.models.load_model`. If renaming is not possible, pass the object in the `custom_objects` parameter of the load function.\n"
     ]
    },
    {
     "name": "stdout",
     "output_type": "stream",
     "text": [
      "(63, 60, 1)\n"
     ]
    },
    {
     "name": "stderr",
     "output_type": "stream",
     "text": [
      "\u001b[34m\u001b[1mwandb\u001b[0m: Adding directory to artifact (/Users/aditya/Programming/stock-market-predictions/logs/MSFT-5-Year)... Done. 0.0s\n"
     ]
    },
    {
     "name": "stdout",
     "output_type": "stream",
     "text": [
      "the root mean squared error is: 8.919074954837026\n"
     ]
    },
    {
     "data": {
      "text/html": [
       "<br/>Waiting for W&B process to finish, PID 13875... <strong style=\"color:green\">(success).</strong>"
      ],
      "text/plain": [
       "<IPython.core.display.HTML object>"
      ]
     },
     "metadata": {},
     "output_type": "display_data"
    },
    {
     "data": {
      "application/vnd.jupyter.widget-view+json": {
       "model_id": "1251e7d9e9bd4eb689e7511941a30185",
       "version_major": 2,
       "version_minor": 0
      },
      "text/plain": [
       "VBox(children=(Label(value=' 1.11MB of 1.11MB uploaded (0.01MB deduped)\\r'), FloatProgress(value=1.0, max=1.0)…"
      ]
     },
     "metadata": {},
     "output_type": "display_data"
    },
    {
     "data": {
      "text/html": [
       "<style>\n",
       "    table.wandb td:nth-child(1) { padding: 0 10px; text-align: right }\n",
       "    .wandb-row { display: flex; flex-direction: row; flex-wrap: wrap; width: 100% }\n",
       "    .wandb-col { display: flex; flex-direction: column; flex-basis: 100%; flex: 1; padding: 10px; }\n",
       "    </style>\n",
       "<div class=\"wandb-row\"><div class=\"wandb-col\">\n",
       "<h3>Run history:</h3><br/><table class=\"wandb\"><tr><td>epoch</td><td>▁▁▁▂▂▂▃▃▃▃▃▄▄▄▅▅▅▅▅▆▆▆▇▇▇▇▇██</td></tr><tr><td>loss</td><td>█▂▁▁▁▁▁▁▁▁▁▁▁▁▁▁▁▁▁▁▁▁▁▁▁▁▁▁▁</td></tr><tr><td>root_mean_square_error</td><td>▁</td></tr><tr><td>root_mean_squared_error</td><td>█▄▂▁▁▁▁▁▁▁▁▁▁▁▁▁▁▁▁▁▁▁▁▁▁▁▁▁▁</td></tr></table><br/></div><div class=\"wandb-col\">\n",
       "<h3>Run summary:</h3><br/><table class=\"wandb\"><tr><td>epoch</td><td>28</td></tr><tr><td>loss</td><td>0.00052</td></tr><tr><td>root_mean_square_error</td><td>8.91907</td></tr><tr><td>root_mean_squared_error</td><td>0.02285</td></tr></table>\n",
       "</div></div>\n",
       "Synced 6 W&B file(s), 1 media file(s), 4 artifact file(s) and 1 other file(s)\n",
       "<br/>Synced <strong style=\"color:#cdcd00\">solar-sweep-155</strong>: <a href=\"https://wandb.ai/alpheron/stock-predictions/runs/60gdk6yl\" target=\"_blank\">https://wandb.ai/alpheron/stock-predictions/runs/60gdk6yl</a><br/>\n",
       "Find logs at: <code>./wandb/run-20220227_172014-60gdk6yl/logs</code><br/>\n"
      ],
      "text/plain": [
       "<IPython.core.display.HTML object>"
      ]
     },
     "metadata": {},
     "output_type": "display_data"
    },
    {
     "name": "stderr",
     "output_type": "stream",
     "text": [
      "\u001b[34m\u001b[1mwandb\u001b[0m: Sweep Agent: Waiting for job.\n",
      "\u001b[34m\u001b[1mwandb\u001b[0m: Job received.\n",
      "\u001b[34m\u001b[1mwandb\u001b[0m: Agent Starting Run: 42xvzqps with config:\n",
      "\u001b[34m\u001b[1mwandb\u001b[0m: \tLSTM_UNITS: 50\n",
      "\u001b[34m\u001b[1mwandb\u001b[0m: \tepochs: 100\n",
      "\u001b[34m\u001b[1mwandb\u001b[0m: \u001b[33mWARNING\u001b[0m Ignored wandb.init() arg project when running a sweep.\n",
      "\u001b[34m\u001b[1mwandb\u001b[0m: \u001b[33mWARNING\u001b[0m Ignored wandb.init() arg entity when running a sweep.\n"
     ]
    },
    {
     "data": {
      "text/html": [
       "\n",
       "                    Syncing run <strong><a href=\"https://wandb.ai/alpheron/stock-predictions/runs/42xvzqps\" target=\"_blank\">usual-sweep-156</a></strong> to <a href=\"https://wandb.ai/alpheron/stock-predictions\" target=\"_blank\">Weights & Biases</a> (<a href=\"https://docs.wandb.com/integrations/jupyter.html\" target=\"_blank\">docs</a>).<br/>\n",
       "Sweep page: <a href=\"https://wandb.ai/alpheron/stock-predictions/sweeps/21t67yna\" target=\"_blank\">https://wandb.ai/alpheron/stock-predictions/sweeps/21t67yna</a><br/>\n",
       "\n",
       "                "
      ],
      "text/plain": [
       "<IPython.core.display.HTML object>"
      ]
     },
     "metadata": {},
     "output_type": "display_data"
    },
    {
     "name": "stdout",
     "output_type": "stream",
     "text": [
      "Epoch 1/100\n",
      "36/36 [==============================] - 6s 164ms/step - loss: 0.0469 - root_mean_squared_error: 0.2166\n",
      "Epoch 2/100\n",
      "36/36 [==============================] - 6s 179ms/step - loss: 0.0044 - root_mean_squared_error: 0.0663\n",
      "Epoch 3/100\n",
      "36/36 [==============================] - 5s 149ms/step - loss: 0.0011 - root_mean_squared_error: 0.0334\n",
      "Epoch 4/100\n",
      "36/36 [==============================] - 5s 149ms/step - loss: 9.2712e-04 - root_mean_squared_error: 0.0304\n",
      "Epoch 5/100\n",
      "36/36 [==============================] - 5s 140ms/step - loss: 7.0767e-04 - root_mean_squared_error: 0.0266\n",
      "Epoch 6/100\n",
      "36/36 [==============================] - 5s 140ms/step - loss: 0.0011 - root_mean_squared_error: 0.0333\n",
      "Epoch 7/100\n",
      "36/36 [==============================] - 5s 142ms/step - loss: 6.8161e-04 - root_mean_squared_error: 0.0261\n",
      "Epoch 8/100\n",
      "36/36 [==============================] - 6s 158ms/step - loss: 6.9407e-04 - root_mean_squared_error: 0.0263\n",
      "Epoch 9/100\n",
      "36/36 [==============================] - 5s 134ms/step - loss: 7.9843e-04 - root_mean_squared_error: 0.0283\n",
      "Epoch 10/100\n",
      "36/36 [==============================] - 4s 123ms/step - loss: 0.0020 - root_mean_squared_error: 0.0449\n",
      "Epoch 11/100\n",
      "36/36 [==============================] - 5s 145ms/step - loss: 6.6974e-04 - root_mean_squared_error: 0.0259\n",
      "Epoch 12/100\n",
      "36/36 [==============================] - 5s 153ms/step - loss: 4.5733e-04 - root_mean_squared_error: 0.0214\n",
      "Epoch 13/100\n",
      "36/36 [==============================] - 6s 169ms/step - loss: 4.5977e-04 - root_mean_squared_error: 0.0214\n",
      "Epoch 14/100\n",
      "36/36 [==============================] - 5s 141ms/step - loss: 5.9058e-04 - root_mean_squared_error: 0.0243\n",
      "Epoch 15/100\n",
      "36/36 [==============================] - 5s 134ms/step - loss: 5.1770e-04 - root_mean_squared_error: 0.0228\n",
      "Epoch 16/100\n",
      "36/36 [==============================] - 5s 142ms/step - loss: 4.6732e-04 - root_mean_squared_error: 0.0216\n",
      "Epoch 17/100\n",
      "36/36 [==============================] - 5s 152ms/step - loss: 4.2975e-04 - root_mean_squared_error: 0.0207\n",
      "Epoch 18/100\n",
      "36/36 [==============================] - 5s 137ms/step - loss: 5.4269e-04 - root_mean_squared_error: 0.0233\n",
      "Epoch 19/100\n",
      "36/36 [==============================] - 6s 164ms/step - loss: 4.6117e-04 - root_mean_squared_error: 0.0215\n",
      "Epoch 20/100\n",
      "36/36 [==============================] - 5s 152ms/step - loss: 4.1248e-04 - root_mean_squared_error: 0.0203\n",
      "Epoch 21/100\n",
      "36/36 [==============================] - 6s 155ms/step - loss: 5.3508e-04 - root_mean_squared_error: 0.0231\n",
      "Epoch 22/100\n",
      "36/36 [==============================] - 5s 145ms/step - loss: 4.6518e-04 - root_mean_squared_error: 0.0216\n",
      "Epoch 23/100\n",
      "36/36 [==============================] - 5s 145ms/step - loss: 3.9932e-04 - root_mean_squared_error: 0.0200\n",
      "Epoch 24/100\n",
      "36/36 [==============================] - 5s 145ms/step - loss: 3.9719e-04 - root_mean_squared_error: 0.0199\n",
      "Epoch 25/100\n",
      "36/36 [==============================] - 5s 149ms/step - loss: 3.6005e-04 - root_mean_squared_error: 0.0190\n",
      "Epoch 26/100\n",
      "36/36 [==============================] - 5s 148ms/step - loss: 3.9941e-04 - root_mean_squared_error: 0.0200\n",
      "Epoch 27/100\n",
      "36/36 [==============================] - 5s 145ms/step - loss: 4.1575e-04 - root_mean_squared_error: 0.0204\n",
      "Epoch 28/100\n",
      "36/36 [==============================] - 5s 146ms/step - loss: 3.6232e-04 - root_mean_squared_error: 0.0190\n",
      "Epoch 29/100\n",
      "36/36 [==============================] - 5s 148ms/step - loss: 3.7791e-04 - root_mean_squared_error: 0.0194\n",
      "Epoch 30/100\n",
      "36/36 [==============================] - 6s 154ms/step - loss: 3.4949e-04 - root_mean_squared_error: 0.0187\n",
      "Epoch 31/100\n",
      "36/36 [==============================] - 6s 158ms/step - loss: 4.4166e-04 - root_mean_squared_error: 0.0210\n",
      "Epoch 32/100\n",
      "36/36 [==============================] - 6s 157ms/step - loss: 4.6915e-04 - root_mean_squared_error: 0.0217\n",
      "Epoch 33/100\n",
      "36/36 [==============================] - 5s 149ms/step - loss: 4.6992e-04 - root_mean_squared_error: 0.0217\n",
      "Epoch 34/100\n",
      "36/36 [==============================] - 5s 149ms/step - loss: 3.2792e-04 - root_mean_squared_error: 0.0181\n",
      "Epoch 35/100\n",
      "36/36 [==============================] - 5s 147ms/step - loss: 3.3724e-04 - root_mean_squared_error: 0.0184\n",
      "Epoch 36/100\n",
      "36/36 [==============================] - 5s 138ms/step - loss: 3.0747e-04 - root_mean_squared_error: 0.0175\n",
      "Epoch 37/100\n",
      "36/36 [==============================] - 6s 161ms/step - loss: 3.6029e-04 - root_mean_squared_error: 0.0190\n",
      "Epoch 38/100\n",
      "36/36 [==============================] - 5s 148ms/step - loss: 2.7634e-04 - root_mean_squared_error: 0.0166\n",
      "Epoch 39/100\n",
      "36/36 [==============================] - 6s 158ms/step - loss: 3.5138e-04 - root_mean_squared_error: 0.0187\n",
      "Epoch 40/100\n",
      "36/36 [==============================] - 5s 150ms/step - loss: 2.8261e-04 - root_mean_squared_error: 0.0168\n",
      "Epoch 41/100\n",
      "36/36 [==============================] - 6s 152ms/step - loss: 2.7406e-04 - root_mean_squared_error: 0.0166\n",
      "Epoch 42/100\n",
      "36/36 [==============================] - 5s 147ms/step - loss: 2.8198e-04 - root_mean_squared_error: 0.0168\n",
      "Epoch 43/100\n",
      "36/36 [==============================] - 6s 176ms/step - loss: 3.0811e-04 - root_mean_squared_error: 0.0176\n",
      "Epoch 44/100\n",
      "36/36 [==============================] - 5s 139ms/step - loss: 4.8846e-04 - root_mean_squared_error: 0.0221\n",
      "Epoch 45/100\n",
      "36/36 [==============================] - 5s 143ms/step - loss: 2.8725e-04 - root_mean_squared_error: 0.0169\n",
      "Epoch 46/100\n",
      "36/36 [==============================] - 5s 136ms/step - loss: 3.1970e-04 - root_mean_squared_error: 0.0179\n"
     ]
    },
    {
     "name": "stderr",
     "output_type": "stream",
     "text": [
      "WARNING:absl:Found untraced functions such as lstm_cell_layer_call_fn, lstm_cell_layer_call_and_return_conditional_losses while saving (showing 2 of 2). These functions will not be directly callable after loading.\n"
     ]
    },
    {
     "name": "stdout",
     "output_type": "stream",
     "text": [
      "INFO:tensorflow:Assets written to: /Users/aditya/Programming/stock-market-predictions/logs/MSFT-5-Year/assets\n"
     ]
    },
    {
     "name": "stderr",
     "output_type": "stream",
     "text": [
      "INFO:tensorflow:Assets written to: /Users/aditya/Programming/stock-market-predictions/logs/MSFT-5-Year/assets\n",
      "WARNING:absl:<keras.layers.recurrent.LSTMCell object at 0x7fbb263673a0> has the same name 'LSTMCell' as a built-in Keras object. Consider renaming <class 'keras.layers.recurrent.LSTMCell'> to avoid naming conflicts when loading with `tf.keras.models.load_model`. If renaming is not possible, pass the object in the `custom_objects` parameter of the load function.\n"
     ]
    },
    {
     "name": "stdout",
     "output_type": "stream",
     "text": [
      "(63, 60, 1)\n"
     ]
    },
    {
     "name": "stderr",
     "output_type": "stream",
     "text": [
      "\u001b[34m\u001b[1mwandb\u001b[0m: Adding directory to artifact (/Users/aditya/Programming/stock-market-predictions/logs/MSFT-5-Year)... Done. 0.0s\n"
     ]
    },
    {
     "name": "stdout",
     "output_type": "stream",
     "text": [
      "the root mean squared error is: 7.773191327463362\n"
     ]
    },
    {
     "data": {
      "text/html": [
       "<br/>Waiting for W&B process to finish, PID 13989... <strong style=\"color:green\">(success).</strong>"
      ],
      "text/plain": [
       "<IPython.core.display.HTML object>"
      ]
     },
     "metadata": {},
     "output_type": "display_data"
    },
    {
     "data": {
      "application/vnd.jupyter.widget-view+json": {
       "model_id": "3d6cd0d97a1c4622b862b391b6ca5a5a",
       "version_major": 2,
       "version_minor": 0
      },
      "text/plain": [
       "VBox(children=(Label(value=' 1.11MB of 1.11MB uploaded (0.01MB deduped)\\r'), FloatProgress(value=1.0, max=1.0)…"
      ]
     },
     "metadata": {},
     "output_type": "display_data"
    },
    {
     "data": {
      "text/html": [
       "<style>\n",
       "    table.wandb td:nth-child(1) { padding: 0 10px; text-align: right }\n",
       "    .wandb-row { display: flex; flex-direction: row; flex-wrap: wrap; width: 100% }\n",
       "    .wandb-col { display: flex; flex-direction: column; flex-basis: 100%; flex: 1; padding: 10px; }\n",
       "    </style>\n",
       "<div class=\"wandb-row\"><div class=\"wandb-col\">\n",
       "<h3>Run history:</h3><br/><table class=\"wandb\"><tr><td>epoch</td><td>▁▁▁▁▂▂▂▂▂▃▃▃▃▃▄▄▄▄▄▄▅▅▅▅▅▅▆▆▆▆▆▇▇▇▇▇████</td></tr><tr><td>loss</td><td>█▂▁▁▁▁▁▁▁▁▁▁▁▁▁▁▁▁▁▁▁▁▁▁▁▁▁▁▁▁▁▁▁▁▁▁▁▁▁▁</td></tr><tr><td>root_mean_square_error</td><td>▁</td></tr><tr><td>root_mean_squared_error</td><td>█▃▂▁▁▂▁▁▂▁▁▁▁▁▁▁▁▁▁▁▁▁▁▁▁▁▁▁▁▁▁▁▁▁▁▁▁▁▁▁</td></tr></table><br/></div><div class=\"wandb-col\">\n",
       "<h3>Run summary:</h3><br/><table class=\"wandb\"><tr><td>epoch</td><td>45</td></tr><tr><td>loss</td><td>0.00032</td></tr><tr><td>root_mean_square_error</td><td>7.77319</td></tr><tr><td>root_mean_squared_error</td><td>0.01788</td></tr></table>\n",
       "</div></div>\n",
       "Synced 6 W&B file(s), 1 media file(s), 4 artifact file(s) and 1 other file(s)\n",
       "<br/>Synced <strong style=\"color:#cdcd00\">usual-sweep-156</strong>: <a href=\"https://wandb.ai/alpheron/stock-predictions/runs/42xvzqps\" target=\"_blank\">https://wandb.ai/alpheron/stock-predictions/runs/42xvzqps</a><br/>\n",
       "Find logs at: <code>./wandb/run-20220227_172351-42xvzqps/logs</code><br/>\n"
      ],
      "text/plain": [
       "<IPython.core.display.HTML object>"
      ]
     },
     "metadata": {},
     "output_type": "display_data"
    },
    {
     "name": "stderr",
     "output_type": "stream",
     "text": [
      "\u001b[34m\u001b[1mwandb\u001b[0m: Agent Starting Run: 6ld0wcx6 with config:\n",
      "\u001b[34m\u001b[1mwandb\u001b[0m: \tLSTM_UNITS: 50\n",
      "\u001b[34m\u001b[1mwandb\u001b[0m: \tepochs: 100\n",
      "\u001b[34m\u001b[1mwandb\u001b[0m: \u001b[33mWARNING\u001b[0m Ignored wandb.init() arg project when running a sweep.\n",
      "\u001b[34m\u001b[1mwandb\u001b[0m: \u001b[33mWARNING\u001b[0m Ignored wandb.init() arg entity when running a sweep.\n"
     ]
    },
    {
     "data": {
      "text/html": [
       "\n",
       "                    Syncing run <strong><a href=\"https://wandb.ai/alpheron/stock-predictions/runs/6ld0wcx6\" target=\"_blank\">super-sweep-157</a></strong> to <a href=\"https://wandb.ai/alpheron/stock-predictions\" target=\"_blank\">Weights & Biases</a> (<a href=\"https://docs.wandb.com/integrations/jupyter.html\" target=\"_blank\">docs</a>).<br/>\n",
       "Sweep page: <a href=\"https://wandb.ai/alpheron/stock-predictions/sweeps/21t67yna\" target=\"_blank\">https://wandb.ai/alpheron/stock-predictions/sweeps/21t67yna</a><br/>\n",
       "\n",
       "                "
      ],
      "text/plain": [
       "<IPython.core.display.HTML object>"
      ]
     },
     "metadata": {},
     "output_type": "display_data"
    },
    {
     "name": "stdout",
     "output_type": "stream",
     "text": [
      "Epoch 1/100\n",
      "36/36 [==============================] - 7s 187ms/step - loss: 0.0914 - root_mean_squared_error: 0.3024\n",
      "Epoch 2/100\n",
      "36/36 [==============================] - 6s 153ms/step - loss: 0.0221 - root_mean_squared_error: 0.1486\n",
      "Epoch 3/100\n",
      "36/36 [==============================] - 6s 151ms/step - loss: 0.0092 - root_mean_squared_error: 0.0961\n",
      "Epoch 4/100\n",
      "36/36 [==============================] - 6s 155ms/step - loss: 0.0032 - root_mean_squared_error: 0.0564\n",
      "Epoch 5/100\n",
      "36/36 [==============================] - 6s 153ms/step - loss: 8.3583e-04 - root_mean_squared_error: 0.0289\n",
      "Epoch 6/100\n",
      "36/36 [==============================] - 9s 252ms/step - loss: 7.2686e-04 - root_mean_squared_error: 0.0270\n",
      "Epoch 7/100\n",
      "36/36 [==============================] - 6s 163ms/step - loss: 7.3857e-04 - root_mean_squared_error: 0.0272\n",
      "Epoch 8/100\n",
      "36/36 [==============================] - 6s 172ms/step - loss: 7.2592e-04 - root_mean_squared_error: 0.0269\n",
      "Epoch 9/100\n",
      "36/36 [==============================] - 8s 227ms/step - loss: 7.1594e-04 - root_mean_squared_error: 0.0268\n",
      "Epoch 10/100\n",
      "36/36 [==============================] - 5s 152ms/step - loss: 6.0077e-04 - root_mean_squared_error: 0.0245\n",
      "Epoch 11/100\n",
      "36/36 [==============================] - 6s 174ms/step - loss: 7.0582e-04 - root_mean_squared_error: 0.0266\n",
      "Epoch 12/100\n",
      "36/36 [==============================] - 7s 200ms/step - loss: 8.1271e-04 - root_mean_squared_error: 0.0285\n",
      "Epoch 13/100\n",
      "36/36 [==============================] - 9s 235ms/step - loss: 5.9929e-04 - root_mean_squared_error: 0.0245\n",
      "Epoch 14/100\n",
      "36/36 [==============================] - 6s 165ms/step - loss: 5.8409e-04 - root_mean_squared_error: 0.0242\n",
      "Epoch 15/100\n",
      "36/36 [==============================] - 8s 228ms/step - loss: 6.0640e-04 - root_mean_squared_error: 0.0246\n",
      "Epoch 16/100\n",
      "36/36 [==============================] - 6s 177ms/step - loss: 5.5850e-04 - root_mean_squared_error: 0.0236\n",
      "Epoch 17/100\n",
      "36/36 [==============================] - 6s 167ms/step - loss: 6.6877e-04 - root_mean_squared_error: 0.0259\n",
      "Epoch 18/100\n",
      "36/36 [==============================] - 6s 172ms/step - loss: 4.8941e-04 - root_mean_squared_error: 0.0221\n",
      "Epoch 19/100\n",
      "36/36 [==============================] - 6s 169ms/step - loss: 5.4326e-04 - root_mean_squared_error: 0.0233\n",
      "Epoch 20/100\n",
      "36/36 [==============================] - 5s 147ms/step - loss: 7.2789e-04 - root_mean_squared_error: 0.0270\n",
      "Epoch 21/100\n",
      "36/36 [==============================] - 6s 156ms/step - loss: 6.6984e-04 - root_mean_squared_error: 0.0259\n",
      "Epoch 22/100\n",
      "36/36 [==============================] - 5s 151ms/step - loss: 6.3381e-04 - root_mean_squared_error: 0.0252\n",
      "Epoch 23/100\n",
      "36/36 [==============================] - 6s 161ms/step - loss: 5.6216e-04 - root_mean_squared_error: 0.0237\n"
     ]
    },
    {
     "name": "stderr",
     "output_type": "stream",
     "text": [
      "WARNING:absl:Found untraced functions such as lstm_cell_layer_call_fn, lstm_cell_layer_call_and_return_conditional_losses while saving (showing 2 of 2). These functions will not be directly callable after loading.\n"
     ]
    },
    {
     "name": "stdout",
     "output_type": "stream",
     "text": [
      "INFO:tensorflow:Assets written to: /Users/aditya/Programming/stock-market-predictions/logs/MSFT-5-Year/assets\n"
     ]
    },
    {
     "name": "stderr",
     "output_type": "stream",
     "text": [
      "INFO:tensorflow:Assets written to: /Users/aditya/Programming/stock-market-predictions/logs/MSFT-5-Year/assets\n",
      "WARNING:absl:<keras.layers.recurrent.LSTMCell object at 0x7fbb25bb4a30> has the same name 'LSTMCell' as a built-in Keras object. Consider renaming <class 'keras.layers.recurrent.LSTMCell'> to avoid naming conflicts when loading with `tf.keras.models.load_model`. If renaming is not possible, pass the object in the `custom_objects` parameter of the load function.\n",
      "\u001b[34m\u001b[1mwandb\u001b[0m: Adding directory to artifact (/Users/aditya/Programming/stock-market-predictions/logs/MSFT-5-Year)... Done. 0.0s\n"
     ]
    },
    {
     "name": "stdout",
     "output_type": "stream",
     "text": [
      "(63, 60, 1)\n",
      "the root mean squared error is: 10.58647262840945\n"
     ]
    },
    {
     "data": {
      "text/html": [
       "<br/>Waiting for W&B process to finish, PID 14101... <strong style=\"color:green\">(success).</strong>"
      ],
      "text/plain": [
       "<IPython.core.display.HTML object>"
      ]
     },
     "metadata": {},
     "output_type": "display_data"
    },
    {
     "data": {
      "application/vnd.jupyter.widget-view+json": {
       "model_id": "16532e43e4194199bab2b1e0a10fae6a",
       "version_major": 2,
       "version_minor": 0
      },
      "text/plain": [
       "VBox(children=(Label(value=' 1.11MB of 1.11MB uploaded (0.01MB deduped)\\r'), FloatProgress(value=1.0, max=1.0)…"
      ]
     },
     "metadata": {},
     "output_type": "display_data"
    },
    {
     "data": {
      "text/html": [
       "<style>\n",
       "    table.wandb td:nth-child(1) { padding: 0 10px; text-align: right }\n",
       "    .wandb-row { display: flex; flex-direction: row; flex-wrap: wrap; width: 100% }\n",
       "    .wandb-col { display: flex; flex-direction: column; flex-basis: 100%; flex: 1; padding: 10px; }\n",
       "    </style>\n",
       "<div class=\"wandb-row\"><div class=\"wandb-col\">\n",
       "<h3>Run history:</h3><br/><table class=\"wandb\"><tr><td>epoch</td><td>▁▁▂▂▂▃▃▃▄▄▄▅▅▅▅▆▆▆▇▇▇██</td></tr><tr><td>loss</td><td>█▃▂▁▁▁▁▁▁▁▁▁▁▁▁▁▁▁▁▁▁▁▁</td></tr><tr><td>root_mean_square_error</td><td>▁</td></tr><tr><td>root_mean_squared_error</td><td>█▄▃▂▁▁▁▁▁▁▁▁▁▁▁▁▁▁▁▁▁▁▁</td></tr></table><br/></div><div class=\"wandb-col\">\n",
       "<h3>Run summary:</h3><br/><table class=\"wandb\"><tr><td>epoch</td><td>22</td></tr><tr><td>loss</td><td>0.00056</td></tr><tr><td>root_mean_square_error</td><td>10.58647</td></tr><tr><td>root_mean_squared_error</td><td>0.02371</td></tr></table>\n",
       "</div></div>\n",
       "Synced 6 W&B file(s), 1 media file(s), 4 artifact file(s) and 1 other file(s)\n",
       "<br/>Synced <strong style=\"color:#cdcd00\">super-sweep-157</strong>: <a href=\"https://wandb.ai/alpheron/stock-predictions/runs/6ld0wcx6\" target=\"_blank\">https://wandb.ai/alpheron/stock-predictions/runs/6ld0wcx6</a><br/>\n",
       "Find logs at: <code>./wandb/run-20220227_172836-6ld0wcx6/logs</code><br/>\n"
      ],
      "text/plain": [
       "<IPython.core.display.HTML object>"
      ]
     },
     "metadata": {},
     "output_type": "display_data"
    },
    {
     "name": "stderr",
     "output_type": "stream",
     "text": [
      "\u001b[34m\u001b[1mwandb\u001b[0m: Agent Starting Run: zw7zxue9 with config:\n",
      "\u001b[34m\u001b[1mwandb\u001b[0m: \tLSTM_UNITS: 95\n",
      "\u001b[34m\u001b[1mwandb\u001b[0m: \tepochs: 100\n",
      "\u001b[34m\u001b[1mwandb\u001b[0m: \u001b[33mWARNING\u001b[0m Ignored wandb.init() arg project when running a sweep.\n",
      "\u001b[34m\u001b[1mwandb\u001b[0m: \u001b[33mWARNING\u001b[0m Ignored wandb.init() arg entity when running a sweep.\n"
     ]
    },
    {
     "data": {
      "text/html": [
       "\n",
       "                    Syncing run <strong><a href=\"https://wandb.ai/alpheron/stock-predictions/runs/zw7zxue9\" target=\"_blank\">fearless-sweep-158</a></strong> to <a href=\"https://wandb.ai/alpheron/stock-predictions\" target=\"_blank\">Weights & Biases</a> (<a href=\"https://docs.wandb.com/integrations/jupyter.html\" target=\"_blank\">docs</a>).<br/>\n",
       "Sweep page: <a href=\"https://wandb.ai/alpheron/stock-predictions/sweeps/21t67yna\" target=\"_blank\">https://wandb.ai/alpheron/stock-predictions/sweeps/21t67yna</a><br/>\n",
       "\n",
       "                "
      ],
      "text/plain": [
       "<IPython.core.display.HTML object>"
      ]
     },
     "metadata": {},
     "output_type": "display_data"
    },
    {
     "name": "stdout",
     "output_type": "stream",
     "text": [
      "Epoch 1/100\n",
      "36/36 [==============================] - 7s 192ms/step - loss: 0.0619 - root_mean_squared_error: 0.2488\n",
      "Epoch 2/100\n",
      "36/36 [==============================] - 5s 148ms/step - loss: 0.0115 - root_mean_squared_error: 0.1074\n",
      "Epoch 3/100\n",
      "36/36 [==============================] - 5s 134ms/step - loss: 0.0023 - root_mean_squared_error: 0.0481\n",
      "Epoch 4/100\n",
      "36/36 [==============================] - 5s 142ms/step - loss: 7.5730e-04 - root_mean_squared_error: 0.0275\n",
      "Epoch 5/100\n",
      "36/36 [==============================] - 5s 152ms/step - loss: 9.2747e-04 - root_mean_squared_error: 0.0305\n",
      "Epoch 6/100\n",
      "36/36 [==============================] - 6s 160ms/step - loss: 0.0011 - root_mean_squared_error: 0.0337\n",
      "Epoch 7/100\n",
      "36/36 [==============================] - 6s 159ms/step - loss: 6.2856e-04 - root_mean_squared_error: 0.0251\n",
      "Epoch 8/100\n",
      "36/36 [==============================] - 6s 153ms/step - loss: 7.4952e-04 - root_mean_squared_error: 0.0274\n",
      "Epoch 9/100\n",
      "36/36 [==============================] - 5s 149ms/step - loss: 9.2147e-04 - root_mean_squared_error: 0.0304\n",
      "Epoch 10/100\n",
      "36/36 [==============================] - 6s 180ms/step - loss: 5.4266e-04 - root_mean_squared_error: 0.0233\n",
      "Epoch 11/100\n",
      "36/36 [==============================] - 7s 184ms/step - loss: 6.2500e-04 - root_mean_squared_error: 0.0250\n",
      "Epoch 12/100\n",
      "36/36 [==============================] - 6s 163ms/step - loss: 6.0691e-04 - root_mean_squared_error: 0.0246\n",
      "Epoch 13/100\n",
      "36/36 [==============================] - 5s 152ms/step - loss: 0.0016 - root_mean_squared_error: 0.0396\n",
      "Epoch 14/100\n",
      "36/36 [==============================] - 8s 235ms/step - loss: 5.4154e-04 - root_mean_squared_error: 0.0233\n",
      "Epoch 15/100\n",
      "36/36 [==============================] - 6s 173ms/step - loss: 4.8588e-04 - root_mean_squared_error: 0.0220\n",
      "Epoch 16/100\n",
      "36/36 [==============================] - 7s 186ms/step - loss: 5.5674e-04 - root_mean_squared_error: 0.0236\n",
      "Epoch 17/100\n",
      "36/36 [==============================] - 6s 165ms/step - loss: 5.4900e-04 - root_mean_squared_error: 0.0234\n",
      "Epoch 18/100\n",
      "36/36 [==============================] - 7s 186ms/step - loss: 0.0011 - root_mean_squared_error: 0.0326\n",
      "Epoch 19/100\n",
      "36/36 [==============================] - 5s 137ms/step - loss: 5.4817e-04 - root_mean_squared_error: 0.0234\n",
      "Epoch 20/100\n",
      "36/36 [==============================] - 7s 195ms/step - loss: 6.1229e-04 - root_mean_squared_error: 0.0247\n"
     ]
    },
    {
     "name": "stderr",
     "output_type": "stream",
     "text": [
      "WARNING:absl:Found untraced functions such as lstm_cell_layer_call_fn, lstm_cell_layer_call_and_return_conditional_losses while saving (showing 2 of 2). These functions will not be directly callable after loading.\n"
     ]
    },
    {
     "name": "stdout",
     "output_type": "stream",
     "text": [
      "INFO:tensorflow:Assets written to: /Users/aditya/Programming/stock-market-predictions/logs/MSFT-5-Year/assets\n"
     ]
    },
    {
     "name": "stderr",
     "output_type": "stream",
     "text": [
      "INFO:tensorflow:Assets written to: /Users/aditya/Programming/stock-market-predictions/logs/MSFT-5-Year/assets\n",
      "WARNING:absl:<keras.layers.recurrent.LSTMCell object at 0x7fbb281d43a0> has the same name 'LSTMCell' as a built-in Keras object. Consider renaming <class 'keras.layers.recurrent.LSTMCell'> to avoid naming conflicts when loading with `tf.keras.models.load_model`. If renaming is not possible, pass the object in the `custom_objects` parameter of the load function.\n"
     ]
    },
    {
     "name": "stdout",
     "output_type": "stream",
     "text": [
      "(63, 60, 1)\n"
     ]
    },
    {
     "name": "stderr",
     "output_type": "stream",
     "text": [
      "\u001b[34m\u001b[1mwandb\u001b[0m: Adding directory to artifact (/Users/aditya/Programming/stock-market-predictions/logs/MSFT-5-Year)... Done. 0.0s\n"
     ]
    },
    {
     "name": "stdout",
     "output_type": "stream",
     "text": [
      "the root mean squared error is: 10.129841611673028\n"
     ]
    },
    {
     "data": {
      "text/html": [
       "<br/>Waiting for W&B process to finish, PID 14196... <strong style=\"color:green\">(success).</strong>"
      ],
      "text/plain": [
       "<IPython.core.display.HTML object>"
      ]
     },
     "metadata": {},
     "output_type": "display_data"
    },
    {
     "data": {
      "application/vnd.jupyter.widget-view+json": {
       "model_id": "36e8e3cb37534e038d54016613a93fab",
       "version_major": 2,
       "version_minor": 0
      },
      "text/plain": [
       "VBox(children=(Label(value=' 1.11MB of 1.11MB uploaded (0.01MB deduped)\\r'), FloatProgress(value=1.0, max=1.0)…"
      ]
     },
     "metadata": {},
     "output_type": "display_data"
    },
    {
     "data": {
      "text/html": [
       "<style>\n",
       "    table.wandb td:nth-child(1) { padding: 0 10px; text-align: right }\n",
       "    .wandb-row { display: flex; flex-direction: row; flex-wrap: wrap; width: 100% }\n",
       "    .wandb-col { display: flex; flex-direction: column; flex-basis: 100%; flex: 1; padding: 10px; }\n",
       "    </style>\n",
       "<div class=\"wandb-row\"><div class=\"wandb-col\">\n",
       "<h3>Run history:</h3><br/><table class=\"wandb\"><tr><td>epoch</td><td>▁▁▂▂▂▃▃▄▄▄▅▅▅▆▆▇▇▇██</td></tr><tr><td>loss</td><td>█▂▁▁▁▁▁▁▁▁▁▁▁▁▁▁▁▁▁▁</td></tr><tr><td>root_mean_square_error</td><td>▁</td></tr><tr><td>root_mean_squared_error</td><td>█▄▂▁▁▁▁▁▁▁▁▁▂▁▁▁▁▁▁▁</td></tr></table><br/></div><div class=\"wandb-col\">\n",
       "<h3>Run summary:</h3><br/><table class=\"wandb\"><tr><td>epoch</td><td>19</td></tr><tr><td>loss</td><td>0.00061</td></tr><tr><td>root_mean_square_error</td><td>10.12984</td></tr><tr><td>root_mean_squared_error</td><td>0.02474</td></tr></table>\n",
       "</div></div>\n",
       "Synced 6 W&B file(s), 1 media file(s), 4 artifact file(s) and 1 other file(s)\n",
       "<br/>Synced <strong style=\"color:#cdcd00\">fearless-sweep-158</strong>: <a href=\"https://wandb.ai/alpheron/stock-predictions/runs/zw7zxue9\" target=\"_blank\">https://wandb.ai/alpheron/stock-predictions/runs/zw7zxue9</a><br/>\n",
       "Find logs at: <code>./wandb/run-20220227_173147-zw7zxue9/logs</code><br/>\n"
      ],
      "text/plain": [
       "<IPython.core.display.HTML object>"
      ]
     },
     "metadata": {},
     "output_type": "display_data"
    },
    {
     "name": "stderr",
     "output_type": "stream",
     "text": [
      "\u001b[34m\u001b[1mwandb\u001b[0m: Agent Starting Run: ca1gdisj with config:\n",
      "\u001b[34m\u001b[1mwandb\u001b[0m: \tLSTM_UNITS: 65\n",
      "\u001b[34m\u001b[1mwandb\u001b[0m: \tepochs: 100\n",
      "\u001b[34m\u001b[1mwandb\u001b[0m: \u001b[33mWARNING\u001b[0m Ignored wandb.init() arg project when running a sweep.\n",
      "\u001b[34m\u001b[1mwandb\u001b[0m: \u001b[33mWARNING\u001b[0m Ignored wandb.init() arg entity when running a sweep.\n"
     ]
    },
    {
     "data": {
      "text/html": [
       "\n",
       "                    Syncing run <strong><a href=\"https://wandb.ai/alpheron/stock-predictions/runs/ca1gdisj\" target=\"_blank\">astral-sweep-159</a></strong> to <a href=\"https://wandb.ai/alpheron/stock-predictions\" target=\"_blank\">Weights & Biases</a> (<a href=\"https://docs.wandb.com/integrations/jupyter.html\" target=\"_blank\">docs</a>).<br/>\n",
       "Sweep page: <a href=\"https://wandb.ai/alpheron/stock-predictions/sweeps/21t67yna\" target=\"_blank\">https://wandb.ai/alpheron/stock-predictions/sweeps/21t67yna</a><br/>\n",
       "\n",
       "                "
      ],
      "text/plain": [
       "<IPython.core.display.HTML object>"
      ]
     },
     "metadata": {},
     "output_type": "display_data"
    },
    {
     "name": "stdout",
     "output_type": "stream",
     "text": [
      "Epoch 1/100\n",
      "36/36 [==============================] - 10s 272ms/step - loss: 0.1206 - root_mean_squared_error: 0.3473\n",
      "Epoch 2/100\n",
      "36/36 [==============================] - 6s 178ms/step - loss: 0.0177 - root_mean_squared_error: 0.1330\n",
      "Epoch 3/100\n",
      "36/36 [==============================] - 7s 199ms/step - loss: 0.0058 - root_mean_squared_error: 0.0761\n",
      "Epoch 4/100\n",
      "36/36 [==============================] - 7s 181ms/step - loss: 0.0017 - root_mean_squared_error: 0.0412\n",
      "Epoch 5/100\n",
      "36/36 [==============================] - 7s 192ms/step - loss: 9.0706e-04 - root_mean_squared_error: 0.0301\n",
      "Epoch 6/100\n",
      "36/36 [==============================] - 7s 193ms/step - loss: 9.0515e-04 - root_mean_squared_error: 0.0301\n",
      "Epoch 7/100\n",
      "36/36 [==============================] - 5s 152ms/step - loss: 7.2826e-04 - root_mean_squared_error: 0.0270\n",
      "Epoch 8/100\n",
      "36/36 [==============================] - 5s 145ms/step - loss: 7.3186e-04 - root_mean_squared_error: 0.0271\n",
      "Epoch 9/100\n",
      "36/36 [==============================] - 5s 148ms/step - loss: 7.9406e-04 - root_mean_squared_error: 0.0282\n",
      "Epoch 10/100\n",
      "36/36 [==============================] - 5s 151ms/step - loss: 7.5222e-04 - root_mean_squared_error: 0.0274\n",
      "Epoch 11/100\n",
      "36/36 [==============================] - 5s 143ms/step - loss: 0.0021 - root_mean_squared_error: 0.0453\n",
      "Epoch 12/100\n",
      "36/36 [==============================] - 5s 148ms/step - loss: 7.5519e-04 - root_mean_squared_error: 0.0275\n"
     ]
    },
    {
     "name": "stderr",
     "output_type": "stream",
     "text": [
      "WARNING:absl:Found untraced functions such as lstm_cell_layer_call_fn, lstm_cell_layer_call_and_return_conditional_losses while saving (showing 2 of 2). These functions will not be directly callable after loading.\n"
     ]
    },
    {
     "name": "stdout",
     "output_type": "stream",
     "text": [
      "INFO:tensorflow:Assets written to: /Users/aditya/Programming/stock-market-predictions/logs/MSFT-5-Year/assets\n"
     ]
    },
    {
     "name": "stderr",
     "output_type": "stream",
     "text": [
      "INFO:tensorflow:Assets written to: /Users/aditya/Programming/stock-market-predictions/logs/MSFT-5-Year/assets\n",
      "WARNING:absl:<keras.layers.recurrent.LSTMCell object at 0x7fbb247b5ca0> has the same name 'LSTMCell' as a built-in Keras object. Consider renaming <class 'keras.layers.recurrent.LSTMCell'> to avoid naming conflicts when loading with `tf.keras.models.load_model`. If renaming is not possible, pass the object in the `custom_objects` parameter of the load function.\n"
     ]
    },
    {
     "name": "stdout",
     "output_type": "stream",
     "text": [
      "(63, 60, 1)\n"
     ]
    },
    {
     "name": "stderr",
     "output_type": "stream",
     "text": [
      "\u001b[34m\u001b[1mwandb\u001b[0m: Adding directory to artifact (/Users/aditya/Programming/stock-market-predictions/logs/MSFT-5-Year)... Done. 0.0s\n"
     ]
    },
    {
     "name": "stdout",
     "output_type": "stream",
     "text": [
      "the root mean squared error is: 11.122555752568696\n"
     ]
    },
    {
     "data": {
      "text/html": [
       "<br/>Waiting for W&B process to finish, PID 14338... <strong style=\"color:green\">(success).</strong>"
      ],
      "text/plain": [
       "<IPython.core.display.HTML object>"
      ]
     },
     "metadata": {},
     "output_type": "display_data"
    },
    {
     "data": {
      "application/vnd.jupyter.widget-view+json": {
       "model_id": "bd2b38c8a44341fd97371dc49760d811",
       "version_major": 2,
       "version_minor": 0
      },
      "text/plain": [
       "VBox(children=(Label(value=' 1.11MB of 1.11MB uploaded (0.01MB deduped)\\r'), FloatProgress(value=1.0, max=1.0)…"
      ]
     },
     "metadata": {},
     "output_type": "display_data"
    },
    {
     "data": {
      "text/html": [
       "<style>\n",
       "    table.wandb td:nth-child(1) { padding: 0 10px; text-align: right }\n",
       "    .wandb-row { display: flex; flex-direction: row; flex-wrap: wrap; width: 100% }\n",
       "    .wandb-col { display: flex; flex-direction: column; flex-basis: 100%; flex: 1; padding: 10px; }\n",
       "    </style>\n",
       "<div class=\"wandb-row\"><div class=\"wandb-col\">\n",
       "<h3>Run history:</h3><br/><table class=\"wandb\"><tr><td>epoch</td><td>▁▂▂▃▄▄▅▅▆▇▇█</td></tr><tr><td>loss</td><td>█▂▁▁▁▁▁▁▁▁▁▁</td></tr><tr><td>root_mean_square_error</td><td>▁</td></tr><tr><td>root_mean_squared_error</td><td>█▃▂▁▁▁▁▁▁▁▁▁</td></tr></table><br/></div><div class=\"wandb-col\">\n",
       "<h3>Run summary:</h3><br/><table class=\"wandb\"><tr><td>epoch</td><td>11</td></tr><tr><td>loss</td><td>0.00076</td></tr><tr><td>root_mean_square_error</td><td>11.12256</td></tr><tr><td>root_mean_squared_error</td><td>0.02748</td></tr></table>\n",
       "</div></div>\n",
       "Synced 6 W&B file(s), 1 media file(s), 4 artifact file(s) and 1 other file(s)\n",
       "<br/>Synced <strong style=\"color:#cdcd00\">astral-sweep-159</strong>: <a href=\"https://wandb.ai/alpheron/stock-predictions/runs/ca1gdisj\" target=\"_blank\">https://wandb.ai/alpheron/stock-predictions/runs/ca1gdisj</a><br/>\n",
       "Find logs at: <code>./wandb/run-20220227_173427-ca1gdisj/logs</code><br/>\n"
      ],
      "text/plain": [
       "<IPython.core.display.HTML object>"
      ]
     },
     "metadata": {},
     "output_type": "display_data"
    },
    {
     "name": "stderr",
     "output_type": "stream",
     "text": [
      "\u001b[34m\u001b[1mwandb\u001b[0m: Agent Starting Run: 97pebq0x with config:\n",
      "\u001b[34m\u001b[1mwandb\u001b[0m: \tLSTM_UNITS: 15\n",
      "\u001b[34m\u001b[1mwandb\u001b[0m: \tepochs: 100\n",
      "\u001b[34m\u001b[1mwandb\u001b[0m: \u001b[33mWARNING\u001b[0m Ignored wandb.init() arg project when running a sweep.\n",
      "\u001b[34m\u001b[1mwandb\u001b[0m: \u001b[33mWARNING\u001b[0m Ignored wandb.init() arg entity when running a sweep.\n"
     ]
    },
    {
     "data": {
      "text/html": [
       "\n",
       "                    Syncing run <strong><a href=\"https://wandb.ai/alpheron/stock-predictions/runs/97pebq0x\" target=\"_blank\">denim-sweep-160</a></strong> to <a href=\"https://wandb.ai/alpheron/stock-predictions\" target=\"_blank\">Weights & Biases</a> (<a href=\"https://docs.wandb.com/integrations/jupyter.html\" target=\"_blank\">docs</a>).<br/>\n",
       "Sweep page: <a href=\"https://wandb.ai/alpheron/stock-predictions/sweeps/21t67yna\" target=\"_blank\">https://wandb.ai/alpheron/stock-predictions/sweeps/21t67yna</a><br/>\n",
       "\n",
       "                "
      ],
      "text/plain": [
       "<IPython.core.display.HTML object>"
      ]
     },
     "metadata": {},
     "output_type": "display_data"
    },
    {
     "name": "stdout",
     "output_type": "stream",
     "text": [
      "Epoch 1/100\n",
      "36/36 [==============================] - 6s 177ms/step - loss: 0.1057 - root_mean_squared_error: 0.3252\n",
      "Epoch 2/100\n",
      "36/36 [==============================] - 5s 151ms/step - loss: 0.0197 - root_mean_squared_error: 0.1404\n",
      "Epoch 3/100\n",
      "36/36 [==============================] - 5s 131ms/step - loss: 0.0067 - root_mean_squared_error: 0.0817\n",
      "Epoch 4/100\n",
      "36/36 [==============================] - 5s 128ms/step - loss: 0.0016 - root_mean_squared_error: 0.0404\n",
      "Epoch 5/100\n",
      "36/36 [==============================] - 6s 164ms/step - loss: 8.2898e-04 - root_mean_squared_error: 0.0288\n",
      "Epoch 6/100\n",
      "36/36 [==============================] - 5s 136ms/step - loss: 7.0107e-04 - root_mean_squared_error: 0.0265\n",
      "Epoch 7/100\n",
      "36/36 [==============================] - 5s 141ms/step - loss: 8.0098e-04 - root_mean_squared_error: 0.0283\n",
      "Epoch 8/100\n",
      "36/36 [==============================] - 5s 133ms/step - loss: 7.3874e-04 - root_mean_squared_error: 0.0272\n",
      "Epoch 9/100\n",
      "36/36 [==============================] - 5s 146ms/step - loss: 8.0940e-04 - root_mean_squared_error: 0.0284\n",
      "Epoch 10/100\n",
      "36/36 [==============================] - 5s 135ms/step - loss: 6.5827e-04 - root_mean_squared_error: 0.0257\n",
      "Epoch 11/100\n",
      "36/36 [==============================] - 5s 134ms/step - loss: 8.3993e-04 - root_mean_squared_error: 0.0290\n",
      "Epoch 12/100\n",
      "36/36 [==============================] - 5s 142ms/step - loss: 7.9341e-04 - root_mean_squared_error: 0.0282\n",
      "Epoch 13/100\n",
      "36/36 [==============================] - 5s 152ms/step - loss: 7.4423e-04 - root_mean_squared_error: 0.0273\n",
      "Epoch 14/100\n",
      "36/36 [==============================] - 5s 139ms/step - loss: 7.8454e-04 - root_mean_squared_error: 0.0280\n",
      "Epoch 15/100\n",
      "36/36 [==============================] - 5s 153ms/step - loss: 6.9897e-04 - root_mean_squared_error: 0.0264\n"
     ]
    },
    {
     "name": "stderr",
     "output_type": "stream",
     "text": [
      "WARNING:absl:Found untraced functions such as lstm_cell_layer_call_fn, lstm_cell_layer_call_and_return_conditional_losses while saving (showing 2 of 2). These functions will not be directly callable after loading.\n"
     ]
    },
    {
     "name": "stdout",
     "output_type": "stream",
     "text": [
      "INFO:tensorflow:Assets written to: /Users/aditya/Programming/stock-market-predictions/logs/MSFT-5-Year/assets\n"
     ]
    },
    {
     "name": "stderr",
     "output_type": "stream",
     "text": [
      "INFO:tensorflow:Assets written to: /Users/aditya/Programming/stock-market-predictions/logs/MSFT-5-Year/assets\n",
      "WARNING:absl:<keras.layers.recurrent.LSTMCell object at 0x7fbb28b8de80> has the same name 'LSTMCell' as a built-in Keras object. Consider renaming <class 'keras.layers.recurrent.LSTMCell'> to avoid naming conflicts when loading with `tf.keras.models.load_model`. If renaming is not possible, pass the object in the `custom_objects` parameter of the load function.\n"
     ]
    },
    {
     "name": "stdout",
     "output_type": "stream",
     "text": [
      "(63, 60, 1)\n"
     ]
    },
    {
     "name": "stderr",
     "output_type": "stream",
     "text": [
      "\u001b[34m\u001b[1mwandb\u001b[0m: Adding directory to artifact (/Users/aditya/Programming/stock-market-predictions/logs/MSFT-5-Year)... Done. 0.0s\n"
     ]
    },
    {
     "name": "stdout",
     "output_type": "stream",
     "text": [
      "the root mean squared error is: 11.502198366804723\n"
     ]
    },
    {
     "data": {
      "text/html": [
       "<br/>Waiting for W&B process to finish, PID 14414... <strong style=\"color:green\">(success).</strong>"
      ],
      "text/plain": [
       "<IPython.core.display.HTML object>"
      ]
     },
     "metadata": {},
     "output_type": "display_data"
    },
    {
     "data": {
      "application/vnd.jupyter.widget-view+json": {
       "model_id": "01a01d1f420f4b4784655434b492ecdb",
       "version_major": 2,
       "version_minor": 0
      },
      "text/plain": [
       "VBox(children=(Label(value=' 1.11MB of 1.11MB uploaded (0.01MB deduped)\\r'), FloatProgress(value=1.0, max=1.0)…"
      ]
     },
     "metadata": {},
     "output_type": "display_data"
    },
    {
     "data": {
      "text/html": [
       "<style>\n",
       "    table.wandb td:nth-child(1) { padding: 0 10px; text-align: right }\n",
       "    .wandb-row { display: flex; flex-direction: row; flex-wrap: wrap; width: 100% }\n",
       "    .wandb-col { display: flex; flex-direction: column; flex-basis: 100%; flex: 1; padding: 10px; }\n",
       "    </style>\n",
       "<div class=\"wandb-row\"><div class=\"wandb-col\">\n",
       "<h3>Run history:</h3><br/><table class=\"wandb\"><tr><td>epoch</td><td>▁▁▂▃▃▃▄▅▅▅▆▇▇▇█</td></tr><tr><td>loss</td><td>█▂▁▁▁▁▁▁▁▁▁▁▁▁▁</td></tr><tr><td>root_mean_square_error</td><td>▁</td></tr><tr><td>root_mean_squared_error</td><td>█▄▂▁▁▁▁▁▁▁▁▁▁▁▁</td></tr></table><br/></div><div class=\"wandb-col\">\n",
       "<h3>Run summary:</h3><br/><table class=\"wandb\"><tr><td>epoch</td><td>14</td></tr><tr><td>loss</td><td>0.0007</td></tr><tr><td>root_mean_square_error</td><td>11.5022</td></tr><tr><td>root_mean_squared_error</td><td>0.02644</td></tr></table>\n",
       "</div></div>\n",
       "Synced 6 W&B file(s), 1 media file(s), 4 artifact file(s) and 1 other file(s)\n",
       "<br/>Synced <strong style=\"color:#cdcd00\">denim-sweep-160</strong>: <a href=\"https://wandb.ai/alpheron/stock-predictions/runs/97pebq0x\" target=\"_blank\">https://wandb.ai/alpheron/stock-predictions/runs/97pebq0x</a><br/>\n",
       "Find logs at: <code>./wandb/run-20220227_173621-97pebq0x/logs</code><br/>\n"
      ],
      "text/plain": [
       "<IPython.core.display.HTML object>"
      ]
     },
     "metadata": {},
     "output_type": "display_data"
    },
    {
     "name": "stderr",
     "output_type": "stream",
     "text": [
      "\u001b[34m\u001b[1mwandb\u001b[0m: Agent Starting Run: 0439rge4 with config:\n",
      "\u001b[34m\u001b[1mwandb\u001b[0m: \tLSTM_UNITS: 80\n",
      "\u001b[34m\u001b[1mwandb\u001b[0m: \tepochs: 100\n",
      "\u001b[34m\u001b[1mwandb\u001b[0m: \u001b[33mWARNING\u001b[0m Ignored wandb.init() arg project when running a sweep.\n",
      "\u001b[34m\u001b[1mwandb\u001b[0m: \u001b[33mWARNING\u001b[0m Ignored wandb.init() arg entity when running a sweep.\n"
     ]
    },
    {
     "data": {
      "text/html": [
       "\n",
       "                    Syncing run <strong><a href=\"https://wandb.ai/alpheron/stock-predictions/runs/0439rge4\" target=\"_blank\">fanciful-sweep-161</a></strong> to <a href=\"https://wandb.ai/alpheron/stock-predictions\" target=\"_blank\">Weights & Biases</a> (<a href=\"https://docs.wandb.com/integrations/jupyter.html\" target=\"_blank\">docs</a>).<br/>\n",
       "Sweep page: <a href=\"https://wandb.ai/alpheron/stock-predictions/sweeps/21t67yna\" target=\"_blank\">https://wandb.ai/alpheron/stock-predictions/sweeps/21t67yna</a><br/>\n",
       "\n",
       "                "
      ],
      "text/plain": [
       "<IPython.core.display.HTML object>"
      ]
     },
     "metadata": {},
     "output_type": "display_data"
    },
    {
     "name": "stdout",
     "output_type": "stream",
     "text": [
      "Epoch 1/100\n",
      "36/36 [==============================] - 6s 178ms/step - loss: 0.0309 - root_mean_squared_error: 0.1757\n",
      "Epoch 2/100\n",
      "36/36 [==============================] - 6s 171ms/step - loss: 0.0034 - root_mean_squared_error: 0.0582\n",
      "Epoch 3/100\n",
      "36/36 [==============================] - 5s 135ms/step - loss: 9.6992e-04 - root_mean_squared_error: 0.0311\n",
      "Epoch 4/100\n",
      "36/36 [==============================] - 5s 139ms/step - loss: 5.5340e-04 - root_mean_squared_error: 0.0235\n",
      "Epoch 5/100\n",
      "36/36 [==============================] - 5s 131ms/step - loss: 5.1296e-04 - root_mean_squared_error: 0.0226\n",
      "Epoch 6/100\n",
      "36/36 [==============================] - 5s 148ms/step - loss: 4.3180e-04 - root_mean_squared_error: 0.0208\n",
      "Epoch 7/100\n",
      "36/36 [==============================] - 5s 139ms/step - loss: 3.6828e-04 - root_mean_squared_error: 0.0192\n",
      "Epoch 8/100\n",
      "36/36 [==============================] - 5s 152ms/step - loss: 5.2189e-04 - root_mean_squared_error: 0.0228\n",
      "Epoch 9/100\n",
      "36/36 [==============================] - 5s 142ms/step - loss: 3.7992e-04 - root_mean_squared_error: 0.0195\n",
      "Epoch 10/100\n",
      "36/36 [==============================] - 6s 156ms/step - loss: 3.9763e-04 - root_mean_squared_error: 0.0199\n",
      "Epoch 11/100\n",
      "36/36 [==============================] - 6s 169ms/step - loss: 3.5615e-04 - root_mean_squared_error: 0.0189\n",
      "Epoch 12/100\n",
      "36/36 [==============================] - 6s 160ms/step - loss: 4.9009e-04 - root_mean_squared_error: 0.0221\n",
      "Epoch 13/100\n",
      "36/36 [==============================] - 5s 145ms/step - loss: 4.9048e-04 - root_mean_squared_error: 0.0221\n",
      "Epoch 14/100\n",
      "36/36 [==============================] - 5s 136ms/step - loss: 3.7397e-04 - root_mean_squared_error: 0.0193\n",
      "Epoch 15/100\n",
      "36/36 [==============================] - 5s 143ms/step - loss: 4.2318e-04 - root_mean_squared_error: 0.0206\n",
      "Epoch 16/100\n",
      "36/36 [==============================] - 5s 152ms/step - loss: 3.7181e-04 - root_mean_squared_error: 0.0193\n"
     ]
    },
    {
     "name": "stderr",
     "output_type": "stream",
     "text": [
      "WARNING:absl:Found untraced functions such as lstm_cell_layer_call_fn, lstm_cell_layer_call_and_return_conditional_losses while saving (showing 2 of 2). These functions will not be directly callable after loading.\n"
     ]
    },
    {
     "name": "stdout",
     "output_type": "stream",
     "text": [
      "INFO:tensorflow:Assets written to: /Users/aditya/Programming/stock-market-predictions/logs/MSFT-5-Year/assets\n"
     ]
    },
    {
     "name": "stderr",
     "output_type": "stream",
     "text": [
      "INFO:tensorflow:Assets written to: /Users/aditya/Programming/stock-market-predictions/logs/MSFT-5-Year/assets\n",
      "WARNING:absl:<keras.layers.recurrent.LSTMCell object at 0x7fbb263ae6a0> has the same name 'LSTMCell' as a built-in Keras object. Consider renaming <class 'keras.layers.recurrent.LSTMCell'> to avoid naming conflicts when loading with `tf.keras.models.load_model`. If renaming is not possible, pass the object in the `custom_objects` parameter of the load function.\n"
     ]
    },
    {
     "name": "stdout",
     "output_type": "stream",
     "text": [
      "(63, 60, 1)\n"
     ]
    },
    {
     "name": "stderr",
     "output_type": "stream",
     "text": [
      "\u001b[34m\u001b[1mwandb\u001b[0m: Adding directory to artifact (/Users/aditya/Programming/stock-market-predictions/logs/MSFT-5-Year)... Done. 0.0s\n"
     ]
    },
    {
     "name": "stdout",
     "output_type": "stream",
     "text": [
      "the root mean squared error is: 9.147365375802922\n"
     ]
    },
    {
     "data": {
      "text/html": [
       "<br/>Waiting for W&B process to finish, PID 14480... <strong style=\"color:green\">(success).</strong>"
      ],
      "text/plain": [
       "<IPython.core.display.HTML object>"
      ]
     },
     "metadata": {},
     "output_type": "display_data"
    },
    {
     "data": {
      "application/vnd.jupyter.widget-view+json": {
       "model_id": "22cf14a17eb3412ab84b4d5979952568",
       "version_major": 2,
       "version_minor": 0
      },
      "text/plain": [
       "VBox(children=(Label(value=' 1.11MB of 1.11MB uploaded (0.01MB deduped)\\r'), FloatProgress(value=1.0, max=1.0)…"
      ]
     },
     "metadata": {},
     "output_type": "display_data"
    },
    {
     "data": {
      "text/html": [
       "<style>\n",
       "    table.wandb td:nth-child(1) { padding: 0 10px; text-align: right }\n",
       "    .wandb-row { display: flex; flex-direction: row; flex-wrap: wrap; width: 100% }\n",
       "    .wandb-col { display: flex; flex-direction: column; flex-basis: 100%; flex: 1; padding: 10px; }\n",
       "    </style>\n",
       "<div class=\"wandb-row\"><div class=\"wandb-col\">\n",
       "<h3>Run history:</h3><br/><table class=\"wandb\"><tr><td>epoch</td><td>▁▁▂▂▃▃▄▄▅▅▆▆▇▇██</td></tr><tr><td>loss</td><td>█▂▁▁▁▁▁▁▁▁▁▁▁▁▁▁</td></tr><tr><td>root_mean_square_error</td><td>▁</td></tr><tr><td>root_mean_squared_error</td><td>█▃▂▁▁▁▁▁▁▁▁▁▁▁▁▁</td></tr></table><br/></div><div class=\"wandb-col\">\n",
       "<h3>Run summary:</h3><br/><table class=\"wandb\"><tr><td>epoch</td><td>15</td></tr><tr><td>loss</td><td>0.00037</td></tr><tr><td>root_mean_square_error</td><td>9.14737</td></tr><tr><td>root_mean_squared_error</td><td>0.01928</td></tr></table>\n",
       "</div></div>\n",
       "Synced 6 W&B file(s), 1 media file(s), 4 artifact file(s) and 1 other file(s)\n",
       "<br/>Synced <strong style=\"color:#cdcd00\">fanciful-sweep-161</strong>: <a href=\"https://wandb.ai/alpheron/stock-predictions/runs/0439rge4\" target=\"_blank\">https://wandb.ai/alpheron/stock-predictions/runs/0439rge4</a><br/>\n",
       "Find logs at: <code>./wandb/run-20220227_173820-0439rge4/logs</code><br/>\n"
      ],
      "text/plain": [
       "<IPython.core.display.HTML object>"
      ]
     },
     "metadata": {},
     "output_type": "display_data"
    },
    {
     "name": "stderr",
     "output_type": "stream",
     "text": [
      "\u001b[34m\u001b[1mwandb\u001b[0m: Agent Starting Run: mcpksu7c with config:\n",
      "\u001b[34m\u001b[1mwandb\u001b[0m: \tLSTM_UNITS: 40\n",
      "\u001b[34m\u001b[1mwandb\u001b[0m: \tepochs: 100\n",
      "\u001b[34m\u001b[1mwandb\u001b[0m: \u001b[33mWARNING\u001b[0m Ignored wandb.init() arg project when running a sweep.\n",
      "\u001b[34m\u001b[1mwandb\u001b[0m: \u001b[33mWARNING\u001b[0m Ignored wandb.init() arg entity when running a sweep.\n"
     ]
    },
    {
     "data": {
      "text/html": [
       "\n",
       "                    Syncing run <strong><a href=\"https://wandb.ai/alpheron/stock-predictions/runs/mcpksu7c\" target=\"_blank\">glorious-sweep-162</a></strong> to <a href=\"https://wandb.ai/alpheron/stock-predictions\" target=\"_blank\">Weights & Biases</a> (<a href=\"https://docs.wandb.com/integrations/jupyter.html\" target=\"_blank\">docs</a>).<br/>\n",
       "Sweep page: <a href=\"https://wandb.ai/alpheron/stock-predictions/sweeps/21t67yna\" target=\"_blank\">https://wandb.ai/alpheron/stock-predictions/sweeps/21t67yna</a><br/>\n",
       "\n",
       "                "
      ],
      "text/plain": [
       "<IPython.core.display.HTML object>"
      ]
     },
     "metadata": {},
     "output_type": "display_data"
    },
    {
     "name": "stdout",
     "output_type": "stream",
     "text": [
      "Epoch 1/100\n",
      "36/36 [==============================] - 6s 166ms/step - loss: 0.0062 - root_mean_squared_error: 0.0785\n",
      "Epoch 2/100\n",
      "36/36 [==============================] - 6s 155ms/step - loss: 7.0367e-04 - root_mean_squared_error: 0.0265\n",
      "Epoch 3/100\n",
      "36/36 [==============================] - 5s 135ms/step - loss: 3.9523e-04 - root_mean_squared_error: 0.0199\n",
      "Epoch 4/100\n",
      "36/36 [==============================] - 5s 137ms/step - loss: 4.2344e-04 - root_mean_squared_error: 0.0206\n",
      "Epoch 5/100\n",
      "36/36 [==============================] - 5s 135ms/step - loss: 5.2268e-04 - root_mean_squared_error: 0.0229\n",
      "Epoch 6/100\n",
      "36/36 [==============================] - 5s 137ms/step - loss: 4.3881e-04 - root_mean_squared_error: 0.0209\n",
      "Epoch 7/100\n",
      "36/36 [==============================] - 5s 135ms/step - loss: 3.8132e-04 - root_mean_squared_error: 0.0195\n",
      "Epoch 8/100\n",
      "36/36 [==============================] - 5s 151ms/step - loss: 3.6276e-04 - root_mean_squared_error: 0.0190\n",
      "Epoch 9/100\n",
      "36/36 [==============================] - 5s 140ms/step - loss: 4.9363e-04 - root_mean_squared_error: 0.0222\n",
      "Epoch 10/100\n",
      "36/36 [==============================] - 5s 145ms/step - loss: 3.9808e-04 - root_mean_squared_error: 0.0200\n",
      "Epoch 11/100\n",
      "36/36 [==============================] - 5s 136ms/step - loss: 4.5019e-04 - root_mean_squared_error: 0.0212\n",
      "Epoch 12/100\n",
      "36/36 [==============================] - 5s 140ms/step - loss: 4.6697e-04 - root_mean_squared_error: 0.0216\n",
      "Epoch 13/100\n",
      "36/36 [==============================] - 5s 141ms/step - loss: 3.9310e-04 - root_mean_squared_error: 0.0198\n"
     ]
    },
    {
     "name": "stderr",
     "output_type": "stream",
     "text": [
      "WARNING:absl:Found untraced functions such as lstm_cell_layer_call_fn, lstm_cell_layer_call_and_return_conditional_losses while saving (showing 2 of 2). These functions will not be directly callable after loading.\n"
     ]
    },
    {
     "name": "stdout",
     "output_type": "stream",
     "text": [
      "INFO:tensorflow:Assets written to: /Users/aditya/Programming/stock-market-predictions/logs/MSFT-5-Year/assets\n"
     ]
    },
    {
     "name": "stderr",
     "output_type": "stream",
     "text": [
      "INFO:tensorflow:Assets written to: /Users/aditya/Programming/stock-market-predictions/logs/MSFT-5-Year/assets\n",
      "WARNING:absl:<keras.layers.recurrent.LSTMCell object at 0x7fbb28bc18b0> has the same name 'LSTMCell' as a built-in Keras object. Consider renaming <class 'keras.layers.recurrent.LSTMCell'> to avoid naming conflicts when loading with `tf.keras.models.load_model`. If renaming is not possible, pass the object in the `custom_objects` parameter of the load function.\n"
     ]
    },
    {
     "name": "stdout",
     "output_type": "stream",
     "text": [
      "(63, 60, 1)\n"
     ]
    },
    {
     "name": "stderr",
     "output_type": "stream",
     "text": [
      "\u001b[34m\u001b[1mwandb\u001b[0m: Adding directory to artifact (/Users/aditya/Programming/stock-market-predictions/logs/MSFT-5-Year)... "
     ]
    },
    {
     "name": "stdout",
     "output_type": "stream",
     "text": [
      "the root mean squared error is: 8.989878686438196\n"
     ]
    },
    {
     "name": "stderr",
     "output_type": "stream",
     "text": [
      "Done. 0.0s\n"
     ]
    },
    {
     "data": {
      "text/html": [
       "<br/>Waiting for W&B process to finish, PID 14538... <strong style=\"color:green\">(success).</strong>"
      ],
      "text/plain": [
       "<IPython.core.display.HTML object>"
      ]
     },
     "metadata": {},
     "output_type": "display_data"
    },
    {
     "data": {
      "application/vnd.jupyter.widget-view+json": {
       "model_id": "f9caab07778848f4aee70c2f5450da47",
       "version_major": 2,
       "version_minor": 0
      },
      "text/plain": [
       "VBox(children=(Label(value=' 1.11MB of 1.11MB uploaded (0.01MB deduped)\\r'), FloatProgress(value=1.0, max=1.0)…"
      ]
     },
     "metadata": {},
     "output_type": "display_data"
    },
    {
     "data": {
      "text/html": [
       "<style>\n",
       "    table.wandb td:nth-child(1) { padding: 0 10px; text-align: right }\n",
       "    .wandb-row { display: flex; flex-direction: row; flex-wrap: wrap; width: 100% }\n",
       "    .wandb-col { display: flex; flex-direction: column; flex-basis: 100%; flex: 1; padding: 10px; }\n",
       "    </style>\n",
       "<div class=\"wandb-row\"><div class=\"wandb-col\">\n",
       "<h3>Run history:</h3><br/><table class=\"wandb\"><tr><td>epoch</td><td>▁▂▂▃▃▄▅▅▆▆▇▇█</td></tr><tr><td>loss</td><td>█▁▁▁▁▁▁▁▁▁▁▁▁</td></tr><tr><td>root_mean_square_error</td><td>▁</td></tr><tr><td>root_mean_squared_error</td><td>█▂▁▁▁▁▁▁▁▁▁▁▁</td></tr></table><br/></div><div class=\"wandb-col\">\n",
       "<h3>Run summary:</h3><br/><table class=\"wandb\"><tr><td>epoch</td><td>12</td></tr><tr><td>loss</td><td>0.00039</td></tr><tr><td>root_mean_square_error</td><td>8.98988</td></tr><tr><td>root_mean_squared_error</td><td>0.01983</td></tr></table>\n",
       "</div></div>\n",
       "Synced 6 W&B file(s), 1 media file(s), 4 artifact file(s) and 1 other file(s)\n",
       "<br/>Synced <strong style=\"color:#cdcd00\">glorious-sweep-162</strong>: <a href=\"https://wandb.ai/alpheron/stock-predictions/runs/mcpksu7c\" target=\"_blank\">https://wandb.ai/alpheron/stock-predictions/runs/mcpksu7c</a><br/>\n",
       "Find logs at: <code>./wandb/run-20220227_174024-mcpksu7c/logs</code><br/>\n"
      ],
      "text/plain": [
       "<IPython.core.display.HTML object>"
      ]
     },
     "metadata": {},
     "output_type": "display_data"
    },
    {
     "name": "stderr",
     "output_type": "stream",
     "text": [
      "\u001b[34m\u001b[1mwandb\u001b[0m: Agent Starting Run: 3tdgdp61 with config:\n",
      "\u001b[34m\u001b[1mwandb\u001b[0m: \tLSTM_UNITS: 55\n",
      "\u001b[34m\u001b[1mwandb\u001b[0m: \tepochs: 100\n",
      "\u001b[34m\u001b[1mwandb\u001b[0m: \u001b[33mWARNING\u001b[0m Ignored wandb.init() arg project when running a sweep.\n",
      "\u001b[34m\u001b[1mwandb\u001b[0m: \u001b[33mWARNING\u001b[0m Ignored wandb.init() arg entity when running a sweep.\n"
     ]
    },
    {
     "data": {
      "text/html": [
       "\n",
       "                    Syncing run <strong><a href=\"https://wandb.ai/alpheron/stock-predictions/runs/3tdgdp61\" target=\"_blank\">stilted-sweep-163</a></strong> to <a href=\"https://wandb.ai/alpheron/stock-predictions\" target=\"_blank\">Weights & Biases</a> (<a href=\"https://docs.wandb.com/integrations/jupyter.html\" target=\"_blank\">docs</a>).<br/>\n",
       "Sweep page: <a href=\"https://wandb.ai/alpheron/stock-predictions/sweeps/21t67yna\" target=\"_blank\">https://wandb.ai/alpheron/stock-predictions/sweeps/21t67yna</a><br/>\n",
       "\n",
       "                "
      ],
      "text/plain": [
       "<IPython.core.display.HTML object>"
      ]
     },
     "metadata": {},
     "output_type": "display_data"
    },
    {
     "name": "stdout",
     "output_type": "stream",
     "text": [
      "Epoch 1/100\n",
      "36/36 [==============================] - 6s 175ms/step - loss: 0.1676 - root_mean_squared_error: 0.4094\n",
      "Epoch 2/100\n",
      "36/36 [==============================] - 5s 140ms/step - loss: 0.0270 - root_mean_squared_error: 0.1643\n",
      "Epoch 3/100\n",
      "36/36 [==============================] - 5s 147ms/step - loss: 0.0085 - root_mean_squared_error: 0.0924\n",
      "Epoch 4/100\n",
      "36/36 [==============================] - 5s 140ms/step - loss: 0.0023 - root_mean_squared_error: 0.0481\n",
      "Epoch 5/100\n",
      "36/36 [==============================] - 5s 136ms/step - loss: 0.0015 - root_mean_squared_error: 0.0391\n",
      "Epoch 6/100\n",
      "36/36 [==============================] - 6s 158ms/step - loss: 0.0017 - root_mean_squared_error: 0.0408\n",
      "Epoch 7/100\n",
      "36/36 [==============================] - 5s 141ms/step - loss: 0.0019 - root_mean_squared_error: 0.0438\n",
      "Epoch 8/100\n",
      "36/36 [==============================] - 5s 133ms/step - loss: 0.0025 - root_mean_squared_error: 0.0500\n",
      "Epoch 9/100\n",
      "36/36 [==============================] - 5s 145ms/step - loss: 0.0018 - root_mean_squared_error: 0.0428\n",
      "Epoch 10/100\n",
      "36/36 [==============================] - 5s 132ms/step - loss: 0.0014 - root_mean_squared_error: 0.0375\n",
      "Epoch 11/100\n",
      "36/36 [==============================] - 5s 153ms/step - loss: 0.0012 - root_mean_squared_error: 0.0351\n",
      "Epoch 12/100\n",
      "36/36 [==============================] - 6s 163ms/step - loss: 0.0030 - root_mean_squared_error: 0.0544\n",
      "Epoch 13/100\n",
      "36/36 [==============================] - 6s 153ms/step - loss: 0.0016 - root_mean_squared_error: 0.0396\n",
      "Epoch 14/100\n",
      "36/36 [==============================] - 5s 142ms/step - loss: 0.0011 - root_mean_squared_error: 0.0333\n",
      "Epoch 15/100\n",
      "36/36 [==============================] - 5s 150ms/step - loss: 0.0011 - root_mean_squared_error: 0.0335\n",
      "Epoch 16/100\n",
      "36/36 [==============================] - 5s 136ms/step - loss: 8.6691e-04 - root_mean_squared_error: 0.0294\n",
      "Epoch 17/100\n",
      "36/36 [==============================] - 5s 137ms/step - loss: 0.0011 - root_mean_squared_error: 0.0327\n",
      "Epoch 18/100\n",
      "36/36 [==============================] - 5s 139ms/step - loss: 0.0010 - root_mean_squared_error: 0.0322\n",
      "Epoch 19/100\n",
      "36/36 [==============================] - 5s 147ms/step - loss: 0.0014 - root_mean_squared_error: 0.0368\n",
      "Epoch 20/100\n",
      "36/36 [==============================] - 5s 141ms/step - loss: 0.0010 - root_mean_squared_error: 0.0317\n",
      "Epoch 21/100\n",
      "36/36 [==============================] - 5s 140ms/step - loss: 0.0014 - root_mean_squared_error: 0.0368\n"
     ]
    },
    {
     "name": "stderr",
     "output_type": "stream",
     "text": [
      "WARNING:absl:Found untraced functions such as lstm_cell_layer_call_fn, lstm_cell_layer_call_and_return_conditional_losses while saving (showing 2 of 2). These functions will not be directly callable after loading.\n"
     ]
    },
    {
     "name": "stdout",
     "output_type": "stream",
     "text": [
      "INFO:tensorflow:Assets written to: /Users/aditya/Programming/stock-market-predictions/logs/MSFT-5-Year/assets\n"
     ]
    },
    {
     "name": "stderr",
     "output_type": "stream",
     "text": [
      "INFO:tensorflow:Assets written to: /Users/aditya/Programming/stock-market-predictions/logs/MSFT-5-Year/assets\n",
      "WARNING:absl:<keras.layers.recurrent.LSTMCell object at 0x7fbb2763c0d0> has the same name 'LSTMCell' as a built-in Keras object. Consider renaming <class 'keras.layers.recurrent.LSTMCell'> to avoid naming conflicts when loading with `tf.keras.models.load_model`. If renaming is not possible, pass the object in the `custom_objects` parameter of the load function.\n"
     ]
    },
    {
     "name": "stdout",
     "output_type": "stream",
     "text": [
      "(63, 60, 1)\n"
     ]
    },
    {
     "name": "stderr",
     "output_type": "stream",
     "text": [
      "\u001b[34m\u001b[1mwandb\u001b[0m: Adding directory to artifact (/Users/aditya/Programming/stock-market-predictions/logs/MSFT-5-Year)... Done. 0.0s\n"
     ]
    },
    {
     "name": "stdout",
     "output_type": "stream",
     "text": [
      "the root mean squared error is: 12.6973867837855\n"
     ]
    },
    {
     "data": {
      "text/html": [
       "<br/>Waiting for W&B process to finish, PID 14582... <strong style=\"color:green\">(success).</strong>"
      ],
      "text/plain": [
       "<IPython.core.display.HTML object>"
      ]
     },
     "metadata": {},
     "output_type": "display_data"
    },
    {
     "data": {
      "application/vnd.jupyter.widget-view+json": {
       "model_id": "aac653c6e0e64f0bb0d45fc6ab65e2d3",
       "version_major": 2,
       "version_minor": 0
      },
      "text/plain": [
       "VBox(children=(Label(value=' 1.11MB of 1.11MB uploaded (0.01MB deduped)\\r'), FloatProgress(value=1.0, max=1.0)…"
      ]
     },
     "metadata": {},
     "output_type": "display_data"
    },
    {
     "data": {
      "text/html": [
       "<style>\n",
       "    table.wandb td:nth-child(1) { padding: 0 10px; text-align: right }\n",
       "    .wandb-row { display: flex; flex-direction: row; flex-wrap: wrap; width: 100% }\n",
       "    .wandb-col { display: flex; flex-direction: column; flex-basis: 100%; flex: 1; padding: 10px; }\n",
       "    </style>\n",
       "<div class=\"wandb-row\"><div class=\"wandb-col\">\n",
       "<h3>Run history:</h3><br/><table class=\"wandb\"><tr><td>epoch</td><td>▁▁▂▂▂▃▃▃▄▄▅▅▅▆▆▆▇▇▇██</td></tr><tr><td>loss</td><td>█▂▁▁▁▁▁▁▁▁▁▁▁▁▁▁▁▁▁▁▁</td></tr><tr><td>root_mean_square_error</td><td>▁</td></tr><tr><td>root_mean_squared_error</td><td>█▃▂▁▁▁▁▁▁▁▁▁▁▁▁▁▁▁▁▁▁</td></tr></table><br/></div><div class=\"wandb-col\">\n",
       "<h3>Run summary:</h3><br/><table class=\"wandb\"><tr><td>epoch</td><td>20</td></tr><tr><td>loss</td><td>0.00135</td></tr><tr><td>root_mean_square_error</td><td>12.69739</td></tr><tr><td>root_mean_squared_error</td><td>0.03681</td></tr></table>\n",
       "</div></div>\n",
       "Synced 6 W&B file(s), 1 media file(s), 4 artifact file(s) and 1 other file(s)\n",
       "<br/>Synced <strong style=\"color:#cdcd00\">stilted-sweep-163</strong>: <a href=\"https://wandb.ai/alpheron/stock-predictions/runs/3tdgdp61\" target=\"_blank\">https://wandb.ai/alpheron/stock-predictions/runs/3tdgdp61</a><br/>\n",
       "Find logs at: <code>./wandb/run-20220227_174208-3tdgdp61/logs</code><br/>\n"
      ],
      "text/plain": [
       "<IPython.core.display.HTML object>"
      ]
     },
     "metadata": {},
     "output_type": "display_data"
    },
    {
     "name": "stderr",
     "output_type": "stream",
     "text": [
      "\u001b[34m\u001b[1mwandb\u001b[0m: Agent Starting Run: 4e4idg4s with config:\n",
      "\u001b[34m\u001b[1mwandb\u001b[0m: \tLSTM_UNITS: 60\n",
      "\u001b[34m\u001b[1mwandb\u001b[0m: \tepochs: 100\n",
      "\u001b[34m\u001b[1mwandb\u001b[0m: \u001b[33mWARNING\u001b[0m Ignored wandb.init() arg project when running a sweep.\n",
      "\u001b[34m\u001b[1mwandb\u001b[0m: \u001b[33mWARNING\u001b[0m Ignored wandb.init() arg entity when running a sweep.\n"
     ]
    },
    {
     "data": {
      "text/html": [
       "\n",
       "                    Syncing run <strong><a href=\"https://wandb.ai/alpheron/stock-predictions/runs/4e4idg4s\" target=\"_blank\">major-sweep-164</a></strong> to <a href=\"https://wandb.ai/alpheron/stock-predictions\" target=\"_blank\">Weights & Biases</a> (<a href=\"https://docs.wandb.com/integrations/jupyter.html\" target=\"_blank\">docs</a>).<br/>\n",
       "Sweep page: <a href=\"https://wandb.ai/alpheron/stock-predictions/sweeps/21t67yna\" target=\"_blank\">https://wandb.ai/alpheron/stock-predictions/sweeps/21t67yna</a><br/>\n",
       "\n",
       "                "
      ],
      "text/plain": [
       "<IPython.core.display.HTML object>"
      ]
     },
     "metadata": {},
     "output_type": "display_data"
    },
    {
     "name": "stdout",
     "output_type": "stream",
     "text": [
      "Epoch 1/100\n",
      "36/36 [==============================] - 6s 176ms/step - loss: 0.1279 - root_mean_squared_error: 0.3576\n",
      "Epoch 2/100\n",
      "36/36 [==============================] - 5s 144ms/step - loss: 0.0209 - root_mean_squared_error: 0.1447\n",
      "Epoch 3/100\n",
      "36/36 [==============================] - 5s 135ms/step - loss: 0.0052 - root_mean_squared_error: 0.0720\n",
      "Epoch 4/100\n",
      "36/36 [==============================] - 5s 140ms/step - loss: 0.0014 - root_mean_squared_error: 0.0373\n",
      "Epoch 5/100\n",
      "36/36 [==============================] - 5s 134ms/step - loss: 0.0017 - root_mean_squared_error: 0.0408\n",
      "Epoch 6/100\n",
      "36/36 [==============================] - 5s 144ms/step - loss: 0.0013 - root_mean_squared_error: 0.0364\n",
      "Epoch 7/100\n",
      "36/36 [==============================] - 5s 137ms/step - loss: 0.0012 - root_mean_squared_error: 0.0351\n",
      "Epoch 8/100\n",
      "36/36 [==============================] - 5s 134ms/step - loss: 0.0014 - root_mean_squared_error: 0.0370\n",
      "Epoch 9/100\n",
      "36/36 [==============================] - 5s 150ms/step - loss: 0.0012 - root_mean_squared_error: 0.0346\n",
      "Epoch 10/100\n",
      "36/36 [==============================] - 5s 138ms/step - loss: 0.0011 - root_mean_squared_error: 0.0335\n",
      "Epoch 11/100\n",
      "36/36 [==============================] - 6s 155ms/step - loss: 0.0010 - root_mean_squared_error: 0.0324\n",
      "Epoch 12/100\n",
      "36/36 [==============================] - 5s 147ms/step - loss: 0.0012 - root_mean_squared_error: 0.0348\n",
      "Epoch 13/100\n",
      "36/36 [==============================] - 5s 141ms/step - loss: 0.0010 - root_mean_squared_error: 0.0319\n",
      "Epoch 14/100\n",
      "36/36 [==============================] - 5s 142ms/step - loss: 9.2632e-04 - root_mean_squared_error: 0.0304\n",
      "Epoch 15/100\n",
      "36/36 [==============================] - 5s 145ms/step - loss: 0.0010 - root_mean_squared_error: 0.0317\n",
      "Epoch 16/100\n",
      "36/36 [==============================] - 5s 143ms/step - loss: 0.0012 - root_mean_squared_error: 0.0339\n",
      "Epoch 17/100\n",
      "36/36 [==============================] - 6s 162ms/step - loss: 9.1867e-04 - root_mean_squared_error: 0.0303\n",
      "Epoch 18/100\n",
      "36/36 [==============================] - 5s 147ms/step - loss: 0.0011 - root_mean_squared_error: 0.0338\n",
      "Epoch 19/100\n",
      "36/36 [==============================] - 5s 142ms/step - loss: 0.0011 - root_mean_squared_error: 0.0328\n",
      "Epoch 20/100\n",
      "36/36 [==============================] - 5s 145ms/step - loss: 9.4812e-04 - root_mean_squared_error: 0.0308\n",
      "Epoch 21/100\n",
      "36/36 [==============================] - 6s 169ms/step - loss: 9.3870e-04 - root_mean_squared_error: 0.0306\n",
      "Epoch 22/100\n",
      "36/36 [==============================] - 5s 142ms/step - loss: 0.0013 - root_mean_squared_error: 0.0366\n"
     ]
    },
    {
     "name": "stderr",
     "output_type": "stream",
     "text": [
      "WARNING:absl:Found untraced functions such as lstm_cell_layer_call_fn, lstm_cell_layer_call_and_return_conditional_losses while saving (showing 2 of 2). These functions will not be directly callable after loading.\n"
     ]
    },
    {
     "name": "stdout",
     "output_type": "stream",
     "text": [
      "INFO:tensorflow:Assets written to: /Users/aditya/Programming/stock-market-predictions/logs/MSFT-5-Year/assets\n"
     ]
    },
    {
     "name": "stderr",
     "output_type": "stream",
     "text": [
      "INFO:tensorflow:Assets written to: /Users/aditya/Programming/stock-market-predictions/logs/MSFT-5-Year/assets\n",
      "WARNING:absl:<keras.layers.recurrent.LSTMCell object at 0x7fbb28bc18b0> has the same name 'LSTMCell' as a built-in Keras object. Consider renaming <class 'keras.layers.recurrent.LSTMCell'> to avoid naming conflicts when loading with `tf.keras.models.load_model`. If renaming is not possible, pass the object in the `custom_objects` parameter of the load function.\n",
      "\u001b[34m\u001b[1mwandb\u001b[0m: Adding directory to artifact (/Users/aditya/Programming/stock-market-predictions/logs/MSFT-5-Year)... Done. 0.0s\n"
     ]
    },
    {
     "name": "stdout",
     "output_type": "stream",
     "text": [
      "(63, 60, 1)\n",
      "the root mean squared error is: 11.919751651380231\n"
     ]
    },
    {
     "data": {
      "text/html": [
       "<br/>Waiting for W&B process to finish, PID 14653... <strong style=\"color:green\">(success).</strong>"
      ],
      "text/plain": [
       "<IPython.core.display.HTML object>"
      ]
     },
     "metadata": {},
     "output_type": "display_data"
    },
    {
     "data": {
      "application/vnd.jupyter.widget-view+json": {
       "model_id": "0712eb2be9ed49779c0db55c0ef29625",
       "version_major": 2,
       "version_minor": 0
      },
      "text/plain": [
       "VBox(children=(Label(value=' 1.11MB of 1.11MB uploaded (0.01MB deduped)\\r'), FloatProgress(value=1.0, max=1.0)…"
      ]
     },
     "metadata": {},
     "output_type": "display_data"
    },
    {
     "data": {
      "text/html": [
       "<style>\n",
       "    table.wandb td:nth-child(1) { padding: 0 10px; text-align: right }\n",
       "    .wandb-row { display: flex; flex-direction: row; flex-wrap: wrap; width: 100% }\n",
       "    .wandb-col { display: flex; flex-direction: column; flex-basis: 100%; flex: 1; padding: 10px; }\n",
       "    </style>\n",
       "<div class=\"wandb-row\"><div class=\"wandb-col\">\n",
       "<h3>Run history:</h3><br/><table class=\"wandb\"><tr><td>epoch</td><td>▁▁▂▂▂▃▃▃▄▄▄▅▅▅▆▆▆▇▇▇██</td></tr><tr><td>loss</td><td>█▂▁▁▁▁▁▁▁▁▁▁▁▁▁▁▁▁▁▁▁▁</td></tr><tr><td>root_mean_square_error</td><td>▁</td></tr><tr><td>root_mean_squared_error</td><td>█▃▂▁▁▁▁▁▁▁▁▁▁▁▁▁▁▁▁▁▁▁</td></tr></table><br/></div><div class=\"wandb-col\">\n",
       "<h3>Run summary:</h3><br/><table class=\"wandb\"><tr><td>epoch</td><td>21</td></tr><tr><td>loss</td><td>0.00134</td></tr><tr><td>root_mean_square_error</td><td>11.91975</td></tr><tr><td>root_mean_squared_error</td><td>0.03664</td></tr></table>\n",
       "</div></div>\n",
       "Synced 6 W&B file(s), 1 media file(s), 4 artifact file(s) and 1 other file(s)\n",
       "<br/>Synced <strong style=\"color:#cdcd00\">major-sweep-164</strong>: <a href=\"https://wandb.ai/alpheron/stock-predictions/runs/4e4idg4s\" target=\"_blank\">https://wandb.ai/alpheron/stock-predictions/runs/4e4idg4s</a><br/>\n",
       "Find logs at: <code>./wandb/run-20220227_174442-4e4idg4s/logs</code><br/>\n"
      ],
      "text/plain": [
       "<IPython.core.display.HTML object>"
      ]
     },
     "metadata": {},
     "output_type": "display_data"
    },
    {
     "name": "stderr",
     "output_type": "stream",
     "text": [
      "\u001b[34m\u001b[1mwandb\u001b[0m: Agent Starting Run: 8y3el9g7 with config:\n",
      "\u001b[34m\u001b[1mwandb\u001b[0m: \tLSTM_UNITS: 40\n",
      "\u001b[34m\u001b[1mwandb\u001b[0m: \tepochs: 100\n",
      "\u001b[34m\u001b[1mwandb\u001b[0m: \u001b[33mWARNING\u001b[0m Ignored wandb.init() arg project when running a sweep.\n",
      "\u001b[34m\u001b[1mwandb\u001b[0m: \u001b[33mWARNING\u001b[0m Ignored wandb.init() arg entity when running a sweep.\n"
     ]
    },
    {
     "data": {
      "text/html": [
       "\n",
       "                    Syncing run <strong><a href=\"https://wandb.ai/alpheron/stock-predictions/runs/8y3el9g7\" target=\"_blank\">lunar-sweep-165</a></strong> to <a href=\"https://wandb.ai/alpheron/stock-predictions\" target=\"_blank\">Weights & Biases</a> (<a href=\"https://docs.wandb.com/integrations/jupyter.html\" target=\"_blank\">docs</a>).<br/>\n",
       "Sweep page: <a href=\"https://wandb.ai/alpheron/stock-predictions/sweeps/21t67yna\" target=\"_blank\">https://wandb.ai/alpheron/stock-predictions/sweeps/21t67yna</a><br/>\n",
       "\n",
       "                "
      ],
      "text/plain": [
       "<IPython.core.display.HTML object>"
      ]
     },
     "metadata": {},
     "output_type": "display_data"
    },
    {
     "name": "stdout",
     "output_type": "stream",
     "text": [
      "Epoch 1/100\n",
      "36/36 [==============================] - 7s 189ms/step - loss: 0.0288 - root_mean_squared_error: 0.1698\n",
      "Epoch 2/100\n",
      "36/36 [==============================] - 5s 141ms/step - loss: 0.0045 - root_mean_squared_error: 0.0672\n",
      "Epoch 3/100\n",
      "36/36 [==============================] - 5s 140ms/step - loss: 0.0012 - root_mean_squared_error: 0.0341\n",
      "Epoch 4/100\n",
      "36/36 [==============================] - 5s 136ms/step - loss: 4.5466e-04 - root_mean_squared_error: 0.0213\n",
      "Epoch 5/100\n",
      "36/36 [==============================] - 5s 148ms/step - loss: 4.6048e-04 - root_mean_squared_error: 0.0215\n",
      "Epoch 6/100\n",
      "36/36 [==============================] - 5s 139ms/step - loss: 3.6837e-04 - root_mean_squared_error: 0.0192\n",
      "Epoch 7/100\n",
      "36/36 [==============================] - 5s 130ms/step - loss: 4.6030e-04 - root_mean_squared_error: 0.0215\n",
      "Epoch 8/100\n",
      "36/36 [==============================] - 5s 129ms/step - loss: 3.9999e-04 - root_mean_squared_error: 0.0200\n",
      "Epoch 9/100\n",
      "36/36 [==============================] - 6s 176ms/step - loss: 3.8923e-04 - root_mean_squared_error: 0.0197\n",
      "Epoch 10/100\n",
      "36/36 [==============================] - 5s 135ms/step - loss: 3.6825e-04 - root_mean_squared_error: 0.0192\n",
      "Epoch 11/100\n",
      "36/36 [==============================] - 5s 132ms/step - loss: 4.0039e-04 - root_mean_squared_error: 0.0200\n",
      "Epoch 12/100\n",
      "36/36 [==============================] - 5s 139ms/step - loss: 3.6385e-04 - root_mean_squared_error: 0.0191\n",
      "Epoch 13/100\n",
      "36/36 [==============================] - 5s 132ms/step - loss: 3.6697e-04 - root_mean_squared_error: 0.0192\n",
      "Epoch 14/100\n",
      "36/36 [==============================] - 5s 151ms/step - loss: 3.7833e-04 - root_mean_squared_error: 0.0195\n",
      "Epoch 15/100\n",
      "36/36 [==============================] - 6s 158ms/step - loss: 3.1663e-04 - root_mean_squared_error: 0.0178\n",
      "Epoch 16/100\n",
      "36/36 [==============================] - 5s 140ms/step - loss: 3.6666e-04 - root_mean_squared_error: 0.0191\n",
      "Epoch 17/100\n",
      "36/36 [==============================] - 5s 140ms/step - loss: 3.6673e-04 - root_mean_squared_error: 0.0192\n",
      "Epoch 18/100\n",
      "36/36 [==============================] - 5s 138ms/step - loss: 4.9600e-04 - root_mean_squared_error: 0.0223\n",
      "Epoch 19/100\n",
      "36/36 [==============================] - 5s 145ms/step - loss: 5.7296e-04 - root_mean_squared_error: 0.0239\n",
      "Epoch 20/100\n",
      "36/36 [==============================] - 6s 152ms/step - loss: 4.2424e-04 - root_mean_squared_error: 0.0206\n"
     ]
    },
    {
     "name": "stderr",
     "output_type": "stream",
     "text": [
      "WARNING:absl:Found untraced functions such as lstm_cell_layer_call_fn, lstm_cell_layer_call_and_return_conditional_losses while saving (showing 2 of 2). These functions will not be directly callable after loading.\n"
     ]
    },
    {
     "name": "stdout",
     "output_type": "stream",
     "text": [
      "INFO:tensorflow:Assets written to: /Users/aditya/Programming/stock-market-predictions/logs/MSFT-5-Year/assets\n"
     ]
    },
    {
     "name": "stderr",
     "output_type": "stream",
     "text": [
      "INFO:tensorflow:Assets written to: /Users/aditya/Programming/stock-market-predictions/logs/MSFT-5-Year/assets\n",
      "WARNING:absl:<keras.layers.recurrent.LSTMCell object at 0x7fbb236f4d60> has the same name 'LSTMCell' as a built-in Keras object. Consider renaming <class 'keras.layers.recurrent.LSTMCell'> to avoid naming conflicts when loading with `tf.keras.models.load_model`. If renaming is not possible, pass the object in the `custom_objects` parameter of the load function.\n"
     ]
    },
    {
     "name": "stdout",
     "output_type": "stream",
     "text": [
      "(63, 60, 1)\n"
     ]
    },
    {
     "name": "stderr",
     "output_type": "stream",
     "text": [
      "\u001b[34m\u001b[1mwandb\u001b[0m: Adding directory to artifact (/Users/aditya/Programming/stock-market-predictions/logs/MSFT-5-Year)... Done. 0.0s\n"
     ]
    },
    {
     "name": "stdout",
     "output_type": "stream",
     "text": [
      "the root mean squared error is: 8.679784939926122\n"
     ]
    },
    {
     "data": {
      "text/html": [
       "<br/>Waiting for W&B process to finish, PID 14767... <strong style=\"color:green\">(success).</strong>"
      ],
      "text/plain": [
       "<IPython.core.display.HTML object>"
      ]
     },
     "metadata": {},
     "output_type": "display_data"
    },
    {
     "data": {
      "application/vnd.jupyter.widget-view+json": {
       "model_id": "86bb0f1515304c64b1e82d07a47166f0",
       "version_major": 2,
       "version_minor": 0
      },
      "text/plain": [
       "VBox(children=(Label(value=' 1.11MB of 1.11MB uploaded (0.01MB deduped)\\r'), FloatProgress(value=1.0, max=1.0)…"
      ]
     },
     "metadata": {},
     "output_type": "display_data"
    },
    {
     "data": {
      "text/html": [
       "<style>\n",
       "    table.wandb td:nth-child(1) { padding: 0 10px; text-align: right }\n",
       "    .wandb-row { display: flex; flex-direction: row; flex-wrap: wrap; width: 100% }\n",
       "    .wandb-col { display: flex; flex-direction: column; flex-basis: 100%; flex: 1; padding: 10px; }\n",
       "    </style>\n",
       "<div class=\"wandb-row\"><div class=\"wandb-col\">\n",
       "<h3>Run history:</h3><br/><table class=\"wandb\"><tr><td>epoch</td><td>▁▁▂▂▂▃▃▄▄▄▅▅▅▆▆▇▇▇██</td></tr><tr><td>loss</td><td>█▂▁▁▁▁▁▁▁▁▁▁▁▁▁▁▁▁▁▁</td></tr><tr><td>root_mean_square_error</td><td>▁</td></tr><tr><td>root_mean_squared_error</td><td>█▃▂▁▁▁▁▁▁▁▁▁▁▁▁▁▁▁▁▁</td></tr></table><br/></div><div class=\"wandb-col\">\n",
       "<h3>Run summary:</h3><br/><table class=\"wandb\"><tr><td>epoch</td><td>19</td></tr><tr><td>loss</td><td>0.00042</td></tr><tr><td>root_mean_square_error</td><td>8.67978</td></tr><tr><td>root_mean_squared_error</td><td>0.0206</td></tr></table>\n",
       "</div></div>\n",
       "Synced 6 W&B file(s), 1 media file(s), 4 artifact file(s) and 1 other file(s)\n",
       "<br/>Synced <strong style=\"color:#cdcd00\">lunar-sweep-165</strong>: <a href=\"https://wandb.ai/alpheron/stock-predictions/runs/8y3el9g7\" target=\"_blank\">https://wandb.ai/alpheron/stock-predictions/runs/8y3el9g7</a><br/>\n",
       "Find logs at: <code>./wandb/run-20220227_174717-8y3el9g7/logs</code><br/>\n"
      ],
      "text/plain": [
       "<IPython.core.display.HTML object>"
      ]
     },
     "metadata": {},
     "output_type": "display_data"
    },
    {
     "name": "stderr",
     "output_type": "stream",
     "text": [
      "\u001b[34m\u001b[1mwandb\u001b[0m: Agent Starting Run: gw9k6c4z with config:\n",
      "\u001b[34m\u001b[1mwandb\u001b[0m: \tLSTM_UNITS: 45\n",
      "\u001b[34m\u001b[1mwandb\u001b[0m: \tepochs: 100\n",
      "\u001b[34m\u001b[1mwandb\u001b[0m: \u001b[33mWARNING\u001b[0m Ignored wandb.init() arg project when running a sweep.\n",
      "\u001b[34m\u001b[1mwandb\u001b[0m: \u001b[33mWARNING\u001b[0m Ignored wandb.init() arg entity when running a sweep.\n"
     ]
    },
    {
     "data": {
      "text/html": [
       "\n",
       "                    Syncing run <strong><a href=\"https://wandb.ai/alpheron/stock-predictions/runs/gw9k6c4z\" target=\"_blank\">absurd-sweep-166</a></strong> to <a href=\"https://wandb.ai/alpheron/stock-predictions\" target=\"_blank\">Weights & Biases</a> (<a href=\"https://docs.wandb.com/integrations/jupyter.html\" target=\"_blank\">docs</a>).<br/>\n",
       "Sweep page: <a href=\"https://wandb.ai/alpheron/stock-predictions/sweeps/21t67yna\" target=\"_blank\">https://wandb.ai/alpheron/stock-predictions/sweeps/21t67yna</a><br/>\n",
       "\n",
       "                "
      ],
      "text/plain": [
       "<IPython.core.display.HTML object>"
      ]
     },
     "metadata": {},
     "output_type": "display_data"
    },
    {
     "name": "stdout",
     "output_type": "stream",
     "text": [
      "Epoch 1/100\n",
      "36/36 [==============================] - 6s 171ms/step - loss: 0.0428 - root_mean_squared_error: 0.2070\n",
      "Epoch 2/100\n",
      "36/36 [==============================] - 5s 139ms/step - loss: 0.0053 - root_mean_squared_error: 0.0731\n",
      "Epoch 3/100\n",
      "36/36 [==============================] - 5s 131ms/step - loss: 0.0012 - root_mean_squared_error: 0.0353\n",
      "Epoch 4/100\n",
      "36/36 [==============================] - 5s 140ms/step - loss: 6.7046e-04 - root_mean_squared_error: 0.0259\n",
      "Epoch 5/100\n",
      "36/36 [==============================] - 5s 136ms/step - loss: 6.1297e-04 - root_mean_squared_error: 0.0248\n",
      "Epoch 6/100\n",
      "36/36 [==============================] - 5s 140ms/step - loss: 6.4825e-04 - root_mean_squared_error: 0.0255\n",
      "Epoch 7/100\n",
      "36/36 [==============================] - 5s 135ms/step - loss: 6.5565e-04 - root_mean_squared_error: 0.0256\n",
      "Epoch 8/100\n",
      "36/36 [==============================] - 5s 140ms/step - loss: 6.2831e-04 - root_mean_squared_error: 0.0251\n",
      "Epoch 9/100\n",
      "36/36 [==============================] - 6s 167ms/step - loss: 5.8694e-04 - root_mean_squared_error: 0.0242\n",
      "Epoch 10/100\n",
      "36/36 [==============================] - 5s 139ms/step - loss: 8.0672e-04 - root_mean_squared_error: 0.0284\n",
      "Epoch 11/100\n",
      "36/36 [==============================] - 5s 142ms/step - loss: 4.7145e-04 - root_mean_squared_error: 0.0217\n",
      "Epoch 12/100\n",
      "36/36 [==============================] - 5s 142ms/step - loss: 9.9790e-04 - root_mean_squared_error: 0.0316\n",
      "Epoch 13/100\n",
      "36/36 [==============================] - 5s 149ms/step - loss: 6.3294e-04 - root_mean_squared_error: 0.0252\n",
      "Epoch 14/100\n",
      "36/36 [==============================] - 5s 152ms/step - loss: 6.3901e-04 - root_mean_squared_error: 0.0253\n",
      "Epoch 15/100\n",
      "36/36 [==============================] - 5s 142ms/step - loss: 4.4662e-04 - root_mean_squared_error: 0.0211\n",
      "Epoch 16/100\n",
      "36/36 [==============================] - 5s 143ms/step - loss: 6.2263e-04 - root_mean_squared_error: 0.0250\n",
      "Epoch 17/100\n",
      "36/36 [==============================] - 6s 156ms/step - loss: 5.2656e-04 - root_mean_squared_error: 0.0229\n",
      "Epoch 18/100\n",
      "36/36 [==============================] - 5s 140ms/step - loss: 4.4166e-04 - root_mean_squared_error: 0.0210\n",
      "Epoch 19/100\n",
      "36/36 [==============================] - 5s 153ms/step - loss: 7.8556e-04 - root_mean_squared_error: 0.0280\n",
      "Epoch 20/100\n",
      "36/36 [==============================] - 6s 159ms/step - loss: 6.1230e-04 - root_mean_squared_error: 0.0247\n",
      "Epoch 21/100\n",
      "36/36 [==============================] - 5s 151ms/step - loss: 4.8997e-04 - root_mean_squared_error: 0.0221\n",
      "Epoch 22/100\n",
      "36/36 [==============================] - 5s 132ms/step - loss: 4.5236e-04 - root_mean_squared_error: 0.0213\n",
      "Epoch 23/100\n",
      "36/36 [==============================] - 5s 148ms/step - loss: 4.0057e-04 - root_mean_squared_error: 0.0200\n",
      "Epoch 24/100\n",
      "36/36 [==============================] - 6s 159ms/step - loss: 5.1673e-04 - root_mean_squared_error: 0.0227\n",
      "Epoch 25/100\n",
      "36/36 [==============================] - 6s 161ms/step - loss: 4.9371e-04 - root_mean_squared_error: 0.0222\n",
      "Epoch 26/100\n",
      "36/36 [==============================] - 7s 182ms/step - loss: 3.8956e-04 - root_mean_squared_error: 0.0197\n",
      "Epoch 27/100\n",
      "36/36 [==============================] - 6s 167ms/step - loss: 3.7474e-04 - root_mean_squared_error: 0.0194\n",
      "Epoch 28/100\n",
      "36/36 [==============================] - 7s 193ms/step - loss: 5.9033e-04 - root_mean_squared_error: 0.0243\n",
      "Epoch 29/100\n",
      "36/36 [==============================] - 8s 215ms/step - loss: 5.7747e-04 - root_mean_squared_error: 0.0240\n",
      "Epoch 30/100\n",
      "36/36 [==============================] - 7s 180ms/step - loss: 6.2699e-04 - root_mean_squared_error: 0.0250\n",
      "Epoch 31/100\n",
      "36/36 [==============================] - 7s 199ms/step - loss: 5.1909e-04 - root_mean_squared_error: 0.0228\n",
      "Epoch 32/100\n",
      "36/36 [==============================] - 6s 160ms/step - loss: 4.2801e-04 - root_mean_squared_error: 0.0207\n"
     ]
    },
    {
     "name": "stderr",
     "output_type": "stream",
     "text": [
      "WARNING:absl:Found untraced functions such as lstm_cell_layer_call_fn, lstm_cell_layer_call_and_return_conditional_losses while saving (showing 2 of 2). These functions will not be directly callable after loading.\n"
     ]
    },
    {
     "name": "stdout",
     "output_type": "stream",
     "text": [
      "INFO:tensorflow:Assets written to: /Users/aditya/Programming/stock-market-predictions/logs/MSFT-5-Year/assets\n"
     ]
    },
    {
     "name": "stderr",
     "output_type": "stream",
     "text": [
      "INFO:tensorflow:Assets written to: /Users/aditya/Programming/stock-market-predictions/logs/MSFT-5-Year/assets\n",
      "WARNING:absl:<keras.layers.recurrent.LSTMCell object at 0x7fbb28771a30> has the same name 'LSTMCell' as a built-in Keras object. Consider renaming <class 'keras.layers.recurrent.LSTMCell'> to avoid naming conflicts when loading with `tf.keras.models.load_model`. If renaming is not possible, pass the object in the `custom_objects` parameter of the load function.\n",
      "\u001b[34m\u001b[1mwandb\u001b[0m: Adding directory to artifact (/Users/aditya/Programming/stock-market-predictions/logs/MSFT-5-Year)... Done. 0.0s\n"
     ]
    },
    {
     "name": "stdout",
     "output_type": "stream",
     "text": [
      "(63, 60, 1)\n",
      "the root mean squared error is: 9.106518580578923\n"
     ]
    },
    {
     "data": {
      "text/html": [
       "<br/>Waiting for W&B process to finish, PID 14849... <strong style=\"color:green\">(success).</strong>"
      ],
      "text/plain": [
       "<IPython.core.display.HTML object>"
      ]
     },
     "metadata": {},
     "output_type": "display_data"
    },
    {
     "data": {
      "application/vnd.jupyter.widget-view+json": {
       "model_id": "e0e7908d0a3c4472848d5d39e2606d58",
       "version_major": 2,
       "version_minor": 0
      },
      "text/plain": [
       "VBox(children=(Label(value=' 1.11MB of 1.11MB uploaded (0.01MB deduped)\\r'), FloatProgress(value=1.0, max=1.0)…"
      ]
     },
     "metadata": {},
     "output_type": "display_data"
    },
    {
     "data": {
      "text/html": [
       "<style>\n",
       "    table.wandb td:nth-child(1) { padding: 0 10px; text-align: right }\n",
       "    .wandb-row { display: flex; flex-direction: row; flex-wrap: wrap; width: 100% }\n",
       "    .wandb-col { display: flex; flex-direction: column; flex-basis: 100%; flex: 1; padding: 10px; }\n",
       "    </style>\n",
       "<div class=\"wandb-row\"><div class=\"wandb-col\">\n",
       "<h3>Run history:</h3><br/><table class=\"wandb\"><tr><td>epoch</td><td>▁▁▁▂▂▂▂▃▃▃▃▃▄▄▄▄▅▅▅▅▆▆▆▆▆▇▇▇▇███</td></tr><tr><td>loss</td><td>█▂▁▁▁▁▁▁▁▁▁▁▁▁▁▁▁▁▁▁▁▁▁▁▁▁▁▁▁▁▁▁</td></tr><tr><td>root_mean_square_error</td><td>▁</td></tr><tr><td>root_mean_squared_error</td><td>█▃▂▁▁▁▁▁▁▁▁▁▁▁▁▁▁▁▁▁▁▁▁▁▁▁▁▁▁▁▁▁</td></tr></table><br/></div><div class=\"wandb-col\">\n",
       "<h3>Run summary:</h3><br/><table class=\"wandb\"><tr><td>epoch</td><td>31</td></tr><tr><td>loss</td><td>0.00043</td></tr><tr><td>root_mean_square_error</td><td>9.10652</td></tr><tr><td>root_mean_squared_error</td><td>0.02069</td></tr></table>\n",
       "</div></div>\n",
       "Synced 6 W&B file(s), 1 media file(s), 4 artifact file(s) and 1 other file(s)\n",
       "<br/>Synced <strong style=\"color:#cdcd00\">absurd-sweep-166</strong>: <a href=\"https://wandb.ai/alpheron/stock-predictions/runs/gw9k6c4z\" target=\"_blank\">https://wandb.ai/alpheron/stock-predictions/runs/gw9k6c4z</a><br/>\n",
       "Find logs at: <code>./wandb/run-20220227_174936-gw9k6c4z/logs</code><br/>\n"
      ],
      "text/plain": [
       "<IPython.core.display.HTML object>"
      ]
     },
     "metadata": {},
     "output_type": "display_data"
    },
    {
     "name": "stderr",
     "output_type": "stream",
     "text": [
      "\u001b[34m\u001b[1mwandb\u001b[0m: Agent Starting Run: dhgt3qbu with config:\n",
      "\u001b[34m\u001b[1mwandb\u001b[0m: \tLSTM_UNITS: 60\n",
      "\u001b[34m\u001b[1mwandb\u001b[0m: \tepochs: 100\n",
      "\u001b[34m\u001b[1mwandb\u001b[0m: \u001b[33mWARNING\u001b[0m Ignored wandb.init() arg project when running a sweep.\n",
      "\u001b[34m\u001b[1mwandb\u001b[0m: \u001b[33mWARNING\u001b[0m Ignored wandb.init() arg entity when running a sweep.\n"
     ]
    },
    {
     "data": {
      "text/html": [
       "\n",
       "                    Syncing run <strong><a href=\"https://wandb.ai/alpheron/stock-predictions/runs/dhgt3qbu\" target=\"_blank\">confused-sweep-167</a></strong> to <a href=\"https://wandb.ai/alpheron/stock-predictions\" target=\"_blank\">Weights & Biases</a> (<a href=\"https://docs.wandb.com/integrations/jupyter.html\" target=\"_blank\">docs</a>).<br/>\n",
       "Sweep page: <a href=\"https://wandb.ai/alpheron/stock-predictions/sweeps/21t67yna\" target=\"_blank\">https://wandb.ai/alpheron/stock-predictions/sweeps/21t67yna</a><br/>\n",
       "\n",
       "                "
      ],
      "text/plain": [
       "<IPython.core.display.HTML object>"
      ]
     },
     "metadata": {},
     "output_type": "display_data"
    },
    {
     "name": "stdout",
     "output_type": "stream",
     "text": [
      "Epoch 1/100\n",
      "36/36 [==============================] - 9s 261ms/step - loss: 0.1085 - root_mean_squared_error: 0.3293\n",
      "Epoch 2/100\n",
      "36/36 [==============================] - 7s 188ms/step - loss: 0.0130 - root_mean_squared_error: 0.1140\n",
      "Epoch 3/100\n",
      "36/36 [==============================] - 8s 215ms/step - loss: 0.0050 - root_mean_squared_error: 0.0709\n",
      "Epoch 4/100\n",
      "36/36 [==============================] - 5s 149ms/step - loss: 0.0020 - root_mean_squared_error: 0.0442\n",
      "Epoch 5/100\n",
      "36/36 [==============================] - 8s 217ms/step - loss: 0.0013 - root_mean_squared_error: 0.0360\n",
      "Epoch 6/100\n",
      "36/36 [==============================] - 8s 212ms/step - loss: 9.0134e-04 - root_mean_squared_error: 0.0300\n",
      "Epoch 7/100\n",
      "36/36 [==============================] - 6s 178ms/step - loss: 9.6026e-04 - root_mean_squared_error: 0.0310\n",
      "Epoch 8/100\n",
      "36/36 [==============================] - 8s 216ms/step - loss: 8.1869e-04 - root_mean_squared_error: 0.0286\n",
      "Epoch 9/100\n",
      "36/36 [==============================] - 7s 188ms/step - loss: 7.0058e-04 - root_mean_squared_error: 0.0265\n",
      "Epoch 10/100\n",
      "36/36 [==============================] - 5s 143ms/step - loss: 8.2284e-04 - root_mean_squared_error: 0.0287\n",
      "Epoch 11/100\n",
      "36/36 [==============================] - 5s 144ms/step - loss: 6.3524e-04 - root_mean_squared_error: 0.0252\n",
      "Epoch 12/100\n",
      "36/36 [==============================] - 5s 146ms/step - loss: 8.7036e-04 - root_mean_squared_error: 0.0295\n",
      "Epoch 13/100\n",
      "36/36 [==============================] - 5s 141ms/step - loss: 7.5636e-04 - root_mean_squared_error: 0.0275\n",
      "Epoch 14/100\n",
      "36/36 [==============================] - 6s 157ms/step - loss: 9.2957e-04 - root_mean_squared_error: 0.0305\n",
      "Epoch 15/100\n",
      "36/36 [==============================] - 5s 146ms/step - loss: 6.4393e-04 - root_mean_squared_error: 0.0254\n",
      "Epoch 16/100\n",
      "36/36 [==============================] - 5s 147ms/step - loss: 6.0409e-04 - root_mean_squared_error: 0.0246\n",
      "Epoch 17/100\n",
      "36/36 [==============================] - 5s 139ms/step - loss: 5.6326e-04 - root_mean_squared_error: 0.0237\n",
      "Epoch 18/100\n",
      "36/36 [==============================] - 5s 140ms/step - loss: 7.0197e-04 - root_mean_squared_error: 0.0265\n",
      "Epoch 19/100\n",
      "36/36 [==============================] - 5s 148ms/step - loss: 5.1948e-04 - root_mean_squared_error: 0.0228\n",
      "Epoch 20/100\n",
      "36/36 [==============================] - 6s 154ms/step - loss: 5.6568e-04 - root_mean_squared_error: 0.0238\n",
      "Epoch 21/100\n",
      "36/36 [==============================] - 6s 163ms/step - loss: 5.0484e-04 - root_mean_squared_error: 0.0225\n",
      "Epoch 22/100\n",
      "36/36 [==============================] - 5s 150ms/step - loss: 4.7641e-04 - root_mean_squared_error: 0.0218\n",
      "Epoch 23/100\n",
      "36/36 [==============================] - 5s 135ms/step - loss: 6.0398e-04 - root_mean_squared_error: 0.0246\n",
      "Epoch 24/100\n",
      "36/36 [==============================] - 5s 139ms/step - loss: 4.4686e-04 - root_mean_squared_error: 0.0211\n",
      "Epoch 25/100\n",
      "36/36 [==============================] - 6s 171ms/step - loss: 4.2327e-04 - root_mean_squared_error: 0.0206\n",
      "Epoch 26/100\n",
      "36/36 [==============================] - 5s 141ms/step - loss: 5.3776e-04 - root_mean_squared_error: 0.0232\n",
      "Epoch 27/100\n",
      "36/36 [==============================] - 5s 147ms/step - loss: 5.0494e-04 - root_mean_squared_error: 0.0225\n",
      "Epoch 28/100\n",
      "36/36 [==============================] - 5s 141ms/step - loss: 4.0825e-04 - root_mean_squared_error: 0.0202\n",
      "Epoch 29/100\n",
      "36/36 [==============================] - 5s 143ms/step - loss: 4.8025e-04 - root_mean_squared_error: 0.0219\n",
      "Epoch 30/100\n",
      "36/36 [==============================] - 6s 158ms/step - loss: 4.1808e-04 - root_mean_squared_error: 0.0204\n",
      "Epoch 31/100\n",
      "36/36 [==============================] - 5s 139ms/step - loss: 4.4782e-04 - root_mean_squared_error: 0.0212\n",
      "Epoch 32/100\n",
      "36/36 [==============================] - 5s 134ms/step - loss: 4.1991e-04 - root_mean_squared_error: 0.0205\n",
      "Epoch 33/100\n",
      "36/36 [==============================] - 5s 142ms/step - loss: 4.2232e-04 - root_mean_squared_error: 0.0206\n"
     ]
    },
    {
     "name": "stderr",
     "output_type": "stream",
     "text": [
      "WARNING:absl:Found untraced functions such as lstm_cell_layer_call_fn, lstm_cell_layer_call_and_return_conditional_losses while saving (showing 2 of 2). These functions will not be directly callable after loading.\n"
     ]
    },
    {
     "name": "stdout",
     "output_type": "stream",
     "text": [
      "INFO:tensorflow:Assets written to: /Users/aditya/Programming/stock-market-predictions/logs/MSFT-5-Year/assets\n"
     ]
    },
    {
     "name": "stderr",
     "output_type": "stream",
     "text": [
      "INFO:tensorflow:Assets written to: /Users/aditya/Programming/stock-market-predictions/logs/MSFT-5-Year/assets\n",
      "WARNING:absl:<keras.layers.recurrent.LSTMCell object at 0x7fbb261a6df0> has the same name 'LSTMCell' as a built-in Keras object. Consider renaming <class 'keras.layers.recurrent.LSTMCell'> to avoid naming conflicts when loading with `tf.keras.models.load_model`. If renaming is not possible, pass the object in the `custom_objects` parameter of the load function.\n",
      "\u001b[34m\u001b[1mwandb\u001b[0m: Adding directory to artifact (/Users/aditya/Programming/stock-market-predictions/logs/MSFT-5-Year)... Done. 0.0s\n"
     ]
    },
    {
     "name": "stdout",
     "output_type": "stream",
     "text": [
      "(63, 60, 1)\n",
      "the root mean squared error is: 9.216535665299824\n"
     ]
    },
    {
     "data": {
      "text/html": [
       "<br/>Waiting for W&B process to finish, PID 14930... <strong style=\"color:green\">(success).</strong>"
      ],
      "text/plain": [
       "<IPython.core.display.HTML object>"
      ]
     },
     "metadata": {},
     "output_type": "display_data"
    },
    {
     "data": {
      "application/vnd.jupyter.widget-view+json": {
       "model_id": "adeb135228fe45edb1c63dc2770cbce0",
       "version_major": 2,
       "version_minor": 0
      },
      "text/plain": [
       "VBox(children=(Label(value=' 1.11MB of 1.11MB uploaded (0.01MB deduped)\\r'), FloatProgress(value=1.0, max=1.0)…"
      ]
     },
     "metadata": {},
     "output_type": "display_data"
    },
    {
     "data": {
      "text/html": [
       "<style>\n",
       "    table.wandb td:nth-child(1) { padding: 0 10px; text-align: right }\n",
       "    .wandb-row { display: flex; flex-direction: row; flex-wrap: wrap; width: 100% }\n",
       "    .wandb-col { display: flex; flex-direction: column; flex-basis: 100%; flex: 1; padding: 10px; }\n",
       "    </style>\n",
       "<div class=\"wandb-row\"><div class=\"wandb-col\">\n",
       "<h3>Run history:</h3><br/><table class=\"wandb\"><tr><td>epoch</td><td>▁▁▁▂▂▂▂▃▃▃▃▃▄▄▄▄▅▅▅▅▅▆▆▆▆▆▇▇▇▇███</td></tr><tr><td>loss</td><td>█▂▁▁▁▁▁▁▁▁▁▁▁▁▁▁▁▁▁▁▁▁▁▁▁▁▁▁▁▁▁▁▁</td></tr><tr><td>root_mean_square_error</td><td>▁</td></tr><tr><td>root_mean_squared_error</td><td>█▃▂▂▁▁▁▁▁▁▁▁▁▁▁▁▁▁▁▁▁▁▁▁▁▁▁▁▁▁▁▁▁</td></tr></table><br/></div><div class=\"wandb-col\">\n",
       "<h3>Run summary:</h3><br/><table class=\"wandb\"><tr><td>epoch</td><td>32</td></tr><tr><td>loss</td><td>0.00042</td></tr><tr><td>root_mean_square_error</td><td>9.21654</td></tr><tr><td>root_mean_squared_error</td><td>0.02055</td></tr></table>\n",
       "</div></div>\n",
       "Synced 6 W&B file(s), 1 media file(s), 4 artifact file(s) and 1 other file(s)\n",
       "<br/>Synced <strong style=\"color:#cdcd00\">confused-sweep-167</strong>: <a href=\"https://wandb.ai/alpheron/stock-predictions/runs/dhgt3qbu\" target=\"_blank\">https://wandb.ai/alpheron/stock-predictions/runs/dhgt3qbu</a><br/>\n",
       "Find logs at: <code>./wandb/run-20220227_175313-dhgt3qbu/logs</code><br/>\n"
      ],
      "text/plain": [
       "<IPython.core.display.HTML object>"
      ]
     },
     "metadata": {},
     "output_type": "display_data"
    },
    {
     "name": "stderr",
     "output_type": "stream",
     "text": [
      "\u001b[34m\u001b[1mwandb\u001b[0m: Sweep Agent: Waiting for job.\n",
      "\u001b[34m\u001b[1mwandb\u001b[0m: Job received.\n",
      "\u001b[34m\u001b[1mwandb\u001b[0m: Agent Starting Run: sbjj15iy with config:\n",
      "\u001b[34m\u001b[1mwandb\u001b[0m: \tLSTM_UNITS: 50\n",
      "\u001b[34m\u001b[1mwandb\u001b[0m: \tepochs: 100\n",
      "\u001b[34m\u001b[1mwandb\u001b[0m: \u001b[33mWARNING\u001b[0m Ignored wandb.init() arg project when running a sweep.\n",
      "\u001b[34m\u001b[1mwandb\u001b[0m: \u001b[33mWARNING\u001b[0m Ignored wandb.init() arg entity when running a sweep.\n"
     ]
    },
    {
     "data": {
      "text/html": [
       "\n",
       "                    Syncing run <strong><a href=\"https://wandb.ai/alpheron/stock-predictions/runs/sbjj15iy\" target=\"_blank\">logical-sweep-168</a></strong> to <a href=\"https://wandb.ai/alpheron/stock-predictions\" target=\"_blank\">Weights & Biases</a> (<a href=\"https://docs.wandb.com/integrations/jupyter.html\" target=\"_blank\">docs</a>).<br/>\n",
       "Sweep page: <a href=\"https://wandb.ai/alpheron/stock-predictions/sweeps/21t67yna\" target=\"_blank\">https://wandb.ai/alpheron/stock-predictions/sweeps/21t67yna</a><br/>\n",
       "\n",
       "                "
      ],
      "text/plain": [
       "<IPython.core.display.HTML object>"
      ]
     },
     "metadata": {},
     "output_type": "display_data"
    },
    {
     "name": "stdout",
     "output_type": "stream",
     "text": [
      "Epoch 1/100\n",
      "36/36 [==============================] - 7s 198ms/step - loss: 0.0318 - root_mean_squared_error: 0.1784\n",
      "Epoch 2/100\n",
      "36/36 [==============================] - 5s 146ms/step - loss: 0.0047 - root_mean_squared_error: 0.0686\n",
      "Epoch 3/100\n",
      "36/36 [==============================] - 5s 143ms/step - loss: 0.0014 - root_mean_squared_error: 0.0379\n",
      "Epoch 4/100\n",
      "36/36 [==============================] - 5s 140ms/step - loss: 5.1701e-04 - root_mean_squared_error: 0.0227\n",
      "Epoch 5/100\n",
      "36/36 [==============================] - 5s 138ms/step - loss: 5.5652e-04 - root_mean_squared_error: 0.0236\n",
      "Epoch 6/100\n",
      "36/36 [==============================] - 5s 145ms/step - loss: 4.4406e-04 - root_mean_squared_error: 0.0211\n",
      "Epoch 7/100\n",
      "36/36 [==============================] - 6s 157ms/step - loss: 4.7112e-04 - root_mean_squared_error: 0.0217\n",
      "Epoch 8/100\n",
      "36/36 [==============================] - 5s 141ms/step - loss: 4.1203e-04 - root_mean_squared_error: 0.0203\n",
      "Epoch 9/100\n",
      "36/36 [==============================] - 5s 143ms/step - loss: 3.7163e-04 - root_mean_squared_error: 0.0193\n",
      "Epoch 10/100\n",
      "36/36 [==============================] - 5s 134ms/step - loss: 4.3429e-04 - root_mean_squared_error: 0.0208\n",
      "Epoch 11/100\n",
      "36/36 [==============================] - 5s 140ms/step - loss: 3.6316e-04 - root_mean_squared_error: 0.0191\n",
      "Epoch 12/100\n",
      "36/36 [==============================] - 5s 144ms/step - loss: 3.5457e-04 - root_mean_squared_error: 0.0188\n",
      "Epoch 13/100\n",
      "36/36 [==============================] - 5s 138ms/step - loss: 3.9522e-04 - root_mean_squared_error: 0.0199\n",
      "Epoch 14/100\n",
      "36/36 [==============================] - 5s 148ms/step - loss: 3.3674e-04 - root_mean_squared_error: 0.0184\n",
      "Epoch 15/100\n",
      "36/36 [==============================] - 6s 169ms/step - loss: 4.8634e-04 - root_mean_squared_error: 0.0221\n",
      "Epoch 16/100\n",
      "36/36 [==============================] - 5s 141ms/step - loss: 3.9351e-04 - root_mean_squared_error: 0.0198\n",
      "Epoch 17/100\n",
      "36/36 [==============================] - 5s 130ms/step - loss: 4.2869e-04 - root_mean_squared_error: 0.0207\n",
      "Epoch 18/100\n",
      "36/36 [==============================] - 6s 163ms/step - loss: 3.3031e-04 - root_mean_squared_error: 0.0182\n",
      "Epoch 19/100\n",
      "36/36 [==============================] - 5s 148ms/step - loss: 3.1926e-04 - root_mean_squared_error: 0.0179\n",
      "Epoch 20/100\n",
      "36/36 [==============================] - 5s 141ms/step - loss: 4.4223e-04 - root_mean_squared_error: 0.0210\n",
      "Epoch 21/100\n",
      "36/36 [==============================] - 5s 142ms/step - loss: 3.0251e-04 - root_mean_squared_error: 0.0174\n",
      "Epoch 22/100\n",
      "36/36 [==============================] - 5s 138ms/step - loss: 3.5400e-04 - root_mean_squared_error: 0.0188\n",
      "Epoch 23/100\n",
      "36/36 [==============================] - 5s 143ms/step - loss: 3.0369e-04 - root_mean_squared_error: 0.0174\n",
      "Epoch 24/100\n",
      "36/36 [==============================] - 5s 140ms/step - loss: 3.2414e-04 - root_mean_squared_error: 0.0180\n",
      "Epoch 25/100\n",
      "36/36 [==============================] - 5s 148ms/step - loss: 2.8884e-04 - root_mean_squared_error: 0.0170\n",
      "Epoch 26/100\n",
      "36/36 [==============================] - 5s 143ms/step - loss: 3.5428e-04 - root_mean_squared_error: 0.0188\n",
      "Epoch 27/100\n",
      "36/36 [==============================] - 5s 136ms/step - loss: 3.1045e-04 - root_mean_squared_error: 0.0176\n",
      "Epoch 28/100\n",
      "36/36 [==============================] - 5s 141ms/step - loss: 3.3982e-04 - root_mean_squared_error: 0.0184\n",
      "Epoch 29/100\n",
      "36/36 [==============================] - 5s 150ms/step - loss: 3.4329e-04 - root_mean_squared_error: 0.0185\n",
      "Epoch 30/100\n",
      "36/36 [==============================] - 5s 137ms/step - loss: 4.3402e-04 - root_mean_squared_error: 0.0208\n"
     ]
    },
    {
     "name": "stderr",
     "output_type": "stream",
     "text": [
      "WARNING:absl:Found untraced functions such as lstm_cell_layer_call_fn, lstm_cell_layer_call_and_return_conditional_losses while saving (showing 2 of 2). These functions will not be directly callable after loading.\n"
     ]
    },
    {
     "name": "stdout",
     "output_type": "stream",
     "text": [
      "INFO:tensorflow:Assets written to: /Users/aditya/Programming/stock-market-predictions/logs/MSFT-5-Year/assets\n"
     ]
    },
    {
     "name": "stderr",
     "output_type": "stream",
     "text": [
      "INFO:tensorflow:Assets written to: /Users/aditya/Programming/stock-market-predictions/logs/MSFT-5-Year/assets\n",
      "WARNING:absl:<keras.layers.recurrent.LSTMCell object at 0x7fbb26611460> has the same name 'LSTMCell' as a built-in Keras object. Consider renaming <class 'keras.layers.recurrent.LSTMCell'> to avoid naming conflicts when loading with `tf.keras.models.load_model`. If renaming is not possible, pass the object in the `custom_objects` parameter of the load function.\n",
      "\u001b[34m\u001b[1mwandb\u001b[0m: Adding directory to artifact (/Users/aditya/Programming/stock-market-predictions/logs/MSFT-5-Year)... Done. 0.0s\n"
     ]
    },
    {
     "name": "stdout",
     "output_type": "stream",
     "text": [
      "(63, 60, 1)\n",
      "the root mean squared error is: 8.43094288165348\n"
     ]
    },
    {
     "data": {
      "text/html": [
       "<br/>Waiting for W&B process to finish, PID 15030... <strong style=\"color:green\">(success).</strong>"
      ],
      "text/plain": [
       "<IPython.core.display.HTML object>"
      ]
     },
     "metadata": {},
     "output_type": "display_data"
    },
    {
     "data": {
      "application/vnd.jupyter.widget-view+json": {
       "model_id": "312698d609374af195435ef1c006b9cf",
       "version_major": 2,
       "version_minor": 0
      },
      "text/plain": [
       "VBox(children=(Label(value=' 1.11MB of 1.11MB uploaded (0.01MB deduped)\\r'), FloatProgress(value=1.0, max=1.0)…"
      ]
     },
     "metadata": {},
     "output_type": "display_data"
    },
    {
     "data": {
      "text/html": [
       "<style>\n",
       "    table.wandb td:nth-child(1) { padding: 0 10px; text-align: right }\n",
       "    .wandb-row { display: flex; flex-direction: row; flex-wrap: wrap; width: 100% }\n",
       "    .wandb-col { display: flex; flex-direction: column; flex-basis: 100%; flex: 1; padding: 10px; }\n",
       "    </style>\n",
       "<div class=\"wandb-row\"><div class=\"wandb-col\">\n",
       "<h3>Run history:</h3><br/><table class=\"wandb\"><tr><td>epoch</td><td>▁▁▁▂▂▂▂▃▃▃▃▄▄▄▄▅▅▅▅▆▆▆▆▇▇▇▇███</td></tr><tr><td>loss</td><td>█▂▁▁▁▁▁▁▁▁▁▁▁▁▁▁▁▁▁▁▁▁▁▁▁▁▁▁▁▁</td></tr><tr><td>root_mean_square_error</td><td>▁</td></tr><tr><td>root_mean_squared_error</td><td>█▃▂▁▁▁▁▁▁▁▁▁▁▁▁▁▁▁▁▁▁▁▁▁▁▁▁▁▁▁</td></tr></table><br/></div><div class=\"wandb-col\">\n",
       "<h3>Run summary:</h3><br/><table class=\"wandb\"><tr><td>epoch</td><td>29</td></tr><tr><td>loss</td><td>0.00043</td></tr><tr><td>root_mean_square_error</td><td>8.43094</td></tr><tr><td>root_mean_squared_error</td><td>0.02083</td></tr></table>\n",
       "</div></div>\n",
       "Synced 6 W&B file(s), 1 media file(s), 4 artifact file(s) and 1 other file(s)\n",
       "<br/>Synced <strong style=\"color:#cdcd00\">logical-sweep-168</strong>: <a href=\"https://wandb.ai/alpheron/stock-predictions/runs/sbjj15iy\" target=\"_blank\">https://wandb.ai/alpheron/stock-predictions/runs/sbjj15iy</a><br/>\n",
       "Find logs at: <code>./wandb/run-20220227_175720-sbjj15iy/logs</code><br/>\n"
      ],
      "text/plain": [
       "<IPython.core.display.HTML object>"
      ]
     },
     "metadata": {},
     "output_type": "display_data"
    },
    {
     "name": "stderr",
     "output_type": "stream",
     "text": [
      "\u001b[34m\u001b[1mwandb\u001b[0m: Agent Starting Run: 39yyjn20 with config:\n",
      "\u001b[34m\u001b[1mwandb\u001b[0m: \tLSTM_UNITS: 40\n",
      "\u001b[34m\u001b[1mwandb\u001b[0m: \tepochs: 100\n",
      "\u001b[34m\u001b[1mwandb\u001b[0m: \u001b[33mWARNING\u001b[0m Ignored wandb.init() arg project when running a sweep.\n",
      "\u001b[34m\u001b[1mwandb\u001b[0m: \u001b[33mWARNING\u001b[0m Ignored wandb.init() arg entity when running a sweep.\n"
     ]
    },
    {
     "data": {
      "text/html": [
       "\n",
       "                    Syncing run <strong><a href=\"https://wandb.ai/alpheron/stock-predictions/runs/39yyjn20\" target=\"_blank\">stellar-sweep-169</a></strong> to <a href=\"https://wandb.ai/alpheron/stock-predictions\" target=\"_blank\">Weights & Biases</a> (<a href=\"https://docs.wandb.com/integrations/jupyter.html\" target=\"_blank\">docs</a>).<br/>\n",
       "Sweep page: <a href=\"https://wandb.ai/alpheron/stock-predictions/sweeps/21t67yna\" target=\"_blank\">https://wandb.ai/alpheron/stock-predictions/sweeps/21t67yna</a><br/>\n",
       "\n",
       "                "
      ],
      "text/plain": [
       "<IPython.core.display.HTML object>"
      ]
     },
     "metadata": {},
     "output_type": "display_data"
    },
    {
     "name": "stdout",
     "output_type": "stream",
     "text": [
      "Epoch 1/100\n",
      "36/36 [==============================] - 6s 168ms/step - loss: 0.0713 - root_mean_squared_error: 0.2669\n",
      "Epoch 2/100\n",
      "36/36 [==============================] - 5s 141ms/step - loss: 0.0129 - root_mean_squared_error: 0.1135\n",
      "Epoch 3/100\n",
      "36/36 [==============================] - 5s 138ms/step - loss: 0.0045 - root_mean_squared_error: 0.0674\n",
      "Epoch 4/100\n",
      "36/36 [==============================] - 5s 136ms/step - loss: 0.0018 - root_mean_squared_error: 0.0428\n",
      "Epoch 5/100\n",
      "36/36 [==============================] - 5s 148ms/step - loss: 6.9195e-04 - root_mean_squared_error: 0.0263\n",
      "Epoch 6/100\n",
      "36/36 [==============================] - 5s 145ms/step - loss: 5.5008e-04 - root_mean_squared_error: 0.0235\n",
      "Epoch 7/100\n",
      "36/36 [==============================] - 5s 139ms/step - loss: 4.7209e-04 - root_mean_squared_error: 0.0217\n",
      "Epoch 8/100\n",
      "36/36 [==============================] - 5s 139ms/step - loss: 5.5085e-04 - root_mean_squared_error: 0.0235\n",
      "Epoch 9/100\n",
      "36/36 [==============================] - 5s 146ms/step - loss: 4.9929e-04 - root_mean_squared_error: 0.0223\n",
      "Epoch 10/100\n",
      "36/36 [==============================] - 5s 139ms/step - loss: 4.2327e-04 - root_mean_squared_error: 0.0206\n",
      "Epoch 11/100\n",
      "36/36 [==============================] - 5s 142ms/step - loss: 4.4718e-04 - root_mean_squared_error: 0.0211\n",
      "Epoch 12/100\n",
      "36/36 [==============================] - 5s 150ms/step - loss: 4.1626e-04 - root_mean_squared_error: 0.0204\n",
      "Epoch 13/100\n",
      "36/36 [==============================] - 5s 140ms/step - loss: 3.6774e-04 - root_mean_squared_error: 0.0192\n",
      "Epoch 14/100\n",
      "36/36 [==============================] - 5s 140ms/step - loss: 4.3054e-04 - root_mean_squared_error: 0.0207\n",
      "Epoch 15/100\n",
      "36/36 [==============================] - 5s 147ms/step - loss: 3.6744e-04 - root_mean_squared_error: 0.0192\n",
      "Epoch 16/100\n",
      "36/36 [==============================] - 5s 140ms/step - loss: 3.8752e-04 - root_mean_squared_error: 0.0197\n",
      "Epoch 17/100\n",
      "36/36 [==============================] - 5s 143ms/step - loss: 3.6423e-04 - root_mean_squared_error: 0.0191\n",
      "Epoch 18/100\n",
      "36/36 [==============================] - 5s 150ms/step - loss: 3.2735e-04 - root_mean_squared_error: 0.0181\n",
      "Epoch 19/100\n",
      "36/36 [==============================] - 5s 150ms/step - loss: 3.4545e-04 - root_mean_squared_error: 0.0186\n",
      "Epoch 20/100\n",
      "36/36 [==============================] - 5s 146ms/step - loss: 3.3130e-04 - root_mean_squared_error: 0.0182\n",
      "Epoch 21/100\n",
      "36/36 [==============================] - 5s 145ms/step - loss: 5.7187e-04 - root_mean_squared_error: 0.0239\n",
      "Epoch 22/100\n",
      "36/36 [==============================] - 5s 143ms/step - loss: 3.2553e-04 - root_mean_squared_error: 0.0180\n",
      "Epoch 23/100\n",
      "36/36 [==============================] - 5s 146ms/step - loss: 2.9786e-04 - root_mean_squared_error: 0.0173\n",
      "Epoch 24/100\n",
      "36/36 [==============================] - 5s 151ms/step - loss: 3.0627e-04 - root_mean_squared_error: 0.0175\n",
      "Epoch 25/100\n",
      "36/36 [==============================] - 5s 148ms/step - loss: 3.1973e-04 - root_mean_squared_error: 0.0179\n",
      "Epoch 26/100\n",
      "36/36 [==============================] - 5s 147ms/step - loss: 3.9749e-04 - root_mean_squared_error: 0.0199\n",
      "Epoch 27/100\n",
      "36/36 [==============================] - 5s 143ms/step - loss: 2.9387e-04 - root_mean_squared_error: 0.0171\n",
      "Epoch 28/100\n",
      "36/36 [==============================] - 5s 142ms/step - loss: 3.7641e-04 - root_mean_squared_error: 0.0194\n",
      "Epoch 29/100\n",
      "36/36 [==============================] - 5s 146ms/step - loss: 3.0207e-04 - root_mean_squared_error: 0.0174\n",
      "Epoch 30/100\n",
      "36/36 [==============================] - 5s 151ms/step - loss: 3.1065e-04 - root_mean_squared_error: 0.0176\n",
      "Epoch 31/100\n",
      "36/36 [==============================] - 5s 151ms/step - loss: 3.8372e-04 - root_mean_squared_error: 0.0196\n",
      "Epoch 32/100\n",
      "36/36 [==============================] - 6s 157ms/step - loss: 3.0857e-04 - root_mean_squared_error: 0.0176\n"
     ]
    },
    {
     "name": "stderr",
     "output_type": "stream",
     "text": [
      "WARNING:absl:Found untraced functions such as lstm_cell_layer_call_fn, lstm_cell_layer_call_and_return_conditional_losses while saving (showing 2 of 2). These functions will not be directly callable after loading.\n"
     ]
    },
    {
     "name": "stdout",
     "output_type": "stream",
     "text": [
      "INFO:tensorflow:Assets written to: /Users/aditya/Programming/stock-market-predictions/logs/MSFT-5-Year/assets\n"
     ]
    },
    {
     "name": "stderr",
     "output_type": "stream",
     "text": [
      "INFO:tensorflow:Assets written to: /Users/aditya/Programming/stock-market-predictions/logs/MSFT-5-Year/assets\n",
      "WARNING:absl:<keras.layers.recurrent.LSTMCell object at 0x7fbb2495db20> has the same name 'LSTMCell' as a built-in Keras object. Consider renaming <class 'keras.layers.recurrent.LSTMCell'> to avoid naming conflicts when loading with `tf.keras.models.load_model`. If renaming is not possible, pass the object in the `custom_objects` parameter of the load function.\n"
     ]
    },
    {
     "name": "stdout",
     "output_type": "stream",
     "text": [
      "(63, 60, 1)\n"
     ]
    },
    {
     "name": "stderr",
     "output_type": "stream",
     "text": [
      "\u001b[34m\u001b[1mwandb\u001b[0m: Adding directory to artifact (/Users/aditya/Programming/stock-market-predictions/logs/MSFT-5-Year)... Done. 0.0s\n"
     ]
    },
    {
     "name": "stdout",
     "output_type": "stream",
     "text": [
      "the root mean squared error is: 8.188011966925007\n"
     ]
    },
    {
     "data": {
      "text/html": [
       "<br/>Waiting for W&B process to finish, PID 15111... <strong style=\"color:green\">(success).</strong>"
      ],
      "text/plain": [
       "<IPython.core.display.HTML object>"
      ]
     },
     "metadata": {},
     "output_type": "display_data"
    },
    {
     "data": {
      "application/vnd.jupyter.widget-view+json": {
       "model_id": "a9faa4cdd9b241a18d2982f0090927a4",
       "version_major": 2,
       "version_minor": 0
      },
      "text/plain": [
       "VBox(children=(Label(value=' 1.11MB of 1.11MB uploaded (0.01MB deduped)\\r'), FloatProgress(value=1.0, max=1.0)…"
      ]
     },
     "metadata": {},
     "output_type": "display_data"
    },
    {
     "data": {
      "text/html": [
       "<style>\n",
       "    table.wandb td:nth-child(1) { padding: 0 10px; text-align: right }\n",
       "    .wandb-row { display: flex; flex-direction: row; flex-wrap: wrap; width: 100% }\n",
       "    .wandb-col { display: flex; flex-direction: column; flex-basis: 100%; flex: 1; padding: 10px; }\n",
       "    </style>\n",
       "<div class=\"wandb-row\"><div class=\"wandb-col\">\n",
       "<h3>Run history:</h3><br/><table class=\"wandb\"><tr><td>epoch</td><td>▁▁▁▂▂▂▂▃▃▃▃▃▄▄▄▄▅▅▅▅▆▆▆▆▆▇▇▇▇███</td></tr><tr><td>loss</td><td>█▂▁▁▁▁▁▁▁▁▁▁▁▁▁▁▁▁▁▁▁▁▁▁▁▁▁▁▁▁▁▁</td></tr><tr><td>root_mean_square_error</td><td>▁</td></tr><tr><td>root_mean_squared_error</td><td>█▄▂▂▁▁▁▁▁▁▁▁▁▁▁▁▁▁▁▁▁▁▁▁▁▁▁▁▁▁▁▁</td></tr></table><br/></div><div class=\"wandb-col\">\n",
       "<h3>Run summary:</h3><br/><table class=\"wandb\"><tr><td>epoch</td><td>31</td></tr><tr><td>loss</td><td>0.00031</td></tr><tr><td>root_mean_square_error</td><td>8.18801</td></tr><tr><td>root_mean_squared_error</td><td>0.01757</td></tr></table>\n",
       "</div></div>\n",
       "Synced 6 W&B file(s), 1 media file(s), 4 artifact file(s) and 1 other file(s)\n",
       "<br/>Synced <strong style=\"color:#cdcd00\">stellar-sweep-169</strong>: <a href=\"https://wandb.ai/alpheron/stock-predictions/runs/39yyjn20\" target=\"_blank\">https://wandb.ai/alpheron/stock-predictions/runs/39yyjn20</a><br/>\n",
       "Find logs at: <code>./wandb/run-20220227_180043-39yyjn20/logs</code><br/>\n"
      ],
      "text/plain": [
       "<IPython.core.display.HTML object>"
      ]
     },
     "metadata": {},
     "output_type": "display_data"
    },
    {
     "name": "stderr",
     "output_type": "stream",
     "text": [
      "\u001b[34m\u001b[1mwandb\u001b[0m: Agent Starting Run: 8xlpz4lr with config:\n",
      "\u001b[34m\u001b[1mwandb\u001b[0m: \tLSTM_UNITS: 65\n",
      "\u001b[34m\u001b[1mwandb\u001b[0m: \tepochs: 100\n",
      "\u001b[34m\u001b[1mwandb\u001b[0m: \u001b[33mWARNING\u001b[0m Ignored wandb.init() arg project when running a sweep.\n",
      "\u001b[34m\u001b[1mwandb\u001b[0m: \u001b[33mWARNING\u001b[0m Ignored wandb.init() arg entity when running a sweep.\n"
     ]
    },
    {
     "data": {
      "text/html": [
       "\n",
       "                    Syncing run <strong><a href=\"https://wandb.ai/alpheron/stock-predictions/runs/8xlpz4lr\" target=\"_blank\">crimson-sweep-170</a></strong> to <a href=\"https://wandb.ai/alpheron/stock-predictions\" target=\"_blank\">Weights & Biases</a> (<a href=\"https://docs.wandb.com/integrations/jupyter.html\" target=\"_blank\">docs</a>).<br/>\n",
       "Sweep page: <a href=\"https://wandb.ai/alpheron/stock-predictions/sweeps/21t67yna\" target=\"_blank\">https://wandb.ai/alpheron/stock-predictions/sweeps/21t67yna</a><br/>\n",
       "\n",
       "                "
      ],
      "text/plain": [
       "<IPython.core.display.HTML object>"
      ]
     },
     "metadata": {},
     "output_type": "display_data"
    },
    {
     "name": "stdout",
     "output_type": "stream",
     "text": [
      "Epoch 1/100\n",
      "36/36 [==============================] - 7s 196ms/step - loss: 0.0603 - root_mean_squared_error: 0.2455\n",
      "Epoch 2/100\n",
      "36/36 [==============================] - 5s 152ms/step - loss: 0.0068 - root_mean_squared_error: 0.0826\n",
      "Epoch 3/100\n",
      "36/36 [==============================] - 5s 137ms/step - loss: 0.0014 - root_mean_squared_error: 0.0372\n",
      "Epoch 4/100\n",
      "36/36 [==============================] - 5s 140ms/step - loss: 6.1199e-04 - root_mean_squared_error: 0.0247\n",
      "Epoch 5/100\n",
      "36/36 [==============================] - 5s 136ms/step - loss: 5.4602e-04 - root_mean_squared_error: 0.0234\n",
      "Epoch 6/100\n",
      "36/36 [==============================] - 5s 136ms/step - loss: 6.5507e-04 - root_mean_squared_error: 0.0256\n",
      "Epoch 7/100\n",
      "36/36 [==============================] - 5s 146ms/step - loss: 5.0972e-04 - root_mean_squared_error: 0.0226\n",
      "Epoch 8/100\n",
      "36/36 [==============================] - 5s 139ms/step - loss: 5.3564e-04 - root_mean_squared_error: 0.0231\n",
      "Epoch 9/100\n",
      "36/36 [==============================] - 5s 146ms/step - loss: 5.8556e-04 - root_mean_squared_error: 0.0242\n",
      "Epoch 10/100\n",
      "36/36 [==============================] - 5s 143ms/step - loss: 4.7599e-04 - root_mean_squared_error: 0.0218\n",
      "Epoch 11/100\n",
      "36/36 [==============================] - 5s 135ms/step - loss: 4.5147e-04 - root_mean_squared_error: 0.0212\n",
      "Epoch 12/100\n",
      "36/36 [==============================] - 5s 140ms/step - loss: 5.3496e-04 - root_mean_squared_error: 0.0231\n",
      "Epoch 13/100\n",
      "36/36 [==============================] - 5s 140ms/step - loss: 4.5624e-04 - root_mean_squared_error: 0.0214\n",
      "Epoch 14/100\n",
      "36/36 [==============================] - 5s 150ms/step - loss: 4.4503e-04 - root_mean_squared_error: 0.0211\n",
      "Epoch 15/100\n",
      "36/36 [==============================] - 5s 141ms/step - loss: 5.0828e-04 - root_mean_squared_error: 0.0225\n",
      "Epoch 16/100\n",
      "36/36 [==============================] - 6s 158ms/step - loss: 6.1679e-04 - root_mean_squared_error: 0.0248\n",
      "Epoch 17/100\n",
      "36/36 [==============================] - 5s 141ms/step - loss: 7.9776e-04 - root_mean_squared_error: 0.0282\n",
      "Epoch 18/100\n",
      "36/36 [==============================] - 5s 144ms/step - loss: 4.9008e-04 - root_mean_squared_error: 0.0221\n",
      "Epoch 19/100\n",
      "36/36 [==============================] - 5s 149ms/step - loss: 4.6382e-04 - root_mean_squared_error: 0.0215\n"
     ]
    },
    {
     "name": "stderr",
     "output_type": "stream",
     "text": [
      "WARNING:absl:Found untraced functions such as lstm_cell_layer_call_fn, lstm_cell_layer_call_and_return_conditional_losses while saving (showing 2 of 2). These functions will not be directly callable after loading.\n"
     ]
    },
    {
     "name": "stdout",
     "output_type": "stream",
     "text": [
      "INFO:tensorflow:Assets written to: /Users/aditya/Programming/stock-market-predictions/logs/MSFT-5-Year/assets\n"
     ]
    },
    {
     "name": "stderr",
     "output_type": "stream",
     "text": [
      "INFO:tensorflow:Assets written to: /Users/aditya/Programming/stock-market-predictions/logs/MSFT-5-Year/assets\n",
      "WARNING:absl:<keras.layers.recurrent.LSTMCell object at 0x7fbb28156dc0> has the same name 'LSTMCell' as a built-in Keras object. Consider renaming <class 'keras.layers.recurrent.LSTMCell'> to avoid naming conflicts when loading with `tf.keras.models.load_model`. If renaming is not possible, pass the object in the `custom_objects` parameter of the load function.\n",
      "\u001b[34m\u001b[1mwandb\u001b[0m: Adding directory to artifact (/Users/aditya/Programming/stock-market-predictions/logs/MSFT-5-Year)... Done. 0.0s\n"
     ]
    },
    {
     "name": "stdout",
     "output_type": "stream",
     "text": [
      "(63, 60, 1)\n",
      "the root mean squared error is: 9.318475652158499\n"
     ]
    },
    {
     "data": {
      "text/html": [
       "<br/>Waiting for W&B process to finish, PID 15204... <strong style=\"color:green\">(success).</strong>"
      ],
      "text/plain": [
       "<IPython.core.display.HTML object>"
      ]
     },
     "metadata": {},
     "output_type": "display_data"
    },
    {
     "data": {
      "application/vnd.jupyter.widget-view+json": {
       "model_id": "a7c6dbb99d1c415796b52cd8250079a1",
       "version_major": 2,
       "version_minor": 0
      },
      "text/plain": [
       "VBox(children=(Label(value=' 1.11MB of 1.11MB uploaded (0.01MB deduped)\\r'), FloatProgress(value=1.0, max=1.0)…"
      ]
     },
     "metadata": {},
     "output_type": "display_data"
    },
    {
     "data": {
      "text/html": [
       "<style>\n",
       "    table.wandb td:nth-child(1) { padding: 0 10px; text-align: right }\n",
       "    .wandb-row { display: flex; flex-direction: row; flex-wrap: wrap; width: 100% }\n",
       "    .wandb-col { display: flex; flex-direction: column; flex-basis: 100%; flex: 1; padding: 10px; }\n",
       "    </style>\n",
       "<div class=\"wandb-row\"><div class=\"wandb-col\">\n",
       "<h3>Run history:</h3><br/><table class=\"wandb\"><tr><td>epoch</td><td>▁▁▂▂▃▃▃▄▄▅▅▅▆▆▆▇▇██</td></tr><tr><td>loss</td><td>█▂▁▁▁▁▁▁▁▁▁▁▁▁▁▁▁▁▁</td></tr><tr><td>root_mean_square_error</td><td>▁</td></tr><tr><td>root_mean_squared_error</td><td>█▃▂▁▁▁▁▁▁▁▁▁▁▁▁▁▁▁▁</td></tr></table><br/></div><div class=\"wandb-col\">\n",
       "<h3>Run summary:</h3><br/><table class=\"wandb\"><tr><td>epoch</td><td>18</td></tr><tr><td>loss</td><td>0.00046</td></tr><tr><td>root_mean_square_error</td><td>9.31848</td></tr><tr><td>root_mean_squared_error</td><td>0.02154</td></tr></table>\n",
       "</div></div>\n",
       "Synced 6 W&B file(s), 1 media file(s), 4 artifact file(s) and 1 other file(s)\n",
       "<br/>Synced <strong style=\"color:#cdcd00\">crimson-sweep-170</strong>: <a href=\"https://wandb.ai/alpheron/stock-predictions/runs/8xlpz4lr\" target=\"_blank\">https://wandb.ai/alpheron/stock-predictions/runs/8xlpz4lr</a><br/>\n",
       "Find logs at: <code>./wandb/run-20220227_180410-8xlpz4lr/logs</code><br/>\n"
      ],
      "text/plain": [
       "<IPython.core.display.HTML object>"
      ]
     },
     "metadata": {},
     "output_type": "display_data"
    },
    {
     "name": "stderr",
     "output_type": "stream",
     "text": [
      "\u001b[34m\u001b[1mwandb\u001b[0m: Sweep Agent: Waiting for job.\n",
      "\u001b[34m\u001b[1mwandb\u001b[0m: Job received.\n",
      "\u001b[34m\u001b[1mwandb\u001b[0m: Agent Starting Run: pzvqdby9 with config:\n",
      "\u001b[34m\u001b[1mwandb\u001b[0m: \tLSTM_UNITS: 60\n",
      "\u001b[34m\u001b[1mwandb\u001b[0m: \tepochs: 100\n",
      "\u001b[34m\u001b[1mwandb\u001b[0m: \u001b[33mWARNING\u001b[0m Ignored wandb.init() arg project when running a sweep.\n",
      "\u001b[34m\u001b[1mwandb\u001b[0m: \u001b[33mWARNING\u001b[0m Ignored wandb.init() arg entity when running a sweep.\n"
     ]
    },
    {
     "data": {
      "text/html": [
       "\n",
       "                    Syncing run <strong><a href=\"https://wandb.ai/alpheron/stock-predictions/runs/pzvqdby9\" target=\"_blank\">desert-sweep-171</a></strong> to <a href=\"https://wandb.ai/alpheron/stock-predictions\" target=\"_blank\">Weights & Biases</a> (<a href=\"https://docs.wandb.com/integrations/jupyter.html\" target=\"_blank\">docs</a>).<br/>\n",
       "Sweep page: <a href=\"https://wandb.ai/alpheron/stock-predictions/sweeps/21t67yna\" target=\"_blank\">https://wandb.ai/alpheron/stock-predictions/sweeps/21t67yna</a><br/>\n",
       "\n",
       "                "
      ],
      "text/plain": [
       "<IPython.core.display.HTML object>"
      ]
     },
     "metadata": {},
     "output_type": "display_data"
    },
    {
     "name": "stdout",
     "output_type": "stream",
     "text": [
      "Epoch 1/100\n",
      "36/36 [==============================] - 6s 164ms/step - loss: 0.0806 - root_mean_squared_error: 0.2840\n",
      "Epoch 2/100\n",
      "36/36 [==============================] - 6s 170ms/step - loss: 0.0137 - root_mean_squared_error: 0.1171\n",
      "Epoch 3/100\n",
      "36/36 [==============================] - 5s 133ms/step - loss: 0.0053 - root_mean_squared_error: 0.0726\n",
      "Epoch 4/100\n",
      "36/36 [==============================] - 5s 135ms/step - loss: 0.0013 - root_mean_squared_error: 0.0366\n",
      "Epoch 5/100\n",
      "36/36 [==============================] - 5s 130ms/step - loss: 8.9435e-04 - root_mean_squared_error: 0.0299\n",
      "Epoch 6/100\n",
      "36/36 [==============================] - 5s 127ms/step - loss: 8.8292e-04 - root_mean_squared_error: 0.0297\n",
      "Epoch 7/100\n",
      "36/36 [==============================] - 5s 138ms/step - loss: 8.3553e-04 - root_mean_squared_error: 0.0289\n",
      "Epoch 8/100\n",
      "36/36 [==============================] - 5s 140ms/step - loss: 9.6450e-04 - root_mean_squared_error: 0.0311\n",
      "Epoch 9/100\n",
      "36/36 [==============================] - 5s 143ms/step - loss: 8.4902e-04 - root_mean_squared_error: 0.0291\n",
      "Epoch 10/100\n",
      "36/36 [==============================] - 5s 143ms/step - loss: 7.0969e-04 - root_mean_squared_error: 0.0266\n",
      "Epoch 11/100\n",
      "36/36 [==============================] - 6s 175ms/step - loss: 9.8655e-04 - root_mean_squared_error: 0.0314\n",
      "Epoch 12/100\n",
      "36/36 [==============================] - 5s 136ms/step - loss: 9.4272e-04 - root_mean_squared_error: 0.0307\n",
      "Epoch 13/100\n",
      "36/36 [==============================] - 6s 158ms/step - loss: 7.7960e-04 - root_mean_squared_error: 0.0279\n",
      "Epoch 14/100\n",
      "36/36 [==============================] - 5s 144ms/step - loss: 6.8756e-04 - root_mean_squared_error: 0.0262\n",
      "Epoch 15/100\n",
      "36/36 [==============================] - 6s 154ms/step - loss: 6.8977e-04 - root_mean_squared_error: 0.0263\n",
      "Epoch 16/100\n",
      "36/36 [==============================] - 5s 140ms/step - loss: 7.3420e-04 - root_mean_squared_error: 0.0271\n",
      "Epoch 17/100\n",
      "36/36 [==============================] - 5s 138ms/step - loss: 7.5810e-04 - root_mean_squared_error: 0.0275\n",
      "Epoch 18/100\n",
      "36/36 [==============================] - 5s 138ms/step - loss: 5.4199e-04 - root_mean_squared_error: 0.0233\n",
      "Epoch 19/100\n",
      "36/36 [==============================] - 5s 144ms/step - loss: 7.0555e-04 - root_mean_squared_error: 0.0266\n",
      "Epoch 20/100\n",
      "36/36 [==============================] - 5s 138ms/step - loss: 5.6912e-04 - root_mean_squared_error: 0.0239\n",
      "Epoch 21/100\n",
      "36/36 [==============================] - 5s 137ms/step - loss: 6.9429e-04 - root_mean_squared_error: 0.0263\n",
      "Epoch 22/100\n",
      "36/36 [==============================] - 5s 149ms/step - loss: 5.4285e-04 - root_mean_squared_error: 0.0233\n",
      "Epoch 23/100\n",
      "36/36 [==============================] - 5s 136ms/step - loss: 6.1311e-04 - root_mean_squared_error: 0.0248\n"
     ]
    },
    {
     "name": "stderr",
     "output_type": "stream",
     "text": [
      "WARNING:absl:Found untraced functions such as lstm_cell_layer_call_fn, lstm_cell_layer_call_and_return_conditional_losses while saving (showing 2 of 2). These functions will not be directly callable after loading.\n"
     ]
    },
    {
     "name": "stdout",
     "output_type": "stream",
     "text": [
      "INFO:tensorflow:Assets written to: /Users/aditya/Programming/stock-market-predictions/logs/MSFT-5-Year/assets\n"
     ]
    },
    {
     "name": "stderr",
     "output_type": "stream",
     "text": [
      "INFO:tensorflow:Assets written to: /Users/aditya/Programming/stock-market-predictions/logs/MSFT-5-Year/assets\n",
      "WARNING:absl:<keras.layers.recurrent.LSTMCell object at 0x7fbb2b0136d0> has the same name 'LSTMCell' as a built-in Keras object. Consider renaming <class 'keras.layers.recurrent.LSTMCell'> to avoid naming conflicts when loading with `tf.keras.models.load_model`. If renaming is not possible, pass the object in the `custom_objects` parameter of the load function.\n",
      "\u001b[34m\u001b[1mwandb\u001b[0m: Adding directory to artifact (/Users/aditya/Programming/stock-market-predictions/logs/MSFT-5-Year)... Done. 0.0s\n"
     ]
    },
    {
     "name": "stdout",
     "output_type": "stream",
     "text": [
      "(63, 60, 1)\n",
      "the root mean squared error is: 10.396775290996384\n"
     ]
    },
    {
     "data": {
      "text/html": [
       "<br/>Waiting for W&B process to finish, PID 15271... <strong style=\"color:green\">(success).</strong>"
      ],
      "text/plain": [
       "<IPython.core.display.HTML object>"
      ]
     },
     "metadata": {},
     "output_type": "display_data"
    },
    {
     "data": {
      "application/vnd.jupyter.widget-view+json": {
       "model_id": "19f11e386c564dec9cd546c53addaaa7",
       "version_major": 2,
       "version_minor": 0
      },
      "text/plain": [
       "VBox(children=(Label(value=' 1.11MB of 1.11MB uploaded (0.01MB deduped)\\r'), FloatProgress(value=1.0, max=1.0)…"
      ]
     },
     "metadata": {},
     "output_type": "display_data"
    },
    {
     "data": {
      "text/html": [
       "<style>\n",
       "    table.wandb td:nth-child(1) { padding: 0 10px; text-align: right }\n",
       "    .wandb-row { display: flex; flex-direction: row; flex-wrap: wrap; width: 100% }\n",
       "    .wandb-col { display: flex; flex-direction: column; flex-basis: 100%; flex: 1; padding: 10px; }\n",
       "    </style>\n",
       "<div class=\"wandb-row\"><div class=\"wandb-col\">\n",
       "<h3>Run history:</h3><br/><table class=\"wandb\"><tr><td>epoch</td><td>▁▁▂▂▂▃▃▃▄▄▄▅▅▅▅▆▆▆▇▇▇██</td></tr><tr><td>loss</td><td>█▂▁▁▁▁▁▁▁▁▁▁▁▁▁▁▁▁▁▁▁▁▁</td></tr><tr><td>root_mean_square_error</td><td>▁</td></tr><tr><td>root_mean_squared_error</td><td>█▄▂▁▁▁▁▁▁▁▁▁▁▁▁▁▁▁▁▁▁▁▁</td></tr></table><br/></div><div class=\"wandb-col\">\n",
       "<h3>Run summary:</h3><br/><table class=\"wandb\"><tr><td>epoch</td><td>22</td></tr><tr><td>loss</td><td>0.00061</td></tr><tr><td>root_mean_square_error</td><td>10.39678</td></tr><tr><td>root_mean_squared_error</td><td>0.02476</td></tr></table>\n",
       "</div></div>\n",
       "Synced 6 W&B file(s), 1 media file(s), 4 artifact file(s) and 1 other file(s)\n",
       "<br/>Synced <strong style=\"color:#cdcd00\">desert-sweep-171</strong>: <a href=\"https://wandb.ai/alpheron/stock-predictions/runs/pzvqdby9\" target=\"_blank\">https://wandb.ai/alpheron/stock-predictions/runs/pzvqdby9</a><br/>\n",
       "Find logs at: <code>./wandb/run-20220227_180634-pzvqdby9/logs</code><br/>\n"
      ],
      "text/plain": [
       "<IPython.core.display.HTML object>"
      ]
     },
     "metadata": {},
     "output_type": "display_data"
    },
    {
     "name": "stderr",
     "output_type": "stream",
     "text": [
      "\u001b[34m\u001b[1mwandb\u001b[0m: Agent Starting Run: hbqdvl2v with config:\n",
      "\u001b[34m\u001b[1mwandb\u001b[0m: \tLSTM_UNITS: 100\n",
      "\u001b[34m\u001b[1mwandb\u001b[0m: \tepochs: 100\n",
      "\u001b[34m\u001b[1mwandb\u001b[0m: \u001b[33mWARNING\u001b[0m Ignored wandb.init() arg project when running a sweep.\n",
      "\u001b[34m\u001b[1mwandb\u001b[0m: \u001b[33mWARNING\u001b[0m Ignored wandb.init() arg entity when running a sweep.\n"
     ]
    },
    {
     "data": {
      "text/html": [
       "\n",
       "                    Syncing run <strong><a href=\"https://wandb.ai/alpheron/stock-predictions/runs/hbqdvl2v\" target=\"_blank\">woven-sweep-172</a></strong> to <a href=\"https://wandb.ai/alpheron/stock-predictions\" target=\"_blank\">Weights & Biases</a> (<a href=\"https://docs.wandb.com/integrations/jupyter.html\" target=\"_blank\">docs</a>).<br/>\n",
       "Sweep page: <a href=\"https://wandb.ai/alpheron/stock-predictions/sweeps/21t67yna\" target=\"_blank\">https://wandb.ai/alpheron/stock-predictions/sweeps/21t67yna</a><br/>\n",
       "\n",
       "                "
      ],
      "text/plain": [
       "<IPython.core.display.HTML object>"
      ]
     },
     "metadata": {},
     "output_type": "display_data"
    },
    {
     "name": "stdout",
     "output_type": "stream",
     "text": [
      "Epoch 1/100\n",
      "36/36 [==============================] - 7s 187ms/step - loss: 0.1472 - root_mean_squared_error: 0.3837\n",
      "Epoch 2/100\n",
      "36/36 [==============================] - 5s 151ms/step - loss: 0.0388 - root_mean_squared_error: 0.1971\n",
      "Epoch 3/100\n",
      "36/36 [==============================] - 5s 148ms/step - loss: 0.0121 - root_mean_squared_error: 0.1101\n",
      "Epoch 4/100\n",
      "36/36 [==============================] - 6s 156ms/step - loss: 0.0044 - root_mean_squared_error: 0.0662\n",
      "Epoch 5/100\n",
      "36/36 [==============================] - 5s 138ms/step - loss: 0.0017 - root_mean_squared_error: 0.0418\n",
      "Epoch 6/100\n",
      "36/36 [==============================] - 5s 137ms/step - loss: 0.0013 - root_mean_squared_error: 0.0364\n",
      "Epoch 7/100\n",
      "36/36 [==============================] - 5s 147ms/step - loss: 0.0012 - root_mean_squared_error: 0.0344\n",
      "Epoch 8/100\n",
      "36/36 [==============================] - 5s 139ms/step - loss: 9.3637e-04 - root_mean_squared_error: 0.0306\n",
      "Epoch 9/100\n",
      "36/36 [==============================] - 5s 139ms/step - loss: 0.0011 - root_mean_squared_error: 0.0324\n",
      "Epoch 10/100\n",
      "36/36 [==============================] - 5s 140ms/step - loss: 9.2729e-04 - root_mean_squared_error: 0.0305\n",
      "Epoch 11/100\n",
      "36/36 [==============================] - 5s 137ms/step - loss: 9.4299e-04 - root_mean_squared_error: 0.0307\n",
      "Epoch 12/100\n",
      "36/36 [==============================] - 5s 143ms/step - loss: 8.0278e-04 - root_mean_squared_error: 0.0283\n",
      "Epoch 13/100\n",
      "36/36 [==============================] - 5s 141ms/step - loss: 8.2099e-04 - root_mean_squared_error: 0.0287\n",
      "Epoch 14/100\n",
      "36/36 [==============================] - 5s 140ms/step - loss: 9.2572e-04 - root_mean_squared_error: 0.0304\n",
      "Epoch 15/100\n",
      "36/36 [==============================] - 5s 153ms/step - loss: 6.8598e-04 - root_mean_squared_error: 0.0262\n",
      "Epoch 16/100\n",
      "36/36 [==============================] - 5s 148ms/step - loss: 8.9159e-04 - root_mean_squared_error: 0.0299\n",
      "Epoch 17/100\n",
      "36/36 [==============================] - 6s 175ms/step - loss: 8.8063e-04 - root_mean_squared_error: 0.0297\n",
      "Epoch 18/100\n",
      "36/36 [==============================] - 6s 168ms/step - loss: 6.3962e-04 - root_mean_squared_error: 0.0253\n",
      "Epoch 19/100\n",
      "36/36 [==============================] - 6s 154ms/step - loss: 7.1134e-04 - root_mean_squared_error: 0.0267\n",
      "Epoch 20/100\n",
      "36/36 [==============================] - 7s 200ms/step - loss: 8.8971e-04 - root_mean_squared_error: 0.0298\n",
      "Epoch 21/100\n",
      "36/36 [==============================] - 6s 154ms/step - loss: 6.8195e-04 - root_mean_squared_error: 0.0261\n",
      "Epoch 22/100\n",
      "36/36 [==============================] - 5s 139ms/step - loss: 6.4001e-04 - root_mean_squared_error: 0.0253\n",
      "Epoch 23/100\n",
      "36/36 [==============================] - 5s 138ms/step - loss: 6.0731e-04 - root_mean_squared_error: 0.0246\n",
      "Epoch 24/100\n",
      "36/36 [==============================] - 5s 133ms/step - loss: 5.7666e-04 - root_mean_squared_error: 0.0240\n",
      "Epoch 25/100\n",
      "36/36 [==============================] - 6s 155ms/step - loss: 5.3658e-04 - root_mean_squared_error: 0.0232\n",
      "Epoch 26/100\n",
      "36/36 [==============================] - 5s 152ms/step - loss: 7.5322e-04 - root_mean_squared_error: 0.0274\n",
      "Epoch 27/100\n",
      "36/36 [==============================] - 5s 146ms/step - loss: 6.4805e-04 - root_mean_squared_error: 0.0255\n",
      "Epoch 28/100\n",
      "36/36 [==============================] - 5s 146ms/step - loss: 5.2622e-04 - root_mean_squared_error: 0.0229\n",
      "Epoch 29/100\n",
      "36/36 [==============================] - 5s 134ms/step - loss: 4.7935e-04 - root_mean_squared_error: 0.0219\n",
      "Epoch 30/100\n",
      "36/36 [==============================] - 5s 137ms/step - loss: 5.2183e-04 - root_mean_squared_error: 0.0228\n",
      "Epoch 31/100\n",
      "36/36 [==============================] - 5s 147ms/step - loss: 4.4994e-04 - root_mean_squared_error: 0.0212\n",
      "Epoch 32/100\n",
      "36/36 [==============================] - 5s 134ms/step - loss: 5.1029e-04 - root_mean_squared_error: 0.0226\n",
      "Epoch 33/100\n",
      "36/36 [==============================] - 5s 138ms/step - loss: 5.2859e-04 - root_mean_squared_error: 0.0230\n",
      "Epoch 34/100\n",
      "36/36 [==============================] - 5s 143ms/step - loss: 4.2855e-04 - root_mean_squared_error: 0.0207\n",
      "Epoch 35/100\n",
      "36/36 [==============================] - 5s 149ms/step - loss: 4.4629e-04 - root_mean_squared_error: 0.0211\n",
      "Epoch 36/100\n",
      "36/36 [==============================] - 6s 156ms/step - loss: 4.7514e-04 - root_mean_squared_error: 0.0218\n",
      "Epoch 37/100\n",
      "36/36 [==============================] - 5s 146ms/step - loss: 4.2067e-04 - root_mean_squared_error: 0.0205\n",
      "Epoch 38/100\n",
      "36/36 [==============================] - 5s 139ms/step - loss: 5.6735e-04 - root_mean_squared_error: 0.0238\n",
      "Epoch 39/100\n",
      "36/36 [==============================] - 5s 138ms/step - loss: 4.2264e-04 - root_mean_squared_error: 0.0206\n",
      "Epoch 40/100\n",
      "36/36 [==============================] - 6s 155ms/step - loss: 4.2060e-04 - root_mean_squared_error: 0.0205\n",
      "Epoch 41/100\n",
      "36/36 [==============================] - 5s 143ms/step - loss: 3.9178e-04 - root_mean_squared_error: 0.0198\n",
      "Epoch 42/100\n",
      "36/36 [==============================] - 5s 140ms/step - loss: 4.1809e-04 - root_mean_squared_error: 0.0204\n",
      "Epoch 43/100\n",
      "36/36 [==============================] - 5s 149ms/step - loss: 3.5271e-04 - root_mean_squared_error: 0.0188\n",
      "Epoch 44/100\n",
      "36/36 [==============================] - 5s 136ms/step - loss: 3.3157e-04 - root_mean_squared_error: 0.0182\n",
      "Epoch 45/100\n",
      "36/36 [==============================] - 5s 138ms/step - loss: 5.0848e-04 - root_mean_squared_error: 0.0225\n",
      "Epoch 46/100\n",
      "36/36 [==============================] - 5s 153ms/step - loss: 4.0016e-04 - root_mean_squared_error: 0.0200\n",
      "Epoch 47/100\n",
      "36/36 [==============================] - 5s 138ms/step - loss: 3.8460e-04 - root_mean_squared_error: 0.0196\n",
      "Epoch 48/100\n",
      "36/36 [==============================] - 5s 136ms/step - loss: 3.5678e-04 - root_mean_squared_error: 0.0189\n",
      "Epoch 49/100\n",
      "36/36 [==============================] - 5s 153ms/step - loss: 3.4747e-04 - root_mean_squared_error: 0.0186\n"
     ]
    },
    {
     "name": "stderr",
     "output_type": "stream",
     "text": [
      "WARNING:absl:Found untraced functions such as lstm_cell_layer_call_fn, lstm_cell_layer_call_and_return_conditional_losses while saving (showing 2 of 2). These functions will not be directly callable after loading.\n"
     ]
    },
    {
     "name": "stdout",
     "output_type": "stream",
     "text": [
      "INFO:tensorflow:Assets written to: /Users/aditya/Programming/stock-market-predictions/logs/MSFT-5-Year/assets\n"
     ]
    },
    {
     "name": "stderr",
     "output_type": "stream",
     "text": [
      "INFO:tensorflow:Assets written to: /Users/aditya/Programming/stock-market-predictions/logs/MSFT-5-Year/assets\n",
      "WARNING:absl:<keras.layers.recurrent.LSTMCell object at 0x7fbb29641100> has the same name 'LSTMCell' as a built-in Keras object. Consider renaming <class 'keras.layers.recurrent.LSTMCell'> to avoid naming conflicts when loading with `tf.keras.models.load_model`. If renaming is not possible, pass the object in the `custom_objects` parameter of the load function.\n"
     ]
    },
    {
     "name": "stdout",
     "output_type": "stream",
     "text": [
      "(63, 60, 1)\n"
     ]
    },
    {
     "name": "stderr",
     "output_type": "stream",
     "text": [
      "\u001b[34m\u001b[1mwandb\u001b[0m: Adding directory to artifact (/Users/aditya/Programming/stock-market-predictions/logs/MSFT-5-Year)... Done. 0.0s\n"
     ]
    },
    {
     "name": "stdout",
     "output_type": "stream",
     "text": [
      "the root mean squared error is: 8.74338494437126\n"
     ]
    },
    {
     "data": {
      "text/html": [
       "<br/>Waiting for W&B process to finish, PID 15347... <strong style=\"color:green\">(success).</strong>"
      ],
      "text/plain": [
       "<IPython.core.display.HTML object>"
      ]
     },
     "metadata": {},
     "output_type": "display_data"
    },
    {
     "data": {
      "application/vnd.jupyter.widget-view+json": {
       "model_id": "4102e49985854c2fa56affc925883db8",
       "version_major": 2,
       "version_minor": 0
      },
      "text/plain": [
       "VBox(children=(Label(value=' 1.11MB of 1.11MB uploaded (0.01MB deduped)\\r'), FloatProgress(value=1.0, max=1.0)…"
      ]
     },
     "metadata": {},
     "output_type": "display_data"
    },
    {
     "data": {
      "text/html": [
       "<style>\n",
       "    table.wandb td:nth-child(1) { padding: 0 10px; text-align: right }\n",
       "    .wandb-row { display: flex; flex-direction: row; flex-wrap: wrap; width: 100% }\n",
       "    .wandb-col { display: flex; flex-direction: column; flex-basis: 100%; flex: 1; padding: 10px; }\n",
       "    </style>\n",
       "<div class=\"wandb-row\"><div class=\"wandb-col\">\n",
       "<h3>Run history:</h3><br/><table class=\"wandb\"><tr><td>epoch</td><td>▁▁▁▁▂▂▂▂▂▃▃▃▃▃▃▄▄▄▄▄▅▅▅▅▅▅▆▆▆▆▆▇▇▇▇▇▇███</td></tr><tr><td>loss</td><td>█▃▂▁▁▁▁▁▁▁▁▁▁▁▁▁▁▁▁▁▁▁▁▁▁▁▁▁▁▁▁▁▁▁▁▁▁▁▁▁</td></tr><tr><td>root_mean_square_error</td><td>▁</td></tr><tr><td>root_mean_squared_error</td><td>█▄▃▂▁▁▁▁▁▁▁▁▁▁▁▁▁▁▁▁▁▁▁▁▁▁▁▁▁▁▁▁▁▁▁▁▁▁▁▁</td></tr></table><br/></div><div class=\"wandb-col\">\n",
       "<h3>Run summary:</h3><br/><table class=\"wandb\"><tr><td>epoch</td><td>48</td></tr><tr><td>loss</td><td>0.00035</td></tr><tr><td>root_mean_square_error</td><td>8.74338</td></tr><tr><td>root_mean_squared_error</td><td>0.01864</td></tr></table>\n",
       "</div></div>\n",
       "Synced 6 W&B file(s), 1 media file(s), 4 artifact file(s) and 1 other file(s)\n",
       "<br/>Synced <strong style=\"color:#cdcd00\">woven-sweep-172</strong>: <a href=\"https://wandb.ai/alpheron/stock-predictions/runs/hbqdvl2v\" target=\"_blank\">https://wandb.ai/alpheron/stock-predictions/runs/hbqdvl2v</a><br/>\n",
       "Find logs at: <code>./wandb/run-20220227_180909-hbqdvl2v/logs</code><br/>\n"
      ],
      "text/plain": [
       "<IPython.core.display.HTML object>"
      ]
     },
     "metadata": {},
     "output_type": "display_data"
    },
    {
     "name": "stderr",
     "output_type": "stream",
     "text": [
      "\u001b[34m\u001b[1mwandb\u001b[0m: Agent Starting Run: oubtnjc8 with config:\n",
      "\u001b[34m\u001b[1mwandb\u001b[0m: \tLSTM_UNITS: 20\n",
      "\u001b[34m\u001b[1mwandb\u001b[0m: \tepochs: 100\n",
      "\u001b[34m\u001b[1mwandb\u001b[0m: \u001b[33mWARNING\u001b[0m Ignored wandb.init() arg project when running a sweep.\n",
      "\u001b[34m\u001b[1mwandb\u001b[0m: \u001b[33mWARNING\u001b[0m Ignored wandb.init() arg entity when running a sweep.\n"
     ]
    },
    {
     "data": {
      "text/html": [
       "\n",
       "                    Syncing run <strong><a href=\"https://wandb.ai/alpheron/stock-predictions/runs/oubtnjc8\" target=\"_blank\">worldly-sweep-173</a></strong> to <a href=\"https://wandb.ai/alpheron/stock-predictions\" target=\"_blank\">Weights & Biases</a> (<a href=\"https://docs.wandb.com/integrations/jupyter.html\" target=\"_blank\">docs</a>).<br/>\n",
       "Sweep page: <a href=\"https://wandb.ai/alpheron/stock-predictions/sweeps/21t67yna\" target=\"_blank\">https://wandb.ai/alpheron/stock-predictions/sweeps/21t67yna</a><br/>\n",
       "\n",
       "                "
      ],
      "text/plain": [
       "<IPython.core.display.HTML object>"
      ]
     },
     "metadata": {},
     "output_type": "display_data"
    },
    {
     "name": "stdout",
     "output_type": "stream",
     "text": [
      "Epoch 1/100\n",
      "36/36 [==============================] - 7s 208ms/step - loss: 0.0698 - root_mean_squared_error: 0.2643\n",
      "Epoch 2/100\n",
      "36/36 [==============================] - 5s 142ms/step - loss: 0.0096 - root_mean_squared_error: 0.0980\n",
      "Epoch 3/100\n",
      "36/36 [==============================] - 5s 139ms/step - loss: 0.0017 - root_mean_squared_error: 0.0407\n",
      "Epoch 4/100\n",
      "36/36 [==============================] - 5s 150ms/step - loss: 0.0010 - root_mean_squared_error: 0.0321\n",
      "Epoch 5/100\n",
      "36/36 [==============================] - 5s 136ms/step - loss: 0.0011 - root_mean_squared_error: 0.0331\n",
      "Epoch 6/100\n",
      "36/36 [==============================] - 5s 147ms/step - loss: 0.0010 - root_mean_squared_error: 0.0318\n",
      "Epoch 7/100\n",
      "36/36 [==============================] - 5s 149ms/step - loss: 0.0010 - root_mean_squared_error: 0.0319\n",
      "Epoch 8/100\n",
      "36/36 [==============================] - 5s 132ms/step - loss: 7.9153e-04 - root_mean_squared_error: 0.0281\n",
      "Epoch 9/100\n",
      "36/36 [==============================] - 5s 132ms/step - loss: 8.4375e-04 - root_mean_squared_error: 0.0290\n",
      "Epoch 10/100\n",
      "36/36 [==============================] - 5s 148ms/step - loss: 0.0013 - root_mean_squared_error: 0.0359\n",
      "Epoch 11/100\n",
      "36/36 [==============================] - 5s 131ms/step - loss: 7.1696e-04 - root_mean_squared_error: 0.0268\n",
      "Epoch 12/100\n",
      "36/36 [==============================] - 5s 141ms/step - loss: 0.0014 - root_mean_squared_error: 0.0378\n",
      "Epoch 13/100\n",
      "36/36 [==============================] - 5s 140ms/step - loss: 7.9247e-04 - root_mean_squared_error: 0.0282\n",
      "Epoch 14/100\n",
      "36/36 [==============================] - 5s 139ms/step - loss: 0.0010 - root_mean_squared_error: 0.0320\n",
      "Epoch 15/100\n",
      "36/36 [==============================] - 5s 136ms/step - loss: 0.0012 - root_mean_squared_error: 0.0347\n",
      "Epoch 16/100\n",
      "36/36 [==============================] - 6s 156ms/step - loss: 6.6643e-04 - root_mean_squared_error: 0.0258\n",
      "Epoch 17/100\n",
      "36/36 [==============================] - 5s 143ms/step - loss: 7.0103e-04 - root_mean_squared_error: 0.0265\n",
      "Epoch 18/100\n",
      "36/36 [==============================] - 5s 141ms/step - loss: 8.0546e-04 - root_mean_squared_error: 0.0284\n",
      "Epoch 19/100\n",
      "36/36 [==============================] - 6s 175ms/step - loss: 8.8113e-04 - root_mean_squared_error: 0.0297\n",
      "Epoch 20/100\n",
      "36/36 [==============================] - 5s 143ms/step - loss: 0.0013 - root_mean_squared_error: 0.0356\n",
      "Epoch 21/100\n",
      "36/36 [==============================] - 5s 139ms/step - loss: 0.0011 - root_mean_squared_error: 0.0327\n"
     ]
    },
    {
     "name": "stderr",
     "output_type": "stream",
     "text": [
      "WARNING:absl:Found untraced functions such as lstm_cell_layer_call_fn, lstm_cell_layer_call_and_return_conditional_losses while saving (showing 2 of 2). These functions will not be directly callable after loading.\n"
     ]
    },
    {
     "name": "stdout",
     "output_type": "stream",
     "text": [
      "INFO:tensorflow:Assets written to: /Users/aditya/Programming/stock-market-predictions/logs/MSFT-5-Year/assets\n"
     ]
    },
    {
     "name": "stderr",
     "output_type": "stream",
     "text": [
      "INFO:tensorflow:Assets written to: /Users/aditya/Programming/stock-market-predictions/logs/MSFT-5-Year/assets\n",
      "WARNING:absl:<keras.layers.recurrent.LSTMCell object at 0x7fbb263f6910> has the same name 'LSTMCell' as a built-in Keras object. Consider renaming <class 'keras.layers.recurrent.LSTMCell'> to avoid naming conflicts when loading with `tf.keras.models.load_model`. If renaming is not possible, pass the object in the `custom_objects` parameter of the load function.\n",
      "\u001b[34m\u001b[1mwandb\u001b[0m: Adding directory to artifact (/Users/aditya/Programming/stock-market-predictions/logs/MSFT-5-Year)... Done. 0.0s\n"
     ]
    },
    {
     "name": "stdout",
     "output_type": "stream",
     "text": [
      "(63, 60, 1)\n",
      "the root mean squared error is: 11.435786410112627\n"
     ]
    },
    {
     "data": {
      "text/html": [
       "<br/>Waiting for W&B process to finish, PID 15488... <strong style=\"color:green\">(success).</strong>"
      ],
      "text/plain": [
       "<IPython.core.display.HTML object>"
      ]
     },
     "metadata": {},
     "output_type": "display_data"
    },
    {
     "data": {
      "application/vnd.jupyter.widget-view+json": {
       "model_id": "23948c3b596148a2a77a3d6c03ca0cfe",
       "version_major": 2,
       "version_minor": 0
      },
      "text/plain": [
       "VBox(children=(Label(value=' 1.11MB of 1.11MB uploaded (0.01MB deduped)\\r'), FloatProgress(value=1.0, max=1.0)…"
      ]
     },
     "metadata": {},
     "output_type": "display_data"
    },
    {
     "data": {
      "text/html": [
       "<style>\n",
       "    table.wandb td:nth-child(1) { padding: 0 10px; text-align: right }\n",
       "    .wandb-row { display: flex; flex-direction: row; flex-wrap: wrap; width: 100% }\n",
       "    .wandb-col { display: flex; flex-direction: column; flex-basis: 100%; flex: 1; padding: 10px; }\n",
       "    </style>\n",
       "<div class=\"wandb-row\"><div class=\"wandb-col\">\n",
       "<h3>Run history:</h3><br/><table class=\"wandb\"><tr><td>epoch</td><td>▁▁▂▂▂▃▃▃▄▄▅▅▅▆▆▆▇▇▇██</td></tr><tr><td>loss</td><td>█▂▁▁▁▁▁▁▁▁▁▁▁▁▁▁▁▁▁▁▁</td></tr><tr><td>root_mean_square_error</td><td>▁</td></tr><tr><td>root_mean_squared_error</td><td>█▃▁▁▁▁▁▁▁▁▁▁▁▁▁▁▁▁▁▁▁</td></tr></table><br/></div><div class=\"wandb-col\">\n",
       "<h3>Run summary:</h3><br/><table class=\"wandb\"><tr><td>epoch</td><td>20</td></tr><tr><td>loss</td><td>0.00107</td></tr><tr><td>root_mean_square_error</td><td>11.43579</td></tr><tr><td>root_mean_squared_error</td><td>0.03267</td></tr></table>\n",
       "</div></div>\n",
       "Synced 6 W&B file(s), 1 media file(s), 4 artifact file(s) and 1 other file(s)\n",
       "<br/>Synced <strong style=\"color:#cdcd00\">worldly-sweep-173</strong>: <a href=\"https://wandb.ai/alpheron/stock-predictions/runs/oubtnjc8\" target=\"_blank\">https://wandb.ai/alpheron/stock-predictions/runs/oubtnjc8</a><br/>\n",
       "Find logs at: <code>./wandb/run-20220227_181413-oubtnjc8/logs</code><br/>\n"
      ],
      "text/plain": [
       "<IPython.core.display.HTML object>"
      ]
     },
     "metadata": {},
     "output_type": "display_data"
    },
    {
     "name": "stderr",
     "output_type": "stream",
     "text": [
      "\u001b[34m\u001b[1mwandb\u001b[0m: Sweep Agent: Waiting for job.\n",
      "\u001b[34m\u001b[1mwandb\u001b[0m: Job received.\n",
      "\u001b[34m\u001b[1mwandb\u001b[0m: Agent Starting Run: qtb2icnl with config:\n",
      "\u001b[34m\u001b[1mwandb\u001b[0m: \tLSTM_UNITS: 95\n",
      "\u001b[34m\u001b[1mwandb\u001b[0m: \tepochs: 100\n",
      "\u001b[34m\u001b[1mwandb\u001b[0m: \u001b[33mWARNING\u001b[0m Ignored wandb.init() arg project when running a sweep.\n",
      "\u001b[34m\u001b[1mwandb\u001b[0m: \u001b[33mWARNING\u001b[0m Ignored wandb.init() arg entity when running a sweep.\n"
     ]
    },
    {
     "data": {
      "text/html": [
       "\n",
       "                    Syncing run <strong><a href=\"https://wandb.ai/alpheron/stock-predictions/runs/qtb2icnl\" target=\"_blank\">radiant-sweep-174</a></strong> to <a href=\"https://wandb.ai/alpheron/stock-predictions\" target=\"_blank\">Weights & Biases</a> (<a href=\"https://docs.wandb.com/integrations/jupyter.html\" target=\"_blank\">docs</a>).<br/>\n",
       "Sweep page: <a href=\"https://wandb.ai/alpheron/stock-predictions/sweeps/21t67yna\" target=\"_blank\">https://wandb.ai/alpheron/stock-predictions/sweeps/21t67yna</a><br/>\n",
       "\n",
       "                "
      ],
      "text/plain": [
       "<IPython.core.display.HTML object>"
      ]
     },
     "metadata": {},
     "output_type": "display_data"
    },
    {
     "name": "stdout",
     "output_type": "stream",
     "text": [
      "Epoch 1/100\n",
      "36/36 [==============================] - 7s 185ms/step - loss: 0.1781 - root_mean_squared_error: 0.4220\n",
      "Epoch 2/100\n",
      "36/36 [==============================] - 5s 142ms/step - loss: 0.0334 - root_mean_squared_error: 0.1827\n",
      "Epoch 3/100\n",
      "36/36 [==============================] - 5s 135ms/step - loss: 0.0107 - root_mean_squared_error: 0.1037\n",
      "Epoch 4/100\n",
      "36/36 [==============================] - 5s 152ms/step - loss: 0.0024 - root_mean_squared_error: 0.0489\n",
      "Epoch 5/100\n",
      "36/36 [==============================] - 5s 136ms/step - loss: 0.0011 - root_mean_squared_error: 0.0339\n",
      "Epoch 6/100\n",
      "36/36 [==============================] - 5s 132ms/step - loss: 9.3907e-04 - root_mean_squared_error: 0.0306\n",
      "Epoch 7/100\n",
      "36/36 [==============================] - 5s 137ms/step - loss: 9.0148e-04 - root_mean_squared_error: 0.0300\n",
      "Epoch 8/100\n",
      "36/36 [==============================] - 5s 136ms/step - loss: 8.2523e-04 - root_mean_squared_error: 0.0287\n",
      "Epoch 9/100\n",
      "36/36 [==============================] - 5s 138ms/step - loss: 0.0010 - root_mean_squared_error: 0.0322\n",
      "Epoch 10/100\n",
      "36/36 [==============================] - 6s 164ms/step - loss: 9.2130e-04 - root_mean_squared_error: 0.0304\n",
      "Epoch 11/100\n",
      "36/36 [==============================] - 5s 140ms/step - loss: 0.0017 - root_mean_squared_error: 0.0408\n",
      "Epoch 12/100\n",
      "36/36 [==============================] - 5s 150ms/step - loss: 0.0012 - root_mean_squared_error: 0.0345\n",
      "Epoch 13/100\n",
      "36/36 [==============================] - 5s 143ms/step - loss: 7.3517e-04 - root_mean_squared_error: 0.0271\n",
      "Epoch 14/100\n",
      "36/36 [==============================] - 5s 140ms/step - loss: 0.0010 - root_mean_squared_error: 0.0318\n",
      "Epoch 15/100\n",
      "36/36 [==============================] - 5s 139ms/step - loss: 8.8491e-04 - root_mean_squared_error: 0.0297\n",
      "Epoch 16/100\n",
      "36/36 [==============================] - 5s 150ms/step - loss: 8.7928e-04 - root_mean_squared_error: 0.0297\n",
      "Epoch 17/100\n",
      "36/36 [==============================] - 5s 140ms/step - loss: 7.3629e-04 - root_mean_squared_error: 0.0271\n",
      "Epoch 18/100\n",
      "36/36 [==============================] - 5s 144ms/step - loss: 7.9686e-04 - root_mean_squared_error: 0.0282\n"
     ]
    },
    {
     "name": "stderr",
     "output_type": "stream",
     "text": [
      "WARNING:absl:Found untraced functions such as lstm_cell_layer_call_fn, lstm_cell_layer_call_and_return_conditional_losses while saving (showing 2 of 2). These functions will not be directly callable after loading.\n"
     ]
    },
    {
     "name": "stdout",
     "output_type": "stream",
     "text": [
      "INFO:tensorflow:Assets written to: /Users/aditya/Programming/stock-market-predictions/logs/MSFT-5-Year/assets\n"
     ]
    },
    {
     "name": "stderr",
     "output_type": "stream",
     "text": [
      "INFO:tensorflow:Assets written to: /Users/aditya/Programming/stock-market-predictions/logs/MSFT-5-Year/assets\n",
      "WARNING:absl:<keras.layers.recurrent.LSTMCell object at 0x7fbb2a6d7be0> has the same name 'LSTMCell' as a built-in Keras object. Consider renaming <class 'keras.layers.recurrent.LSTMCell'> to avoid naming conflicts when loading with `tf.keras.models.load_model`. If renaming is not possible, pass the object in the `custom_objects` parameter of the load function.\n",
      "\u001b[34m\u001b[1mwandb\u001b[0m: Adding directory to artifact (/Users/aditya/Programming/stock-market-predictions/logs/MSFT-5-Year)... Done. 0.0s\n"
     ]
    },
    {
     "name": "stdout",
     "output_type": "stream",
     "text": [
      "(63, 60, 1)\n",
      "the root mean squared error is: 11.993116991808831\n"
     ]
    },
    {
     "data": {
      "text/html": [
       "<br/>Waiting for W&B process to finish, PID 15555... <strong style=\"color:green\">(success).</strong>"
      ],
      "text/plain": [
       "<IPython.core.display.HTML object>"
      ]
     },
     "metadata": {},
     "output_type": "display_data"
    },
    {
     "data": {
      "application/vnd.jupyter.widget-view+json": {
       "model_id": "e6ec42c2ad4a4944b23d95edfc2829f8",
       "version_major": 2,
       "version_minor": 0
      },
      "text/plain": [
       "VBox(children=(Label(value=' 1.11MB of 1.11MB uploaded (0.01MB deduped)\\r'), FloatProgress(value=1.0, max=1.0)…"
      ]
     },
     "metadata": {},
     "output_type": "display_data"
    },
    {
     "data": {
      "text/html": [
       "<style>\n",
       "    table.wandb td:nth-child(1) { padding: 0 10px; text-align: right }\n",
       "    .wandb-row { display: flex; flex-direction: row; flex-wrap: wrap; width: 100% }\n",
       "    .wandb-col { display: flex; flex-direction: column; flex-basis: 100%; flex: 1; padding: 10px; }\n",
       "    </style>\n",
       "<div class=\"wandb-row\"><div class=\"wandb-col\">\n",
       "<h3>Run history:</h3><br/><table class=\"wandb\"><tr><td>epoch</td><td>▁▁▂▂▃▃▃▄▄▅▅▆▆▆▇▇██</td></tr><tr><td>loss</td><td>█▂▁▁▁▁▁▁▁▁▁▁▁▁▁▁▁▁</td></tr><tr><td>root_mean_square_error</td><td>▁</td></tr><tr><td>root_mean_squared_error</td><td>█▄▂▁▁▁▁▁▁▁▁▁▁▁▁▁▁▁</td></tr></table><br/></div><div class=\"wandb-col\">\n",
       "<h3>Run summary:</h3><br/><table class=\"wandb\"><tr><td>epoch</td><td>17</td></tr><tr><td>loss</td><td>0.0008</td></tr><tr><td>root_mean_square_error</td><td>11.99312</td></tr><tr><td>root_mean_squared_error</td><td>0.02823</td></tr></table>\n",
       "</div></div>\n",
       "Synced 6 W&B file(s), 1 media file(s), 4 artifact file(s) and 1 other file(s)\n",
       "<br/>Synced <strong style=\"color:#cdcd00\">radiant-sweep-174</strong>: <a href=\"https://wandb.ai/alpheron/stock-predictions/runs/qtb2icnl\" target=\"_blank\">https://wandb.ai/alpheron/stock-predictions/runs/qtb2icnl</a><br/>\n",
       "Find logs at: <code>./wandb/run-20220227_181648-qtb2icnl/logs</code><br/>\n"
      ],
      "text/plain": [
       "<IPython.core.display.HTML object>"
      ]
     },
     "metadata": {},
     "output_type": "display_data"
    },
    {
     "name": "stderr",
     "output_type": "stream",
     "text": [
      "\u001b[34m\u001b[1mwandb\u001b[0m: Agent Starting Run: jv55jcz0 with config:\n",
      "\u001b[34m\u001b[1mwandb\u001b[0m: \tLSTM_UNITS: 45\n",
      "\u001b[34m\u001b[1mwandb\u001b[0m: \tepochs: 100\n",
      "\u001b[34m\u001b[1mwandb\u001b[0m: \u001b[33mWARNING\u001b[0m Ignored wandb.init() arg project when running a sweep.\n",
      "\u001b[34m\u001b[1mwandb\u001b[0m: \u001b[33mWARNING\u001b[0m Ignored wandb.init() arg entity when running a sweep.\n"
     ]
    },
    {
     "data": {
      "text/html": [
       "\n",
       "                    Syncing run <strong><a href=\"https://wandb.ai/alpheron/stock-predictions/runs/jv55jcz0\" target=\"_blank\">easy-sweep-175</a></strong> to <a href=\"https://wandb.ai/alpheron/stock-predictions\" target=\"_blank\">Weights & Biases</a> (<a href=\"https://docs.wandb.com/integrations/jupyter.html\" target=\"_blank\">docs</a>).<br/>\n",
       "Sweep page: <a href=\"https://wandb.ai/alpheron/stock-predictions/sweeps/21t67yna\" target=\"_blank\">https://wandb.ai/alpheron/stock-predictions/sweeps/21t67yna</a><br/>\n",
       "\n",
       "                "
      ],
      "text/plain": [
       "<IPython.core.display.HTML object>"
      ]
     },
     "metadata": {},
     "output_type": "display_data"
    },
    {
     "name": "stdout",
     "output_type": "stream",
     "text": [
      "Epoch 1/100\n",
      "36/36 [==============================] - 7s 193ms/step - loss: 0.0726 - root_mean_squared_error: 0.2695\n",
      "Epoch 2/100\n",
      "36/36 [==============================] - 6s 157ms/step - loss: 0.0045 - root_mean_squared_error: 0.0671\n",
      "Epoch 3/100\n",
      "36/36 [==============================] - 5s 148ms/step - loss: 0.0015 - root_mean_squared_error: 0.0388\n",
      "Epoch 4/100\n",
      "36/36 [==============================] - 5s 146ms/step - loss: 7.6183e-04 - root_mean_squared_error: 0.0276\n",
      "Epoch 5/100\n",
      "36/36 [==============================] - 5s 145ms/step - loss: 6.5623e-04 - root_mean_squared_error: 0.0256\n",
      "Epoch 6/100\n",
      "36/36 [==============================] - 5s 142ms/step - loss: 8.3989e-04 - root_mean_squared_error: 0.0290\n",
      "Epoch 7/100\n",
      "36/36 [==============================] - 5s 134ms/step - loss: 7.7538e-04 - root_mean_squared_error: 0.0278\n",
      "Epoch 8/100\n",
      "36/36 [==============================] - 5s 146ms/step - loss: 6.1973e-04 - root_mean_squared_error: 0.0249\n",
      "Epoch 9/100\n",
      "36/36 [==============================] - 6s 161ms/step - loss: 7.6372e-04 - root_mean_squared_error: 0.0276\n",
      "Epoch 10/100\n",
      "36/36 [==============================] - 5s 139ms/step - loss: 7.8381e-04 - root_mean_squared_error: 0.0280\n",
      "Epoch 11/100\n",
      "36/36 [==============================] - 5s 141ms/step - loss: 6.5681e-04 - root_mean_squared_error: 0.0256\n",
      "Epoch 12/100\n",
      "36/36 [==============================] - 5s 149ms/step - loss: 7.0814e-04 - root_mean_squared_error: 0.0266\n",
      "Epoch 13/100\n",
      "36/36 [==============================] - 5s 139ms/step - loss: 5.7321e-04 - root_mean_squared_error: 0.0239\n",
      "Epoch 14/100\n",
      "36/36 [==============================] - 6s 167ms/step - loss: 6.7679e-04 - root_mean_squared_error: 0.0260\n",
      "Epoch 15/100\n",
      "36/36 [==============================] - 5s 138ms/step - loss: 6.1126e-04 - root_mean_squared_error: 0.0247\n",
      "Epoch 16/100\n",
      "36/36 [==============================] - 5s 152ms/step - loss: 6.1411e-04 - root_mean_squared_error: 0.0248\n",
      "Epoch 17/100\n",
      "36/36 [==============================] - 6s 176ms/step - loss: 5.5072e-04 - root_mean_squared_error: 0.0235\n",
      "Epoch 18/100\n",
      "36/36 [==============================] - 5s 149ms/step - loss: 5.9722e-04 - root_mean_squared_error: 0.0244\n",
      "Epoch 19/100\n",
      "36/36 [==============================] - 5s 143ms/step - loss: 7.0008e-04 - root_mean_squared_error: 0.0265\n",
      "Epoch 20/100\n",
      "36/36 [==============================] - 5s 138ms/step - loss: 4.9166e-04 - root_mean_squared_error: 0.0222\n",
      "Epoch 21/100\n",
      "36/36 [==============================] - 5s 136ms/step - loss: 6.1037e-04 - root_mean_squared_error: 0.0247\n",
      "Epoch 22/100\n",
      "36/36 [==============================] - 5s 143ms/step - loss: 8.2409e-04 - root_mean_squared_error: 0.0287\n",
      "Epoch 23/100\n",
      "36/36 [==============================] - 5s 142ms/step - loss: 6.7717e-04 - root_mean_squared_error: 0.0260\n",
      "Epoch 24/100\n",
      "36/36 [==============================] - 5s 139ms/step - loss: 4.7952e-04 - root_mean_squared_error: 0.0219\n",
      "Epoch 25/100\n",
      "36/36 [==============================] - 5s 140ms/step - loss: 4.5448e-04 - root_mean_squared_error: 0.0213\n",
      "Epoch 26/100\n",
      "36/36 [==============================] - 5s 147ms/step - loss: 4.5280e-04 - root_mean_squared_error: 0.0213\n",
      "Epoch 27/100\n",
      "36/36 [==============================] - 5s 139ms/step - loss: 5.1872e-04 - root_mean_squared_error: 0.0228\n",
      "Epoch 28/100\n",
      "36/36 [==============================] - 5s 142ms/step - loss: 4.5431e-04 - root_mean_squared_error: 0.0213\n",
      "Epoch 29/100\n",
      "36/36 [==============================] - 5s 139ms/step - loss: 5.2886e-04 - root_mean_squared_error: 0.0230\n",
      "Epoch 30/100\n",
      "36/36 [==============================] - 5s 140ms/step - loss: 5.4073e-04 - root_mean_squared_error: 0.0233\n",
      "Epoch 31/100\n",
      "36/36 [==============================] - 5s 146ms/step - loss: 4.6118e-04 - root_mean_squared_error: 0.0215\n"
     ]
    },
    {
     "name": "stderr",
     "output_type": "stream",
     "text": [
      "WARNING:absl:Found untraced functions such as lstm_cell_layer_call_fn, lstm_cell_layer_call_and_return_conditional_losses while saving (showing 2 of 2). These functions will not be directly callable after loading.\n"
     ]
    },
    {
     "name": "stdout",
     "output_type": "stream",
     "text": [
      "INFO:tensorflow:Assets written to: /Users/aditya/Programming/stock-market-predictions/logs/MSFT-5-Year/assets\n"
     ]
    },
    {
     "name": "stderr",
     "output_type": "stream",
     "text": [
      "INFO:tensorflow:Assets written to: /Users/aditya/Programming/stock-market-predictions/logs/MSFT-5-Year/assets\n",
      "WARNING:absl:<keras.layers.recurrent.LSTMCell object at 0x7fbb2a952940> has the same name 'LSTMCell' as a built-in Keras object. Consider renaming <class 'keras.layers.recurrent.LSTMCell'> to avoid naming conflicts when loading with `tf.keras.models.load_model`. If renaming is not possible, pass the object in the `custom_objects` parameter of the load function.\n",
      "\u001b[34m\u001b[1mwandb\u001b[0m: Adding directory to artifact (/Users/aditya/Programming/stock-market-predictions/logs/MSFT-5-Year)... Done. 0.0s\n"
     ]
    },
    {
     "name": "stdout",
     "output_type": "stream",
     "text": [
      "(63, 60, 1)\n",
      "the root mean squared error is: 9.601596379533017\n"
     ]
    },
    {
     "data": {
      "text/html": [
       "<br/>Waiting for W&B process to finish, PID 15605... <strong style=\"color:green\">(success).</strong>"
      ],
      "text/plain": [
       "<IPython.core.display.HTML object>"
      ]
     },
     "metadata": {},
     "output_type": "display_data"
    },
    {
     "data": {
      "application/vnd.jupyter.widget-view+json": {
       "model_id": "64786a90de8e4a3c8d4e1629ca3fac05",
       "version_major": 2,
       "version_minor": 0
      },
      "text/plain": [
       "VBox(children=(Label(value=' 1.11MB of 1.11MB uploaded (0.01MB deduped)\\r'), FloatProgress(value=1.0, max=1.0)…"
      ]
     },
     "metadata": {},
     "output_type": "display_data"
    },
    {
     "data": {
      "text/html": [
       "<style>\n",
       "    table.wandb td:nth-child(1) { padding: 0 10px; text-align: right }\n",
       "    .wandb-row { display: flex; flex-direction: row; flex-wrap: wrap; width: 100% }\n",
       "    .wandb-col { display: flex; flex-direction: column; flex-basis: 100%; flex: 1; padding: 10px; }\n",
       "    </style>\n",
       "<div class=\"wandb-row\"><div class=\"wandb-col\">\n",
       "<h3>Run history:</h3><br/><table class=\"wandb\"><tr><td>epoch</td><td>▁▁▁▂▂▂▂▃▃▃▃▄▄▄▄▅▅▅▅▅▆▆▆▆▇▇▇▇███</td></tr><tr><td>loss</td><td>█▁▁▁▁▁▁▁▁▁▁▁▁▁▁▁▁▁▁▁▁▁▁▁▁▁▁▁▁▁▁</td></tr><tr><td>root_mean_square_error</td><td>▁</td></tr><tr><td>root_mean_squared_error</td><td>█▂▁▁▁▁▁▁▁▁▁▁▁▁▁▁▁▁▁▁▁▁▁▁▁▁▁▁▁▁▁</td></tr></table><br/></div><div class=\"wandb-col\">\n",
       "<h3>Run summary:</h3><br/><table class=\"wandb\"><tr><td>epoch</td><td>30</td></tr><tr><td>loss</td><td>0.00046</td></tr><tr><td>root_mean_square_error</td><td>9.6016</td></tr><tr><td>root_mean_squared_error</td><td>0.02148</td></tr></table>\n",
       "</div></div>\n",
       "Synced 6 W&B file(s), 1 media file(s), 4 artifact file(s) and 1 other file(s)\n",
       "<br/>Synced <strong style=\"color:#cdcd00\">easy-sweep-175</strong>: <a href=\"https://wandb.ai/alpheron/stock-predictions/runs/jv55jcz0\" target=\"_blank\">https://wandb.ai/alpheron/stock-predictions/runs/jv55jcz0</a><br/>\n",
       "Find logs at: <code>./wandb/run-20220227_181859-jv55jcz0/logs</code><br/>\n"
      ],
      "text/plain": [
       "<IPython.core.display.HTML object>"
      ]
     },
     "metadata": {},
     "output_type": "display_data"
    },
    {
     "name": "stderr",
     "output_type": "stream",
     "text": [
      "\u001b[34m\u001b[1mwandb\u001b[0m: Agent Starting Run: bqpa3hap with config:\n",
      "\u001b[34m\u001b[1mwandb\u001b[0m: \tLSTM_UNITS: 45\n",
      "\u001b[34m\u001b[1mwandb\u001b[0m: \tepochs: 100\n",
      "\u001b[34m\u001b[1mwandb\u001b[0m: \u001b[33mWARNING\u001b[0m Ignored wandb.init() arg project when running a sweep.\n",
      "\u001b[34m\u001b[1mwandb\u001b[0m: \u001b[33mWARNING\u001b[0m Ignored wandb.init() arg entity when running a sweep.\n"
     ]
    },
    {
     "data": {
      "text/html": [
       "\n",
       "                    Syncing run <strong><a href=\"https://wandb.ai/alpheron/stock-predictions/runs/bqpa3hap\" target=\"_blank\">feasible-sweep-176</a></strong> to <a href=\"https://wandb.ai/alpheron/stock-predictions\" target=\"_blank\">Weights & Biases</a> (<a href=\"https://docs.wandb.com/integrations/jupyter.html\" target=\"_blank\">docs</a>).<br/>\n",
       "Sweep page: <a href=\"https://wandb.ai/alpheron/stock-predictions/sweeps/21t67yna\" target=\"_blank\">https://wandb.ai/alpheron/stock-predictions/sweeps/21t67yna</a><br/>\n",
       "\n",
       "                "
      ],
      "text/plain": [
       "<IPython.core.display.HTML object>"
      ]
     },
     "metadata": {},
     "output_type": "display_data"
    },
    {
     "name": "stdout",
     "output_type": "stream",
     "text": [
      "Epoch 1/100\n",
      "36/36 [==============================] - 7s 200ms/step - loss: 0.0301 - root_mean_squared_error: 0.1734\n",
      "Epoch 2/100\n",
      "36/36 [==============================] - 5s 150ms/step - loss: 0.0046 - root_mean_squared_error: 0.0677\n",
      "Epoch 3/100\n",
      "36/36 [==============================] - 5s 140ms/step - loss: 0.0011 - root_mean_squared_error: 0.0333\n",
      "Epoch 4/100\n",
      "36/36 [==============================] - 5s 148ms/step - loss: 4.7066e-04 - root_mean_squared_error: 0.0217\n",
      "Epoch 5/100\n",
      "36/36 [==============================] - 5s 142ms/step - loss: 4.0809e-04 - root_mean_squared_error: 0.0202\n",
      "Epoch 6/100\n",
      "36/36 [==============================] - 5s 133ms/step - loss: 4.2238e-04 - root_mean_squared_error: 0.0206\n",
      "Epoch 7/100\n",
      "36/36 [==============================] - 6s 166ms/step - loss: 5.0786e-04 - root_mean_squared_error: 0.0225\n",
      "Epoch 8/100\n",
      "36/36 [==============================] - 5s 138ms/step - loss: 4.0265e-04 - root_mean_squared_error: 0.0201\n",
      "Epoch 9/100\n",
      "36/36 [==============================] - 5s 149ms/step - loss: 5.2462e-04 - root_mean_squared_error: 0.0229\n",
      "Epoch 10/100\n",
      "36/36 [==============================] - 5s 153ms/step - loss: 3.3036e-04 - root_mean_squared_error: 0.0182\n",
      "Epoch 11/100\n",
      "36/36 [==============================] - 9s 243ms/step - loss: 5.3145e-04 - root_mean_squared_error: 0.0231\n",
      "Epoch 12/100\n",
      "36/36 [==============================] - 9s 250ms/step - loss: 3.9649e-04 - root_mean_squared_error: 0.0199\n",
      "Epoch 13/100\n",
      "36/36 [==============================] - 8s 219ms/step - loss: 3.6068e-04 - root_mean_squared_error: 0.0190\n",
      "Epoch 14/100\n",
      "36/36 [==============================] - 6s 170ms/step - loss: 3.4894e-04 - root_mean_squared_error: 0.0187\n",
      "Epoch 15/100\n",
      "36/36 [==============================] - 6s 167ms/step - loss: 3.6166e-04 - root_mean_squared_error: 0.0190\n"
     ]
    }
   ],
   "source": [
    "wandb.agent('21t67yna', function=train, project=\"stock-predictions\", entity=\"alpheron\")"
   ]
  }
 ],
 "metadata": {
  "interpreter": {
   "hash": "5e225dc237bd1c1a092e9ac5651f746e060bc6b9addf77a0a329a0bc83a46295"
  },
  "kernelspec": {
   "display_name": "Python 3.8.12 ('StockMarket')",
   "language": "python",
   "name": "python3"
  },
  "language_info": {
   "codemirror_mode": {
    "name": "ipython",
    "version": 3
   },
   "file_extension": ".py",
   "mimetype": "text/x-python",
   "name": "python",
   "nbconvert_exporter": "python",
   "pygments_lexer": "ipython3",
   "version": "3.8.12"
  },
  "orig_nbformat": 4
 },
 "nbformat": 4,
 "nbformat_minor": 2
}
