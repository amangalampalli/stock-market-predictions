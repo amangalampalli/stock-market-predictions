{
 "cells": [
  {
   "cell_type": "code",
   "execution_count": 16,
   "metadata": {},
   "outputs": [],
   "source": [
    "import os\n",
    "\n",
    "os.environ['WANDB_NOTEBOOK_NAME'] = '/Users/aditya/Programming/stock-market-predictions/stock_market_predictions/forecasting/GRU-5-Year/MSFT-5-Year-GRU.ipynb'"
   ]
  },
  {
   "cell_type": "code",
   "execution_count": 17,
   "metadata": {},
   "outputs": [
    {
     "name": "stderr",
     "output_type": "stream",
     "text": [
      "wandb: ERROR Dropped streaming file chunk (see wandb/debug-internal.log)\n",
      "ERROR:root:dropped chunk 404 Client Error: Not Found for url: https://api.wandb.ai/files/alpheron/stock-predictions/3mjmhs28/file_stream\n",
      "NoneType: None\n"
     ]
    }
   ],
   "source": [
    "def train():\n",
    "    import pandas as pd\n",
    "    from os.path import abspath\n",
    "\n",
    "    import warnings\n",
    "    warnings.filterwarnings(\"ignore\")\n",
    "    df = pd.read_csv(abspath('../../../data/MSFT/MSFT-5-Year.csv'), index_col=0, parse_dates=['Date'])\n",
    "\n",
    "    df.columns.name = df.index.name\n",
    "    df.index.name = None\n",
    "\n",
    "    df = df.filter(['Date', 'Open'])\n",
    "    # Split the df into a training set and a test set\n",
    "    from sklearn.model_selection import train_test_split\n",
    "\n",
    "    # Split the data into training and testing sets\n",
    "    train_set, test_set = train_test_split(df, test_size=0.05, shuffle=False)\n",
    "\n",
    "    n_features = 1\n",
    "    from sklearn.preprocessing import MinMaxScaler\n",
    "\n",
    "    transformer = MinMaxScaler()\n",
    "    train_scaled = transformer.fit_transform(train_set)\n",
    "    test_scaled = transformer.fit_transform(test_set)\n",
    "    \n",
    "    import tensorflow as tf\n",
    "    from tensorflow.keras.preprocessing.sequence import TimeseriesGenerator # type: ignore\n",
    "\n",
    "    n_input = 60\n",
    "\n",
    "    train_generator=TimeseriesGenerator(train_scaled,\n",
    "                                        train_scaled,\n",
    "                                        length=n_input,\n",
    "                                        batch_size=32)\n",
    "    \n",
    "    from keras.models import Sequential\n",
    "    from keras.layers import Dense, GRU\n",
    "\n",
    "    GRU_UNITS = 20\n",
    "\n",
    "    model = Sequential()\n",
    "    model.add(GRU(units=GRU_UNITS, input_shape=(n_input, n_features)))\n",
    "    model.add(Dense(units=1))\n",
    "    \n",
    "    # Create an EarlyStopping callback\n",
    "    from keras.callbacks import EarlyStopping\n",
    "    early_stopping = EarlyStopping(monitor='loss', patience=5)\n",
    "    \n",
    "    import wandb\n",
    "    from wandb.keras import WandbCallback\n",
    "\n",
    "    wandb.init(project=\"stock-predictions\", entity=\"alpheron\", magic=True)\n",
    "\n",
    "    wandb.config = {\n",
    "    \"learning_rate\": 0.001,\n",
    "    \"epochs\": 100,\n",
    "    \"batch_size\": 32,\n",
    "    \"lstm_units\": GRU_UNITS\n",
    "    }\n",
    "\n",
    "    from keras.metrics import RootMeanSquaredError\n",
    "    from tensorflow_addons.optimizers import RectifiedAdam\n",
    "\n",
    "    model.compile(optimizer=RectifiedAdam(), loss='mean_squared_error', metrics=[RootMeanSquaredError()])\n",
    "    model.fit(train_generator, epochs=100, callbacks=[early_stopping, WandbCallback()])\n",
    "    model.save(abspath('../../../logs/MSFT-5-Year/'))\n",
    "\n",
    "    inputs = df[len(df)-len(test_set)-60 : ].values\n",
    "    inputs = inputs.reshape(-1,1)\n",
    "    inputs = transformer.transform(inputs)\n",
    "    import numpy as np\n",
    "\n",
    "    x_test = []\n",
    "    for i in range(60,len(inputs)):\n",
    "        x_test.append(inputs[i-60:i, 0])\n",
    "        \n",
    "    x_test = np.array(x_test)\n",
    "    x_test = np.reshape(x_test, (x_test.shape[0], x_test.shape[1], 1))\n",
    "    print(x_test.shape)\n",
    "    predicted = model.predict(x_test)\n",
    "    predicted = transformer.inverse_transform(predicted)\n",
    "\n",
    "    # Convert the predicted values to a dataframe\n",
    "    predicted_df = pd.DataFrame(predicted)\n",
    "\n",
    "    # Rename the column to \"Open\"\n",
    "    predicted_df.columns = ['Open']\n",
    "\n",
    "    # Add a new column called \"Date\" that has the same index as the other dataframe\n",
    "    predicted_df['Date'] = df[len(df)-len(test_set)-0 : ].index\n",
    "\n",
    "    # Set the 'Date' column as the index\n",
    "    predicted_df = predicted_df.set_index('Date')\n",
    "\n",
    "    import math\n",
    "    from sklearn.metrics import mean_squared_error\n",
    "\n",
    "    def return_rmse(test, predicted):\n",
    "        rmse = math.sqrt(mean_squared_error(test, predicted))\n",
    "        print(\"the root mean squared error is: {}\".format(rmse))\n",
    "        return rmse\n",
    "\n",
    "    RMSE = return_rmse(test_set, predicted)\n",
    "    wandb.log({\"root_mean_square_error\" : RMSE})\n",
    "    artifact = wandb.Artifact('Time-Series', type='model')\n",
    "    artifact.add_dir(abspath('../../../logs/MSFT-5-Year/'))\n",
    "    wandb.run.log_artifact(artifact)"
   ]
  },
  {
   "cell_type": "code",
   "execution_count": 18,
   "metadata": {},
   "outputs": [],
   "source": [
    "sweep_config = {\n",
    "    'method': 'bayes',\n",
    "    'metric': \n",
    "        {\n",
    "            'name': 'root_mean_square_error',\n",
    "            'goal': 'minimize',\n",
    "        },\n",
    "    'parameters': {\n",
    "        'GRU_UNITS': {\n",
    "            'values': [5, 10, 15, 20, 25, 30, 35, 40, 45, 50, 55, 60, 65, 70, 75, 80, 85, 90, 95, 100, 105, 110, 120, 125, 130, 135, 140, 145, 150]\n",
    "        },\n",
    "        'epochs': {\n",
    "            'value': 100\n",
    "        }\n",
    "    },\n",
    "    'early_terminate': {\n",
    "        'type': 'hyperband',\n",
    "        's': 2,\n",
    "        'eta': 3,\n",
    "        'max_iter': 50\n",
    "    }\n",
    "}"
   ]
  },
  {
   "cell_type": "code",
   "execution_count": 19,
   "metadata": {},
   "outputs": [
    {
     "name": "stdout",
     "output_type": "stream",
     "text": [
      "Create sweep with ID: 831500mq\n",
      "Sweep URL: https://wandb.ai/alpheron/stock-predictions/sweeps/831500mq\n"
     ]
    }
   ],
   "source": [
    "import wandb\n",
    "sweep_id = wandb.sweep(sweep_config, project=\"stock-predictions\", entity=\"alpheron\")"
   ]
  },
  {
   "cell_type": "code",
   "execution_count": 20,
   "metadata": {},
   "outputs": [
    {
     "name": "stderr",
     "output_type": "stream",
     "text": [
      "\u001b[34m\u001b[1mwandb\u001b[0m: Agent Starting Run: i768whn4 with config:\n",
      "\u001b[34m\u001b[1mwandb\u001b[0m: \tGRU_UNITS: 150\n",
      "\u001b[34m\u001b[1mwandb\u001b[0m: \tepochs: 100\n",
      "\u001b[34m\u001b[1mwandb\u001b[0m: Currently logged in as: \u001b[33malpheron\u001b[0m (use `wandb login --relogin` to force relogin)\n",
      "\u001b[34m\u001b[1mwandb\u001b[0m: \u001b[33mWARNING\u001b[0m Ignored wandb.init() arg project when running a sweep.\n",
      "\u001b[34m\u001b[1mwandb\u001b[0m: \u001b[33mWARNING\u001b[0m Ignored wandb.init() arg entity when running a sweep.\n"
     ]
    },
    {
     "data": {
      "text/html": [
       "\n",
       "                    Syncing run <strong><a href=\"https://wandb.ai/alpheron/stock-predictions/runs/i768whn4\" target=\"_blank\">earnest-sweep-1</a></strong> to <a href=\"https://wandb.ai/alpheron/stock-predictions\" target=\"_blank\">Weights & Biases</a> (<a href=\"https://docs.wandb.com/integrations/jupyter.html\" target=\"_blank\">docs</a>).<br/>\n",
       "Sweep page: <a href=\"https://wandb.ai/alpheron/stock-predictions/sweeps/831500mq\" target=\"_blank\">https://wandb.ai/alpheron/stock-predictions/sweeps/831500mq</a><br/>\n",
       "\n",
       "                "
      ],
      "text/plain": [
       "<IPython.core.display.HTML object>"
      ]
     },
     "metadata": {},
     "output_type": "display_data"
    },
    {
     "name": "stdout",
     "output_type": "stream",
     "text": [
      "Epoch 1/100\n"
     ]
    },
    {
     "name": "stderr",
     "output_type": "stream",
     "text": [
      "2022-02-27 13:58:30.076839: I tensorflow/core/grappler/optimizers/custom_graph_optimizer_registry.cc:113] Plugin optimizer for device_type GPU is enabled.\n",
      "wandb: ERROR Dropped streaming file chunk (see wandb/debug-internal.log)\n",
      "ERROR:root:dropped chunk 404 Client Error: Not Found for url: https://api.wandb.ai/files/alpheron/stock-predictions/ys0nc3xp/file_stream\n",
      "NoneType: None\n",
      "2022-02-27 13:58:31.055303: I tensorflow/core/grappler/optimizers/custom_graph_optimizer_registry.cc:113] Plugin optimizer for device_type GPU is enabled.\n",
      "2022-02-27 13:58:32.284733: I tensorflow/core/grappler/optimizers/custom_graph_optimizer_registry.cc:113] Plugin optimizer for device_type GPU is enabled.\n"
     ]
    },
    {
     "name": "stdout",
     "output_type": "stream",
     "text": [
      "36/36 [==============================] - 16s 218ms/step - loss: 0.2577 - root_mean_squared_error: 0.5076\n",
      "Epoch 2/100\n",
      "36/36 [==============================] - 6s 180ms/step - loss: 0.2066 - root_mean_squared_error: 0.4545\n",
      "Epoch 3/100\n",
      "36/36 [==============================] - 6s 163ms/step - loss: 0.1453 - root_mean_squared_error: 0.3812\n",
      "Epoch 4/100\n",
      "36/36 [==============================] - 6s 157ms/step - loss: 0.0956 - root_mean_squared_error: 0.3092\n",
      "Epoch 5/100\n",
      "10/36 [=======>......................] - ETA: 3s - loss: 0.0846 - root_mean_squared_error: 0.2908"
     ]
    },
    {
     "name": "stderr",
     "output_type": "stream",
     "text": [
      "wandb: ERROR Dropped streaming file chunk (see wandb/debug-internal.log)\n",
      "ERROR:root:dropped chunk 404 Client Error: Not Found for url: https://api.wandb.ai/files/alpheron/stock-predictions/ys0nc3xp/file_stream\n",
      "NoneType: None\n"
     ]
    },
    {
     "name": "stdout",
     "output_type": "stream",
     "text": [
      "36/36 [==============================] - 6s 154ms/step - loss: 0.0622 - root_mean_squared_error: 0.2494\n",
      "Epoch 6/100\n"
     ]
    },
    {
     "name": "stderr",
     "output_type": "stream",
     "text": [
      "wandb: ERROR Dropped streaming file chunk (see wandb/debug-internal.log)\n",
      "ERROR:root:dropped chunk 404 Client Error: Not Found for url: https://api.wandb.ai/files/alpheron/stock-predictions/3mjmhs28/file_stream\n",
      "NoneType: None\n"
     ]
    },
    {
     "name": "stdout",
     "output_type": "stream",
     "text": [
      "36/36 [==============================] - 6s 165ms/step - loss: 0.0448 - root_mean_squared_error: 0.2118\n",
      "Epoch 7/100\n",
      "36/36 [==============================] - 6s 173ms/step - loss: 0.0370 - root_mean_squared_error: 0.1922\n",
      "Epoch 8/100\n",
      "36/36 [==============================] - 5s 140ms/step - loss: 0.0322 - root_mean_squared_error: 0.1793\n",
      "Epoch 9/100\n",
      "35/36 [============================>.] - ETA: 0s - loss: 0.0261 - root_mean_squared_error: 0.1615"
     ]
    },
    {
     "name": "stderr",
     "output_type": "stream",
     "text": [
      "wandb: ERROR Dropped streaming file chunk (see wandb/debug-internal.log)\n",
      "ERROR:root:dropped chunk 404 Client Error: Not Found for url: https://api.wandb.ai/files/alpheron/stock-predictions/ys0nc3xp/file_stream\n",
      "NoneType: None\n"
     ]
    },
    {
     "name": "stdout",
     "output_type": "stream",
     "text": [
      "36/36 [==============================] - 5s 144ms/step - loss: 0.0263 - root_mean_squared_error: 0.1621\n",
      "Epoch 10/100\n",
      "24/36 [===================>..........] - ETA: 1s - loss: 0.0155 - root_mean_squared_error: 0.1247"
     ]
    },
    {
     "name": "stderr",
     "output_type": "stream",
     "text": [
      "wandb: ERROR Dropped streaming file chunk (see wandb/debug-internal.log)\n",
      "ERROR:root:dropped chunk 404 Client Error: Not Found for url: https://api.wandb.ai/files/alpheron/stock-predictions/3mjmhs28/file_stream\n",
      "NoneType: None\n"
     ]
    },
    {
     "name": "stdout",
     "output_type": "stream",
     "text": [
      "36/36 [==============================] - 5s 150ms/step - loss: 0.0210 - root_mean_squared_error: 0.1448\n",
      "Epoch 11/100\n",
      "36/36 [==============================] - 5s 148ms/step - loss: 0.0158 - root_mean_squared_error: 0.1258\n",
      "Epoch 12/100\n",
      "36/36 [==============================] - 6s 174ms/step - loss: 0.0113 - root_mean_squared_error: 0.1065\n",
      "Epoch 13/100\n",
      "36/36 [==============================] - 6s 171ms/step - loss: 0.0077 - root_mean_squared_error: 0.0880\n",
      "Epoch 14/100\n",
      "36/36 [==============================] - 5s 152ms/step - loss: 0.0049 - root_mean_squared_error: 0.0697\n",
      "Epoch 15/100\n",
      "10/36 [=======>......................] - ETA: 3s - loss: 0.0025 - root_mean_squared_error: 0.0497"
     ]
    },
    {
     "name": "stderr",
     "output_type": "stream",
     "text": [
      "wandb: ERROR Dropped streaming file chunk (see wandb/debug-internal.log)\n",
      "ERROR:root:dropped chunk 404 Client Error: Not Found for url: https://api.wandb.ai/files/alpheron/stock-predictions/ys0nc3xp/file_stream\n",
      "NoneType: None\n"
     ]
    },
    {
     "name": "stdout",
     "output_type": "stream",
     "text": [
      "36/36 [==============================] - 5s 148ms/step - loss: 0.0027 - root_mean_squared_error: 0.0522\n",
      "Epoch 16/100\n"
     ]
    },
    {
     "name": "stderr",
     "output_type": "stream",
     "text": [
      "wandb: ERROR Dropped streaming file chunk (see wandb/debug-internal.log)\n",
      "ERROR:root:dropped chunk 404 Client Error: Not Found for url: https://api.wandb.ai/files/alpheron/stock-predictions/3mjmhs28/file_stream\n",
      "NoneType: None\n"
     ]
    },
    {
     "name": "stdout",
     "output_type": "stream",
     "text": [
      "36/36 [==============================] - 5s 141ms/step - loss: 0.0018 - root_mean_squared_error: 0.0422\n",
      "Epoch 17/100\n",
      "36/36 [==============================] - 5s 146ms/step - loss: 8.7430e-04 - root_mean_squared_error: 0.0296\n",
      "Epoch 18/100\n",
      "36/36 [==============================] - 5s 147ms/step - loss: 6.0967e-04 - root_mean_squared_error: 0.0247\n",
      "Epoch 19/100\n",
      "36/36 [==============================] - 5s 149ms/step - loss: 4.5372e-04 - root_mean_squared_error: 0.0213\n",
      "Epoch 20/100\n",
      "30/36 [========================>.....] - ETA: 1s - loss: 4.0382e-04 - root_mean_squared_error: 0.0201"
     ]
    },
    {
     "name": "stderr",
     "output_type": "stream",
     "text": [
      "wandb: ERROR Dropped streaming file chunk (see wandb/debug-internal.log)\n",
      "ERROR:root:dropped chunk 404 Client Error: Not Found for url: https://api.wandb.ai/files/alpheron/stock-predictions/ys0nc3xp/file_stream\n",
      "NoneType: None\n"
     ]
    },
    {
     "name": "stdout",
     "output_type": "stream",
     "text": [
      "36/36 [==============================] - 6s 168ms/step - loss: 4.2620e-04 - root_mean_squared_error: 0.0206\n",
      "Epoch 21/100\n",
      "22/36 [=================>............] - ETA: 1s - loss: 5.4816e-04 - root_mean_squared_error: 0.0234"
     ]
    },
    {
     "name": "stderr",
     "output_type": "stream",
     "text": [
      "wandb: ERROR Dropped streaming file chunk (see wandb/debug-internal.log)\n",
      "ERROR:root:dropped chunk 404 Client Error: Not Found for url: https://api.wandb.ai/files/alpheron/stock-predictions/3mjmhs28/file_stream\n",
      "NoneType: None\n"
     ]
    },
    {
     "name": "stdout",
     "output_type": "stream",
     "text": [
      "36/36 [==============================] - 5s 144ms/step - loss: 4.3938e-04 - root_mean_squared_error: 0.0210\n",
      "Epoch 22/100\n",
      "36/36 [==============================] - 6s 151ms/step - loss: 4.4139e-04 - root_mean_squared_error: 0.0210\n",
      "Epoch 23/100\n",
      "36/36 [==============================] - 5s 148ms/step - loss: 4.4223e-04 - root_mean_squared_error: 0.0210\n",
      "Epoch 24/100\n",
      "36/36 [==============================] - 5s 143ms/step - loss: 4.2694e-04 - root_mean_squared_error: 0.0207\n",
      "Epoch 25/100\n",
      "36/36 [==============================] - 5s 149ms/step - loss: 4.3909e-04 - root_mean_squared_error: 0.0210\n"
     ]
    },
    {
     "name": "stderr",
     "output_type": "stream",
     "text": [
      "2022-02-27 14:01:02.751106: W tensorflow/core/framework/op_kernel.cc:1733] INVALID_ARGUMENT: ValueError: Could not find callback with key=pyfunc_2 in the registry.\n",
      "Traceback (most recent call last):\n",
      "\n",
      "  File \"/usr/local/Caskroom/miniconda/base/envs/StockMarket/lib/python3.8/site-packages/tensorflow/python/ops/script_ops.py\", line 259, in __call__\n",
      "    raise ValueError(f\"Could not find callback with key={token} in the \"\n",
      "\n",
      "ValueError: Could not find callback with key=pyfunc_2 in the registry.\n",
      "\n",
      "\n",
      "2022-02-27 14:01:02.751536: W tensorflow/core/kernels/data/generator_dataset_op.cc:107] Error occurred when finalizing GeneratorDataset iterator: INVALID_ARGUMENT: ValueError: Could not find callback with key=pyfunc_2 in the registry.\n",
      "Traceback (most recent call last):\n",
      "\n",
      "  File \"/usr/local/Caskroom/miniconda/base/envs/StockMarket/lib/python3.8/site-packages/tensorflow/python/ops/script_ops.py\", line 259, in __call__\n",
      "    raise ValueError(f\"Could not find callback with key={token} in the \"\n",
      "\n",
      "ValueError: Could not find callback with key=pyfunc_2 in the registry.\n",
      "\n",
      "\n",
      "\t [[{{node PyFunc}}]]\n",
      "wandb: ERROR Dropped streaming file chunk (see wandb/debug-internal.log)\n",
      "ERROR:root:dropped chunk 404 Client Error: Not Found for url: https://api.wandb.ai/files/alpheron/stock-predictions/ys0nc3xp/file_stream\n",
      "NoneType: None\n",
      "2022-02-27 14:01:03.282833: W tensorflow/python/util/util.cc:368] Sets are not currently considered sequences, but this may change in the future, so consider avoiding using them.\n",
      "WARNING:absl:Found untraced functions such as gru_cell_layer_call_fn, gru_cell_layer_call_and_return_conditional_losses while saving (showing 2 of 2). These functions will not be directly callable after loading.\n"
     ]
    },
    {
     "name": "stdout",
     "output_type": "stream",
     "text": [
      "INFO:tensorflow:Assets written to: /Users/aditya/Programming/stock-market-predictions/logs/MSFT-5-Year/assets\n"
     ]
    },
    {
     "name": "stderr",
     "output_type": "stream",
     "text": [
      "INFO:tensorflow:Assets written to: /Users/aditya/Programming/stock-market-predictions/logs/MSFT-5-Year/assets\n",
      "WARNING:absl:<keras.layers.recurrent.GRUCell object at 0x7fb544a680d0> has the same name 'GRUCell' as a built-in Keras object. Consider renaming <class 'keras.layers.recurrent.GRUCell'> to avoid naming conflicts when loading with `tf.keras.models.load_model`. If renaming is not possible, pass the object in the `custom_objects` parameter of the load function.\n",
      "wandb: ERROR Dropped streaming file chunk (see wandb/debug-internal.log)\n"
     ]
    },
    {
     "name": "stdout",
     "output_type": "stream",
     "text": [
      "(63, 60, 1)\n"
     ]
    },
    {
     "name": "stderr",
     "output_type": "stream",
     "text": [
      "ERROR:root:dropped chunk 404 Client Error: Not Found for url: https://api.wandb.ai/files/alpheron/stock-predictions/3mjmhs28/file_stream\n",
      "NoneType: None\n",
      "2022-02-27 14:01:08.122286: I tensorflow/core/grappler/optimizers/custom_graph_optimizer_registry.cc:113] Plugin optimizer for device_type GPU is enabled.\n",
      "2022-02-27 14:01:08.281754: I tensorflow/core/grappler/optimizers/custom_graph_optimizer_registry.cc:113] Plugin optimizer for device_type GPU is enabled.\n",
      "\u001b[34m\u001b[1mwandb\u001b[0m: Adding directory to artifact (/Users/aditya/Programming/stock-market-predictions/logs/MSFT-5-Year)... Done. 0.1s\n"
     ]
    },
    {
     "name": "stdout",
     "output_type": "stream",
     "text": [
      "the root mean squared error is: 10.311697378789423\n"
     ]
    },
    {
     "data": {
      "text/html": [
       "<br/>Waiting for W&B process to finish, PID 99238... <strong style=\"color:green\">(success).</strong>"
      ],
      "text/plain": [
       "<IPython.core.display.HTML object>"
      ]
     },
     "metadata": {},
     "output_type": "display_data"
    },
    {
     "data": {
      "application/vnd.jupyter.widget-view+json": {
       "model_id": "0c86edf6944941839033509601b8dbfe",
       "version_major": 2,
       "version_minor": 0
      },
      "text/plain": [
       "VBox(children=(Label(value=' 0.88MB of 0.88MB uploaded (0.00MB deduped)\\r'), FloatProgress(value=1.0, max=1.0)…"
      ]
     },
     "metadata": {},
     "output_type": "display_data"
    },
    {
     "data": {
      "text/html": [
       "<style>\n",
       "    table.wandb td:nth-child(1) { padding: 0 10px; text-align: right }\n",
       "    .wandb-row { display: flex; flex-direction: row; flex-wrap: wrap; width: 100% }\n",
       "    .wandb-col { display: flex; flex-direction: column; flex-basis: 100%; flex: 1; padding: 10px; }\n",
       "    </style>\n",
       "<div class=\"wandb-row\"><div class=\"wandb-col\">\n",
       "<h3>Run history:</h3><br/><table class=\"wandb\"><tr><td>epoch</td><td>▁▁▂▂▂▂▃▃▃▄▄▄▅▅▅▅▆▆▆▇▇▇▇██</td></tr><tr><td>loss</td><td>█▇▅▄▃▂▂▂▂▂▁▁▁▁▁▁▁▁▁▁▁▁▁▁▁</td></tr><tr><td>root_mean_square_error</td><td>▁</td></tr><tr><td>root_mean_squared_error</td><td>█▇▆▅▄▄▃▃▃▃▃▂▂▂▁▁▁▁▁▁▁▁▁▁▁</td></tr></table><br/></div><div class=\"wandb-col\">\n",
       "<h3>Run summary:</h3><br/><table class=\"wandb\"><tr><td>epoch</td><td>24</td></tr><tr><td>loss</td><td>0.00044</td></tr><tr><td>root_mean_square_error</td><td>10.3117</td></tr><tr><td>root_mean_squared_error</td><td>0.02095</td></tr></table>\n",
       "</div></div>\n",
       "Synced 6 W&B file(s), 1 media file(s), 4 artifact file(s) and 1 other file(s)\n",
       "<br/>Synced <strong style=\"color:#cdcd00\">earnest-sweep-1</strong>: <a href=\"https://wandb.ai/alpheron/stock-predictions/runs/i768whn4\" target=\"_blank\">https://wandb.ai/alpheron/stock-predictions/runs/i768whn4</a><br/>\n",
       "Find logs at: <code>./wandb/run-20220227_135807-i768whn4/logs</code><br/>\n"
      ],
      "text/plain": [
       "<IPython.core.display.HTML object>"
      ]
     },
     "metadata": {},
     "output_type": "display_data"
    },
    {
     "name": "stderr",
     "output_type": "stream",
     "text": [
      "\u001b[34m\u001b[1mwandb\u001b[0m: Agent Starting Run: 06j6s10y with config:\n",
      "\u001b[34m\u001b[1mwandb\u001b[0m: \tGRU_UNITS: 60\n",
      "\u001b[34m\u001b[1mwandb\u001b[0m: \tepochs: 100\n",
      "\u001b[34m\u001b[1mwandb\u001b[0m: \u001b[33mWARNING\u001b[0m Ignored wandb.init() arg project when running a sweep.\n",
      "\u001b[34m\u001b[1mwandb\u001b[0m: \u001b[33mWARNING\u001b[0m Ignored wandb.init() arg entity when running a sweep.\n"
     ]
    },
    {
     "data": {
      "text/html": [
       "\n",
       "                    Syncing run <strong><a href=\"https://wandb.ai/alpheron/stock-predictions/runs/06j6s10y\" target=\"_blank\">ancient-sweep-2</a></strong> to <a href=\"https://wandb.ai/alpheron/stock-predictions\" target=\"_blank\">Weights & Biases</a> (<a href=\"https://docs.wandb.com/integrations/jupyter.html\" target=\"_blank\">docs</a>).<br/>\n",
       "Sweep page: <a href=\"https://wandb.ai/alpheron/stock-predictions/sweeps/831500mq\" target=\"_blank\">https://wandb.ai/alpheron/stock-predictions/sweeps/831500mq</a><br/>\n",
       "\n",
       "                "
      ],
      "text/plain": [
       "<IPython.core.display.HTML object>"
      ]
     },
     "metadata": {},
     "output_type": "display_data"
    },
    {
     "name": "stderr",
     "output_type": "stream",
     "text": [
      "wandb: ERROR Dropped streaming file chunk (see wandb/debug-internal.log)\n",
      "ERROR:root:dropped chunk 404 Client Error: Not Found for url: https://api.wandb.ai/files/alpheron/stock-predictions/ys0nc3xp/file_stream\n",
      "NoneType: None\n"
     ]
    },
    {
     "name": "stdout",
     "output_type": "stream",
     "text": [
      "Epoch 1/100\n"
     ]
    },
    {
     "name": "stderr",
     "output_type": "stream",
     "text": [
      "wandb: ERROR Dropped streaming file chunk (see wandb/debug-internal.log)\n",
      "ERROR:root:dropped chunk 404 Client Error: Not Found for url: https://api.wandb.ai/files/alpheron/stock-predictions/3mjmhs28/file_stream\n",
      "NoneType: None\n",
      "2022-02-27 14:01:38.915476: I tensorflow/core/grappler/optimizers/custom_graph_optimizer_registry.cc:113] Plugin optimizer for device_type GPU is enabled.\n",
      "2022-02-27 14:01:39.696430: I tensorflow/core/grappler/optimizers/custom_graph_optimizer_registry.cc:113] Plugin optimizer for device_type GPU is enabled.\n",
      "2022-02-27 14:01:40.285856: I tensorflow/core/grappler/optimizers/custom_graph_optimizer_registry.cc:113] Plugin optimizer for device_type GPU is enabled.\n"
     ]
    },
    {
     "name": "stdout",
     "output_type": "stream",
     "text": [
      "36/36 [==============================] - 11s 191ms/step - loss: 0.2708 - root_mean_squared_error: 0.5203\n",
      "Epoch 2/100\n",
      "36/36 [==============================] - 6s 157ms/step - loss: 0.2195 - root_mean_squared_error: 0.4685\n",
      "Epoch 3/100\n",
      "36/36 [==============================] - 5s 148ms/step - loss: 0.1549 - root_mean_squared_error: 0.3935\n",
      "Epoch 4/100\n",
      "35/36 [============================>.] - ETA: 0s - loss: 0.1060 - root_mean_squared_error: 0.3256"
     ]
    },
    {
     "name": "stderr",
     "output_type": "stream",
     "text": [
      "wandb: ERROR Dropped streaming file chunk (see wandb/debug-internal.log)\n",
      "ERROR:root:dropped chunk 404 Client Error: Not Found for url: https://api.wandb.ai/files/alpheron/stock-predictions/ys0nc3xp/file_stream\n",
      "NoneType: None\n"
     ]
    },
    {
     "name": "stdout",
     "output_type": "stream",
     "text": [
      "36/36 [==============================] - 5s 140ms/step - loss: 0.1030 - root_mean_squared_error: 0.3210\n",
      "Epoch 5/100\n",
      "24/36 [===================>..........] - ETA: 1s - loss: 0.0936 - root_mean_squared_error: 0.3060"
     ]
    },
    {
     "name": "stderr",
     "output_type": "stream",
     "text": [
      "wandb: ERROR Dropped streaming file chunk (see wandb/debug-internal.log)\n",
      "ERROR:root:dropped chunk 404 Client Error: Not Found for url: https://api.wandb.ai/files/alpheron/stock-predictions/3mjmhs28/file_stream\n",
      "NoneType: None\n"
     ]
    },
    {
     "name": "stdout",
     "output_type": "stream",
     "text": [
      "36/36 [==============================] - 6s 164ms/step - loss: 0.0691 - root_mean_squared_error: 0.2628\n",
      "Epoch 6/100\n",
      "36/36 [==============================] - 6s 156ms/step - loss: 0.0501 - root_mean_squared_error: 0.2239\n",
      "Epoch 7/100\n",
      "36/36 [==============================] - 6s 170ms/step - loss: 0.0429 - root_mean_squared_error: 0.2072\n",
      "Epoch 8/100\n",
      "36/36 [==============================] - 7s 196ms/step - loss: 0.0349 - root_mean_squared_error: 0.1867\n",
      "Epoch 9/100\n",
      "32/36 [=========================>....] - ETA: 0s - loss: 0.0305 - root_mean_squared_error: 0.1748"
     ]
    },
    {
     "name": "stderr",
     "output_type": "stream",
     "text": [
      "wandb: ERROR Dropped streaming file chunk (see wandb/debug-internal.log)\n",
      "ERROR:root:dropped chunk 404 Client Error: Not Found for url: https://api.wandb.ai/files/alpheron/stock-predictions/ys0nc3xp/file_stream\n",
      "NoneType: None\n"
     ]
    },
    {
     "name": "stdout",
     "output_type": "stream",
     "text": [
      "36/36 [==============================] - 6s 162ms/step - loss: 0.0302 - root_mean_squared_error: 0.1738\n",
      "Epoch 10/100\n",
      "20/36 [===============>..............] - ETA: 2s - loss: 0.0308 - root_mean_squared_error: 0.1756"
     ]
    },
    {
     "name": "stderr",
     "output_type": "stream",
     "text": [
      "wandb: ERROR Dropped streaming file chunk (see wandb/debug-internal.log)\n",
      "ERROR:root:dropped chunk 404 Client Error: Not Found for url: https://api.wandb.ai/files/alpheron/stock-predictions/3mjmhs28/file_stream\n",
      "NoneType: None\n"
     ]
    },
    {
     "name": "stdout",
     "output_type": "stream",
     "text": [
      "36/36 [==============================] - 6s 172ms/step - loss: 0.0253 - root_mean_squared_error: 0.1591\n",
      "Epoch 11/100\n",
      "36/36 [==============================] - 6s 157ms/step - loss: 0.0196 - root_mean_squared_error: 0.1401\n",
      "Epoch 12/100\n",
      "36/36 [==============================] - 6s 160ms/step - loss: 0.0147 - root_mean_squared_error: 0.1211\n",
      "Epoch 13/100\n",
      "36/36 [==============================] - 7s 204ms/step - loss: 0.0113 - root_mean_squared_error: 0.1061\n",
      "Epoch 14/100\n",
      "28/36 [======================>.......] - ETA: 1s - loss: 0.0074 - root_mean_squared_error: 0.0861"
     ]
    },
    {
     "name": "stderr",
     "output_type": "stream",
     "text": [
      "wandb: ERROR Dropped streaming file chunk (see wandb/debug-internal.log)\n",
      "ERROR:root:dropped chunk 404 Client Error: Not Found for url: https://api.wandb.ai/files/alpheron/stock-predictions/ys0nc3xp/file_stream\n",
      "NoneType: None\n"
     ]
    },
    {
     "name": "stdout",
     "output_type": "stream",
     "text": [
      "36/36 [==============================] - 6s 163ms/step - loss: 0.0069 - root_mean_squared_error: 0.0833\n",
      "Epoch 15/100\n",
      "15/36 [===========>..................] - ETA: 3s - loss: 0.0046 - root_mean_squared_error: 0.0677"
     ]
    },
    {
     "name": "stderr",
     "output_type": "stream",
     "text": [
      "wandb: ERROR Dropped streaming file chunk (see wandb/debug-internal.log)\n",
      "ERROR:root:dropped chunk 404 Client Error: Not Found for url: https://api.wandb.ai/files/alpheron/stock-predictions/3mjmhs28/file_stream\n",
      "NoneType: None\n"
     ]
    },
    {
     "name": "stdout",
     "output_type": "stream",
     "text": [
      "36/36 [==============================] - 6s 165ms/step - loss: 0.0041 - root_mean_squared_error: 0.0639\n",
      "Epoch 16/100\n",
      "36/36 [==============================] - 6s 156ms/step - loss: 0.0024 - root_mean_squared_error: 0.0492\n",
      "Epoch 17/100\n",
      "36/36 [==============================] - 5s 145ms/step - loss: 0.0012 - root_mean_squared_error: 0.0344\n",
      "Epoch 18/100\n",
      "36/36 [==============================] - 5s 142ms/step - loss: 5.9354e-04 - root_mean_squared_error: 0.0244\n",
      "Epoch 19/100\n",
      "36/36 [==============================] - 5s 148ms/step - loss: 4.1415e-04 - root_mean_squared_error: 0.0204\n",
      "Epoch 20/100\n",
      "11/36 [========>.....................] - ETA: 3s - loss: 3.1027e-04 - root_mean_squared_error: 0.0176"
     ]
    },
    {
     "name": "stderr",
     "output_type": "stream",
     "text": [
      "wandb: ERROR Dropped streaming file chunk (see wandb/debug-internal.log)\n",
      "ERROR:root:dropped chunk 404 Client Error: Not Found for url: https://api.wandb.ai/files/alpheron/stock-predictions/ys0nc3xp/file_stream\n",
      "NoneType: None\n"
     ]
    },
    {
     "name": "stdout",
     "output_type": "stream",
     "text": [
      "36/36 [==============================] - 5s 149ms/step - loss: 3.9592e-04 - root_mean_squared_error: 0.0199\n",
      "Epoch 21/100\n",
      " 3/36 [=>............................] - ETA: 4s - loss: 7.0973e-04 - root_mean_squared_error: 0.0266"
     ]
    },
    {
     "name": "stderr",
     "output_type": "stream",
     "text": [
      "wandb: ERROR Dropped streaming file chunk (see wandb/debug-internal.log)\n",
      "ERROR:root:dropped chunk 404 Client Error: Not Found for url: https://api.wandb.ai/files/alpheron/stock-predictions/3mjmhs28/file_stream\n",
      "NoneType: None\n"
     ]
    },
    {
     "name": "stdout",
     "output_type": "stream",
     "text": [
      "36/36 [==============================] - 5s 139ms/step - loss: 3.8923e-04 - root_mean_squared_error: 0.0197\n",
      "Epoch 22/100\n",
      "36/36 [==============================] - 6s 153ms/step - loss: 3.7738e-04 - root_mean_squared_error: 0.0194\n",
      "Epoch 23/100\n",
      "36/36 [==============================] - 5s 142ms/step - loss: 3.7019e-04 - root_mean_squared_error: 0.0192\n",
      "Epoch 24/100\n",
      "36/36 [==============================] - 5s 145ms/step - loss: 4.1836e-04 - root_mean_squared_error: 0.0205\n",
      "Epoch 25/100\n",
      "36/36 [==============================] - 5s 143ms/step - loss: 3.7399e-04 - root_mean_squared_error: 0.0193\n",
      "Epoch 26/100\n",
      " 2/36 [>.............................] - ETA: 4s - loss: 8.5247e-04 - root_mean_squared_error: 0.0292"
     ]
    },
    {
     "name": "stderr",
     "output_type": "stream",
     "text": [
      "wandb: ERROR Dropped streaming file chunk (see wandb/debug-internal.log)\n",
      "ERROR:root:dropped chunk 404 Client Error: Not Found for url: https://api.wandb.ai/files/alpheron/stock-predictions/ys0nc3xp/file_stream\n",
      "NoneType: None\n"
     ]
    },
    {
     "name": "stdout",
     "output_type": "stream",
     "text": [
      "29/36 [=======================>......] - ETA: 1s - loss: 4.2549e-04 - root_mean_squared_error: 0.0206"
     ]
    },
    {
     "name": "stderr",
     "output_type": "stream",
     "text": [
      "wandb: ERROR Dropped streaming file chunk (see wandb/debug-internal.log)\n",
      "ERROR:root:dropped chunk 404 Client Error: Not Found for url: https://api.wandb.ai/files/alpheron/stock-predictions/3mjmhs28/file_stream\n",
      "NoneType: None\n"
     ]
    },
    {
     "name": "stdout",
     "output_type": "stream",
     "text": [
      "36/36 [==============================] - 6s 159ms/step - loss: 4.0187e-04 - root_mean_squared_error: 0.0200\n",
      "Epoch 27/100\n",
      "36/36 [==============================] - 5s 143ms/step - loss: 3.7036e-04 - root_mean_squared_error: 0.0192\n",
      "Epoch 28/100\n",
      "36/36 [==============================] - 6s 163ms/step - loss: 4.8255e-04 - root_mean_squared_error: 0.0220\n"
     ]
    },
    {
     "name": "stderr",
     "output_type": "stream",
     "text": [
      "WARNING:absl:Found untraced functions such as gru_cell_layer_call_fn, gru_cell_layer_call_and_return_conditional_losses while saving (showing 2 of 2). These functions will not be directly callable after loading.\n"
     ]
    },
    {
     "name": "stdout",
     "output_type": "stream",
     "text": [
      "INFO:tensorflow:Assets written to: /Users/aditya/Programming/stock-market-predictions/logs/MSFT-5-Year/assets\n"
     ]
    },
    {
     "name": "stderr",
     "output_type": "stream",
     "text": [
      "INFO:tensorflow:Assets written to: /Users/aditya/Programming/stock-market-predictions/logs/MSFT-5-Year/assets\n",
      "WARNING:absl:<keras.layers.recurrent.GRUCell object at 0x7fb55e2a0a90> has the same name 'GRUCell' as a built-in Keras object. Consider renaming <class 'keras.layers.recurrent.GRUCell'> to avoid naming conflicts when loading with `tf.keras.models.load_model`. If renaming is not possible, pass the object in the `custom_objects` parameter of the load function.\n"
     ]
    },
    {
     "name": "stdout",
     "output_type": "stream",
     "text": [
      "(63, 60, 1)\n"
     ]
    },
    {
     "name": "stderr",
     "output_type": "stream",
     "text": [
      "2022-02-27 14:04:33.986914: I tensorflow/core/grappler/optimizers/custom_graph_optimizer_registry.cc:113] Plugin optimizer for device_type GPU is enabled.\n",
      "2022-02-27 14:04:34.208677: I tensorflow/core/grappler/optimizers/custom_graph_optimizer_registry.cc:113] Plugin optimizer for device_type GPU is enabled.\n",
      "\u001b[34m\u001b[1mwandb\u001b[0m: Adding directory to artifact (/Users/aditya/Programming/stock-market-predictions/logs/MSFT-5-Year)... Done. 0.0s\n"
     ]
    },
    {
     "name": "stdout",
     "output_type": "stream",
     "text": [
      "the root mean squared error is: 9.836935674637548\n"
     ]
    },
    {
     "name": "stderr",
     "output_type": "stream",
     "text": [
      "wandb: ERROR Dropped streaming file chunk (see wandb/debug-internal.log)\n",
      "ERROR:root:dropped chunk 404 Client Error: Not Found for url: https://api.wandb.ai/files/alpheron/stock-predictions/ys0nc3xp/file_stream\n",
      "NoneType: None\n"
     ]
    },
    {
     "data": {
      "text/html": [
       "<br/>Waiting for W&B process to finish, PID 99504... <strong style=\"color:green\">(success).</strong>"
      ],
      "text/plain": [
       "<IPython.core.display.HTML object>"
      ]
     },
     "metadata": {},
     "output_type": "display_data"
    },
    {
     "data": {
      "application/vnd.jupyter.widget-view+json": {
       "model_id": "0384dfbffb6d4f878c2a0ae390922bf0",
       "version_major": 2,
       "version_minor": 0
      },
      "text/plain": [
       "VBox(children=(Label(value=' 0.88MB of 0.88MB uploaded (0.00MB deduped)\\r'), FloatProgress(value=1.0, max=1.0)…"
      ]
     },
     "metadata": {},
     "output_type": "display_data"
    },
    {
     "name": "stderr",
     "output_type": "stream",
     "text": [
      "wandb: ERROR Dropped streaming file chunk (see wandb/debug-internal.log)\n",
      "ERROR:root:dropped chunk 404 Client Error: Not Found for url: https://api.wandb.ai/files/alpheron/stock-predictions/3mjmhs28/file_stream\n",
      "NoneType: None\n"
     ]
    },
    {
     "data": {
      "text/html": [
       "<style>\n",
       "    table.wandb td:nth-child(1) { padding: 0 10px; text-align: right }\n",
       "    .wandb-row { display: flex; flex-direction: row; flex-wrap: wrap; width: 100% }\n",
       "    .wandb-col { display: flex; flex-direction: column; flex-basis: 100%; flex: 1; padding: 10px; }\n",
       "    </style>\n",
       "<div class=\"wandb-row\"><div class=\"wandb-col\">\n",
       "<h3>Run history:</h3><br/><table class=\"wandb\"><tr><td>epoch</td><td>▁▁▂▂▂▂▃▃▃▃▄▄▄▄▅▅▅▅▆▆▆▆▇▇▇▇██</td></tr><tr><td>loss</td><td>█▇▅▄▃▂▂▂▂▂▁▁▁▁▁▁▁▁▁▁▁▁▁▁▁▁▁▁</td></tr><tr><td>root_mean_square_error</td><td>▁</td></tr><tr><td>root_mean_squared_error</td><td>█▇▆▅▄▄▄▃▃▃▃▂▂▂▂▁▁▁▁▁▁▁▁▁▁▁▁▁</td></tr></table><br/></div><div class=\"wandb-col\">\n",
       "<h3>Run summary:</h3><br/><table class=\"wandb\"><tr><td>epoch</td><td>27</td></tr><tr><td>loss</td><td>0.00048</td></tr><tr><td>root_mean_square_error</td><td>9.83694</td></tr><tr><td>root_mean_squared_error</td><td>0.02197</td></tr></table>\n",
       "</div></div>\n",
       "Synced 6 W&B file(s), 1 media file(s), 4 artifact file(s) and 1 other file(s)\n",
       "<br/>Synced <strong style=\"color:#cdcd00\">ancient-sweep-2</strong>: <a href=\"https://wandb.ai/alpheron/stock-predictions/runs/06j6s10y\" target=\"_blank\">https://wandb.ai/alpheron/stock-predictions/runs/06j6s10y</a><br/>\n",
       "Find logs at: <code>./wandb/run-20220227_140118-06j6s10y/logs</code><br/>\n"
      ],
      "text/plain": [
       "<IPython.core.display.HTML object>"
      ]
     },
     "metadata": {},
     "output_type": "display_data"
    },
    {
     "name": "stderr",
     "output_type": "stream",
     "text": [
      "\u001b[34m\u001b[1mwandb\u001b[0m: Agent Starting Run: rlob7i6h with config:\n",
      "\u001b[34m\u001b[1mwandb\u001b[0m: \tGRU_UNITS: 60\n",
      "\u001b[34m\u001b[1mwandb\u001b[0m: \tepochs: 100\n",
      "\u001b[34m\u001b[1mwandb\u001b[0m: \u001b[33mWARNING\u001b[0m Ignored wandb.init() arg project when running a sweep.\n",
      "\u001b[34m\u001b[1mwandb\u001b[0m: \u001b[33mWARNING\u001b[0m Ignored wandb.init() arg entity when running a sweep.\n"
     ]
    },
    {
     "data": {
      "text/html": [
       "\n",
       "                    Syncing run <strong><a href=\"https://wandb.ai/alpheron/stock-predictions/runs/rlob7i6h\" target=\"_blank\">astral-sweep-3</a></strong> to <a href=\"https://wandb.ai/alpheron/stock-predictions\" target=\"_blank\">Weights & Biases</a> (<a href=\"https://docs.wandb.com/integrations/jupyter.html\" target=\"_blank\">docs</a>).<br/>\n",
       "Sweep page: <a href=\"https://wandb.ai/alpheron/stock-predictions/sweeps/831500mq\" target=\"_blank\">https://wandb.ai/alpheron/stock-predictions/sweeps/831500mq</a><br/>\n",
       "\n",
       "                "
      ],
      "text/plain": [
       "<IPython.core.display.HTML object>"
      ]
     },
     "metadata": {},
     "output_type": "display_data"
    },
    {
     "name": "stdout",
     "output_type": "stream",
     "text": [
      "Epoch 1/100\n"
     ]
    },
    {
     "name": "stderr",
     "output_type": "stream",
     "text": [
      "wandb: ERROR Dropped streaming file chunk (see wandb/debug-internal.log)\n",
      "ERROR:root:dropped chunk 404 Client Error: Not Found for url: https://api.wandb.ai/files/alpheron/stock-predictions/ys0nc3xp/file_stream\n",
      "NoneType: None\n",
      "2022-02-27 14:05:08.975370: I tensorflow/core/grappler/optimizers/custom_graph_optimizer_registry.cc:113] Plugin optimizer for device_type GPU is enabled.\n",
      "2022-02-27 14:05:10.369881: I tensorflow/core/grappler/optimizers/custom_graph_optimizer_registry.cc:113] Plugin optimizer for device_type GPU is enabled.\n",
      "wandb: ERROR Dropped streaming file chunk (see wandb/debug-internal.log)\n",
      "ERROR:root:dropped chunk 404 Client Error: Not Found for url: https://api.wandb.ai/files/alpheron/stock-predictions/3mjmhs28/file_stream\n",
      "NoneType: None\n",
      "2022-02-27 14:05:11.108683: I tensorflow/core/grappler/optimizers/custom_graph_optimizer_registry.cc:113] Plugin optimizer for device_type GPU is enabled.\n"
     ]
    },
    {
     "name": "stdout",
     "output_type": "stream",
     "text": [
      "36/36 [==============================] - 16s 225ms/step - loss: 0.1888 - root_mean_squared_error: 0.4345\n",
      "Epoch 2/100\n",
      "36/36 [==============================] - 7s 181ms/step - loss: 0.1478 - root_mean_squared_error: 0.3845\n",
      "Epoch 3/100\n",
      "36/36 [==============================] - 6s 179ms/step - loss: 0.1010 - root_mean_squared_error: 0.3177\n",
      "Epoch 4/100\n",
      "21/36 [================>.............] - ETA: 2s - loss: 0.0586 - root_mean_squared_error: 0.2421"
     ]
    },
    {
     "name": "stderr",
     "output_type": "stream",
     "text": [
      "wandb: ERROR Dropped streaming file chunk (see wandb/debug-internal.log)\n",
      "ERROR:root:dropped chunk 404 Client Error: Not Found for url: https://api.wandb.ai/files/alpheron/stock-predictions/ys0nc3xp/file_stream\n",
      "NoneType: None\n"
     ]
    },
    {
     "name": "stdout",
     "output_type": "stream",
     "text": [
      "36/36 [==============================] - 6s 164ms/step - loss: 0.0609 - root_mean_squared_error: 0.2469\n",
      "Epoch 5/100\n",
      "11/36 [========>.....................] - ETA: 4s - loss: 0.0484 - root_mean_squared_error: 0.2199"
     ]
    },
    {
     "name": "stderr",
     "output_type": "stream",
     "text": [
      "wandb: ERROR Dropped streaming file chunk (see wandb/debug-internal.log)\n",
      "ERROR:root:dropped chunk 404 Client Error: Not Found for url: https://api.wandb.ai/files/alpheron/stock-predictions/3mjmhs28/file_stream\n",
      "NoneType: None\n"
     ]
    },
    {
     "name": "stdout",
     "output_type": "stream",
     "text": [
      "36/36 [==============================] - 6s 171ms/step - loss: 0.0425 - root_mean_squared_error: 0.2061\n",
      "Epoch 6/100\n",
      "36/36 [==============================] - 6s 167ms/step - loss: 0.0295 - root_mean_squared_error: 0.1719\n",
      "Epoch 7/100\n",
      "36/36 [==============================] - 6s 176ms/step - loss: 0.0245 - root_mean_squared_error: 0.1565\n",
      "Epoch 8/100\n",
      "36/36 [==============================] - 6s 157ms/step - loss: 0.0212 - root_mean_squared_error: 0.1456\n",
      "Epoch 9/100\n",
      "25/36 [===================>..........] - ETA: 1s - loss: 0.0149 - root_mean_squared_error: 0.1220"
     ]
    },
    {
     "name": "stderr",
     "output_type": "stream",
     "text": [
      "wandb: ERROR Dropped streaming file chunk (see wandb/debug-internal.log)\n",
      "ERROR:root:dropped chunk 404 Client Error: Not Found for url: https://api.wandb.ai/files/alpheron/stock-predictions/ys0nc3xp/file_stream\n",
      "NoneType: None\n"
     ]
    },
    {
     "name": "stdout",
     "output_type": "stream",
     "text": [
      "36/36 [==============================] - 5s 149ms/step - loss: 0.0175 - root_mean_squared_error: 0.1323\n",
      "Epoch 10/100\n",
      "16/36 [============>.................] - ETA: 2s - loss: 0.0153 - root_mean_squared_error: 0.1238"
     ]
    },
    {
     "name": "stderr",
     "output_type": "stream",
     "text": [
      "wandb: ERROR Dropped streaming file chunk (see wandb/debug-internal.log)\n",
      "ERROR:root:dropped chunk 404 Client Error: Not Found for url: https://api.wandb.ai/files/alpheron/stock-predictions/3mjmhs28/file_stream\n",
      "NoneType: None\n"
     ]
    },
    {
     "name": "stdout",
     "output_type": "stream",
     "text": [
      "36/36 [==============================] - 5s 144ms/step - loss: 0.0138 - root_mean_squared_error: 0.1175\n",
      "Epoch 11/100\n",
      "36/36 [==============================] - 7s 197ms/step - loss: 0.0109 - root_mean_squared_error: 0.1045\n",
      "Epoch 12/100\n",
      "36/36 [==============================] - 7s 185ms/step - loss: 0.0080 - root_mean_squared_error: 0.0894\n",
      "Epoch 13/100\n",
      "36/36 [==============================] - 6s 155ms/step - loss: 0.0053 - root_mean_squared_error: 0.0727\n",
      "Epoch 14/100\n",
      "25/36 [===================>..........] - ETA: 1s - loss: 0.0034 - root_mean_squared_error: 0.0585"
     ]
    },
    {
     "name": "stderr",
     "output_type": "stream",
     "text": [
      "wandb: ERROR Dropped streaming file chunk (see wandb/debug-internal.log)\n",
      "ERROR:root:dropped chunk 404 Client Error: Not Found for url: https://api.wandb.ai/files/alpheron/stock-predictions/ys0nc3xp/file_stream\n",
      "NoneType: None\n"
     ]
    },
    {
     "name": "stdout",
     "output_type": "stream",
     "text": [
      "36/36 [==============================] - 6s 168ms/step - loss: 0.0035 - root_mean_squared_error: 0.0590\n",
      "Epoch 15/100\n",
      "13/36 [=========>....................] - ETA: 3s - loss: 0.0027 - root_mean_squared_error: 0.0516"
     ]
    },
    {
     "name": "stderr",
     "output_type": "stream",
     "text": [
      "wandb: ERROR Dropped streaming file chunk (see wandb/debug-internal.log)\n",
      "ERROR:root:dropped chunk 404 Client Error: Not Found for url: https://api.wandb.ai/files/alpheron/stock-predictions/3mjmhs28/file_stream\n",
      "NoneType: None\n"
     ]
    },
    {
     "name": "stdout",
     "output_type": "stream",
     "text": [
      "36/36 [==============================] - 6s 163ms/step - loss: 0.0021 - root_mean_squared_error: 0.0453\n",
      "Epoch 16/100\n",
      "36/36 [==============================] - 6s 162ms/step - loss: 0.0013 - root_mean_squared_error: 0.0359\n",
      "Epoch 17/100\n",
      "36/36 [==============================] - 5s 151ms/step - loss: 7.3721e-04 - root_mean_squared_error: 0.0272\n",
      "Epoch 18/100\n",
      "36/36 [==============================] - 5s 153ms/step - loss: 4.8639e-04 - root_mean_squared_error: 0.0221\n",
      "Epoch 19/100\n",
      "36/36 [==============================] - 5s 152ms/step - loss: 3.6977e-04 - root_mean_squared_error: 0.0192\n",
      "Epoch 20/100\n",
      " 1/36 [..............................] - ETA: 6s - loss: 3.3771e-04 - root_mean_squared_error: 0.0184"
     ]
    },
    {
     "name": "stderr",
     "output_type": "stream",
     "text": [
      "wandb: ERROR Dropped streaming file chunk (see wandb/debug-internal.log)\n",
      "ERROR:root:dropped chunk 404 Client Error: Not Found for url: https://api.wandb.ai/files/alpheron/stock-predictions/ys0nc3xp/file_stream\n",
      "NoneType: None\n"
     ]
    },
    {
     "name": "stdout",
     "output_type": "stream",
     "text": [
      "28/36 [======================>.......] - ETA: 1s - loss: 3.8511e-04 - root_mean_squared_error: 0.0196"
     ]
    },
    {
     "name": "stderr",
     "output_type": "stream",
     "text": [
      "wandb: ERROR Dropped streaming file chunk (see wandb/debug-internal.log)\n",
      "ERROR:root:dropped chunk 404 Client Error: Not Found for url: https://api.wandb.ai/files/alpheron/stock-predictions/3mjmhs28/file_stream\n",
      "NoneType: None\n"
     ]
    },
    {
     "name": "stdout",
     "output_type": "stream",
     "text": [
      "36/36 [==============================] - 5s 151ms/step - loss: 3.6304e-04 - root_mean_squared_error: 0.0191\n",
      "Epoch 21/100\n",
      "36/36 [==============================] - 5s 150ms/step - loss: 3.3460e-04 - root_mean_squared_error: 0.0183\n",
      "Epoch 22/100\n",
      "36/36 [==============================] - 5s 148ms/step - loss: 3.4722e-04 - root_mean_squared_error: 0.0186\n",
      "Epoch 23/100\n",
      "36/36 [==============================] - 6s 152ms/step - loss: 3.3925e-04 - root_mean_squared_error: 0.0184\n",
      "Epoch 24/100\n",
      "26/36 [====================>.........] - ETA: 1s - loss: 2.5908e-04 - root_mean_squared_error: 0.0161"
     ]
    },
    {
     "name": "stderr",
     "output_type": "stream",
     "text": [
      "wandb: ERROR Dropped streaming file chunk (see wandb/debug-internal.log)\n",
      "ERROR:root:dropped chunk 404 Client Error: Not Found for url: https://api.wandb.ai/files/alpheron/stock-predictions/ys0nc3xp/file_stream\n",
      "NoneType: None\n"
     ]
    },
    {
     "name": "stdout",
     "output_type": "stream",
     "text": [
      "36/36 [==============================] - 5s 146ms/step - loss: 3.3963e-04 - root_mean_squared_error: 0.0184\n",
      "Epoch 25/100\n",
      "18/36 [==============>...............] - ETA: 2s - loss: 3.7993e-04 - root_mean_squared_error: 0.0195"
     ]
    },
    {
     "name": "stderr",
     "output_type": "stream",
     "text": [
      "wandb: ERROR Dropped streaming file chunk (see wandb/debug-internal.log)\n",
      "ERROR:root:dropped chunk 404 Client Error: Not Found for url: https://api.wandb.ai/files/alpheron/stock-predictions/3mjmhs28/file_stream\n",
      "NoneType: None\n"
     ]
    },
    {
     "name": "stdout",
     "output_type": "stream",
     "text": [
      "36/36 [==============================] - 5s 150ms/step - loss: 3.5003e-04 - root_mean_squared_error: 0.0187\n",
      "Epoch 26/100\n",
      "36/36 [==============================] - 6s 153ms/step - loss: 3.3430e-04 - root_mean_squared_error: 0.0183\n",
      "Epoch 27/100\n",
      "36/36 [==============================] - 5s 147ms/step - loss: 3.5369e-04 - root_mean_squared_error: 0.0188\n",
      "Epoch 28/100\n",
      "36/36 [==============================] - 5s 150ms/step - loss: 3.5526e-04 - root_mean_squared_error: 0.0188\n",
      "Epoch 29/100\n",
      "36/36 [==============================] - 5s 148ms/step - loss: 3.4756e-04 - root_mean_squared_error: 0.0186\n",
      "Epoch 30/100\n",
      "12/36 [=========>....................] - ETA: 3s - loss: 3.0283e-04 - root_mean_squared_error: 0.0174"
     ]
    },
    {
     "name": "stderr",
     "output_type": "stream",
     "text": [
      "wandb: ERROR Dropped streaming file chunk (see wandb/debug-internal.log)\n",
      "ERROR:root:dropped chunk 404 Client Error: Not Found for url: https://api.wandb.ai/files/alpheron/stock-predictions/ys0nc3xp/file_stream\n",
      "NoneType: None\n"
     ]
    },
    {
     "name": "stdout",
     "output_type": "stream",
     "text": [
      "36/36 [==============================] - 5s 151ms/step - loss: 3.5237e-04 - root_mean_squared_error: 0.0188\n",
      "Epoch 31/100\n",
      " 2/36 [>.............................] - ETA: 6s - loss: 2.0236e-04 - root_mean_squared_error: 0.0142"
     ]
    },
    {
     "name": "stderr",
     "output_type": "stream",
     "text": [
      "wandb: ERROR Dropped streaming file chunk (see wandb/debug-internal.log)\n",
      "ERROR:root:dropped chunk 404 Client Error: Not Found for url: https://api.wandb.ai/files/alpheron/stock-predictions/3mjmhs28/file_stream\n",
      "NoneType: None\n"
     ]
    },
    {
     "name": "stdout",
     "output_type": "stream",
     "text": [
      "36/36 [==============================] - 6s 158ms/step - loss: 3.6551e-04 - root_mean_squared_error: 0.0191\n"
     ]
    },
    {
     "name": "stderr",
     "output_type": "stream",
     "text": [
      "WARNING:absl:Found untraced functions such as gru_cell_layer_call_fn, gru_cell_layer_call_and_return_conditional_losses while saving (showing 2 of 2). These functions will not be directly callable after loading.\n"
     ]
    },
    {
     "name": "stdout",
     "output_type": "stream",
     "text": [
      "INFO:tensorflow:Assets written to: /Users/aditya/Programming/stock-market-predictions/logs/MSFT-5-Year/assets\n"
     ]
    },
    {
     "name": "stderr",
     "output_type": "stream",
     "text": [
      "INFO:tensorflow:Assets written to: /Users/aditya/Programming/stock-market-predictions/logs/MSFT-5-Year/assets\n",
      "WARNING:absl:<keras.layers.recurrent.GRUCell object at 0x7fb558bb9be0> has the same name 'GRUCell' as a built-in Keras object. Consider renaming <class 'keras.layers.recurrent.GRUCell'> to avoid naming conflicts when loading with `tf.keras.models.load_model`. If renaming is not possible, pass the object in the `custom_objects` parameter of the load function.\n"
     ]
    },
    {
     "name": "stdout",
     "output_type": "stream",
     "text": [
      "(63, 60, 1)\n"
     ]
    },
    {
     "name": "stderr",
     "output_type": "stream",
     "text": [
      "2022-02-27 14:08:25.273546: I tensorflow/core/grappler/optimizers/custom_graph_optimizer_registry.cc:113] Plugin optimizer for device_type GPU is enabled.\n",
      "2022-02-27 14:08:25.549664: I tensorflow/core/grappler/optimizers/custom_graph_optimizer_registry.cc:113] Plugin optimizer for device_type GPU is enabled.\n",
      "\u001b[34m\u001b[1mwandb\u001b[0m: Adding directory to artifact (/Users/aditya/Programming/stock-market-predictions/logs/MSFT-5-Year)... Done. 0.0s\n"
     ]
    },
    {
     "name": "stdout",
     "output_type": "stream",
     "text": [
      "the root mean squared error is: 9.51872593087545\n"
     ]
    },
    {
     "data": {
      "text/html": [
       "<br/>Waiting for W&B process to finish, PID 99799... <strong style=\"color:green\">(success).</strong>"
      ],
      "text/plain": [
       "<IPython.core.display.HTML object>"
      ]
     },
     "metadata": {},
     "output_type": "display_data"
    },
    {
     "data": {
      "application/vnd.jupyter.widget-view+json": {
       "model_id": "c2819f9542fe412889e7e63993910b3a",
       "version_major": 2,
       "version_minor": 0
      },
      "text/plain": [
       "VBox(children=(Label(value=' 0.88MB of 0.88MB uploaded (0.01MB deduped)\\r'), FloatProgress(value=1.0, max=1.0)…"
      ]
     },
     "metadata": {},
     "output_type": "display_data"
    },
    {
     "data": {
      "text/html": [
       "<style>\n",
       "    table.wandb td:nth-child(1) { padding: 0 10px; text-align: right }\n",
       "    .wandb-row { display: flex; flex-direction: row; flex-wrap: wrap; width: 100% }\n",
       "    .wandb-col { display: flex; flex-direction: column; flex-basis: 100%; flex: 1; padding: 10px; }\n",
       "    </style>\n",
       "<div class=\"wandb-row\"><div class=\"wandb-col\">\n",
       "<h3>Run history:</h3><br/><table class=\"wandb\"><tr><td>epoch</td><td>▁▁▁▂▂▂▂▃▃▃▃▄▄▄▄▅▅▅▅▅▆▆▆▆▇▇▇▇███</td></tr><tr><td>loss</td><td>█▆▅▃▃▂▂▂▂▂▁▁▁▁▁▁▁▁▁▁▁▁▁▁▁▁▁▁▁▁▁</td></tr><tr><td>root_mean_square_error</td><td>▁</td></tr><tr><td>root_mean_squared_error</td><td>█▇▆▅▄▄▃▃▃▃▂▂▂▂▁▁▁▁▁▁▁▁▁▁▁▁▁▁▁▁▁</td></tr></table><br/></div><div class=\"wandb-col\">\n",
       "<h3>Run summary:</h3><br/><table class=\"wandb\"><tr><td>epoch</td><td>30</td></tr><tr><td>loss</td><td>0.00037</td></tr><tr><td>root_mean_square_error</td><td>9.51873</td></tr><tr><td>root_mean_squared_error</td><td>0.01912</td></tr></table>\n",
       "</div></div>\n",
       "Synced 6 W&B file(s), 1 media file(s), 4 artifact file(s) and 1 other file(s)\n",
       "<br/>Synced <strong style=\"color:#cdcd00\">astral-sweep-3</strong>: <a href=\"https://wandb.ai/alpheron/stock-predictions/runs/rlob7i6h\" target=\"_blank\">https://wandb.ai/alpheron/stock-predictions/runs/rlob7i6h</a><br/>\n",
       "Find logs at: <code>./wandb/run-20220227_140445-rlob7i6h/logs</code><br/>\n"
      ],
      "text/plain": [
       "<IPython.core.display.HTML object>"
      ]
     },
     "metadata": {},
     "output_type": "display_data"
    },
    {
     "name": "stderr",
     "output_type": "stream",
     "text": [
      "\u001b[34m\u001b[1mwandb\u001b[0m: Agent Starting Run: 9jbxbvb0 with config:\n",
      "\u001b[34m\u001b[1mwandb\u001b[0m: \tGRU_UNITS: 65\n",
      "\u001b[34m\u001b[1mwandb\u001b[0m: \tepochs: 100\n",
      "\u001b[34m\u001b[1mwandb\u001b[0m: \u001b[33mWARNING\u001b[0m Ignored wandb.init() arg project when running a sweep.\n",
      "\u001b[34m\u001b[1mwandb\u001b[0m: \u001b[33mWARNING\u001b[0m Ignored wandb.init() arg entity when running a sweep.\n",
      "wandb: ERROR Dropped streaming file chunk (see wandb/debug-internal.log)\n",
      "ERROR:root:dropped chunk 404 Client Error: Not Found for url: https://api.wandb.ai/files/alpheron/stock-predictions/ys0nc3xp/file_stream\n",
      "NoneType: None\n",
      "wandb: ERROR Dropped streaming file chunk (see wandb/debug-internal.log)\n",
      "ERROR:root:dropped chunk 404 Client Error: Not Found for url: https://api.wandb.ai/files/alpheron/stock-predictions/3mjmhs28/file_stream\n",
      "NoneType: None\n"
     ]
    },
    {
     "data": {
      "text/html": [
       "\n",
       "                    Syncing run <strong><a href=\"https://wandb.ai/alpheron/stock-predictions/runs/9jbxbvb0\" target=\"_blank\">noble-sweep-4</a></strong> to <a href=\"https://wandb.ai/alpheron/stock-predictions\" target=\"_blank\">Weights & Biases</a> (<a href=\"https://docs.wandb.com/integrations/jupyter.html\" target=\"_blank\">docs</a>).<br/>\n",
       "Sweep page: <a href=\"https://wandb.ai/alpheron/stock-predictions/sweeps/831500mq\" target=\"_blank\">https://wandb.ai/alpheron/stock-predictions/sweeps/831500mq</a><br/>\n",
       "\n",
       "                "
      ],
      "text/plain": [
       "<IPython.core.display.HTML object>"
      ]
     },
     "metadata": {},
     "output_type": "display_data"
    },
    {
     "name": "stdout",
     "output_type": "stream",
     "text": [
      "Epoch 1/100\n"
     ]
    },
    {
     "name": "stderr",
     "output_type": "stream",
     "text": [
      "2022-02-27 14:08:59.348350: I tensorflow/core/grappler/optimizers/custom_graph_optimizer_registry.cc:113] Plugin optimizer for device_type GPU is enabled.\n",
      "2022-02-27 14:09:00.194098: I tensorflow/core/grappler/optimizers/custom_graph_optimizer_registry.cc:113] Plugin optimizer for device_type GPU is enabled.\n",
      "2022-02-27 14:09:00.816164: I tensorflow/core/grappler/optimizers/custom_graph_optimizer_registry.cc:113] Plugin optimizer for device_type GPU is enabled.\n"
     ]
    },
    {
     "name": "stdout",
     "output_type": "stream",
     "text": [
      "36/36 [==============================] - 13s 207ms/step - loss: 0.2283 - root_mean_squared_error: 0.4778\n",
      "Epoch 2/100\n",
      " 9/36 [======>.......................] - ETA: 4s - loss: 0.2349 - root_mean_squared_error: 0.4846"
     ]
    },
    {
     "name": "stderr",
     "output_type": "stream",
     "text": [
      "wandb: ERROR Dropped streaming file chunk (see wandb/debug-internal.log)\n",
      "ERROR:root:dropped chunk 404 Client Error: Not Found for url: https://api.wandb.ai/files/alpheron/stock-predictions/ys0nc3xp/file_stream\n",
      "NoneType: None\n"
     ]
    },
    {
     "name": "stdout",
     "output_type": "stream",
     "text": [
      "32/36 [=========================>....] - ETA: 0s - loss: 0.1744 - root_mean_squared_error: 0.4176"
     ]
    },
    {
     "name": "stderr",
     "output_type": "stream",
     "text": [
      "wandb: ERROR Dropped streaming file chunk (see wandb/debug-internal.log)\n",
      "ERROR:root:dropped chunk 404 Client Error: Not Found for url: https://api.wandb.ai/files/alpheron/stock-predictions/3mjmhs28/file_stream\n",
      "NoneType: None\n"
     ]
    },
    {
     "name": "stdout",
     "output_type": "stream",
     "text": [
      "36/36 [==============================] - 6s 174ms/step - loss: 0.1802 - root_mean_squared_error: 0.4245\n",
      "Epoch 3/100\n",
      "36/36 [==============================] - 6s 157ms/step - loss: 0.1258 - root_mean_squared_error: 0.3547\n",
      "Epoch 4/100\n",
      "36/36 [==============================] - 6s 157ms/step - loss: 0.0818 - root_mean_squared_error: 0.2859\n",
      "Epoch 5/100\n",
      "36/36 [==============================] - 5s 139ms/step - loss: 0.0565 - root_mean_squared_error: 0.2376\n",
      "Epoch 6/100\n",
      "36/36 [==============================] - 6s 166ms/step - loss: 0.0377 - root_mean_squared_error: 0.1942\n",
      "Epoch 7/100\n",
      "17/36 [=============>................] - ETA: 3s - loss: 0.0281 - root_mean_squared_error: 0.1676"
     ]
    },
    {
     "name": "stderr",
     "output_type": "stream",
     "text": [
      "wandb: ERROR Dropped streaming file chunk (see wandb/debug-internal.log)\n",
      "ERROR:root:dropped chunk 404 Client Error: Not Found for url: https://api.wandb.ai/files/alpheron/stock-predictions/ys0nc3xp/file_stream\n",
      "NoneType: None\n"
     ]
    },
    {
     "name": "stdout",
     "output_type": "stream",
     "text": [
      "36/36 [==============================] - 7s 196ms/step - loss: 0.0300 - root_mean_squared_error: 0.1731\n",
      "Epoch 8/100\n",
      " 1/36 [..............................] - ETA: 6s - loss: 0.0264 - root_mean_squared_error: 0.1624"
     ]
    },
    {
     "name": "stderr",
     "output_type": "stream",
     "text": [
      "wandb: ERROR Dropped streaming file chunk (see wandb/debug-internal.log)\n",
      "ERROR:root:dropped chunk 404 Client Error: Not Found for url: https://api.wandb.ai/files/alpheron/stock-predictions/3mjmhs28/file_stream\n",
      "NoneType: None\n"
     ]
    },
    {
     "name": "stdout",
     "output_type": "stream",
     "text": [
      "36/36 [==============================] - 7s 181ms/step - loss: 0.0263 - root_mean_squared_error: 0.1623\n",
      "Epoch 9/100\n",
      "36/36 [==============================] - 7s 196ms/step - loss: 0.0221 - root_mean_squared_error: 0.1487\n",
      "Epoch 10/100\n",
      "36/36 [==============================] - 6s 166ms/step - loss: 0.0176 - root_mean_squared_error: 0.1325\n",
      "Epoch 11/100\n",
      "36/36 [==============================] - 5s 147ms/step - loss: 0.0140 - root_mean_squared_error: 0.1185\n",
      "Epoch 12/100\n",
      "12/36 [=========>....................] - ETA: 3s - loss: 0.0076 - root_mean_squared_error: 0.0871"
     ]
    },
    {
     "name": "stderr",
     "output_type": "stream",
     "text": [
      "wandb: ERROR Dropped streaming file chunk (see wandb/debug-internal.log)\n",
      "ERROR:root:dropped chunk 404 Client Error: Not Found for url: https://api.wandb.ai/files/alpheron/stock-predictions/ys0nc3xp/file_stream\n",
      "NoneType: None\n"
     ]
    },
    {
     "name": "stdout",
     "output_type": "stream",
     "text": [
      "34/36 [===========================>..] - ETA: 0s - loss: 0.0107 - root_mean_squared_error: 0.1035"
     ]
    },
    {
     "name": "stderr",
     "output_type": "stream",
     "text": [
      "wandb: ERROR Dropped streaming file chunk (see wandb/debug-internal.log)\n",
      "ERROR:root:dropped chunk 404 Client Error: Not Found for url: https://api.wandb.ai/files/alpheron/stock-predictions/3mjmhs28/file_stream\n",
      "NoneType: None\n"
     ]
    },
    {
     "name": "stdout",
     "output_type": "stream",
     "text": [
      "36/36 [==============================] - 6s 171ms/step - loss: 0.0108 - root_mean_squared_error: 0.1038\n",
      "Epoch 13/100\n",
      "36/36 [==============================] - 6s 169ms/step - loss: 0.0077 - root_mean_squared_error: 0.0876\n",
      "Epoch 14/100\n",
      "36/36 [==============================] - 6s 161ms/step - loss: 0.0051 - root_mean_squared_error: 0.0712\n",
      "Epoch 15/100\n",
      "36/36 [==============================] - 7s 189ms/step - loss: 0.0033 - root_mean_squared_error: 0.0573\n",
      "Epoch 16/100\n",
      "36/36 [==============================] - 6s 164ms/step - loss: 0.0019 - root_mean_squared_error: 0.0435\n",
      "Epoch 17/100\n",
      " 9/36 [======>.......................] - ETA: 4s - loss: 0.0020 - root_mean_squared_error: 0.0449"
     ]
    },
    {
     "name": "stderr",
     "output_type": "stream",
     "text": [
      "wandb: ERROR Dropped streaming file chunk (see wandb/debug-internal.log)\n",
      "ERROR:root:dropped chunk 404 Client Error: Not Found for url: https://api.wandb.ai/files/alpheron/stock-predictions/ys0nc3xp/file_stream\n",
      "NoneType: None\n"
     ]
    },
    {
     "name": "stdout",
     "output_type": "stream",
     "text": [
      "33/36 [==========================>...] - ETA: 0s - loss: 0.0012 - root_mean_squared_error: 0.0340"
     ]
    },
    {
     "name": "stderr",
     "output_type": "stream",
     "text": [
      "wandb: ERROR Dropped streaming file chunk (see wandb/debug-internal.log)\n",
      "ERROR:root:dropped chunk 404 Client Error: Not Found for url: https://api.wandb.ai/files/alpheron/stock-predictions/3mjmhs28/file_stream\n",
      "NoneType: None\n"
     ]
    },
    {
     "name": "stdout",
     "output_type": "stream",
     "text": [
      "36/36 [==============================] - 6s 171ms/step - loss: 0.0011 - root_mean_squared_error: 0.0336\n",
      "Epoch 18/100\n",
      "36/36 [==============================] - 6s 174ms/step - loss: 6.7386e-04 - root_mean_squared_error: 0.0260\n",
      "Epoch 19/100\n",
      "36/36 [==============================] - 6s 161ms/step - loss: 4.8651e-04 - root_mean_squared_error: 0.0221\n",
      "Epoch 20/100\n",
      "36/36 [==============================] - 6s 175ms/step - loss: 4.3657e-04 - root_mean_squared_error: 0.0209\n",
      "Epoch 21/100\n",
      "36/36 [==============================] - 6s 163ms/step - loss: 4.2025e-04 - root_mean_squared_error: 0.0205\n",
      "Epoch 22/100\n",
      "10/36 [=======>......................] - ETA: 3s - loss: 4.7919e-04 - root_mean_squared_error: 0.0219"
     ]
    },
    {
     "name": "stderr",
     "output_type": "stream",
     "text": [
      "wandb: ERROR Dropped streaming file chunk (see wandb/debug-internal.log)\n",
      "ERROR:root:dropped chunk 404 Client Error: Not Found for url: https://api.wandb.ai/files/alpheron/stock-predictions/ys0nc3xp/file_stream\n",
      "NoneType: None\n"
     ]
    },
    {
     "name": "stdout",
     "output_type": "stream",
     "text": [
      "32/36 [=========================>....] - ETA: 0s - loss: 3.8589e-04 - root_mean_squared_error: 0.0196"
     ]
    },
    {
     "name": "stderr",
     "output_type": "stream",
     "text": [
      "wandb: ERROR Dropped streaming file chunk (see wandb/debug-internal.log)\n",
      "ERROR:root:dropped chunk 404 Client Error: Not Found for url: https://api.wandb.ai/files/alpheron/stock-predictions/3mjmhs28/file_stream\n",
      "NoneType: None\n"
     ]
    },
    {
     "name": "stdout",
     "output_type": "stream",
     "text": [
      "36/36 [==============================] - 6s 179ms/step - loss: 3.7222e-04 - root_mean_squared_error: 0.0193\n",
      "Epoch 23/100\n",
      "36/36 [==============================] - 6s 171ms/step - loss: 3.9344e-04 - root_mean_squared_error: 0.0198\n",
      "Epoch 24/100\n",
      "36/36 [==============================] - 6s 162ms/step - loss: 4.1671e-04 - root_mean_squared_error: 0.0204\n",
      "Epoch 25/100\n",
      "36/36 [==============================] - 6s 166ms/step - loss: 3.9679e-04 - root_mean_squared_error: 0.0199\n",
      "Epoch 26/100\n",
      "36/36 [==============================] - 6s 157ms/step - loss: 3.7638e-04 - root_mean_squared_error: 0.0194\n",
      "Epoch 27/100\n",
      "12/36 [=========>....................] - ETA: 3s - loss: 2.4691e-04 - root_mean_squared_error: 0.0157"
     ]
    },
    {
     "name": "stderr",
     "output_type": "stream",
     "text": [
      "wandb: ERROR Dropped streaming file chunk (see wandb/debug-internal.log)\n",
      "ERROR:root:dropped chunk 404 Client Error: Not Found for url: https://api.wandb.ai/files/alpheron/stock-predictions/ys0nc3xp/file_stream\n",
      "NoneType: None\n"
     ]
    },
    {
     "name": "stdout",
     "output_type": "stream",
     "text": [
      "35/36 [============================>.] - ETA: 0s - loss: 3.9900e-04 - root_mean_squared_error: 0.0200"
     ]
    },
    {
     "name": "stderr",
     "output_type": "stream",
     "text": [
      "wandb: ERROR Dropped streaming file chunk (see wandb/debug-internal.log)\n",
      "ERROR:root:dropped chunk 404 Client Error: Not Found for url: https://api.wandb.ai/files/alpheron/stock-predictions/3mjmhs28/file_stream\n",
      "NoneType: None\n"
     ]
    },
    {
     "name": "stdout",
     "output_type": "stream",
     "text": [
      "36/36 [==============================] - 6s 162ms/step - loss: 4.1031e-04 - root_mean_squared_error: 0.0203\n"
     ]
    },
    {
     "name": "stderr",
     "output_type": "stream",
     "text": [
      "WARNING:absl:Found untraced functions such as gru_cell_layer_call_fn, gru_cell_layer_call_and_return_conditional_losses while saving (showing 2 of 2). These functions will not be directly callable after loading.\n"
     ]
    },
    {
     "name": "stdout",
     "output_type": "stream",
     "text": [
      "INFO:tensorflow:Assets written to: /Users/aditya/Programming/stock-market-predictions/logs/MSFT-5-Year/assets\n"
     ]
    },
    {
     "name": "stderr",
     "output_type": "stream",
     "text": [
      "INFO:tensorflow:Assets written to: /Users/aditya/Programming/stock-market-predictions/logs/MSFT-5-Year/assets\n",
      "WARNING:absl:<keras.layers.recurrent.GRUCell object at 0x7fb53cd66c70> has the same name 'GRUCell' as a built-in Keras object. Consider renaming <class 'keras.layers.recurrent.GRUCell'> to avoid naming conflicts when loading with `tf.keras.models.load_model`. If renaming is not possible, pass the object in the `custom_objects` parameter of the load function.\n"
     ]
    },
    {
     "name": "stdout",
     "output_type": "stream",
     "text": [
      "(63, 60, 1)\n"
     ]
    },
    {
     "name": "stderr",
     "output_type": "stream",
     "text": [
      "2022-02-27 14:11:55.077759: I tensorflow/core/grappler/optimizers/custom_graph_optimizer_registry.cc:113] Plugin optimizer for device_type GPU is enabled.\n",
      "2022-02-27 14:11:55.313718: I tensorflow/core/grappler/optimizers/custom_graph_optimizer_registry.cc:113] Plugin optimizer for device_type GPU is enabled.\n",
      "\u001b[34m\u001b[1mwandb\u001b[0m: Adding directory to artifact (/Users/aditya/Programming/stock-market-predictions/logs/MSFT-5-Year)... Done. 0.0s\n"
     ]
    },
    {
     "name": "stdout",
     "output_type": "stream",
     "text": [
      "the root mean squared error is: 10.11541704548366\n"
     ]
    },
    {
     "data": {
      "text/html": [
       "<br/>Waiting for W&B process to finish, PID 639... <strong style=\"color:green\">(success).</strong>"
      ],
      "text/plain": [
       "<IPython.core.display.HTML object>"
      ]
     },
     "metadata": {},
     "output_type": "display_data"
    },
    {
     "data": {
      "application/vnd.jupyter.widget-view+json": {
       "model_id": "7f5f41dd56104816ab85198e92c10d33",
       "version_major": 2,
       "version_minor": 0
      },
      "text/plain": [
       "VBox(children=(Label(value=' 0.88MB of 0.88MB uploaded (0.00MB deduped)\\r'), FloatProgress(value=1.0, max=1.0)…"
      ]
     },
     "metadata": {},
     "output_type": "display_data"
    },
    {
     "data": {
      "text/html": [
       "<style>\n",
       "    table.wandb td:nth-child(1) { padding: 0 10px; text-align: right }\n",
       "    .wandb-row { display: flex; flex-direction: row; flex-wrap: wrap; width: 100% }\n",
       "    .wandb-col { display: flex; flex-direction: column; flex-basis: 100%; flex: 1; padding: 10px; }\n",
       "    </style>\n",
       "<div class=\"wandb-row\"><div class=\"wandb-col\">\n",
       "<h3>Run history:</h3><br/><table class=\"wandb\"><tr><td>epoch</td><td>▁▁▂▂▂▂▃▃▃▃▄▄▄▅▅▅▅▆▆▆▆▇▇▇▇██</td></tr><tr><td>loss</td><td>█▇▅▃▃▂▂▂▂▂▁▁▁▁▁▁▁▁▁▁▁▁▁▁▁▁▁</td></tr><tr><td>root_mean_square_error</td><td>▁</td></tr><tr><td>root_mean_squared_error</td><td>█▇▆▅▄▄▃▃▃▃▃▂▂▂▂▁▁▁▁▁▁▁▁▁▁▁▁</td></tr></table><br/></div><div class=\"wandb-col\">\n",
       "<h3>Run summary:</h3><br/><table class=\"wandb\"><tr><td>epoch</td><td>26</td></tr><tr><td>loss</td><td>0.00041</td></tr><tr><td>root_mean_square_error</td><td>10.11542</td></tr><tr><td>root_mean_squared_error</td><td>0.02026</td></tr></table>\n",
       "</div></div>\n",
       "Synced 6 W&B file(s), 1 media file(s), 4 artifact file(s) and 1 other file(s)\n",
       "<br/>Synced <strong style=\"color:#cdcd00\">noble-sweep-4</strong>: <a href=\"https://wandb.ai/alpheron/stock-predictions/runs/9jbxbvb0\" target=\"_blank\">https://wandb.ai/alpheron/stock-predictions/runs/9jbxbvb0</a><br/>\n",
       "Find logs at: <code>./wandb/run-20220227_140837-9jbxbvb0/logs</code><br/>\n"
      ],
      "text/plain": [
       "<IPython.core.display.HTML object>"
      ]
     },
     "metadata": {},
     "output_type": "display_data"
    },
    {
     "name": "stderr",
     "output_type": "stream",
     "text": [
      "\u001b[34m\u001b[1mwandb\u001b[0m: Agent Starting Run: bok2xhly with config:\n",
      "\u001b[34m\u001b[1mwandb\u001b[0m: \tGRU_UNITS: 65\n",
      "\u001b[34m\u001b[1mwandb\u001b[0m: \tepochs: 100\n",
      "\u001b[34m\u001b[1mwandb\u001b[0m: \u001b[33mWARNING\u001b[0m Ignored wandb.init() arg project when running a sweep.\n",
      "\u001b[34m\u001b[1mwandb\u001b[0m: \u001b[33mWARNING\u001b[0m Ignored wandb.init() arg entity when running a sweep.\n",
      "wandb: ERROR Dropped streaming file chunk (see wandb/debug-internal.log)\n",
      "ERROR:root:dropped chunk 404 Client Error: Not Found for url: https://api.wandb.ai/files/alpheron/stock-predictions/ys0nc3xp/file_stream\n",
      "NoneType: None\n"
     ]
    },
    {
     "data": {
      "text/html": [
       "\n",
       "                    Syncing run <strong><a href=\"https://wandb.ai/alpheron/stock-predictions/runs/bok2xhly\" target=\"_blank\">major-sweep-5</a></strong> to <a href=\"https://wandb.ai/alpheron/stock-predictions\" target=\"_blank\">Weights & Biases</a> (<a href=\"https://docs.wandb.com/integrations/jupyter.html\" target=\"_blank\">docs</a>).<br/>\n",
       "Sweep page: <a href=\"https://wandb.ai/alpheron/stock-predictions/sweeps/831500mq\" target=\"_blank\">https://wandb.ai/alpheron/stock-predictions/sweeps/831500mq</a><br/>\n",
       "\n",
       "                "
      ],
      "text/plain": [
       "<IPython.core.display.HTML object>"
      ]
     },
     "metadata": {},
     "output_type": "display_data"
    },
    {
     "name": "stderr",
     "output_type": "stream",
     "text": [
      "wandb: ERROR Dropped streaming file chunk (see wandb/debug-internal.log)\n",
      "ERROR:root:dropped chunk 404 Client Error: Not Found for url: https://api.wandb.ai/files/alpheron/stock-predictions/3mjmhs28/file_stream\n",
      "NoneType: None\n"
     ]
    },
    {
     "name": "stdout",
     "output_type": "stream",
     "text": [
      "Epoch 1/100\n"
     ]
    },
    {
     "name": "stderr",
     "output_type": "stream",
     "text": [
      "2022-02-27 14:12:29.948202: I tensorflow/core/grappler/optimizers/custom_graph_optimizer_registry.cc:113] Plugin optimizer for device_type GPU is enabled.\n",
      "2022-02-27 14:12:30.768777: I tensorflow/core/grappler/optimizers/custom_graph_optimizer_registry.cc:113] Plugin optimizer for device_type GPU is enabled.\n",
      "2022-02-27 14:12:31.370625: I tensorflow/core/grappler/optimizers/custom_graph_optimizer_registry.cc:113] Plugin optimizer for device_type GPU is enabled.\n"
     ]
    },
    {
     "name": "stdout",
     "output_type": "stream",
     "text": [
      "36/36 [==============================] - 12s 209ms/step - loss: 0.2682 - root_mean_squared_error: 0.5179\n",
      "Epoch 2/100\n",
      "26/36 [====================>.........] - ETA: 1s - loss: 0.2138 - root_mean_squared_error: 0.4624"
     ]
    },
    {
     "name": "stderr",
     "output_type": "stream",
     "text": [
      "wandb: ERROR Dropped streaming file chunk (see wandb/debug-internal.log)\n",
      "ERROR:root:dropped chunk 404 Client Error: Not Found for url: https://api.wandb.ai/files/alpheron/stock-predictions/ys0nc3xp/file_stream\n",
      "NoneType: None\n"
     ]
    },
    {
     "name": "stdout",
     "output_type": "stream",
     "text": [
      "36/36 [==============================] - 7s 179ms/step - loss: 0.2120 - root_mean_squared_error: 0.4605\n",
      "Epoch 3/100\n",
      "14/36 [==========>...................] - ETA: 3s - loss: 0.1138 - root_mean_squared_error: 0.3373"
     ]
    },
    {
     "name": "stderr",
     "output_type": "stream",
     "text": [
      "wandb: ERROR Dropped streaming file chunk (see wandb/debug-internal.log)\n",
      "ERROR:root:dropped chunk 404 Client Error: Not Found for url: https://api.wandb.ai/files/alpheron/stock-predictions/3mjmhs28/file_stream\n",
      "NoneType: None\n"
     ]
    },
    {
     "name": "stdout",
     "output_type": "stream",
     "text": [
      "36/36 [==============================] - 6s 158ms/step - loss: 0.1490 - root_mean_squared_error: 0.3861\n",
      "Epoch 4/100\n",
      "36/36 [==============================] - 6s 153ms/step - loss: 0.0937 - root_mean_squared_error: 0.3062\n",
      "Epoch 5/100\n",
      "36/36 [==============================] - 6s 158ms/step - loss: 0.0647 - root_mean_squared_error: 0.2543\n",
      "Epoch 6/100\n",
      "36/36 [==============================] - 6s 155ms/step - loss: 0.0469 - root_mean_squared_error: 0.2165\n",
      "Epoch 7/100\n",
      "36/36 [==============================] - 6s 157ms/step - loss: 0.0362 - root_mean_squared_error: 0.1903\n",
      "Epoch 8/100\n",
      " 2/36 [>.............................] - ETA: 4s - loss: 0.0262 - root_mean_squared_error: 0.1618"
     ]
    },
    {
     "name": "stderr",
     "output_type": "stream",
     "text": [
      "wandb: ERROR Dropped streaming file chunk (see wandb/debug-internal.log)\n",
      "ERROR:root:dropped chunk 404 Client Error: Not Found for url: https://api.wandb.ai/files/alpheron/stock-predictions/ys0nc3xp/file_stream\n",
      "NoneType: None\n"
     ]
    },
    {
     "name": "stdout",
     "output_type": "stream",
     "text": [
      "29/36 [=======================>......] - ETA: 1s - loss: 0.0324 - root_mean_squared_error: 0.1801"
     ]
    },
    {
     "name": "stderr",
     "output_type": "stream",
     "text": [
      "wandb: ERROR Dropped streaming file chunk (see wandb/debug-internal.log)\n",
      "ERROR:root:dropped chunk 404 Client Error: Not Found for url: https://api.wandb.ai/files/alpheron/stock-predictions/3mjmhs28/file_stream\n",
      "NoneType: None\n"
     ]
    },
    {
     "name": "stdout",
     "output_type": "stream",
     "text": [
      "36/36 [==============================] - 5s 148ms/step - loss: 0.0314 - root_mean_squared_error: 0.1773\n",
      "Epoch 9/100\n",
      "36/36 [==============================] - 6s 152ms/step - loss: 0.0270 - root_mean_squared_error: 0.1644\n",
      "Epoch 10/100\n",
      "36/36 [==============================] - 5s 151ms/step - loss: 0.0209 - root_mean_squared_error: 0.1446\n",
      "Epoch 11/100\n",
      "36/36 [==============================] - 6s 158ms/step - loss: 0.0159 - root_mean_squared_error: 0.1262\n",
      "Epoch 12/100\n",
      "36/36 [==============================] - 5s 152ms/step - loss: 0.0113 - root_mean_squared_error: 0.1061\n",
      "Epoch 13/100\n",
      "20/36 [===============>..............] - ETA: 2s - loss: 0.0080 - root_mean_squared_error: 0.0896"
     ]
    },
    {
     "name": "stderr",
     "output_type": "stream",
     "text": [
      "wandb: ERROR Dropped streaming file chunk (see wandb/debug-internal.log)\n",
      "ERROR:root:dropped chunk 404 Client Error: Not Found for url: https://api.wandb.ai/files/alpheron/stock-predictions/ys0nc3xp/file_stream\n",
      "NoneType: None\n"
     ]
    },
    {
     "name": "stdout",
     "output_type": "stream",
     "text": [
      "36/36 [==============================] - 6s 153ms/step - loss: 0.0073 - root_mean_squared_error: 0.0854\n",
      "Epoch 14/100\n",
      "10/36 [=======>......................] - ETA: 3s - loss: 0.0042 - root_mean_squared_error: 0.0647"
     ]
    },
    {
     "name": "stderr",
     "output_type": "stream",
     "text": [
      "wandb: ERROR Dropped streaming file chunk (see wandb/debug-internal.log)\n",
      "ERROR:root:dropped chunk 404 Client Error: Not Found for url: https://api.wandb.ai/files/alpheron/stock-predictions/3mjmhs28/file_stream\n",
      "NoneType: None\n"
     ]
    },
    {
     "name": "stdout",
     "output_type": "stream",
     "text": [
      "36/36 [==============================] - 5s 150ms/step - loss: 0.0047 - root_mean_squared_error: 0.0682\n",
      "Epoch 15/100\n",
      "36/36 [==============================] - 6s 153ms/step - loss: 0.0026 - root_mean_squared_error: 0.0511\n",
      "Epoch 16/100\n",
      "36/36 [==============================] - 6s 155ms/step - loss: 0.0012 - root_mean_squared_error: 0.0351\n",
      "Epoch 17/100\n",
      "36/36 [==============================] - 6s 171ms/step - loss: 6.6940e-04 - root_mean_squared_error: 0.0259\n",
      "Epoch 18/100\n",
      "32/36 [=========================>....] - ETA: 0s - loss: 4.4660e-04 - root_mean_squared_error: 0.0211"
     ]
    },
    {
     "name": "stderr",
     "output_type": "stream",
     "text": [
      "wandb: ERROR Dropped streaming file chunk (see wandb/debug-internal.log)\n",
      "ERROR:root:dropped chunk 404 Client Error: Not Found for url: https://api.wandb.ai/files/alpheron/stock-predictions/ys0nc3xp/file_stream\n",
      "NoneType: None\n"
     ]
    },
    {
     "name": "stdout",
     "output_type": "stream",
     "text": [
      "36/36 [==============================] - 6s 166ms/step - loss: 4.7440e-04 - root_mean_squared_error: 0.0218\n",
      "Epoch 19/100\n",
      "20/36 [===============>..............] - ETA: 2s - loss: 4.4415e-04 - root_mean_squared_error: 0.0211"
     ]
    },
    {
     "name": "stderr",
     "output_type": "stream",
     "text": [
      "wandb: ERROR Dropped streaming file chunk (see wandb/debug-internal.log)\n",
      "ERROR:root:dropped chunk 404 Client Error: Not Found for url: https://api.wandb.ai/files/alpheron/stock-predictions/3mjmhs28/file_stream\n",
      "NoneType: None\n"
     ]
    },
    {
     "name": "stdout",
     "output_type": "stream",
     "text": [
      "36/36 [==============================] - 5s 150ms/step - loss: 4.2403e-04 - root_mean_squared_error: 0.0206\n",
      "Epoch 20/100\n",
      "36/36 [==============================] - 5s 128ms/step - loss: 4.0999e-04 - root_mean_squared_error: 0.0202\n",
      "Epoch 21/100\n",
      "36/36 [==============================] - 6s 159ms/step - loss: 4.3465e-04 - root_mean_squared_error: 0.0208\n",
      "Epoch 22/100\n",
      "36/36 [==============================] - 5s 147ms/step - loss: 4.4497e-04 - root_mean_squared_error: 0.0211\n",
      "Epoch 23/100\n",
      "36/36 [==============================] - 6s 157ms/step - loss: 4.4230e-04 - root_mean_squared_error: 0.0210\n",
      "Epoch 24/100\n",
      "18/36 [==============>...............] - ETA: 2s - loss: 4.4415e-04 - root_mean_squared_error: 0.0211"
     ]
    },
    {
     "name": "stderr",
     "output_type": "stream",
     "text": [
      "wandb: ERROR Dropped streaming file chunk (see wandb/debug-internal.log)\n",
      "ERROR:root:dropped chunk 404 Client Error: Not Found for url: https://api.wandb.ai/files/alpheron/stock-predictions/ys0nc3xp/file_stream\n",
      "NoneType: None\n"
     ]
    },
    {
     "name": "stdout",
     "output_type": "stream",
     "text": [
      "36/36 [==============================] - 6s 151ms/step - loss: 4.4337e-04 - root_mean_squared_error: 0.0211\n",
      "Epoch 25/100\n",
      " 8/36 [=====>........................] - ETA: 4s - loss: 2.7464e-04 - root_mean_squared_error: 0.0166"
     ]
    },
    {
     "name": "stderr",
     "output_type": "stream",
     "text": [
      "wandb: ERROR Dropped streaming file chunk (see wandb/debug-internal.log)\n",
      "ERROR:root:dropped chunk 404 Client Error: Not Found for url: https://api.wandb.ai/files/alpheron/stock-predictions/3mjmhs28/file_stream\n",
      "NoneType: None\n"
     ]
    },
    {
     "name": "stdout",
     "output_type": "stream",
     "text": [
      "36/36 [==============================] - 5s 152ms/step - loss: 4.3295e-04 - root_mean_squared_error: 0.0208\n"
     ]
    },
    {
     "name": "stderr",
     "output_type": "stream",
     "text": [
      "WARNING:absl:Found untraced functions such as gru_cell_layer_call_fn, gru_cell_layer_call_and_return_conditional_losses while saving (showing 2 of 2). These functions will not be directly callable after loading.\n"
     ]
    },
    {
     "name": "stdout",
     "output_type": "stream",
     "text": [
      "INFO:tensorflow:Assets written to: /Users/aditya/Programming/stock-market-predictions/logs/MSFT-5-Year/assets\n"
     ]
    },
    {
     "name": "stderr",
     "output_type": "stream",
     "text": [
      "INFO:tensorflow:Assets written to: /Users/aditya/Programming/stock-market-predictions/logs/MSFT-5-Year/assets\n",
      "WARNING:absl:<keras.layers.recurrent.GRUCell object at 0x7fb53fd39730> has the same name 'GRUCell' as a built-in Keras object. Consider renaming <class 'keras.layers.recurrent.GRUCell'> to avoid naming conflicts when loading with `tf.keras.models.load_model`. If renaming is not possible, pass the object in the `custom_objects` parameter of the load function.\n"
     ]
    },
    {
     "name": "stdout",
     "output_type": "stream",
     "text": [
      "(63, 60, 1)\n"
     ]
    },
    {
     "name": "stderr",
     "output_type": "stream",
     "text": [
      "2022-02-27 14:15:00.330687: I tensorflow/core/grappler/optimizers/custom_graph_optimizer_registry.cc:113] Plugin optimizer for device_type GPU is enabled.\n",
      "2022-02-27 14:15:00.586300: I tensorflow/core/grappler/optimizers/custom_graph_optimizer_registry.cc:113] Plugin optimizer for device_type GPU is enabled.\n"
     ]
    },
    {
     "name": "stdout",
     "output_type": "stream",
     "text": [
      "WARNING:tensorflow:5 out of the last 9 calls to <function Model.make_predict_function.<locals>.predict_function at 0x7fb5549cc940> triggered tf.function retracing. Tracing is expensive and the excessive number of tracings could be due to (1) creating @tf.function repeatedly in a loop, (2) passing tensors with different shapes, (3) passing Python objects instead of tensors. For (1), please define your @tf.function outside of the loop. For (2), @tf.function has experimental_relax_shapes=True option that relaxes argument shapes that can avoid unnecessary retracing. For (3), please refer to https://www.tensorflow.org/guide/function#controlling_retracing and https://www.tensorflow.org/api_docs/python/tf/function for  more details.\n"
     ]
    },
    {
     "name": "stderr",
     "output_type": "stream",
     "text": [
      "WARNING:tensorflow:5 out of the last 9 calls to <function Model.make_predict_function.<locals>.predict_function at 0x7fb5549cc940> triggered tf.function retracing. Tracing is expensive and the excessive number of tracings could be due to (1) creating @tf.function repeatedly in a loop, (2) passing tensors with different shapes, (3) passing Python objects instead of tensors. For (1), please define your @tf.function outside of the loop. For (2), @tf.function has experimental_relax_shapes=True option that relaxes argument shapes that can avoid unnecessary retracing. For (3), please refer to https://www.tensorflow.org/guide/function#controlling_retracing and https://www.tensorflow.org/api_docs/python/tf/function for  more details.\n",
      "\u001b[34m\u001b[1mwandb\u001b[0m: Adding directory to artifact (/Users/aditya/Programming/stock-market-predictions/logs/MSFT-5-Year)... Done. 0.0s\n"
     ]
    },
    {
     "name": "stdout",
     "output_type": "stream",
     "text": [
      "the root mean squared error is: 10.140801607165269\n"
     ]
    },
    {
     "data": {
      "text/html": [
       "<br/>Waiting for W&B process to finish, PID 1062... <strong style=\"color:green\">(success).</strong>"
      ],
      "text/plain": [
       "<IPython.core.display.HTML object>"
      ]
     },
     "metadata": {},
     "output_type": "display_data"
    },
    {
     "data": {
      "application/vnd.jupyter.widget-view+json": {
       "model_id": "b08687ecc4644ee9bbea281a558e3df0",
       "version_major": 2,
       "version_minor": 0
      },
      "text/plain": [
       "VBox(children=(Label(value=' 0.88MB of 0.88MB uploaded (0.01MB deduped)\\r'), FloatProgress(value=1.0, max=1.0)…"
      ]
     },
     "metadata": {},
     "output_type": "display_data"
    },
    {
     "data": {
      "text/html": [
       "<style>\n",
       "    table.wandb td:nth-child(1) { padding: 0 10px; text-align: right }\n",
       "    .wandb-row { display: flex; flex-direction: row; flex-wrap: wrap; width: 100% }\n",
       "    .wandb-col { display: flex; flex-direction: column; flex-basis: 100%; flex: 1; padding: 10px; }\n",
       "    </style>\n",
       "<div class=\"wandb-row\"><div class=\"wandb-col\">\n",
       "<h3>Run history:</h3><br/><table class=\"wandb\"><tr><td>epoch</td><td>▁▁▂▂▂▂▃▃▃▄▄▄▅▅▅▅▆▆▆▇▇▇▇██</td></tr><tr><td>loss</td><td>█▇▅▃▃▂▂▂▂▂▁▁▁▁▁▁▁▁▁▁▁▁▁▁▁</td></tr><tr><td>root_mean_square_error</td><td>▁</td></tr><tr><td>root_mean_squared_error</td><td>█▇▆▅▄▄▃▃▃▃▂▂▂▂▁▁▁▁▁▁▁▁▁▁▁</td></tr></table><br/></div><div class=\"wandb-col\">\n",
       "<h3>Run summary:</h3><br/><table class=\"wandb\"><tr><td>epoch</td><td>24</td></tr><tr><td>loss</td><td>0.00043</td></tr><tr><td>root_mean_square_error</td><td>10.1408</td></tr><tr><td>root_mean_squared_error</td><td>0.02081</td></tr></table>\n",
       "</div></div>\n",
       "Synced 6 W&B file(s), 1 media file(s), 4 artifact file(s) and 1 other file(s)\n",
       "<br/>Synced <strong style=\"color:#cdcd00\">major-sweep-5</strong>: <a href=\"https://wandb.ai/alpheron/stock-predictions/runs/bok2xhly\" target=\"_blank\">https://wandb.ai/alpheron/stock-predictions/runs/bok2xhly</a><br/>\n",
       "Find logs at: <code>./wandb/run-20220227_141208-bok2xhly/logs</code><br/>\n"
      ],
      "text/plain": [
       "<IPython.core.display.HTML object>"
      ]
     },
     "metadata": {},
     "output_type": "display_data"
    },
    {
     "name": "stderr",
     "output_type": "stream",
     "text": [
      "\u001b[34m\u001b[1mwandb\u001b[0m: Agent Starting Run: 30qv67nx with config:\n",
      "\u001b[34m\u001b[1mwandb\u001b[0m: \tGRU_UNITS: 45\n",
      "\u001b[34m\u001b[1mwandb\u001b[0m: \tepochs: 100\n",
      "\u001b[34m\u001b[1mwandb\u001b[0m: \u001b[33mWARNING\u001b[0m Ignored wandb.init() arg project when running a sweep.\n",
      "\u001b[34m\u001b[1mwandb\u001b[0m: \u001b[33mWARNING\u001b[0m Ignored wandb.init() arg entity when running a sweep.\n",
      "wandb: ERROR Dropped streaming file chunk (see wandb/debug-internal.log)\n",
      "ERROR:root:dropped chunk 404 Client Error: Not Found for url: https://api.wandb.ai/files/alpheron/stock-predictions/ys0nc3xp/file_stream\n",
      "NoneType: None\n",
      "wandb: ERROR Dropped streaming file chunk (see wandb/debug-internal.log)\n",
      "ERROR:root:dropped chunk 404 Client Error: Not Found for url: https://api.wandb.ai/files/alpheron/stock-predictions/3mjmhs28/file_stream\n",
      "NoneType: None\n"
     ]
    },
    {
     "data": {
      "text/html": [
       "\n",
       "                    Syncing run <strong><a href=\"https://wandb.ai/alpheron/stock-predictions/runs/30qv67nx\" target=\"_blank\">driven-sweep-6</a></strong> to <a href=\"https://wandb.ai/alpheron/stock-predictions\" target=\"_blank\">Weights & Biases</a> (<a href=\"https://docs.wandb.com/integrations/jupyter.html\" target=\"_blank\">docs</a>).<br/>\n",
       "Sweep page: <a href=\"https://wandb.ai/alpheron/stock-predictions/sweeps/831500mq\" target=\"_blank\">https://wandb.ai/alpheron/stock-predictions/sweeps/831500mq</a><br/>\n",
       "\n",
       "                "
      ],
      "text/plain": [
       "<IPython.core.display.HTML object>"
      ]
     },
     "metadata": {},
     "output_type": "display_data"
    },
    {
     "name": "stdout",
     "output_type": "stream",
     "text": [
      "Epoch 1/100\n"
     ]
    },
    {
     "name": "stderr",
     "output_type": "stream",
     "text": [
      "2022-02-27 14:15:38.615498: I tensorflow/core/grappler/optimizers/custom_graph_optimizer_registry.cc:113] Plugin optimizer for device_type GPU is enabled.\n",
      "2022-02-27 14:15:39.417505: I tensorflow/core/grappler/optimizers/custom_graph_optimizer_registry.cc:113] Plugin optimizer for device_type GPU is enabled.\n",
      "2022-02-27 14:15:40.041744: I tensorflow/core/grappler/optimizers/custom_graph_optimizer_registry.cc:113] Plugin optimizer for device_type GPU is enabled.\n"
     ]
    },
    {
     "name": "stdout",
     "output_type": "stream",
     "text": [
      "31/36 [========================>.....] - ETA: 1s - loss: 0.2733 - root_mean_squared_error: 0.5228"
     ]
    },
    {
     "name": "stderr",
     "output_type": "stream",
     "text": [
      "wandb: ERROR Dropped streaming file chunk (see wandb/debug-internal.log)\n",
      "ERROR:root:dropped chunk 404 Client Error: Not Found for url: https://api.wandb.ai/files/alpheron/stock-predictions/ys0nc3xp/file_stream\n",
      "NoneType: None\n"
     ]
    },
    {
     "name": "stdout",
     "output_type": "stream",
     "text": [
      "36/36 [==============================] - 16s 220ms/step - loss: 0.2715 - root_mean_squared_error: 0.5210\n",
      "Epoch 2/100\n",
      "16/36 [============>.................] - ETA: 3s - loss: 0.2761 - root_mean_squared_error: 0.5255"
     ]
    },
    {
     "name": "stderr",
     "output_type": "stream",
     "text": [
      "wandb: ERROR Dropped streaming file chunk (see wandb/debug-internal.log)\n",
      "ERROR:root:dropped chunk 404 Client Error: Not Found for url: https://api.wandb.ai/files/alpheron/stock-predictions/3mjmhs28/file_stream\n",
      "NoneType: None\n"
     ]
    },
    {
     "name": "stdout",
     "output_type": "stream",
     "text": [
      "36/36 [==============================] - 6s 176ms/step - loss: 0.2215 - root_mean_squared_error: 0.4706\n",
      "Epoch 3/100\n",
      "36/36 [==============================] - 6s 161ms/step - loss: 0.1630 - root_mean_squared_error: 0.4038\n",
      "Epoch 4/100\n",
      "36/36 [==============================] - 6s 165ms/step - loss: 0.1156 - root_mean_squared_error: 0.3400\n",
      "Epoch 5/100\n",
      "36/36 [==============================] - 6s 165ms/step - loss: 0.0773 - root_mean_squared_error: 0.2779\n",
      "Epoch 6/100\n",
      "35/36 [============================>.] - ETA: 0s - loss: 0.0481 - root_mean_squared_error: 0.2194"
     ]
    },
    {
     "name": "stderr",
     "output_type": "stream",
     "text": [
      "wandb: ERROR Dropped streaming file chunk (see wandb/debug-internal.log)\n",
      "ERROR:root:dropped chunk 404 Client Error: Not Found for url: https://api.wandb.ai/files/alpheron/stock-predictions/ys0nc3xp/file_stream\n",
      "NoneType: None\n"
     ]
    },
    {
     "name": "stdout",
     "output_type": "stream",
     "text": [
      "36/36 [==============================] - 6s 152ms/step - loss: 0.0534 - root_mean_squared_error: 0.2310\n",
      "Epoch 7/100\n",
      "22/36 [=================>............] - ETA: 2s - loss: 0.0536 - root_mean_squared_error: 0.2315"
     ]
    },
    {
     "name": "stderr",
     "output_type": "stream",
     "text": [
      "wandb: ERROR Dropped streaming file chunk (see wandb/debug-internal.log)\n",
      "ERROR:root:dropped chunk 404 Client Error: Not Found for url: https://api.wandb.ai/files/alpheron/stock-predictions/3mjmhs28/file_stream\n",
      "NoneType: None\n"
     ]
    },
    {
     "name": "stdout",
     "output_type": "stream",
     "text": [
      "36/36 [==============================] - 6s 164ms/step - loss: 0.0433 - root_mean_squared_error: 0.2082\n",
      "Epoch 8/100\n",
      "36/36 [==============================] - 7s 201ms/step - loss: 0.0360 - root_mean_squared_error: 0.1897\n",
      "Epoch 9/100\n",
      "36/36 [==============================] - 6s 178ms/step - loss: 0.0312 - root_mean_squared_error: 0.1766\n",
      "Epoch 10/100\n",
      "36/36 [==============================] - 6s 159ms/step - loss: 0.0259 - root_mean_squared_error: 0.1608\n",
      "Epoch 11/100\n",
      "25/36 [===================>..........] - ETA: 2s - loss: 0.0251 - root_mean_squared_error: 0.1585"
     ]
    },
    {
     "name": "stderr",
     "output_type": "stream",
     "text": [
      "wandb: ERROR Dropped streaming file chunk (see wandb/debug-internal.log)\n",
      "ERROR:root:dropped chunk 404 Client Error: Not Found for url: https://api.wandb.ai/files/alpheron/stock-predictions/ys0nc3xp/file_stream\n",
      "NoneType: None\n"
     ]
    },
    {
     "name": "stdout",
     "output_type": "stream",
     "text": [
      "36/36 [==============================] - 6s 179ms/step - loss: 0.0218 - root_mean_squared_error: 0.1477\n",
      "Epoch 12/100\n",
      "15/36 [===========>..................] - ETA: 3s - loss: 0.0172 - root_mean_squared_error: 0.1310"
     ]
    },
    {
     "name": "stderr",
     "output_type": "stream",
     "text": [
      "wandb: ERROR Dropped streaming file chunk (see wandb/debug-internal.log)\n",
      "ERROR:root:dropped chunk 404 Client Error: Not Found for url: https://api.wandb.ai/files/alpheron/stock-predictions/3mjmhs28/file_stream\n",
      "NoneType: None\n"
     ]
    },
    {
     "name": "stdout",
     "output_type": "stream",
     "text": [
      "36/36 [==============================] - 5s 147ms/step - loss: 0.0171 - root_mean_squared_error: 0.1308\n",
      "Epoch 13/100\n",
      "36/36 [==============================] - 6s 166ms/step - loss: 0.0135 - root_mean_squared_error: 0.1161\n",
      "Epoch 14/100\n",
      "36/36 [==============================] - 6s 174ms/step - loss: 0.0095 - root_mean_squared_error: 0.0975\n",
      "Epoch 15/100\n",
      "36/36 [==============================] - 6s 160ms/step - loss: 0.0060 - root_mean_squared_error: 0.0775\n",
      "Epoch 16/100\n",
      " 5/36 [===>..........................] - ETA: 4s - loss: 0.0043 - root_mean_squared_error: 0.0655"
     ]
    },
    {
     "name": "stderr",
     "output_type": "stream",
     "text": [
      "\u001b[34m\u001b[1mwandb\u001b[0m: Ctrl + C detected. Stopping sweep.\n"
     ]
    },
    {
     "data": {
      "text/html": [
       "<br/>Waiting for W&B process to finish, PID 1400... <strong style=\"color:red\">(failed 1).</strong> Press ctrl-c to abort syncing."
      ],
      "text/plain": [
       "<IPython.core.display.HTML object>"
      ]
     },
     "metadata": {},
     "output_type": "display_data"
    },
    {
     "data": {
      "application/vnd.jupyter.widget-view+json": {
       "model_id": "7079dad87cb4466cbbdbdf3478b631b2",
       "version_major": 2,
       "version_minor": 0
      },
      "text/plain": [
       "VBox(children=(Label(value=' 0.24MB of 0.24MB uploaded (0.00MB deduped)\\r'), FloatProgress(value=1.0, max=1.0)…"
      ]
     },
     "metadata": {},
     "output_type": "display_data"
    },
    {
     "name": "stderr",
     "output_type": "stream",
     "text": [
      "wandb: ERROR Dropped streaming file chunk (see wandb/debug-internal.log)\n",
      "ERROR:root:dropped chunk 404 Client Error: Not Found for url: https://api.wandb.ai/files/alpheron/stock-predictions/ys0nc3xp/file_stream\n",
      "NoneType: None\n"
     ]
    },
    {
     "data": {
      "text/html": [
       "<style>\n",
       "    table.wandb td:nth-child(1) { padding: 0 10px; text-align: right }\n",
       "    .wandb-row { display: flex; flex-direction: row; flex-wrap: wrap; width: 100% }\n",
       "    .wandb-col { display: flex; flex-direction: column; flex-basis: 100%; flex: 1; padding: 10px; }\n",
       "    </style>\n",
       "<div class=\"wandb-row\"><div class=\"wandb-col\">\n",
       "<h3>Run history:</h3><br/><table class=\"wandb\"><tr><td>epoch</td><td>▁▁▂▃▃▃▄▅▅▅▆▇▇▇█</td></tr><tr><td>loss</td><td>█▇▅▄▃▂▂▂▂▂▁▁▁▁▁</td></tr><tr><td>root_mean_squared_error</td><td>█▇▆▅▄▃▃▃▃▂▂▂▂▁▁</td></tr></table><br/></div><div class=\"wandb-col\">\n",
       "<h3>Run summary:</h3><br/><table class=\"wandb\"><tr><td>epoch</td><td>14</td></tr><tr><td>loss</td><td>0.006</td></tr><tr><td>root_mean_squared_error</td><td>0.07746</td></tr></table>\n",
       "</div></div>\n",
       "Synced 6 W&B file(s), 1 media file(s), 0 artifact file(s) and 1 other file(s)\n",
       "<br/>Synced <strong style=\"color:#cdcd00\">driven-sweep-6</strong>: <a href=\"https://wandb.ai/alpheron/stock-predictions/runs/30qv67nx\" target=\"_blank\">https://wandb.ai/alpheron/stock-predictions/runs/30qv67nx</a><br/>\n",
       "Find logs at: <code>./wandb/run-20220227_141514-30qv67nx/logs</code><br/>\n"
      ],
      "text/plain": [
       "<IPython.core.display.HTML object>"
      ]
     },
     "metadata": {},
     "output_type": "display_data"
    },
    {
     "name": "stderr",
     "output_type": "stream",
     "text": [
      "wandb: ERROR Dropped streaming file chunk (see wandb/debug-internal.log)\n",
      "ERROR:root:dropped chunk 404 Client Error: Not Found for url: https://api.wandb.ai/files/alpheron/stock-predictions/3mjmhs28/file_stream\n",
      "NoneType: None\n",
      "wandb: ERROR Dropped streaming file chunk (see wandb/debug-internal.log)\n",
      "ERROR:root:dropped chunk 404 Client Error: Not Found for url: https://api.wandb.ai/files/alpheron/stock-predictions/ys0nc3xp/file_stream\n",
      "NoneType: None\n",
      "wandb: ERROR Dropped streaming file chunk (see wandb/debug-internal.log)\n",
      "ERROR:root:dropped chunk 404 Client Error: Not Found for url: https://api.wandb.ai/files/alpheron/stock-predictions/ys0nc3xp/file_stream\n",
      "NoneType: None\n",
      "wandb: ERROR Dropped streaming file chunk (see wandb/debug-internal.log)\n",
      "ERROR:root:dropped chunk 404 Client Error: Not Found for url: https://api.wandb.ai/files/alpheron/stock-predictions/ys0nc3xp/file_stream\n",
      "NoneType: None\n",
      "wandb: ERROR Dropped streaming file chunk (see wandb/debug-internal.log)\n",
      "ERROR:root:dropped chunk 404 Client Error: Not Found for url: https://api.wandb.ai/files/alpheron/stock-predictions/ys0nc3xp/file_stream\n",
      "NoneType: None\n"
     ]
    }
   ],
   "source": [
    "wandb.agent(sweep_id, function=train, project=\"stock-predictions\", entity=\"alpheron\")"
   ]
  }
 ],
 "metadata": {
  "interpreter": {
   "hash": "5e225dc237bd1c1a092e9ac5651f746e060bc6b9addf77a0a329a0bc83a46295"
  },
  "kernelspec": {
   "display_name": "Python 3.8.12 ('StockMarket')",
   "language": "python",
   "name": "python3"
  },
  "language_info": {
   "codemirror_mode": {
    "name": "ipython",
    "version": 3
   },
   "file_extension": ".py",
   "mimetype": "text/x-python",
   "name": "python",
   "nbconvert_exporter": "python",
   "pygments_lexer": "ipython3",
   "version": "3.8.12"
  },
  "orig_nbformat": 4
 },
 "nbformat": 4,
 "nbformat_minor": 2
}
